{
 "cells": [
  {
   "cell_type": "code",
   "execution_count": 2,
   "metadata": {},
   "outputs": [],
   "source": [
    "from music21 import *\n",
    "import collections\n",
    "import numpy as np\n",
    "import pandas as pd\n",
    "import gzip"
   ]
  },
  {
   "cell_type": "code",
   "execution_count": null,
   "metadata": {},
   "outputs": [],
   "source": [
    "us = environment.UserSettings()\n",
    "us['musicxmlPath'] = 'C:/Program Files/MuseScore 3/bin/MuseScore3.exe'\n",
    "us['musescoreDirectPNGPath'] = 'C:/Program Files/MuseScore 3/bin/MuseScore3.exe'"
   ]
  },
  {
   "cell_type": "markdown",
   "metadata": {},
   "source": [
    "### Get corpus and parse to pieces"
   ]
  },
  {
   "cell_type": "code",
   "execution_count": 3,
   "metadata": {},
   "outputs": [],
   "source": [
    "coreCorpus = corpus.corpora.CoreCorpus()\n",
    "sixEight = corpus.search('6/8')\n",
    "\n",
    "bachCorpusScores = []\n",
    "for c in sixEight:\n",
    "    score = c.parse()\n",
    "    bachCorpusScores.append(score)"
   ]
  },
  {
   "cell_type": "markdown",
   "metadata": {},
   "source": [
    "### Collect notes from a single piece"
   ]
  },
  {
   "cell_type": "code",
   "execution_count": null,
   "metadata": {},
   "outputs": [],
   "source": [
    "sBach = corpus.parse('bach/bwv57.8')"
   ]
  },
  {
   "cell_type": "code",
   "execution_count": null,
   "metadata": {},
   "outputs": [],
   "source": [
    "len(sBach.getElementsByClass(stream.Part))\n",
    "\n",
    "measures = len(sBach.getElementsByClass(stream.Part)[0].getElementsByClass(stream.Measure))\n",
    "# Get a part of the piece\n",
    "noteIterator = sBach.parts[0].getElementsByClass(stream.Measure).flat.getElementsByClass('Note')\n",
    "allNotes = []\n",
    "\n",
    "for el in noteIterator:\n",
    "    if('-' in el.nameWithOctave):\n",
    "        noteName = el.pitch.getEnharmonic().nameWithOctave\n",
    "        allNotes.append(noteName)\n",
    "    else:\n",
    "        noteName = el.nameWithOctave\n",
    "        allNotes.append(noteName)"
   ]
  },
  {
   "cell_type": "markdown",
   "metadata": {},
   "source": [
    "# Collect notes from a corpus"
   ]
  },
  {
   "cell_type": "code",
   "execution_count": 4,
   "metadata": {},
   "outputs": [],
   "source": [
    "possibleNotes = set() # set containing all possible notes for matrix creation\n",
    "allNotesPerPiece = [] # Multidimensional array of all notes per piece\n",
    "for p in bachCorpusScores:\n",
    "    currNotes = []\n",
    "    measures = len(p.getElementsByClass(stream.Part)[0].getElementsByClass(stream.Measure))\n",
    "    # Get a part of the piece\n",
    "    noteIterator = p.parts[0].getElementsByClass(stream.Measure).flat.getElementsByClass('Note')\n",
    "    if(len(noteIterator) == 0):\n",
    "        continue\n",
    "    for el in noteIterator:\n",
    "        pitchName = el.nameWithOctave\n",
    "        if('-' in pitchName or '##' in pitchName):\n",
    "            noteName = el.pitch.getEnharmonic().nameWithOctave\n",
    "            possibleNotes.add(noteName)\n",
    "            currNotes.append(noteName)\n",
    "        else:\n",
    "            noteName = el.nameWithOctave\n",
    "            possibleNotes.add(noteName)\n",
    "            currNotes.append(noteName)\n",
    "            \n",
    "    allNotesPerPiece.append(currNotes)"
   ]
  },
  {
   "cell_type": "code",
   "execution_count": null,
   "metadata": {},
   "outputs": [],
   "source": [
    "flatten = lambda l: [item for sublist in l for item in sublist]\n",
    "flatten(allNotesPerPiece)"
   ]
  },
  {
   "cell_type": "code",
   "execution_count": null,
   "metadata": {},
   "outputs": [],
   "source": []
  },
  {
   "cell_type": "code",
   "execution_count": 12,
   "metadata": {},
   "outputs": [],
   "source": [
    "# Get frequency array\n",
    "counter = collections.Counter(flatten(allNotesPerPiece))\n"
   ]
  },
  {
   "cell_type": "code",
   "execution_count": 13,
   "metadata": {},
   "outputs": [
    {
     "name": "stdout",
     "output_type": "stream",
     "text": [
      "2158\n",
      "2158\n"
     ]
    }
   ],
   "source": [
    "# Check if no empty pieces\n",
    "print(len(allNotesPerPiece))\n",
    "print(len(list(filter(lambda x: x > 0, map(len, allNotesPerPiece)))))\n"
   ]
  },
  {
   "cell_type": "markdown",
   "metadata": {},
   "source": [
    "### Create frequency matrix"
   ]
  },
  {
   "cell_type": "code",
   "execution_count": 8,
   "metadata": {},
   "outputs": [],
   "source": [
    "# Get frequency array\n",
    "counter = collections.Counter(flatten(allNotesPerPiece))\n",
    "# Initial note counter\n",
    "counter[' '] = len(allNotesPerPiece)\n",
    "\n",
    "noteRows = possibleNotes.add(' ')\n",
    "\n",
    "zeros = np.full((len(possibleNotes), len(possibleNotes)), 0)\n",
    "matrix = pd.DataFrame(zeros, index=possibleNotes, columns=possibleNotes)\n",
    "matrix = matrix.astype(float)\n",
    "\n",
    "for allNotes in allNotesPerPiece:\n",
    "    # Fill transition matrix frequencies\n",
    "    for i in range(len(allNotes)+1):\n",
    "        # First note\n",
    "        if(i == 0):\n",
    "            matrix[' '][allNotes[i]] = matrix[' '][allNotes[i]] + 1\n",
    "            continue\n",
    "        # Last note\n",
    "        if(i == len(allNotes)):\n",
    "            matrix[allNotes[i-1]][' '] = matrix[allNotes[i-1]][' '] + 1\n",
    "            continue\n",
    "\n",
    "        currNote = allNotes[i-1]\n",
    "        nextNote = allNotes[i]\n",
    "\n",
    "        matrix[currNote][nextNote] = matrix[currNote][nextNote] + 1\n"
   ]
  },
  {
   "cell_type": "code",
   "execution_count": 9,
   "metadata": {},
   "outputs": [],
   "source": [
    "### Divide each row to get probabilistic model\n",
    "for i in possibleNotes:\n",
    "    for j in possibleNotes:\n",
    "        matrix[j][i] = matrix[j][i] / counter[j]"
   ]
  },
  {
   "cell_type": "code",
   "execution_count": null,
   "metadata": {},
   "outputs": [],
   "source": []
  },
  {
   "cell_type": "code",
   "execution_count": 15,
   "metadata": {},
   "outputs": [
    {
     "data": {
      "text/plain": [
       "C#4    1.0\n",
       "D#4    1.0\n",
       "F3     1.0\n",
       "A#6    1.0\n",
       "D#6    1.0\n",
       "C5     1.0\n",
       "F4     1.0\n",
       "D6     1.0\n",
       "C6     1.0\n",
       "G#5    1.0\n",
       "A3     1.0\n",
       "G5     1.0\n",
       "C#7    1.0\n",
       "G3     1.0\n",
       "B5     1.0\n",
       "B3     1.0\n",
       "A6     1.0\n",
       "       1.0\n",
       "E4     1.0\n",
       "D#5    1.0\n",
       "B#3    1.0\n",
       "A4     1.0\n",
       "E#4    1.0\n",
       "E6     1.0\n",
       "C#5    1.0\n",
       "E5     1.0\n",
       "C3     1.0\n",
       "A#5    1.0\n",
       "D#3    1.0\n",
       "E3     1.0\n",
       "A#4    1.0\n",
       "C7     1.0\n",
       "F5     1.0\n",
       "D3     1.0\n",
       "B6     1.0\n",
       "F#6    1.0\n",
       "B#4    1.0\n",
       "G#6    1.0\n",
       "A#3    1.0\n",
       "C#6    1.0\n",
       "B#5    1.0\n",
       "D4     1.0\n",
       "F#5    1.0\n",
       "G#3    1.0\n",
       "F6     1.0\n",
       "G6     1.0\n",
       "G4     1.0\n",
       "F#3    1.0\n",
       "E#6    1.0\n",
       "A5     1.0\n",
       "E#5    1.0\n",
       "F#4    1.0\n",
       "G#4    1.0\n",
       "B4     1.0\n",
       "D5     1.0\n",
       "C4     1.0\n",
       "dtype: float64"
      ]
     },
     "execution_count": 15,
     "metadata": {},
     "output_type": "execute_result"
    }
   ],
   "source": [
    "# Check if p sum up to one\n",
    "matrix.sum(0)"
   ]
  },
  {
   "cell_type": "code",
   "execution_count": null,
   "metadata": {},
   "outputs": [],
   "source": []
  },
  {
   "cell_type": "code",
   "execution_count": 16,
   "metadata": {},
   "outputs": [],
   "source": [
    "# Export to csv\n",
    "matrix.to_csv(path_or_buf=\"./transition-matrix.csv\")"
   ]
  }
 ],
 "metadata": {
  "kernelspec": {
   "display_name": "Python 3",
   "language": "python",
   "name": "python3"
  },
  "language_info": {
   "codemirror_mode": {
    "name": "ipython",
    "version": 3
   },
   "file_extension": ".py",
   "mimetype": "text/x-python",
   "name": "python",
   "nbconvert_exporter": "python",
   "pygments_lexer": "ipython3",
   "version": "3.6.8"
  }
 },
 "nbformat": 4,
 "nbformat_minor": 4
}
