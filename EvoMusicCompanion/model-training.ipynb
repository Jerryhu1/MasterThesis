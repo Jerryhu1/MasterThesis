{
 "cells": [
  {
   "cell_type": "code",
   "execution_count": 306,
   "metadata": {},
   "outputs": [],
   "source": [
    "import initialisation\n",
    "import modelTrainer\n",
    "import musicPlayer\n",
    "import simulation\n",
    "import fitness\n",
    "\n",
    "\n",
    "import importlib\n",
    "import numpy as np\n",
    "import pandas as pd\n",
    "\n"
   ]
  },
  {
   "cell_type": "code",
   "execution_count": 327,
   "metadata": {},
   "outputs": [
    {
     "data": {
      "text/plain": [
       "<module 'fitness' from 'B:\\\\School\\\\Master\\\\Thesis\\\\MasterThesis\\\\EvoMusicCompanion\\\\fitness.py'>"
      ]
     },
     "execution_count": 327,
     "metadata": {},
     "output_type": "execute_result"
    }
   ],
   "source": [
    "importlib.reload(initialisation)\n",
    "importlib.reload(modelTrainer)\n",
    "importlib.reload(musicPlayer)\n",
    "importlib.reload(simulation)\n",
    "importlib.reload(fitness)"
   ]
  },
  {
   "cell_type": "code",
   "execution_count": null,
   "metadata": {},
   "outputs": [],
   "source": []
  },
  {
   "cell_type": "code",
   "execution_count": 144,
   "metadata": {},
   "outputs": [],
   "source": [
    "scores = modelTrainer.get_corpus()"
   ]
  },
  {
   "cell_type": "code",
   "execution_count": 145,
   "metadata": {},
   "outputs": [],
   "source": [
    "notes, possible_notes = modelTrainer.get_notes_per_score(scores)\n"
   ]
  },
  {
   "cell_type": "code",
   "execution_count": 148,
   "metadata": {},
   "outputs": [],
   "source": [
    "frequency_array = modelTrainer.create_frequency_array(notes)\n",
    "frequency_matrix = modelTrainer.create_frequency_matrix(notes, possible_notes)"
   ]
  },
  {
   "cell_type": "code",
   "execution_count": null,
   "metadata": {},
   "outputs": [],
   "source": [
    "frequency_matrix[\"C3\"]"
   ]
  },
  {
   "cell_type": "code",
   "execution_count": 149,
   "metadata": {},
   "outputs": [],
   "source": [
    "matrix = modelTrainer.get_probabilistic_matrix(frequency_matrix, frequency_array, possible_notes)"
   ]
  },
  {
   "cell_type": "code",
   "execution_count": null,
   "metadata": {},
   "outputs": [],
   "source": [
    "matrix"
   ]
  },
  {
   "cell_type": "code",
   "execution_count": null,
   "metadata": {},
   "outputs": [],
   "source": [
    "population = initialisation.initialize_population(10, 6, matrix)"
   ]
  },
  {
   "cell_type": "code",
   "execution_count": 279,
   "metadata": {},
   "outputs": [],
   "source": [
    "samples = population[1:3]\n",
    "for p in range(len(samples)):\n",
    "    samples[p] = (samples[p], 10)"
   ]
  },
  {
   "cell_type": "code",
   "execution_count": 284,
   "metadata": {},
   "outputs": [
    {
     "data": {
      "text/plain": [
       "10.0"
      ]
     },
     "execution_count": 284,
     "metadata": {},
     "output_type": "execute_result"
    }
   ],
   "source": [
    "fitness = 0\n",
    "for i in samples:\n",
    "    fitness += i[1]\n",
    "sum(map(lambda x: x[1], samples)) / len(samples)"
   ]
  },
  {
   "cell_type": "code",
   "execution_count": 151,
   "metadata": {},
   "outputs": [],
   "source": [
    "possible_notes = set(modelTrainer.flatten(samples))\n",
    "freq_array = modelTrainer.create_frequency_array(samples)\n",
    "\n"
   ]
  },
  {
   "cell_type": "code",
   "execution_count": 152,
   "metadata": {},
   "outputs": [],
   "source": [
    "freq_matrix = modelTrainer.create_frequency_matrix(samples, possible_notes)\n",
    "u_matrix = modelTrainer.get_probabilistic_matrix(freq_matrix, freq_array, possible_notes)"
   ]
  },
  {
   "cell_type": "code",
   "execution_count": 168,
   "metadata": {},
   "outputs": [
    {
     "data": {
      "text/html": [
       "<div>\n",
       "<style scoped>\n",
       "    .dataframe tbody tr th:only-of-type {\n",
       "        vertical-align: middle;\n",
       "    }\n",
       "\n",
       "    .dataframe tbody tr th {\n",
       "        vertical-align: top;\n",
       "    }\n",
       "\n",
       "    .dataframe thead th {\n",
       "        text-align: right;\n",
       "    }\n",
       "</style>\n",
       "<table border=\"1\" class=\"dataframe\">\n",
       "  <thead>\n",
       "    <tr style=\"text-align: right;\">\n",
       "      <th></th>\n",
       "      <th>C4</th>\n",
       "      <th>D5</th>\n",
       "      <th></th>\n",
       "      <th>F4</th>\n",
       "      <th>B3</th>\n",
       "      <th>G5</th>\n",
       "      <th>B4</th>\n",
       "      <th>F3</th>\n",
       "      <th>C5</th>\n",
       "      <th>E3</th>\n",
       "    </tr>\n",
       "  </thead>\n",
       "  <tbody>\n",
       "    <tr>\n",
       "      <td>C4</td>\n",
       "      <td>0.0</td>\n",
       "      <td>0.000000</td>\n",
       "      <td>0.0</td>\n",
       "      <td>0.0</td>\n",
       "      <td>1.0</td>\n",
       "      <td>0.0</td>\n",
       "      <td>0.0</td>\n",
       "      <td>0.0</td>\n",
       "      <td>0.0</td>\n",
       "      <td>0.0</td>\n",
       "    </tr>\n",
       "    <tr>\n",
       "      <td>D5</td>\n",
       "      <td>0.0</td>\n",
       "      <td>0.666667</td>\n",
       "      <td>0.0</td>\n",
       "      <td>0.0</td>\n",
       "      <td>0.0</td>\n",
       "      <td>1.0</td>\n",
       "      <td>0.0</td>\n",
       "      <td>0.0</td>\n",
       "      <td>0.0</td>\n",
       "      <td>0.0</td>\n",
       "    </tr>\n",
       "    <tr>\n",
       "      <td></td>\n",
       "      <td>0.0</td>\n",
       "      <td>0.000000</td>\n",
       "      <td>0.0</td>\n",
       "      <td>1.0</td>\n",
       "      <td>0.0</td>\n",
       "      <td>0.0</td>\n",
       "      <td>0.0</td>\n",
       "      <td>0.0</td>\n",
       "      <td>1.0</td>\n",
       "      <td>0.0</td>\n",
       "    </tr>\n",
       "    <tr>\n",
       "      <td>F4</td>\n",
       "      <td>1.0</td>\n",
       "      <td>0.000000</td>\n",
       "      <td>0.0</td>\n",
       "      <td>0.0</td>\n",
       "      <td>0.0</td>\n",
       "      <td>0.0</td>\n",
       "      <td>0.0</td>\n",
       "      <td>0.0</td>\n",
       "      <td>0.0</td>\n",
       "      <td>0.0</td>\n",
       "    </tr>\n",
       "    <tr>\n",
       "      <td>B3</td>\n",
       "      <td>0.0</td>\n",
       "      <td>0.000000</td>\n",
       "      <td>0.0</td>\n",
       "      <td>0.0</td>\n",
       "      <td>0.0</td>\n",
       "      <td>0.0</td>\n",
       "      <td>0.0</td>\n",
       "      <td>1.0</td>\n",
       "      <td>0.0</td>\n",
       "      <td>0.0</td>\n",
       "    </tr>\n",
       "    <tr>\n",
       "      <td>G5</td>\n",
       "      <td>0.0</td>\n",
       "      <td>0.000000</td>\n",
       "      <td>0.5</td>\n",
       "      <td>0.0</td>\n",
       "      <td>0.0</td>\n",
       "      <td>0.0</td>\n",
       "      <td>0.0</td>\n",
       "      <td>0.0</td>\n",
       "      <td>0.0</td>\n",
       "      <td>0.0</td>\n",
       "    </tr>\n",
       "    <tr>\n",
       "      <td>B4</td>\n",
       "      <td>0.0</td>\n",
       "      <td>0.333333</td>\n",
       "      <td>0.0</td>\n",
       "      <td>0.0</td>\n",
       "      <td>0.0</td>\n",
       "      <td>0.0</td>\n",
       "      <td>0.0</td>\n",
       "      <td>0.0</td>\n",
       "      <td>0.0</td>\n",
       "      <td>0.0</td>\n",
       "    </tr>\n",
       "    <tr>\n",
       "      <td>F3</td>\n",
       "      <td>0.0</td>\n",
       "      <td>0.000000</td>\n",
       "      <td>0.0</td>\n",
       "      <td>0.0</td>\n",
       "      <td>0.0</td>\n",
       "      <td>0.0</td>\n",
       "      <td>0.0</td>\n",
       "      <td>0.0</td>\n",
       "      <td>0.0</td>\n",
       "      <td>0.5</td>\n",
       "    </tr>\n",
       "    <tr>\n",
       "      <td>C5</td>\n",
       "      <td>0.0</td>\n",
       "      <td>0.000000</td>\n",
       "      <td>0.0</td>\n",
       "      <td>0.0</td>\n",
       "      <td>0.0</td>\n",
       "      <td>0.0</td>\n",
       "      <td>1.0</td>\n",
       "      <td>0.0</td>\n",
       "      <td>0.0</td>\n",
       "      <td>0.0</td>\n",
       "    </tr>\n",
       "    <tr>\n",
       "      <td>E3</td>\n",
       "      <td>0.0</td>\n",
       "      <td>0.000000</td>\n",
       "      <td>0.5</td>\n",
       "      <td>0.0</td>\n",
       "      <td>0.0</td>\n",
       "      <td>0.0</td>\n",
       "      <td>0.0</td>\n",
       "      <td>0.0</td>\n",
       "      <td>0.0</td>\n",
       "      <td>0.5</td>\n",
       "    </tr>\n",
       "  </tbody>\n",
       "</table>\n",
       "</div>"
      ],
      "text/plain": [
       "     C4        D5        F4   B3   G5   B4   F3   C5   E3\n",
       "C4  0.0  0.000000  0.0  0.0  1.0  0.0  0.0  0.0  0.0  0.0\n",
       "D5  0.0  0.666667  0.0  0.0  0.0  1.0  0.0  0.0  0.0  0.0\n",
       "    0.0  0.000000  0.0  1.0  0.0  0.0  0.0  0.0  1.0  0.0\n",
       "F4  1.0  0.000000  0.0  0.0  0.0  0.0  0.0  0.0  0.0  0.0\n",
       "B3  0.0  0.000000  0.0  0.0  0.0  0.0  0.0  1.0  0.0  0.0\n",
       "G5  0.0  0.000000  0.5  0.0  0.0  0.0  0.0  0.0  0.0  0.0\n",
       "B4  0.0  0.333333  0.0  0.0  0.0  0.0  0.0  0.0  0.0  0.0\n",
       "F3  0.0  0.000000  0.0  0.0  0.0  0.0  0.0  0.0  0.0  0.5\n",
       "C5  0.0  0.000000  0.0  0.0  0.0  0.0  1.0  0.0  0.0  0.0\n",
       "E3  0.0  0.000000  0.5  0.0  0.0  0.0  0.0  0.0  0.0  0.5"
      ]
     },
     "execution_count": 168,
     "metadata": {},
     "output_type": "execute_result"
    }
   ],
   "source": [
    "u_matrix"
   ]
  },
  {
   "cell_type": "code",
   "execution_count": 154,
   "metadata": {},
   "outputs": [],
   "source": [
    "error_matrix = u_matrix.subtract(matrix, fill_value=0.0)\n",
    "    "
   ]
  },
  {
   "cell_type": "code",
   "execution_count": 216,
   "metadata": {},
   "outputs": [
    {
     "name": "stdout",
     "output_type": "stream",
     "text": [
      "0.8963001563314226\n"
     ]
    }
   ],
   "source": [
    "newMatrix = matrix.copy()\n",
    "for i in newMatrix.keys(): #Col\n",
    "    for j in newMatrix.keys(): #row\n",
    "\n",
    "        if i in u_matrix and j in u_matrix[i]:\n",
    "            #u_matrix contains the values, subtract from each other\n",
    "            difference =  u_matrix[i][j] - matrix[i][j]\n",
    "        elif i not in u_matrix:\n",
    "            #u_matrix does not contain the column, we can not update transitions strating from this note\n",
    "            difference = 0.0\n",
    "        else: #u_matrix contains the column, but not the row. So no transitions to that note at all\n",
    "            difference = -matrix[i][j]\n",
    "\n",
    "        if i == \"C4\" and j == \"F4\":\n",
    "            print(difference)\n",
    "        newMatrix[i][j] = matrix[i][j] + (difference * 0.5)\n"
   ]
  },
  {
   "cell_type": "code",
   "execution_count": 201,
   "metadata": {},
   "outputs": [
    {
     "name": "stdout",
     "output_type": "stream",
     "text": [
      "1.0\n",
      "0.10369984366857739\n"
     ]
    },
    {
     "data": {
      "text/plain": [
       "0.5518499218342887"
      ]
     },
     "execution_count": 201,
     "metadata": {},
     "output_type": "execute_result"
    }
   ],
   "source": [
    "print(u_matrix[\"C4\"][\"F4\"])\n",
    "print(matrix[\"C4\"][\"F4\"])\n",
    "diff = u_matrix['C4']['F4'] - matrix['C4']['F4']\n",
    "\n",
    "matrix['C4']['F4'] + (diff * 0.5)"
   ]
  },
  {
   "cell_type": "code",
   "execution_count": 214,
   "metadata": {},
   "outputs": [
    {
     "name": "stdout",
     "output_type": "stream",
     "text": [
      "test\n"
     ]
    }
   ],
   "source": [
    "for i in newMatrix.keys(): #Col\n",
    "    for j in newMatrix.keys(): #row\n",
    "         if i in u_matrix and j in u_matrix[i]:\n",
    "                if(i == ' ' and j ==  ' '):\n",
    "                    print(\"test\")\n",
    "            "
   ]
  },
  {
   "cell_type": "code",
   "execution_count": 224,
   "metadata": {},
   "outputs": [],
   "source": [
    "m = modelTrainer.update_matrix(samples, matrix, 0.5)"
   ]
  },
  {
   "cell_type": "code",
   "execution_count": 315,
   "metadata": {},
   "outputs": [
    {
     "data": {
      "text/plain": [
       "[(['E3', 'E3', 'F3', 'B3', 'C4', 'F4'], 10),\n",
       " (['G5', 'D5', 'D5', 'D5', 'B4', 'C5'], 10)]"
      ]
     },
     "execution_count": 315,
     "metadata": {},
     "output_type": "execute_result"
    }
   ],
   "source": [
    "samples.sort(key=lambda x: x[1], reverse=True)\n",
    "samples"
   ]
  },
  {
   "cell_type": "code",
   "execution_count": 314,
   "metadata": {},
   "outputs": [
    {
     "name": "stdout",
     "output_type": "stream",
     "text": [
      "0.6666666666666666\n",
      "0.0\n",
      "0.8333333333333334\n",
      "0.3333333333333333\n",
      "0.0\n",
      "0.16666666666666666\n",
      "0.6666666666666666\n",
      "1.0\n",
      "0.8333333333333334\n",
      "0.0\n"
     ]
    }
   ],
   "source": [
    "for i in population:\n",
    "    counter = 0\n",
    "    for note in i:\n",
    "        if note in ['A5', 'B5', 'C5', 'D5', 'E5', 'F5', 'G5']:\n",
    "            counter += 1\n",
    "    print(counter / len(i))"
   ]
  },
  {
   "cell_type": "code",
   "execution_count": 328,
   "metadata": {},
   "outputs": [
    {
     "name": "stdout",
     "output_type": "stream",
     "text": [
      "Starting generation\n",
      "Initializing population\n",
      "Starting evolution\n",
      "Iteration 0 done\n",
      "Average fitness: 0.75\n",
      "Iteration 1 done\n",
      "Average fitness: 0.8333333333333334\n",
      "Done evolving, playing songs\n",
      "(['D5', 'G5', 'F#5', 'E5', 'D5', 'E5', 'D5', 'E5'], 0.875)\n",
      "(['D5', 'G5', 'A5', 'E5', 'G5', 'F#5', 'E5', 'G5'], 0.875)\n",
      "(['C5', 'A#4', 'C5', 'E5', 'D5', 'G5', 'F#5', 'E5'], 0.75)\n",
      "(['C5', 'D5', 'C#5', ' ', 'C5', 'E5', 'G5', 'F#5'], 0.625)\n",
      "(['C5', 'D5', 'F#4', 'B4', 'C5', ' ', 'D5', 'E5'], 0.625)\n",
      "(['D5', 'G5', 'F#5', 'E5', 'E5', 'D5', 'C#5', ' '], 0.625)\n",
      "(['C5', 'A#4', 'C5', 'D5', 'B4', 'C5', 'A#4', 'C5'], 0.625)\n",
      "(['D5', 'C#5', ' ', 'C5', 'A#4', 'C5', 'D5', 'F#5'], 0.5)\n",
      "(['C5', 'E5', 'D5', 'C#5', 'D#5', 'D5', 'C#5', ' '], 0.5)\n",
      "(['C5', ' ', 'C5', ' ', 'C5', ' ', 'D5', 'B4'], 0.5)\n"
     ]
    }
   ],
   "source": [
    "simulation.run(2, 10, matrix)"
   ]
  }
 ],
 "metadata": {
  "kernelspec": {
   "display_name": "Python 3",
   "language": "python",
   "name": "python3"
  },
  "language_info": {
   "codemirror_mode": {
    "name": "ipython",
    "version": 3
   },
   "file_extension": ".py",
   "mimetype": "text/x-python",
   "name": "python",
   "nbconvert_exporter": "python",
   "pygments_lexer": "ipython3",
   "version": "3.7.4"
  }
 },
 "nbformat": 4,
 "nbformat_minor": 4
}
