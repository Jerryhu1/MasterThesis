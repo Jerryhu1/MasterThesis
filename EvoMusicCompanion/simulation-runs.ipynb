{
 "cells": [
  {
   "cell_type": "code",
   "execution_count": 113,
   "metadata": {
    "pycharm": {}
   },
   "outputs": [],
   "source": [
    "from __future__ import print_function\n",
    "from music21 import *\n",
    "from collections import Counter, defaultdict\n",
    "from ea.individual import Measure, Individual, Note\n",
    "from ea.duration import Duration\n",
    "\n",
    "import ea.initialisation as initialisation\n",
    "import ea.modelTrainer as modelTrainer\n",
    "import ea.musicPlayer as musicPlayer\n",
    "import ea.simulation as simulation\n",
    "import ea.fitness as fitness\n",
    "import collections\n",
    "import importlib\n",
    "import music21\n",
    "import numpy as np\n",
    "import pandas as pd\n",
    "import ea.individual as individual\n",
    "import ea.duration as duration\n",
    "import ea.constants as constants\n",
    "import ea.util as util\n",
    "import random\n",
    "import nltk\n",
    "import ea.fitness as fitness\n",
    "import re\n",
    "import ea.modelUpdater as modelUpdater\n"
   ]
  },
  {
   "cell_type": "code",
   "execution_count": 114,
   "metadata": {},
   "outputs": [
    {
     "ename": "SyntaxError",
     "evalue": "unexpected EOF while parsing (<ipython-input-114-fc26edd09566>, line 2)",
     "output_type": "error",
     "traceback": [
      "\u001b[1;36m  File \u001b[1;32m\"<ipython-input-114-fc26edd09566>\"\u001b[1;36m, line \u001b[1;32m2\u001b[0m\n\u001b[1;33m    map(lambda x: re.sub('\\d+', '', x)\u001b[0m\n\u001b[1;37m                                      ^\u001b[0m\n\u001b[1;31mSyntaxError\u001b[0m\u001b[1;31m:\u001b[0m unexpected EOF while parsing\n"
     ]
    }
   ],
   "source": [
    "notes = ['C#4', 'D4', 'E4']\n",
    "map(lambda x: re.sub('\\d+', '', x)"
   ]
  },
  {
   "cell_type": "code",
   "execution_count": null,
   "metadata": {},
   "outputs": [],
   "source": [
    "test = [1,2,3,4,5]\n",
    "k = 3\n",
    "test[1:3]"
   ]
  },
  {
   "cell_type": "code",
   "execution_count": 134,
   "metadata": {
    "pycharm": {}
   },
   "outputs": [
    {
     "data": {
      "text/plain": [
       "<module 'ea.modelUpdater' from 'B:\\\\School\\\\Master\\\\Thesis\\\\MasterThesis\\\\EvoMusicCompanion\\\\ea\\\\modelUpdater.py'>"
      ]
     },
     "execution_count": 134,
     "metadata": {},
     "output_type": "execute_result"
    }
   ],
   "source": [
    "importlib.reload(initialisation)\n",
    "importlib.reload(modelTrainer)\n",
    "importlib.reload(musicPlayer)\n",
    "importlib.reload(simulation)\n",
    "importlib.reload(fitness)\n",
    "importlib.reload(constants)\n",
    "importlib.reload(util)\n",
    "importlib.reload(individual)\n",
    "importlib.reload(fitness)\n",
    "importlib.reload(modelUpdater)"
   ]
  },
  {
   "cell_type": "code",
   "execution_count": null,
   "metadata": {},
   "outputs": [],
   "source": [
    "from ea.individual import Note, Measure, Individual"
   ]
  },
  {
   "cell_type": "code",
   "execution_count": null,
   "metadata": {
    "pycharm": {}
   },
   "outputs": [],
   "source": [
    "len(scores)"
   ]
  },
  {
   "cell_type": "markdown",
   "metadata": {},
   "source": [
    "## Get corpus"
   ]
  },
  {
   "cell_type": "code",
   "execution_count": null,
   "metadata": {
    "pycharm": {}
   },
   "outputs": [],
   "source": [
    "coreCorpus = music21.corpus.corpora.CoreCorpus()\n",
    "curr_corpus = music21.corpus.search('mozart', 'composer')\n",
    "\n",
    "scores = []\n",
    "for c in curr_corpus:\n",
    "    score = c.parse()\n",
    "    score = util.transpose_piece(score, 'C')\n",
    "    scores.append(score)"
   ]
  },
  {
   "cell_type": "code",
   "execution_count": null,
   "metadata": {
    "pycharm": {}
   },
   "outputs": [],
   "source": [
    "lakh_corpus = corpus.corpora.LocalCorpus('lakh')\n",
    "curr_corpus = lakh_corpus.metadataBundle[0:1006]\n",
    "\n",
    "scores = []\n",
    "for c in curr_corpus:\n",
    "    score = c.parse()\n",
    "    score = util.transpose_piece(score, 'C')\n",
    "    scores.append(score)"
   ]
  },
  {
   "cell_type": "code",
   "execution_count": 120,
   "metadata": {},
   "outputs": [],
   "source": [
    "wiki_corpus = corpus.corpora.LocalCorpus('wiki')\n",
    "curr_corpus = wiki_corpus.metadataBundle[0:20]\n",
    "\n",
    "scores = []\n",
    "for c in curr_corpus:\n",
    "    score = c.parse()\n",
    "    score = util.transpose_piece(score, 'C')\n",
    "    scores.append(score)"
   ]
  },
  {
   "cell_type": "code",
   "execution_count": null,
   "metadata": {},
   "outputs": [],
   "source": [
    "dMaj = chord.Chord(['D', 'F#', 'A'])\n",
    "dMaj[0]"
   ]
  },
  {
   "cell_type": "code",
   "execution_count": null,
   "metadata": {},
   "outputs": [],
   "source": [
    "individuals = []\n",
    "\n",
    "for s in scores[0:10]:\n",
    "    for p in s.parts:\n",
    "        measures = p.getElementsByClass(stream.Measure)\n",
    "        new_measures = []\n",
    "        counter = 1\n",
    "        for m in range(len(measures)):\n",
    "            notes = []\n",
    "            new_measure = individual.Measure([], 0, [])\n",
    "            m_notes = measures[m].notesAndRests\n",
    "            for n in m_notes:\n",
    "                if n.isRest:\n",
    "                    if n.duration.type == 'whole':\n",
    "                        continue\n",
    "                    pitch_name = 'REST'\n",
    "                elif n.isChord:\n",
    "                    continue\n",
    "                    root = n.root()\n",
    "                    if root is None:\n",
    "                        pitch_name = n[0].nameWithOctave\n",
    "                        continue\n",
    "                    pitch_name = n.root().nameWithOctave\n",
    "                else:\n",
    "                    pitch_name = n.nameWithOctave\n",
    "                    if '-' in pitch_name or '##' in pitch_name:\n",
    "                        pitch_name = n.pitch.getEnharmonic().nameWithOctave\n",
    "                dur = duration.Duration(n.duration.type, None)\n",
    "                new_note = individual.Note(pitch_name, dur)\n",
    "                new_measure.notes.append(new_note)\n",
    "            if len(new_measure.notes) == 0:\n",
    "                continue\n",
    "            new_measures.append(new_measure)\n",
    "    indiv = individual.Individual(new_measures, 0.0)\n",
    "    individuals.append(indiv)\n",
    "individuals = initialisation.set_chords_for_population(individuals)\n",
    "fitness.set_fitness_for_population(individuals)"
   ]
  },
  {
   "cell_type": "code",
   "execution_count": null,
   "metadata": {},
   "outputs": [],
   "source": [
    "individuals[0]"
   ]
  },
  {
   "cell_type": "code",
   "execution_count": 139,
   "metadata": {},
   "outputs": [],
   "source": [
    "musicPlayer.play_music_xml([individuals[7]])"
   ]
  },
  {
   "cell_type": "code",
   "execution_count": 137,
   "metadata": {},
   "outputs": [],
   "source": [
    "musicPlayer.play([individuals[7]])"
   ]
  },
  {
   "cell_type": "code",
   "execution_count": 136,
   "metadata": {},
   "outputs": [
    {
     "name": "stdout",
     "output_type": "stream",
     "text": [
      "Score 0: <music21.metadata.bundles.MetadataEntry: B:\\_School_Master_Thesis_MasterThesis_EvoMusicCompanion_midi_wikifonia_(Unknown) Arrangement Larry Johnson 2011 - I'm Too Far From Where I Started_mxl>\n",
      "0\n",
      "Interval pattern fitness: 0.24013157894736842\n",
      "Duration pattern fitness: 2.746031746031746\n",
      "Chord tone beat fitness: 0.10526315789473684\n",
      "Chord tone fitness: 0.5359649122807018\n",
      "Last note fitness: 1.0\n",
      "Long note fitness: 0.017543859649122816\n",
      "Interval size fitness: 0.0\n",
      "Consecutive rests fitness: -0.05263157894736842\n",
      "Interval resolution fitness: 0.0\n",
      "Total fitness: 4.592303675856307\n",
      "-----------------\n",
      "Score 1: <music21.metadata.bundles.MetadataEntry: B:\\_School_Master_Thesis_MasterThesis_EvoMusicCompanion_midi_wikifonia_& Nobel Prize Winner), Charles Gate Dawes (V_P_ of U_S_A_, Carl Sigman - It's All In The Game_mxl>\n",
      "-1.0\n",
      "Interval pattern fitness: 0.2537878787878788\n",
      "Duration pattern fitness: 1.9807692307692308\n",
      "Chord tone beat fitness: -0.06060606060606061\n",
      "Chord tone fitness: 0.5095238095238095\n",
      "Last note fitness: 0\n",
      "Long note fitness: -0.22727272727272727\n",
      "Interval size fitness: -0.019230769230769232\n",
      "Consecutive rests fitness: -0.030303030303030304\n",
      "Interval resolution fitness: 0.0\n",
      "Total fitness: 2.4066683316683317\n",
      "-----------------\n",
      "Score 2: <music21.metadata.bundles.MetadataEntry: B:\\_School_Master_Thesis_MasterThesis_EvoMusicCompanion_midi_wikifonia_(unknown) Maranatha Music Arrangement_ Larry Johnson 2011 - In His Time_mxl>\n",
      "0\n",
      "Interval pattern fitness: 0.2683823529411765\n",
      "Duration pattern fitness: 2.8260869565217392\n",
      "Chord tone beat fitness: 0.38235294117647056\n",
      "Chord tone fitness: 0.7254901960784315\n",
      "Last note fitness: 0\n",
      "Long note fitness: 0.22549019607843135\n",
      "Interval size fitness: 0.0\n",
      "Consecutive rests fitness: -0.11764705882352941\n",
      "Interval resolution fitness: 0.0\n",
      "Total fitness: 4.310155583972721\n",
      "-----------------\n",
      "Score 3: <music21.metadata.bundles.MetadataEntry: B:\\_School_Master_Thesis_MasterThesis_EvoMusicCompanion_midi_wikifonia_1952, Jerry Lieber & Mike Stoller - Kansas City_mxl>\n",
      "0\n",
      "Interval pattern fitness: 5.5852272727272725\n",
      "Duration pattern fitness: 1.8142857142857143\n",
      "Chord tone beat fitness: -0.09090909090909091\n",
      "Chord tone fitness: 0.5564419707276849\n",
      "Last note fitness: 0\n",
      "Long note fitness: -0.12987012987012986\n",
      "Interval size fitness: 0.0\n",
      "Consecutive rests fitness: -0.12987012987012986\n",
      "Interval resolution fitness: 0.0\n",
      "Total fitness: 7.605305607091321\n",
      "-----------------\n",
      "Score 4: <music21.metadata.bundles.MetadataEntry: B:\\_School_Master_Thesis_MasterThesis_EvoMusicCompanion_midi_wikifonia_3+2 - Kombine_mxl>\n",
      "0\n",
      "Interval pattern fitness: 0.0\n",
      "Duration pattern fitness: 1.7234042553191489\n",
      "Chord tone beat fitness: -0.1\n",
      "Chord tone fitness: 0.31666666666666665\n",
      "Last note fitness: 0\n",
      "Long note fitness: -0.4\n",
      "Interval size fitness: 0.0\n",
      "Consecutive rests fitness: 0.0\n",
      "Interval resolution fitness: 0.0\n",
      "Total fitness: 1.5400709219858155\n",
      "-----------------\n",
      "Score 5: <music21.metadata.bundles.MetadataEntry: B:\\_School_Master_Thesis_MasterThesis_EvoMusicCompanion_midi_wikifonia_1957, V_ B_ Ellis & William F_ Lakey - Do You Know My Jesus__mxl>\n",
      "-9.0\n",
      "Interval pattern fitness: 3.8514150943396226\n",
      "Duration pattern fitness: 3.2857142857142856\n",
      "Chord tone beat fitness: -0.28773584905660377\n",
      "Chord tone fitness: 0.3537735849056603\n",
      "Last note fitness: 0\n",
      "Long note fitness: -0.4952830188679246\n",
      "Interval size fitness: -0.09183673469387756\n",
      "Consecutive rests fitness: -0.09433962264150944\n",
      "Interval resolution fitness: 0.0\n",
      "Total fitness: 6.521707739699652\n",
      "-----------------\n",
      "Score 6: <music21.metadata.bundles.MetadataEntry: B:\\_School_Master_Thesis_MasterThesis_EvoMusicCompanion_midi_wikifonia_1976, Bob McGee - Emmanuel_mxl>\n",
      "0\n",
      "Interval pattern fitness: 2.857421875\n",
      "Duration pattern fitness: 1.711111111111111\n",
      "Chord tone beat fitness: 0.125\n",
      "Chord tone fitness: 0.5260416666666667\n",
      "Last note fitness: 0\n",
      "Long note fitness: 0.020833333333333336\n",
      "Interval size fitness: 0.0\n",
      "Consecutive rests fitness: 0.0\n",
      "Interval resolution fitness: 0.07142857142857142\n",
      "Total fitness: 5.311836557539682\n",
      "-----------------\n",
      "Score 7: <music21.metadata.bundles.MetadataEntry: B:\\_School_Master_Thesis_MasterThesis_EvoMusicCompanion_midi_wikifonia__ - Why Don't You Believe me__mxl>\n",
      "0\n",
      "Interval pattern fitness: 0.0\n",
      "Duration pattern fitness: 2.0851063829787235\n",
      "Chord tone beat fitness: -0.2222222222222222\n",
      "Chord tone fitness: 0.2861111111111111\n",
      "Last note fitness: 0\n",
      "Long note fitness: -1.1944444444444444\n",
      "Interval size fitness: 0.0\n",
      "Consecutive rests fitness: 0.0\n",
      "Interval resolution fitness: 0.0\n",
      "Total fitness: 0.954550827423168\n",
      "-----------------\n",
      "Score 8: <music21.metadata.bundles.MetadataEntry: B:\\_School_Master_Thesis_MasterThesis_EvoMusicCompanion_midi_wikifonia__Louis Armstrong, kenny ball - Someday You'll Be Sorry_mxl>\n",
      "0\n",
      "Interval pattern fitness: 0.02857142857142857\n",
      "Duration pattern fitness: 0.9183673469387755\n",
      "Chord tone beat fitness: 0.014285714285714285\n",
      "Chord tone fitness: 0.44\n",
      "Last note fitness: 0\n",
      "Long note fitness: -0.2857142857142857\n",
      "Interval size fitness: 0.0\n",
      "Consecutive rests fitness: -0.08571428571428572\n",
      "Interval resolution fitness: 0.0\n",
      "Total fitness: 1.029795918367347\n",
      "-----------------\n",
      "Score 9: <music21.metadata.bundles.MetadataEntry: B:\\_School_Master_Thesis_MasterThesis_EvoMusicCompanion_midi_wikifonia_A-Ha - Take On Me_mxl>\n",
      "0\n",
      "Interval pattern fitness: 0.3346774193548387\n",
      "Duration pattern fitness: 1.0857142857142856\n",
      "Chord tone beat fitness: -0.0967741935483871\n",
      "Chord tone fitness: 0.5714285714285715\n",
      "Last note fitness: 0\n",
      "Long note fitness: -0.3629032258064517\n",
      "Interval size fitness: 0.0\n",
      "Consecutive rests fitness: -0.0967741935483871\n",
      "Interval resolution fitness: 0.08333333333333333\n",
      "Total fitness: 1.5187019969278033\n",
      "-----------------\n"
     ]
    }
   ],
   "source": [
    "for i in range(len(individuals)):\n",
    "    print(f'Score {i}: {curr_corpus[i]}')\n",
    "    fitness.print_fitness_values(individuals[i])\n",
    "    print('-----------------')"
   ]
  },
  {
   "cell_type": "code",
   "execution_count": null,
   "metadata": {
    "pycharm": {}
   },
   "outputs": [],
   "source": [
    "score = music21.corpus.parse('joplin/maple_leaf_rag.mxl')\n",
    "scores = util.transpose_piece(score, 'C')\n",
    "scores = [scores]"
   ]
  },
  {
   "cell_type": "code",
   "execution_count": null,
   "metadata": {
    "pycharm": {}
   },
   "outputs": [],
   "source": [
    "scores[0].show('musicxml')"
   ]
  },
  {
   "cell_type": "code",
   "execution_count": null,
   "metadata": {
    "pycharm": {}
   },
   "outputs": [],
   "source": [
    "dur_matrix = modelTrainer.train_duration_matrix(scores)\n",
    "pitch_matrix = modelTrainer.train_pitch_matrix(scores);"
   ]
  },
  {
   "cell_type": "code",
   "execution_count": null,
   "metadata": {
    "pycharm": {}
   },
   "outputs": [],
   "source": [
    "# Interval matrix\n",
    "first_notes_per_bar = []\n",
    "all_intervals = []\n",
    "for s in scores:\n",
    "    noteIterator = s.parts[0].getElementsByClass(stream.Measure)\n",
    "    if len(noteIterator) == 0:\n",
    "        noteIterator = s.parts[0].notesAndRests.stream()\n",
    "    for i in noteIterator:\n",
    "        firstNote = None\n",
    "        counter = 1\n",
    "        m = []\n",
    "        for j in i.notesAndRests:\n",
    "            if j.isChord:\n",
    "                curr_note = note.Note(j.root())\n",
    "            elif j.isRest:\n",
    "                m.append('REST')\n",
    "                continue\n",
    "            else:\n",
    "                curr_note = j\n",
    "            if counter == 1:\n",
    "                if j.isChord:\n",
    "                    firstNote = note.Note(j.root())\n",
    "                else:\n",
    "                    firstNote = j\n",
    "                pitch_name = firstNote.nameWithOctave\n",
    "                if '-' in pitch_name or '##' in pitch_name:\n",
    "                    pitch_name = firstNote.pitch.getEnharmonic().nameWithOctave\n",
    "                if pitch_name in NOTE_RANGE:\n",
    "                    first_notes_per_bar.append(pitch_name)\n",
    "                counter += 1\n",
    "                continue\n",
    "            #print(j.beatStr)\n",
    "            octave = curr_note.octave\n",
    "            root = note.Note('C')\n",
    "            root.octave = octave\n",
    "            interv = interval.Interval(root,  curr_note).name\n",
    "            m.append(interv)\n",
    "            counter += 1\n",
    "            all_intervals.append(interv)\n",
    "all_intervals\n",
    "\n",
    "bigrams = list(nltk.bigrams(all_intervals))\n",
    "matrix = defaultdict(lambda: defaultdict(lambda: 0))\n",
    "\n",
    "for i1,i2 in bigrams:\n",
    "    matrix[i1][i2] += 1\n",
    "    \n",
    "for i1 in matrix:\n",
    "    total = float(sum(matrix[i1].values()))\n",
    "    for i2 in matrix[i1]:\n",
    "        matrix[i1][i2] /= total\n",
    "    \n",
    "int_matrix = pd.DataFrame(matrix)\n",
    "int_matrix = int_matrix.fillna(0)\n"
   ]
  },
  {
   "cell_type": "code",
   "execution_count": null,
   "metadata": {
    "pycharm": {}
   },
   "outputs": [],
   "source": [
    "init_note_vector = defaultdict(lambda: 0)\n",
    "for i in first_notes_per_bar:\n",
    "    init_note_vector[i] += 1\n",
    "total = float(sum(init_note_vector.values()))\n",
    "for i in init_note_vector:\n",
    "    init_note_vector[i] /= total\n",
    "init_note_vector = pd.Series(init_note_vector)"
   ]
  },
  {
   "cell_type": "code",
   "execution_count": null,
   "metadata": {
    "pycharm": {}
   },
   "outputs": [],
   "source": [
    "sim = simulation.Simulation(0.5, 100)\n",
    "population = sim.run_interactively()"
   ]
  },
  {
   "cell_type": "code",
   "execution_count": null,
   "metadata": {},
   "outputs": [],
   "source": [
    "sim.run(20, None, None)"
   ]
  },
  {
   "cell_type": "code",
   "execution_count": 115,
   "metadata": {},
   "outputs": [
    {
     "ename": "NameError",
     "evalue": "name 'sim' is not defined",
     "output_type": "error",
     "traceback": [
      "\u001b[1;31m---------------------------------------------------------------------------\u001b[0m",
      "\u001b[1;31mNameError\u001b[0m                                 Traceback (most recent call last)",
      "\u001b[1;32m<ipython-input-115-6dd3e1e9ba03>\u001b[0m in \u001b[0;36m<module>\u001b[1;34m\u001b[0m\n\u001b[1;32m----> 1\u001b[1;33m \u001b[0msim\u001b[0m\u001b[1;33m.\u001b[0m\u001b[0mpitch_matrix\u001b[0m\u001b[1;33m\u001b[0m\u001b[1;33m\u001b[0m\u001b[0m\n\u001b[0m",
      "\u001b[1;31mNameError\u001b[0m: name 'sim' is not defined"
     ]
    }
   ],
   "source": [
    "sim.pitch_matrix"
   ]
  },
  {
   "cell_type": "code",
   "execution_count": null,
   "metadata": {
    "pycharm": {}
   },
   "outputs": [],
   "source": [
    "chord.Chord(['C3', 'E3', 'G3'], quarterlength='4')"
   ]
  },
  {
   "cell_type": "code",
   "execution_count": null,
   "metadata": {
    "pycharm": {}
   },
   "outputs": [],
   "source": [
    "musicPlayer.play(population[0:4])"
   ]
  },
  {
   "cell_type": "code",
   "execution_count": null,
   "metadata": {
    "pycharm": {}
   },
   "outputs": [],
   "source": [
    "selection = [population[0], population[1]]\n",
    "selection"
   ]
  },
  {
   "cell_type": "code",
   "execution_count": null,
   "metadata": {
    "pycharm": {}
   },
   "outputs": [],
   "source": [
    "selected_population_notes = constants.flatten(list(map(lambda x: x.notes, selection)))\n",
    "selected_population_pitches = list(map(lambda x: x.pitch, constants.flatten(selected_population_notes)))\n",
    "selected_population_pitches"
   ]
  },
  {
   "cell_type": "code",
   "execution_count": null,
   "metadata": {
    "pycharm": {}
   },
   "outputs": [],
   "source": [
    "population = sim.update(selection=selection)"
   ]
  },
  {
   "cell_type": "code",
   "execution_count": null,
   "metadata": {},
   "outputs": [],
   "source": [
    "[i for sublist in [[[n.pitch for n in m.notes] for m in p.measures] for p in population[0:1]] for i in sublist]\n",
    "\n",
    "for p in population:\n",
    "    for m in p.measures:\n",
    "        for n in p.notes:\n",
    "            print(n.pitch)"
   ]
  },
  {
   "cell_type": "code",
   "execution_count": null,
   "metadata": {},
   "outputs": [],
   "source": [
    "[population[1].measures[2].notes, list(map(lambda x: x.notes, population[5].measures[1:3]))]"
   ]
  },
  {
   "cell_type": "code",
   "execution_count": null,
   "metadata": {
    "pycharm": {}
   },
   "outputs": [],
   "source": [
    "musicPlayer.play(population[0:1])"
   ]
  },
  {
   "cell_type": "code",
   "execution_count": null,
   "metadata": {
    "pycharm": {}
   },
   "outputs": [],
   "source": [
    "selection = population[0:2]\n",
    "selection[0].measures[0]"
   ]
  },
  {
   "cell_type": "code",
   "execution_count": null,
   "metadata": {},
   "outputs": [],
   "source": [
    "modelUpdater.update_matrix(selection, pitch_matrix)"
   ]
  },
  {
   "cell_type": "code",
   "execution_count": null,
   "metadata": {},
   "outputs": [],
   "source": [
    "\n",
    "testIndividual = Individual(\n",
    "    [\n",
    "        Measure(\n",
    "            [\n",
    "                Note('C#5', Duration('half', 0.5)),\n",
    "                Note('C#5', Duration('half', 0.5)),\n",
    "                Note('C#5', Duration('half', 0.5)),\n",
    "                Note('C#5', Duration('half', 0.5))\n",
    "            ], 0, None),\n",
    "        Measure(\n",
    "            [\n",
    "                Note('C#5', Duration('half', 0.5)),\n",
    "                Note('C#5', Duration('half', 0.5)),\n",
    "                Note('C#5', Duration('half', 0.5)),\n",
    "                Note('C#5', Duration('half', 0.5))\n",
    "            ], 0, None),\n",
    "        0\n",
    "    ], 0\n",
    ")\n"
   ]
  },
  {
   "cell_type": "code",
   "execution_count": null,
   "metadata": {},
   "outputs": [],
   "source": [
    "population[0].measures[0].notes"
   ]
  },
  {
   "cell_type": "code",
   "execution_count": null,
   "metadata": {},
   "outputs": [],
   "source": [
    "musicPlayer.play_measure(testIndividual.measures[0])"
   ]
  },
  {
   "cell_type": "code",
   "execution_count": null,
   "metadata": {},
   "outputs": [],
   "source": [
    "m = testIndividual.measures[0]\n",
    "\n",
    "for j in m.notes:\n",
    "    print(j)"
   ]
  },
  {
   "cell_type": "code",
   "execution_count": null,
   "metadata": {},
   "outputs": [],
   "source": [
    "def convert_measure_to_music21_measure(measure: Measure):\n",
    "    measure.notes: [Note]\n",
    "    measure = stream.Measure(1)\n",
    "    for j in measure.notes:\n",
    "        if j.pitch == 'REST':\n",
    "            n = note.Rest()\n",
    "            n.duration = duration.Duration(quarterLength=j.duration.duration_value / 0.25)\n",
    "        else:\n",
    "            n = note.Note(j.pitch)\n",
    "            n.duration = duration.Duration(quarterLength=j.duration.duration_value / 0.25)\n",
    "        print(j)\n",
    "        measure.append(n)\n",
    "\n",
    "    return measure\n"
   ]
  },
  {
   "cell_type": "code",
   "execution_count": null,
   "metadata": {},
   "outputs": [],
   "source": []
  },
  {
   "cell_type": "code",
   "execution_count": null,
   "metadata": {},
   "outputs": [],
   "source": [
    "testIndividual.measures[0].notes[0].duration_value"
   ]
  },
  {
   "cell_type": "code",
   "execution_count": null,
   "metadata": {},
   "outputs": [],
   "source": [
    "for i in range(1):\n",
    "    print(i)"
   ]
  }
 ],
 "metadata": {
  "kernelspec": {
   "display_name": "Python 3",
   "language": "python",
   "name": "python3"
  },
  "language_info": {
   "codemirror_mode": {
    "name": "ipython",
    "version": 3
   },
   "file_extension": ".py",
   "mimetype": "text/x-python",
   "name": "python",
   "nbconvert_exporter": "python",
   "pygments_lexer": "ipython3",
   "version": "3.7.4"
  }
 },
 "nbformat": 4,
 "nbformat_minor": 4
}
