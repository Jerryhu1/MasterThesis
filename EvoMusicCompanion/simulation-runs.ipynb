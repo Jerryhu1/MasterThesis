{
 "cells": [
  {
   "cell_type": "code",
   "execution_count": 1,
   "metadata": {
    "pycharm": {}
   },
   "outputs": [
    {
     "name": "stderr",
     "output_type": "stream",
     "text": [
      "music21: Certain music21 functions might need the optional package matplotlib;\n",
      "                  if you run into errors, install it by following the instructions at\n",
      "                  http://mit.edu/music21/doc/installing/installAdditional.html\n"
     ]
    }
   ],
   "source": [
    "from __future__ import print_function\n",
    "from music21 import *\n",
    "from collections import Counter, defaultdict\n",
    "\n",
    "import initialisation\n",
    "import modelTrainer\n",
    "import musicPlayer\n",
    "import simulation\n",
    "import fitness\n",
    "import collections\n",
    "import importlib\n",
    "import music21\n",
    "import numpy as np\n",
    "import pandas as pd\n",
    "import individual\n",
    "import duration\n",
    "import constants\n",
    "import util\n",
    "import random\n",
    "import nltk\n",
    "import fitness\n",
    "import re\n"
   ]
  },
  {
   "cell_type": "code",
   "execution_count": null,
   "metadata": {},
   "outputs": [],
   "source": [
    "notes = ['C#4', 'D4', 'E4']\n",
    "map(lambda x: re.sub('\\d+', '', x)"
   ]
  },
  {
   "cell_type": "code",
   "execution_count": 9,
   "metadata": {
    "pycharm": {}
   },
   "outputs": [
    {
     "data": {
      "text/plain": [
       "<module 'fitness' from 'B:\\\\School\\\\Master\\\\Thesis\\\\MasterThesis\\\\EvoMusicCompanion\\\\fitness.py'>"
      ]
     },
     "execution_count": 9,
     "metadata": {},
     "output_type": "execute_result"
    }
   ],
   "source": [
    "importlib.reload(initialisation)\n",
    "importlib.reload(modelTrainer)\n",
    "importlib.reload(musicPlayer)\n",
    "importlib.reload(simulation)\n",
    "importlib.reload(fitness)\n",
    "importlib.reload(music21)\n",
    "importlib.reload(constants)\n",
    "importlib.reload(util)\n",
    "importlib.reload(individual)\n",
    "importlib.reload(fitness)"
   ]
  },
  {
   "cell_type": "code",
   "execution_count": null,
   "metadata": {
    "pycharm": {}
   },
   "outputs": [],
   "source": [
    "len(scores)"
   ]
  },
  {
   "cell_type": "markdown",
   "metadata": {},
   "source": [
    "## Get corpus"
   ]
  },
  {
   "cell_type": "code",
   "execution_count": null,
   "metadata": {
    "pycharm": {}
   },
   "outputs": [],
   "source": [
    "coreCorpus = music21.corpus.corpora.CoreCorpus()\n",
    "curr_corpus = music21.corpus.search('mozart', 'composer')\n",
    "\n",
    "scores = []\n",
    "for c in curr_corpus:\n",
    "    score = c.parse()\n",
    "    score = util.transpose_piece(score, 'C')\n",
    "    scores.append(score)"
   ]
  },
  {
   "cell_type": "code",
   "execution_count": null,
   "metadata": {
    "pycharm": {}
   },
   "outputs": [],
   "source": [
    "lakh_corpus = corpus.corpora.LocalCorpus('lakh')\n",
    "curr_corpus = lakh_corpus.metadataBundle[0:20]\n",
    "\n",
    "scores = []\n",
    "for c in curr_corpus:\n",
    "    score = c.parse()\n",
    "    score = util.transpose_piece(score, 'C')\n",
    "    scores.append(score)"
   ]
  },
  {
   "cell_type": "code",
   "execution_count": 3,
   "metadata": {},
   "outputs": [],
   "source": [
    "wiki_corpus = corpus.corpora.LocalCorpus('wiki')\n",
    "curr_corpus = wiki_corpus.metadataBundle[0:20]\n",
    "\n",
    "scores = []\n",
    "for c in curr_corpus:\n",
    "    score = c.parse()\n",
    "    score = util.transpose_piece(score, 'C')\n",
    "    scores.append(score)"
   ]
  },
  {
   "cell_type": "code",
   "execution_count": null,
   "metadata": {
    "pycharm": {}
   },
   "outputs": [],
   "source": [
    "score = music21.corpus.parse('joplin/maple_leaf_rag.mxl')\n",
    "scores = util.transpose_piece(score, 'C')\n",
    "scores = [scores]"
   ]
  },
  {
   "cell_type": "code",
   "execution_count": null,
   "metadata": {
    "pycharm": {}
   },
   "outputs": [],
   "source": [
    "scores[0].show('musicxml')"
   ]
  },
  {
   "cell_type": "code",
   "execution_count": 10,
   "metadata": {
    "pycharm": {}
   },
   "outputs": [],
   "source": [
    "dur_matrix = modelTrainer.train_duration_matrix(scores)\n",
    "pitch_matrix = modelTrainer.train_pitch_matrix(scores);"
   ]
  },
  {
   "cell_type": "code",
   "execution_count": 11,
   "metadata": {},
   "outputs": [
    {
     "data": {
      "text/html": [
       "<div>\n",
       "<style scoped>\n",
       "    .dataframe tbody tr th:only-of-type {\n",
       "        vertical-align: middle;\n",
       "    }\n",
       "\n",
       "    .dataframe tbody tr th {\n",
       "        vertical-align: top;\n",
       "    }\n",
       "\n",
       "    .dataframe thead th {\n",
       "        text-align: right;\n",
       "    }\n",
       "</style>\n",
       "<table border=\"1\" class=\"dataframe\">\n",
       "  <thead>\n",
       "    <tr style=\"text-align: right;\">\n",
       "      <th></th>\n",
       "      <th>REST</th>\n",
       "      <th>D4</th>\n",
       "      <th>G4</th>\n",
       "      <th>E4</th>\n",
       "      <th>C4</th>\n",
       "      <th>D#4</th>\n",
       "      <th>F4</th>\n",
       "      <th>A4</th>\n",
       "      <th>B4</th>\n",
       "      <th>C#4</th>\n",
       "      <th>D5</th>\n",
       "      <th>E5</th>\n",
       "      <th>G5</th>\n",
       "      <th>D#5</th>\n",
       "      <th>G#4</th>\n",
       "      <th>C#5</th>\n",
       "      <th>F5</th>\n",
       "    </tr>\n",
       "  </thead>\n",
       "  <tbody>\n",
       "    <tr>\n",
       "      <td>REST</td>\n",
       "      <td>0.433437</td>\n",
       "      <td>0.076712</td>\n",
       "      <td>0.060325</td>\n",
       "      <td>0.092784</td>\n",
       "      <td>0.085546</td>\n",
       "      <td>0.0</td>\n",
       "      <td>0.143322</td>\n",
       "      <td>0.060150</td>\n",
       "      <td>0.084211</td>\n",
       "      <td>0.000000</td>\n",
       "      <td>0.056604</td>\n",
       "      <td>0.000000</td>\n",
       "      <td>0.125</td>\n",
       "      <td>0.0</td>\n",
       "      <td>0.0</td>\n",
       "      <td>0.0</td>\n",
       "      <td>0.0</td>\n",
       "    </tr>\n",
       "    <tr>\n",
       "      <td>D4</td>\n",
       "      <td>0.083591</td>\n",
       "      <td>0.230137</td>\n",
       "      <td>0.041763</td>\n",
       "      <td>0.314433</td>\n",
       "      <td>0.200590</td>\n",
       "      <td>0.0</td>\n",
       "      <td>0.078176</td>\n",
       "      <td>0.067669</td>\n",
       "      <td>0.000000</td>\n",
       "      <td>0.733333</td>\n",
       "      <td>0.018868</td>\n",
       "      <td>0.000000</td>\n",
       "      <td>0.000</td>\n",
       "      <td>0.0</td>\n",
       "      <td>0.5</td>\n",
       "      <td>0.0</td>\n",
       "      <td>0.0</td>\n",
       "    </tr>\n",
       "    <tr>\n",
       "      <td>E4</td>\n",
       "      <td>0.092879</td>\n",
       "      <td>0.260274</td>\n",
       "      <td>0.153132</td>\n",
       "      <td>0.234536</td>\n",
       "      <td>0.061947</td>\n",
       "      <td>1.0</td>\n",
       "      <td>0.241042</td>\n",
       "      <td>0.007519</td>\n",
       "      <td>0.010526</td>\n",
       "      <td>0.200000</td>\n",
       "      <td>0.037736</td>\n",
       "      <td>0.000000</td>\n",
       "      <td>0.000</td>\n",
       "      <td>0.0</td>\n",
       "      <td>0.0</td>\n",
       "      <td>0.0</td>\n",
       "      <td>0.0</td>\n",
       "    </tr>\n",
       "    <tr>\n",
       "      <td>C4</td>\n",
       "      <td>0.108359</td>\n",
       "      <td>0.224658</td>\n",
       "      <td>0.023202</td>\n",
       "      <td>0.051546</td>\n",
       "      <td>0.471976</td>\n",
       "      <td>0.0</td>\n",
       "      <td>0.078176</td>\n",
       "      <td>0.045113</td>\n",
       "      <td>0.000000</td>\n",
       "      <td>0.000000</td>\n",
       "      <td>0.000000</td>\n",
       "      <td>0.042553</td>\n",
       "      <td>0.000</td>\n",
       "      <td>0.0</td>\n",
       "      <td>0.0</td>\n",
       "      <td>0.0</td>\n",
       "      <td>0.0</td>\n",
       "    </tr>\n",
       "    <tr>\n",
       "      <td>G4</td>\n",
       "      <td>0.151703</td>\n",
       "      <td>0.038356</td>\n",
       "      <td>0.329466</td>\n",
       "      <td>0.159794</td>\n",
       "      <td>0.076696</td>\n",
       "      <td>0.0</td>\n",
       "      <td>0.214984</td>\n",
       "      <td>0.406015</td>\n",
       "      <td>0.084211</td>\n",
       "      <td>0.000000</td>\n",
       "      <td>0.113208</td>\n",
       "      <td>0.085106</td>\n",
       "      <td>0.000</td>\n",
       "      <td>0.0</td>\n",
       "      <td>0.0</td>\n",
       "      <td>0.0</td>\n",
       "      <td>0.0</td>\n",
       "    </tr>\n",
       "    <tr>\n",
       "      <td>F4</td>\n",
       "      <td>0.080495</td>\n",
       "      <td>0.115068</td>\n",
       "      <td>0.232019</td>\n",
       "      <td>0.108247</td>\n",
       "      <td>0.067847</td>\n",
       "      <td>0.0</td>\n",
       "      <td>0.208469</td>\n",
       "      <td>0.060150</td>\n",
       "      <td>0.021053</td>\n",
       "      <td>0.000000</td>\n",
       "      <td>0.000000</td>\n",
       "      <td>0.000000</td>\n",
       "      <td>0.000</td>\n",
       "      <td>0.0</td>\n",
       "      <td>0.0</td>\n",
       "      <td>0.0</td>\n",
       "      <td>0.0</td>\n",
       "    </tr>\n",
       "    <tr>\n",
       "      <td>D5</td>\n",
       "      <td>0.003096</td>\n",
       "      <td>0.002740</td>\n",
       "      <td>0.006961</td>\n",
       "      <td>0.000000</td>\n",
       "      <td>0.008850</td>\n",
       "      <td>0.0</td>\n",
       "      <td>0.000000</td>\n",
       "      <td>0.007519</td>\n",
       "      <td>0.052632</td>\n",
       "      <td>0.000000</td>\n",
       "      <td>0.113208</td>\n",
       "      <td>0.617021</td>\n",
       "      <td>0.250</td>\n",
       "      <td>0.0</td>\n",
       "      <td>0.0</td>\n",
       "      <td>1.0</td>\n",
       "      <td>0.0</td>\n",
       "    </tr>\n",
       "    <tr>\n",
       "      <td>A4</td>\n",
       "      <td>0.027864</td>\n",
       "      <td>0.021918</td>\n",
       "      <td>0.081206</td>\n",
       "      <td>0.015464</td>\n",
       "      <td>0.000000</td>\n",
       "      <td>0.0</td>\n",
       "      <td>0.026059</td>\n",
       "      <td>0.195489</td>\n",
       "      <td>0.378947</td>\n",
       "      <td>0.000000</td>\n",
       "      <td>0.075472</td>\n",
       "      <td>0.000000</td>\n",
       "      <td>0.000</td>\n",
       "      <td>0.0</td>\n",
       "      <td>0.5</td>\n",
       "      <td>0.0</td>\n",
       "      <td>0.0</td>\n",
       "    </tr>\n",
       "    <tr>\n",
       "      <td>B4</td>\n",
       "      <td>0.018576</td>\n",
       "      <td>0.013699</td>\n",
       "      <td>0.037123</td>\n",
       "      <td>0.005155</td>\n",
       "      <td>0.014749</td>\n",
       "      <td>0.0</td>\n",
       "      <td>0.000000</td>\n",
       "      <td>0.142857</td>\n",
       "      <td>0.315789</td>\n",
       "      <td>0.000000</td>\n",
       "      <td>0.226415</td>\n",
       "      <td>0.000000</td>\n",
       "      <td>0.000</td>\n",
       "      <td>0.0</td>\n",
       "      <td>0.0</td>\n",
       "      <td>0.0</td>\n",
       "      <td>0.0</td>\n",
       "    </tr>\n",
       "    <tr>\n",
       "      <td>D#4</td>\n",
       "      <td>0.000000</td>\n",
       "      <td>0.002740</td>\n",
       "      <td>0.002320</td>\n",
       "      <td>0.005155</td>\n",
       "      <td>0.000000</td>\n",
       "      <td>0.0</td>\n",
       "      <td>0.000000</td>\n",
       "      <td>0.000000</td>\n",
       "      <td>0.000000</td>\n",
       "      <td>0.000000</td>\n",
       "      <td>0.000000</td>\n",
       "      <td>0.000000</td>\n",
       "      <td>0.000</td>\n",
       "      <td>0.0</td>\n",
       "      <td>0.0</td>\n",
       "      <td>0.0</td>\n",
       "      <td>0.0</td>\n",
       "    </tr>\n",
       "    <tr>\n",
       "      <td>C#5</td>\n",
       "      <td>0.000000</td>\n",
       "      <td>0.002740</td>\n",
       "      <td>0.000000</td>\n",
       "      <td>0.000000</td>\n",
       "      <td>0.000000</td>\n",
       "      <td>0.0</td>\n",
       "      <td>0.003257</td>\n",
       "      <td>0.000000</td>\n",
       "      <td>0.000000</td>\n",
       "      <td>0.000000</td>\n",
       "      <td>0.000000</td>\n",
       "      <td>0.000000</td>\n",
       "      <td>0.000</td>\n",
       "      <td>0.0</td>\n",
       "      <td>0.0</td>\n",
       "      <td>0.0</td>\n",
       "      <td>0.0</td>\n",
       "    </tr>\n",
       "    <tr>\n",
       "      <td>C#4</td>\n",
       "      <td>0.000000</td>\n",
       "      <td>0.010959</td>\n",
       "      <td>0.004640</td>\n",
       "      <td>0.012887</td>\n",
       "      <td>0.002950</td>\n",
       "      <td>0.0</td>\n",
       "      <td>0.006515</td>\n",
       "      <td>0.000000</td>\n",
       "      <td>0.000000</td>\n",
       "      <td>0.066667</td>\n",
       "      <td>0.000000</td>\n",
       "      <td>0.000000</td>\n",
       "      <td>0.000</td>\n",
       "      <td>0.0</td>\n",
       "      <td>0.0</td>\n",
       "      <td>0.0</td>\n",
       "      <td>0.0</td>\n",
       "    </tr>\n",
       "    <tr>\n",
       "      <td>E5</td>\n",
       "      <td>0.000000</td>\n",
       "      <td>0.000000</td>\n",
       "      <td>0.025522</td>\n",
       "      <td>0.000000</td>\n",
       "      <td>0.008850</td>\n",
       "      <td>0.0</td>\n",
       "      <td>0.000000</td>\n",
       "      <td>0.007519</td>\n",
       "      <td>0.042105</td>\n",
       "      <td>0.000000</td>\n",
       "      <td>0.245283</td>\n",
       "      <td>0.191489</td>\n",
       "      <td>0.125</td>\n",
       "      <td>1.0</td>\n",
       "      <td>0.0</td>\n",
       "      <td>0.0</td>\n",
       "      <td>1.0</td>\n",
       "    </tr>\n",
       "    <tr>\n",
       "      <td>G#4</td>\n",
       "      <td>0.000000</td>\n",
       "      <td>0.000000</td>\n",
       "      <td>0.002320</td>\n",
       "      <td>0.000000</td>\n",
       "      <td>0.000000</td>\n",
       "      <td>0.0</td>\n",
       "      <td>0.000000</td>\n",
       "      <td>0.000000</td>\n",
       "      <td>0.000000</td>\n",
       "      <td>0.000000</td>\n",
       "      <td>0.018868</td>\n",
       "      <td>0.000000</td>\n",
       "      <td>0.000</td>\n",
       "      <td>0.0</td>\n",
       "      <td>0.0</td>\n",
       "      <td>0.0</td>\n",
       "      <td>0.0</td>\n",
       "    </tr>\n",
       "    <tr>\n",
       "      <td>D#5</td>\n",
       "      <td>0.000000</td>\n",
       "      <td>0.000000</td>\n",
       "      <td>0.000000</td>\n",
       "      <td>0.000000</td>\n",
       "      <td>0.000000</td>\n",
       "      <td>0.0</td>\n",
       "      <td>0.000000</td>\n",
       "      <td>0.000000</td>\n",
       "      <td>0.010526</td>\n",
       "      <td>0.000000</td>\n",
       "      <td>0.000000</td>\n",
       "      <td>0.000000</td>\n",
       "      <td>0.000</td>\n",
       "      <td>0.0</td>\n",
       "      <td>0.0</td>\n",
       "      <td>0.0</td>\n",
       "      <td>0.0</td>\n",
       "    </tr>\n",
       "    <tr>\n",
       "      <td>G5</td>\n",
       "      <td>0.000000</td>\n",
       "      <td>0.000000</td>\n",
       "      <td>0.000000</td>\n",
       "      <td>0.000000</td>\n",
       "      <td>0.000000</td>\n",
       "      <td>0.0</td>\n",
       "      <td>0.000000</td>\n",
       "      <td>0.000000</td>\n",
       "      <td>0.000000</td>\n",
       "      <td>0.000000</td>\n",
       "      <td>0.056604</td>\n",
       "      <td>0.021277</td>\n",
       "      <td>0.500</td>\n",
       "      <td>0.0</td>\n",
       "      <td>0.0</td>\n",
       "      <td>0.0</td>\n",
       "      <td>0.0</td>\n",
       "    </tr>\n",
       "    <tr>\n",
       "      <td>F5</td>\n",
       "      <td>0.000000</td>\n",
       "      <td>0.000000</td>\n",
       "      <td>0.000000</td>\n",
       "      <td>0.000000</td>\n",
       "      <td>0.000000</td>\n",
       "      <td>0.0</td>\n",
       "      <td>0.000000</td>\n",
       "      <td>0.000000</td>\n",
       "      <td>0.000000</td>\n",
       "      <td>0.000000</td>\n",
       "      <td>0.037736</td>\n",
       "      <td>0.042553</td>\n",
       "      <td>0.000</td>\n",
       "      <td>0.0</td>\n",
       "      <td>0.0</td>\n",
       "      <td>0.0</td>\n",
       "      <td>0.0</td>\n",
       "    </tr>\n",
       "  </tbody>\n",
       "</table>\n",
       "</div>"
      ],
      "text/plain": [
       "          REST        D4        G4        E4        C4  D#4        F4  \\\n",
       "REST  0.433437  0.076712  0.060325  0.092784  0.085546  0.0  0.143322   \n",
       "D4    0.083591  0.230137  0.041763  0.314433  0.200590  0.0  0.078176   \n",
       "E4    0.092879  0.260274  0.153132  0.234536  0.061947  1.0  0.241042   \n",
       "C4    0.108359  0.224658  0.023202  0.051546  0.471976  0.0  0.078176   \n",
       "G4    0.151703  0.038356  0.329466  0.159794  0.076696  0.0  0.214984   \n",
       "F4    0.080495  0.115068  0.232019  0.108247  0.067847  0.0  0.208469   \n",
       "D5    0.003096  0.002740  0.006961  0.000000  0.008850  0.0  0.000000   \n",
       "A4    0.027864  0.021918  0.081206  0.015464  0.000000  0.0  0.026059   \n",
       "B4    0.018576  0.013699  0.037123  0.005155  0.014749  0.0  0.000000   \n",
       "D#4   0.000000  0.002740  0.002320  0.005155  0.000000  0.0  0.000000   \n",
       "C#5   0.000000  0.002740  0.000000  0.000000  0.000000  0.0  0.003257   \n",
       "C#4   0.000000  0.010959  0.004640  0.012887  0.002950  0.0  0.006515   \n",
       "E5    0.000000  0.000000  0.025522  0.000000  0.008850  0.0  0.000000   \n",
       "G#4   0.000000  0.000000  0.002320  0.000000  0.000000  0.0  0.000000   \n",
       "D#5   0.000000  0.000000  0.000000  0.000000  0.000000  0.0  0.000000   \n",
       "G5    0.000000  0.000000  0.000000  0.000000  0.000000  0.0  0.000000   \n",
       "F5    0.000000  0.000000  0.000000  0.000000  0.000000  0.0  0.000000   \n",
       "\n",
       "            A4        B4       C#4        D5        E5     G5  D#5  G#4  C#5  \\\n",
       "REST  0.060150  0.084211  0.000000  0.056604  0.000000  0.125  0.0  0.0  0.0   \n",
       "D4    0.067669  0.000000  0.733333  0.018868  0.000000  0.000  0.0  0.5  0.0   \n",
       "E4    0.007519  0.010526  0.200000  0.037736  0.000000  0.000  0.0  0.0  0.0   \n",
       "C4    0.045113  0.000000  0.000000  0.000000  0.042553  0.000  0.0  0.0  0.0   \n",
       "G4    0.406015  0.084211  0.000000  0.113208  0.085106  0.000  0.0  0.0  0.0   \n",
       "F4    0.060150  0.021053  0.000000  0.000000  0.000000  0.000  0.0  0.0  0.0   \n",
       "D5    0.007519  0.052632  0.000000  0.113208  0.617021  0.250  0.0  0.0  1.0   \n",
       "A4    0.195489  0.378947  0.000000  0.075472  0.000000  0.000  0.0  0.5  0.0   \n",
       "B4    0.142857  0.315789  0.000000  0.226415  0.000000  0.000  0.0  0.0  0.0   \n",
       "D#4   0.000000  0.000000  0.000000  0.000000  0.000000  0.000  0.0  0.0  0.0   \n",
       "C#5   0.000000  0.000000  0.000000  0.000000  0.000000  0.000  0.0  0.0  0.0   \n",
       "C#4   0.000000  0.000000  0.066667  0.000000  0.000000  0.000  0.0  0.0  0.0   \n",
       "E5    0.007519  0.042105  0.000000  0.245283  0.191489  0.125  1.0  0.0  0.0   \n",
       "G#4   0.000000  0.000000  0.000000  0.018868  0.000000  0.000  0.0  0.0  0.0   \n",
       "D#5   0.000000  0.010526  0.000000  0.000000  0.000000  0.000  0.0  0.0  0.0   \n",
       "G5    0.000000  0.000000  0.000000  0.056604  0.021277  0.500  0.0  0.0  0.0   \n",
       "F5    0.000000  0.000000  0.000000  0.037736  0.042553  0.000  0.0  0.0  0.0   \n",
       "\n",
       "       F5  \n",
       "REST  0.0  \n",
       "D4    0.0  \n",
       "E4    0.0  \n",
       "C4    0.0  \n",
       "G4    0.0  \n",
       "F4    0.0  \n",
       "D5    0.0  \n",
       "A4    0.0  \n",
       "B4    0.0  \n",
       "D#4   0.0  \n",
       "C#5   0.0  \n",
       "C#4   0.0  \n",
       "E5    1.0  \n",
       "G#4   0.0  \n",
       "D#5   0.0  \n",
       "G5    0.0  \n",
       "F5    0.0  "
      ]
     },
     "execution_count": 11,
     "metadata": {},
     "output_type": "execute_result"
    }
   ],
   "source": [
    "pitch_matrix"
   ]
  },
  {
   "cell_type": "code",
   "execution_count": null,
   "metadata": {},
   "outputs": [],
   "source": [
    "NOTE_RANGE = [\n",
    "    'A4',\n",
    "    'A#4',\n",
    "    'B4',\n",
    "    'C4',\n",
    "    'C#4',\n",
    "    'D4',\n",
    "    'D#4',\n",
    "    'E4',\n",
    "    'F4',\n",
    "    'G4',\n",
    "    'G#4',\n",
    "    'A5',\n",
    "    'A#5',\n",
    "    'B5',\n",
    "    'B#5',\n",
    "    'C#5',\n",
    "    'D5',\n",
    "    'D#5',\n",
    "    'E5',\n",
    "    'F5',\n",
    "    'G5',\n",
    "    'G#5',\n",
    "]"
   ]
  },
  {
   "cell_type": "code",
   "execution_count": 17,
   "metadata": {
    "pycharm": {}
   },
   "outputs": [
    {
     "ename": "NameError",
     "evalue": "name 'NOTE_RANGE' is not defined",
     "output_type": "error",
     "traceback": [
      "\u001b[1;31m---------------------------------------------------------------------------\u001b[0m",
      "\u001b[1;31mNameError\u001b[0m                                 Traceback (most recent call last)",
      "\u001b[1;32m<ipython-input-17-67f6dba13160>\u001b[0m in \u001b[0;36m<module>\u001b[1;34m\u001b[0m\n\u001b[0;32m     26\u001b[0m                 \u001b[1;32mif\u001b[0m \u001b[1;34m'-'\u001b[0m \u001b[1;32min\u001b[0m \u001b[0mpitch_name\u001b[0m \u001b[1;32mor\u001b[0m \u001b[1;34m'##'\u001b[0m \u001b[1;32min\u001b[0m \u001b[0mpitch_name\u001b[0m\u001b[1;33m:\u001b[0m\u001b[1;33m\u001b[0m\u001b[1;33m\u001b[0m\u001b[0m\n\u001b[0;32m     27\u001b[0m                     \u001b[0mpitch_name\u001b[0m \u001b[1;33m=\u001b[0m \u001b[0mfirstNote\u001b[0m\u001b[1;33m.\u001b[0m\u001b[0mpitch\u001b[0m\u001b[1;33m.\u001b[0m\u001b[0mgetEnharmonic\u001b[0m\u001b[1;33m(\u001b[0m\u001b[1;33m)\u001b[0m\u001b[1;33m.\u001b[0m\u001b[0mnameWithOctave\u001b[0m\u001b[1;33m\u001b[0m\u001b[1;33m\u001b[0m\u001b[0m\n\u001b[1;32m---> 28\u001b[1;33m                 \u001b[1;32mif\u001b[0m \u001b[0mpitch_name\u001b[0m \u001b[1;32min\u001b[0m \u001b[0mNOTE_RANGE\u001b[0m\u001b[1;33m:\u001b[0m\u001b[1;33m\u001b[0m\u001b[1;33m\u001b[0m\u001b[0m\n\u001b[0m\u001b[0;32m     29\u001b[0m                     \u001b[0mfirst_notes_per_bar\u001b[0m\u001b[1;33m.\u001b[0m\u001b[0mappend\u001b[0m\u001b[1;33m(\u001b[0m\u001b[0mpitch_name\u001b[0m\u001b[1;33m)\u001b[0m\u001b[1;33m\u001b[0m\u001b[1;33m\u001b[0m\u001b[0m\n\u001b[0;32m     30\u001b[0m                 \u001b[0mcounter\u001b[0m \u001b[1;33m+=\u001b[0m \u001b[1;36m1\u001b[0m\u001b[1;33m\u001b[0m\u001b[1;33m\u001b[0m\u001b[0m\n",
      "\u001b[1;31mNameError\u001b[0m: name 'NOTE_RANGE' is not defined"
     ]
    }
   ],
   "source": [
    "# Interval matrix\n",
    "first_notes_per_bar = []\n",
    "all_intervals = []\n",
    "for s in scores:\n",
    "    noteIterator = s.parts[0].getElementsByClass(stream.Measure)\n",
    "    if len(noteIterator) == 0:\n",
    "        noteIterator = s.parts[0].notesAndRests.stream()\n",
    "    for i in noteIterator:\n",
    "        firstNote = None\n",
    "        counter = 1\n",
    "        m = []\n",
    "        for j in i.notesAndRests:\n",
    "            if j.isChord:\n",
    "                curr_note = note.Note(j.root())\n",
    "            elif j.isRest:\n",
    "                m.append('REST')\n",
    "                continue\n",
    "            else:\n",
    "                curr_note = j\n",
    "            if counter == 1:\n",
    "                if j.isChord:\n",
    "                    firstNote = note.Note(j.root())\n",
    "                else:\n",
    "                    firstNote = j\n",
    "                pitch_name = firstNote.nameWithOctave\n",
    "                if '-' in pitch_name or '##' in pitch_name:\n",
    "                    pitch_name = firstNote.pitch.getEnharmonic().nameWithOctave\n",
    "                if pitch_name in NOTE_RANGE:\n",
    "                    first_notes_per_bar.append(pitch_name)\n",
    "                counter += 1\n",
    "                continue\n",
    "            #print(j.beatStr)\n",
    "            octave = curr_note.octave\n",
    "            root = note.Note('C')\n",
    "            root.octave = octave\n",
    "            interv = interval.Interval(root,  curr_note).name\n",
    "            m.append(interv)\n",
    "            counter += 1\n",
    "            all_intervals.append(interv)\n",
    "all_intervals\n",
    "\n",
    "bigrams = list(nltk.bigrams(all_intervals))\n",
    "matrix = defaultdict(lambda: defaultdict(lambda: 0))\n",
    "\n",
    "for i1,i2 in bigrams:\n",
    "    matrix[i1][i2] += 1\n",
    "    \n",
    "for i1 in matrix:\n",
    "    total = float(sum(matrix[i1].values()))\n",
    "    for i2 in matrix[i1]:\n",
    "        matrix[i1][i2] /= total\n",
    "    \n",
    "int_matrix = pd.DataFrame(matrix)\n",
    "int_matrix = int_matrix.fillna(0)\n"
   ]
  },
  {
   "cell_type": "code",
   "execution_count": null,
   "metadata": {},
   "outputs": [],
   "source": [
    "trigrams = list(nltk.trigrams(all_intervals))\n",
    "matrix = defaultdict(lambda: defaultdict(lambda: 0))\n",
    "\n",
    "for i1,i2,i3 in trigrams:\n",
    "    matrix[(i1,i2)][i3] += 1\n",
    "    \n",
    "for i1 in matrix:\n",
    "    total = float(sum(matrix[i1].values()))\n",
    "    for i2 in matrix[i1]:\n",
    "        matrix[i1][i2] /= total\n",
    "    \n",
    "int_trigram_matrix = pd.DataFrame(matrix)\n",
    "int_trigram_matrix = int_matrix.fillna(0)"
   ]
  },
  {
   "cell_type": "code",
   "execution_count": 51,
   "metadata": {},
   "outputs": [
    {
     "data": {
      "text/plain": [
       "<music21.pitch.Pitch E3>"
      ]
     },
     "execution_count": 51,
     "metadata": {},
     "output_type": "execute_result"
    }
   ],
   "source": [
    "c = chord.Chord(['E3', 'F3', 'G3'])\n",
    "c.root()"
   ]
  },
  {
   "cell_type": "code",
   "execution_count": null,
   "metadata": {
    "pycharm": {}
   },
   "outputs": [],
   "source": [
    "init_note_vector = defaultdict(lambda: 0)\n",
    "for i in first_notes_per_bar:\n",
    "    init_note_vector[i] += 1\n",
    "total = float(sum(init_note_vector.values()))\n",
    "for i in init_note_vector:\n",
    "    init_note_vector[i] /= total\n",
    "init_note_vector = pd.Series(init_note_vector)"
   ]
  },
  {
   "cell_type": "code",
   "execution_count": null,
   "metadata": {
    "pycharm": {}
   },
   "outputs": [],
   "source": [
    "rng = random.random()\n",
    "if start_duration is None:\n",
    "    start_duration = random.choice(dur_matrix.keys())\n",
    "\n",
    "transitions = dur_matrix[start_duration]\n",
    "p_sum = 0.0\n",
    "\n",
    "for k, v in transitions.iteritems():\n",
    "    if p_sum < rng < p_sum + v:\n",
    "        print(k)\n",
    "    else:\n",
    "        p_sum += v"
   ]
  },
  {
   "cell_type": "code",
   "execution_count": null,
   "metadata": {},
   "outputs": [],
   "source": [
    "population"
   ]
  },
  {
   "cell_type": "code",
   "execution_count": 12,
   "metadata": {
    "pycharm": {}
   },
   "outputs": [
    {
     "name": "stdout",
     "output_type": "stream",
     "text": [
      "Starting generation\n"
     ]
    }
   ],
   "source": [
    "sim = simulation.Simulation(0.5, 100)\n",
    "population = sim.run_interactively(pitch_matrix, dur_matrix, None)"
   ]
  },
  {
   "cell_type": "code",
   "execution_count": 15,
   "metadata": {},
   "outputs": [
    {
     "name": "stdout",
     "output_type": "stream",
     "text": [
      "Starting generation\n",
      "Initializing population\n",
      "Starting evolution\n",
      "Iteration 0 done\n",
      "Average fitness: 2.79265873015873\n",
      "Iteration 1 done\n",
      "Average fitness: 2.5876984126984124\n",
      "Iteration 2 done\n",
      "Average fitness: 3.2388888888888885\n",
      "Iteration 3 done\n",
      "Average fitness: 3.0398809523809525\n",
      "Iteration 4 done\n",
      "Average fitness: 3.15734126984127\n",
      "Iteration 5 done\n",
      "Average fitness: 3.184259259259259\n",
      "Iteration 6 done\n",
      "Average fitness: 2.7099867724867726\n",
      "Iteration 7 done\n",
      "Average fitness: 2.9856481481481487\n",
      "Iteration 8 done\n",
      "Average fitness: 2.872916666666667\n",
      "Iteration 9 done\n",
      "Average fitness: 2.4145833333333333\n",
      "Done evolving, playing songs\n",
      "Measures: [Notes: [(E4, eighth, None, None), (A4, half, None, None), (F4, quarter, None, None)], Chord: ['C3', 'E3', 'G3'], Fitness: 0.3333333333333333, Notes: [(C4, eighth, None, None), (G4, eighth, None, None), (A4, quarter, None, None), (F4, quarter, None, None)], Chord: ['F3', 'A3', 'C3'], Fitness: 0.75, Notes: [(D4, quarter, None, None), (G4, eighth, None, None), (A4, eighth, None, None), (F4, quarter, None, None), (E5, quarter, None, None)], Chord: ['G3', 'B3', 'D3'], Fitness: 0.4, Notes: [(E4, quarter, None, None), (D4, quarter, None, None), (E4, 16th, None, None), (D4, quarter, None, None)], Chord: ['C3', 'E3', 'G3'], Fitness: 0.5] fitness: 2.4958333333333336\n",
      "Measures: [Notes: [(A4, eighth, None, None), (G4, eighth, None, None), (D4, eighth, None, None), (E4, eighth, None, None), (D4, 16th, None, None), (E4, eighth, None, None), (D4, eighth, None, None), (E4, eighth, None, None)], Chord: ['G3', 'B3', 'D3'], Fitness: 0.5, Notes: [(E4, eighth, None, None), (E5, quarter, None, None), (E5, quarter, None, None), (REST, quarter, None, None), (G4, eighth, None, None)], Chord: ['C3', 'E3', 'G3'], Fitness: 0.8, Notes: [(E5, quarter, None, None), (E5, quarter, None, None), (A4, eighth, None, None), (F4, 16th, None, None), (D4, quarter, None, None)], Chord: ['F3', 'A3', 'C3'], Fitness: 0.4, Notes: [(G4, quarter, None, None), (G4, quarter, None, None), (G4, half, None, None)], Chord: ['G3', 'B3', 'D3'], Fitness: 1.0] fitness: 2.425\n",
      "Measures: [Notes: [(E4, quarter, None, None), (A4, quarter, None, None), (F4, half, None, None)], Chord: ['C3', 'E3', 'G3'], Fitness: 0.3333333333333333, Notes: [(E5, quarter, None, None), (E5, eighth, None, None), (A4, eighth, None, None), (D5, eighth, None, None)], Chord: ['F3', 'A3', 'C3'], Fitness: 0.25, Notes: [(D4, quarter, None, None), (G4, quarter, None, None), (G4, eighth, None, None), (D4, eighth, None, None), (E4, 16th, None, None), (D4, eighth, None, None)], Chord: ['G3', 'B3', 'D3'], Fitness: 0.8333333333333333, Notes: [(G5, eighth, None, None), (G5, eighth, None, None), (D5, eighth, None, None), (G4, eighth, None, None), (C4, eighth, None, None), (E4, eighth, None, None), (E5, 16th, None, None), (G4, eighth, None, None)], Chord: ['C3', 'E3', 'G3'], Fitness: 0.875] fitness: 2.3229166666666665\n",
      "Measures: [Notes: [(A4, quarter, None, None), (G4, quarter, None, None), (G4, half, None, None)], Chord: ['F3', 'A3', 'C3'], Fitness: 0.3333333333333333, Notes: [(G4, 16th, None, None), (C4, eighth, None, None), (E4, eighth, None, None), (D4, 16th, None, None), (E4, 16th, None, None), (D4, eighth, None, None), (E4, eighth, None, None), (D4, quarter, None, None)], Chord: ['G3', 'B3', 'D3'], Fitness: 0.5, Notes: [(E5, quarter, None, None), (E5, quarter, None, None), (E5, quarter, None, None), (E5, eighth, None, None), (E5, 16th, None, None), (E5, 16th, None, None)], Chord: ['C3', 'E3', 'G3'], Fitness: 0.9999999999999999, Notes: [(E5, eighth, None, None), (E5, 16th, None, None), (A4, eighth, None, None), (F4, eighth, None, None), (D5, eighth, None, None), (G4, 16th, None, None), (G4, eighth, None, None), (A4, eighth, None, None), (F4, eighth, None, None)], Chord: ['F3', 'A3', 'C3'], Fitness: 0.4444444444444444] fitness: 2.3194444444444446\n",
      "key = C major\n"
     ]
    }
   ],
   "source": [
    "sim.run(10, pitch_matrix, dur_matrix)"
   ]
  },
  {
   "cell_type": "code",
   "execution_count": null,
   "metadata": {},
   "outputs": [],
   "source": [
    "sim.pitch_matrix"
   ]
  },
  {
   "cell_type": "code",
   "execution_count": null,
   "metadata": {
    "pycharm": {}
   },
   "outputs": [],
   "source": [
    "chord.Chord(['C3', 'E3', 'G3'], quarterlength='4')"
   ]
  },
  {
   "cell_type": "code",
   "execution_count": 14,
   "metadata": {
    "pycharm": {}
   },
   "outputs": [
    {
     "name": "stdout",
     "output_type": "stream",
     "text": [
      "key = C major\n"
     ]
    }
   ],
   "source": [
    "musicPlayer.play(population[0:4])"
   ]
  },
  {
   "cell_type": "code",
   "execution_count": null,
   "metadata": {
    "pycharm": {}
   },
   "outputs": [],
   "source": [
    "selection = [population[0], population[1]]\n",
    "selection"
   ]
  },
  {
   "cell_type": "code",
   "execution_count": null,
   "metadata": {
    "pycharm": {}
   },
   "outputs": [],
   "source": [
    "selected_population_notes = constants.flatten(list(map(lambda x: x.notes, selection)))\n",
    "selected_population_pitches = list(map(lambda x: x.pitch, constants.flatten(selected_population_notes)))\n",
    "selected_population_pitches"
   ]
  },
  {
   "cell_type": "code",
   "execution_count": null,
   "metadata": {
    "pycharm": {}
   },
   "outputs": [],
   "source": [
    "population = sim.update(selection=selection)"
   ]
  },
  {
   "cell_type": "code",
   "execution_count": null,
   "metadata": {},
   "outputs": [],
   "source": [
    "[i for sublist in [[[n.pitch for n in m.notes] for m in p.measures] for p in population[0:1]] for i in sublist]\n",
    "\n",
    "for p in population:\n",
    "    for m in p.measures:\n",
    "        for n in p.notes:\n",
    "            print(n.pitch)"
   ]
  },
  {
   "cell_type": "code",
   "execution_count": null,
   "metadata": {},
   "outputs": [],
   "source": [
    "[population[1].measures[2].notes, list(map(lambda x: x.notes, population[5].measures[1:3]))]"
   ]
  },
  {
   "cell_type": "code",
   "execution_count": 46,
   "metadata": {
    "pycharm": {}
   },
   "outputs": [
    {
     "name": "stdout",
     "output_type": "stream",
     "text": [
      "key = C major\n"
     ]
    }
   ],
   "source": [
    "musicPlayer.play(population)"
   ]
  },
  {
   "cell_type": "code",
   "execution_count": null,
   "metadata": {
    "pycharm": {}
   },
   "outputs": [],
   "source": []
  }
 ],
 "metadata": {
  "kernelspec": {
   "display_name": "Python 3",
   "language": "python",
   "name": "python3"
  },
  "language_info": {
   "codemirror_mode": {
    "name": "ipython",
    "version": 3
   },
   "file_extension": ".py",
   "mimetype": "text/x-python",
   "name": "python",
   "nbconvert_exporter": "python",
   "pygments_lexer": "ipython3",
   "version": "3.6.8"
  }
 },
 "nbformat": 4,
 "nbformat_minor": 4
}
