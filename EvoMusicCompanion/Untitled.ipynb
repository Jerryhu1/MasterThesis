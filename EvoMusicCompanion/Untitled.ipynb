{
 "cells": [
  {
   "cell_type": "code",
   "execution_count": 35,
   "metadata": {},
   "outputs": [],
   "source": [
    "from __future__ import print_function\n",
    "from ipywidgets import interact, interactive, fixed, interact_manual\n",
    "from music21 import *\n",
    "\n",
    "import initialisation\n",
    "import modelTrainer\n",
    "import musicPlayer\n",
    "import simulation\n",
    "import fitness\n",
    "import collections\n",
    "import importlib\n",
    "import music21\n",
    "import numpy as np\n",
    "import pandas as pd\n",
    "import ipywidgets as widgets\n"
   ]
  },
  {
   "cell_type": "code",
   "execution_count": 168,
   "metadata": {},
   "outputs": [
    {
     "data": {
      "text/plain": [
       "<module 'music21' from 'b:\\\\program files\\\\python\\\\lib\\\\site-packages\\\\music21\\\\__init__.py'>"
      ]
     },
     "execution_count": 168,
     "metadata": {},
     "output_type": "execute_result"
    }
   ],
   "source": [
    "importlib.reload(initialisation)\n",
    "importlib.reload(modelTrainer)\n",
    "importlib.reload(musicPlayer)\n",
    "importlib.reload(simulation)\n",
    "importlib.reload(fitness)\n",
    "importlib.reload(music21)"
   ]
  },
  {
   "cell_type": "code",
   "execution_count": 154,
   "metadata": {},
   "outputs": [
    {
     "ename": "AttributeError",
     "evalue": "'WindowsPath' object has no attribute 'score'",
     "output_type": "error",
     "traceback": [
      "\u001b[1;31m---------------------------------------------------------------------------\u001b[0m",
      "\u001b[1;31mAttributeError\u001b[0m                            Traceback (most recent call last)",
      "\u001b[1;32m<ipython-input-154-45572d772fa9>\u001b[0m in \u001b[0;36m<module>\u001b[1;34m\u001b[0m\n\u001b[0;32m      1\u001b[0m \u001b[0msixEight\u001b[0m \u001b[1;33m=\u001b[0m \u001b[0mmusic21\u001b[0m\u001b[1;33m.\u001b[0m\u001b[0mcorpus\u001b[0m\u001b[1;33m.\u001b[0m\u001b[0mgetComposer\u001b[0m\u001b[1;33m(\u001b[0m\u001b[1;34m'joplin'\u001b[0m\u001b[1;33m)\u001b[0m\u001b[1;33m\u001b[0m\u001b[1;33m\u001b[0m\u001b[0m\n\u001b[1;32m----> 2\u001b[1;33m \u001b[0msixEight\u001b[0m\u001b[1;33m[\u001b[0m\u001b[1;36m0\u001b[0m\u001b[1;33m]\u001b[0m\u001b[1;33m.\u001b[0m\u001b[0mscore\u001b[0m\u001b[1;33m\u001b[0m\u001b[1;33m\u001b[0m\u001b[0m\n\u001b[0m",
      "\u001b[1;31mAttributeError\u001b[0m: 'WindowsPath' object has no attribute 'score'"
     ]
    }
   ],
   "source": []
  },
  {
   "cell_type": "code",
   "execution_count": 158,
   "metadata": {},
   "outputs": [
    {
     "ename": "AttributeError",
     "evalue": "'TextBox' object has no attribute 'parse'",
     "output_type": "error",
     "traceback": [
      "\u001b[1;31m---------------------------------------------------------------------------\u001b[0m",
      "\u001b[1;31mAttributeError\u001b[0m                            Traceback (most recent call last)",
      "\u001b[1;32m<ipython-input-158-5412e6b2420b>\u001b[0m in \u001b[0;36m<module>\u001b[1;34m\u001b[0m\n\u001b[0;32m      4\u001b[0m \u001b[0mbachCorpusScores\u001b[0m \u001b[1;33m=\u001b[0m \u001b[1;33m[\u001b[0m\u001b[1;33m]\u001b[0m\u001b[1;33m\u001b[0m\u001b[1;33m\u001b[0m\u001b[0m\n\u001b[0;32m      5\u001b[0m \u001b[1;32mfor\u001b[0m \u001b[0mc\u001b[0m \u001b[1;32min\u001b[0m \u001b[0msixEight\u001b[0m\u001b[1;33m:\u001b[0m\u001b[1;33m\u001b[0m\u001b[1;33m\u001b[0m\u001b[0m\n\u001b[1;32m----> 6\u001b[1;33m     \u001b[0mscore\u001b[0m \u001b[1;33m=\u001b[0m \u001b[0mc\u001b[0m\u001b[1;33m.\u001b[0m\u001b[0mparse\u001b[0m\u001b[1;33m(\u001b[0m\u001b[1;33m)\u001b[0m\u001b[1;33m\u001b[0m\u001b[1;33m\u001b[0m\u001b[0m\n\u001b[0m\u001b[0;32m      7\u001b[0m     \u001b[0mbachCorpusScores\u001b[0m\u001b[1;33m.\u001b[0m\u001b[0mappend\u001b[0m\u001b[1;33m(\u001b[0m\u001b[0mscore\u001b[0m\u001b[1;33m)\u001b[0m\u001b[1;33m\u001b[0m\u001b[1;33m\u001b[0m\u001b[0m\n",
      "\u001b[1;31mAttributeError\u001b[0m: 'TextBox' object has no attribute 'parse'"
     ]
    }
   ],
   "source": [
    "coreCorpus = music21.corpus.corpora.CoreCorpus()\n",
    "sixEight = music21.corpus.parse('joplin/maple_leaf_rag.mxl')\n",
    "\n",
    "bachCorpusScores = []\n",
    "for c in sixEight:\n",
    "    score = c.parse()\n",
    "    bachCorpusScores.append(score)"
   ]
  },
  {
   "cell_type": "code",
   "execution_count": 160,
   "metadata": {},
   "outputs": [],
   "source": [
    "bachCorpusScores = music21.corpus.parse('joplin/maple_leaf_rag.mxl')"
   ]
  },
  {
   "cell_type": "code",
   "execution_count": 163,
   "metadata": {},
   "outputs": [],
   "source": [
    "bachCorpusScores = [bachCorpusScores]"
   ]
  },
  {
   "cell_type": "code",
   "execution_count": 20,
   "metadata": {},
   "outputs": [],
   "source": [
    "possible_durations = ['half', 'quarter', 'eighth', '16th', '32nd'] # set containing all possible notes for matrix creation\n",
    "\n",
    "zeros = np.full((len(possible_durations), len(possible_durations)), 0)\n",
    "matrix = pd.DataFrame(zeros, index=possible_durations, columns=possible_durations)\n",
    "matrix = matrix.astype(float)"
   ]
  },
  {
   "cell_type": "code",
   "execution_count": 169,
   "metadata": {},
   "outputs": [],
   "source": [
    "dur_matrix = modelTrainer.train_duration_matrix(bachCorpusScores)\n",
    "pitch_matrix = modelTrainer.train_pitch_matrix(bachCorpusScores);"
   ]
  },
  {
   "cell_type": "code",
   "execution_count": 173,
   "metadata": {},
   "outputs": [
    {
     "data": {
      "text/html": [
       "<div>\n",
       "<style scoped>\n",
       "    .dataframe tbody tr th:only-of-type {\n",
       "        vertical-align: middle;\n",
       "    }\n",
       "\n",
       "    .dataframe tbody tr th {\n",
       "        vertical-align: top;\n",
       "    }\n",
       "\n",
       "    .dataframe thead th {\n",
       "        text-align: right;\n",
       "    }\n",
       "</style>\n",
       "<table border=\"1\" class=\"dataframe\">\n",
       "  <thead>\n",
       "    <tr style=\"text-align: right;\">\n",
       "      <th></th>\n",
       "      <th>half</th>\n",
       "      <th>quarter</th>\n",
       "      <th>eighth</th>\n",
       "      <th>16th</th>\n",
       "      <th>32nd</th>\n",
       "      <th>64th</th>\n",
       "    </tr>\n",
       "  </thead>\n",
       "  <tbody>\n",
       "    <tr>\n",
       "      <td>half</td>\n",
       "      <td>0.0</td>\n",
       "      <td>0.0</td>\n",
       "      <td>0.000000</td>\n",
       "      <td>0.000000</td>\n",
       "      <td>0.0</td>\n",
       "      <td>0.0</td>\n",
       "    </tr>\n",
       "    <tr>\n",
       "      <td>quarter</td>\n",
       "      <td>0.0</td>\n",
       "      <td>0.0</td>\n",
       "      <td>0.000000</td>\n",
       "      <td>0.000000</td>\n",
       "      <td>0.0</td>\n",
       "      <td>0.0</td>\n",
       "    </tr>\n",
       "    <tr>\n",
       "      <td>eighth</td>\n",
       "      <td>0.0</td>\n",
       "      <td>0.0</td>\n",
       "      <td>0.142857</td>\n",
       "      <td>0.027397</td>\n",
       "      <td>0.0</td>\n",
       "      <td>0.0</td>\n",
       "    </tr>\n",
       "    <tr>\n",
       "      <td>16th</td>\n",
       "      <td>0.0</td>\n",
       "      <td>0.0</td>\n",
       "      <td>0.857143</td>\n",
       "      <td>0.972603</td>\n",
       "      <td>0.0</td>\n",
       "      <td>0.0</td>\n",
       "    </tr>\n",
       "    <tr>\n",
       "      <td>32nd</td>\n",
       "      <td>0.0</td>\n",
       "      <td>0.0</td>\n",
       "      <td>0.000000</td>\n",
       "      <td>0.000000</td>\n",
       "      <td>0.0</td>\n",
       "      <td>0.0</td>\n",
       "    </tr>\n",
       "    <tr>\n",
       "      <td>64th</td>\n",
       "      <td>0.0</td>\n",
       "      <td>0.0</td>\n",
       "      <td>0.000000</td>\n",
       "      <td>0.000000</td>\n",
       "      <td>0.0</td>\n",
       "      <td>0.0</td>\n",
       "    </tr>\n",
       "  </tbody>\n",
       "</table>\n",
       "</div>"
      ],
      "text/plain": [
       "         half  quarter    eighth      16th  32nd  64th\n",
       "half      0.0      0.0  0.000000  0.000000   0.0   0.0\n",
       "quarter   0.0      0.0  0.000000  0.000000   0.0   0.0\n",
       "eighth    0.0      0.0  0.142857  0.027397   0.0   0.0\n",
       "16th      0.0      0.0  0.857143  0.972603   0.0   0.0\n",
       "32nd      0.0      0.0  0.000000  0.000000   0.0   0.0\n",
       "64th      0.0      0.0  0.000000  0.000000   0.0   0.0"
      ]
     },
     "execution_count": 173,
     "metadata": {},
     "output_type": "execute_result"
    }
   ],
   "source": [
    "dur_matrix"
   ]
  },
  {
   "cell_type": "code",
   "execution_count": 31,
   "metadata": {},
   "outputs": [],
   "source": [
    "runsim = interactive(simulation.run, {'manual': True},iterations=1, population_size=10, pitch_matrix=fixed(pitch_matrix), duration_matrix=fixed(dur_matrix))"
   ]
  },
  {
   "cell_type": "code",
   "execution_count": 32,
   "metadata": {},
   "outputs": [
    {
     "data": {
      "application/vnd.jupyter.widget-view+json": {
       "model_id": "c699f1704d874542b0862e654dcb483e",
       "version_major": 2,
       "version_minor": 0
      },
      "text/plain": [
       "interactive(children=(IntSlider(value=1, description='iterations', max=3, min=-1), IntSlider(value=10, descrip…"
      ]
     },
     "metadata": {},
     "output_type": "display_data"
    }
   ],
   "source": [
    "display(runsim)"
   ]
  },
  {
   "cell_type": "code",
   "execution_count": 128,
   "metadata": {},
   "outputs": [],
   "source": [
    "sim = simulation.Simulation(0.5, 10)\n"
   ]
  },
  {
   "cell_type": "code",
   "execution_count": 165,
   "metadata": {},
   "outputs": [
    {
     "name": "stdout",
     "output_type": "stream",
     "text": [
      "Starting generation\n"
     ]
    }
   ],
   "source": [
    "population = sim.run_interactively(pitch_matrix, dur_matrix)\n"
   ]
  },
  {
   "cell_type": "code",
   "execution_count": 60,
   "metadata": {},
   "outputs": [
    {
     "data": {
      "application/vnd.jupyter.widget-view+json": {
       "model_id": "be6cda6e281d457ab45149b2f05533b5",
       "version_major": 2,
       "version_minor": 0
      },
      "text/plain": [
       "SelectMultiple(options=(([('G5', 'eighth'), ('A5', 'eighth'), ('F#5', 'eighth'), ('E5', 'eighth'), ('E5', 'eig…"
      ]
     },
     "metadata": {},
     "output_type": "display_data"
    }
   ],
   "source": [
    "widgets.SelectMultiple(\n",
    "    options=pop,\n",
    ")"
   ]
  },
  {
   "cell_type": "code",
   "execution_count": 134,
   "metadata": {},
   "outputs": [
    {
     "data": {
      "text/plain": [
       "[([('E4', 'eighth'),\n",
       "   ('D4', 'eighth'),\n",
       "   ('C4', '16th'),\n",
       "   ('B4', '16th'),\n",
       "   ('A4', '16th'),\n",
       "   ('B4', '16th'),\n",
       "   ('D5', '16th'),\n",
       "   ('D#5', '16th')],\n",
       "  0.0),\n",
       " ([('E4', 'eighth'),\n",
       "   ('D4', 'eighth'),\n",
       "   ('C4', 'quarter'),\n",
       "   ('B4', '16th'),\n",
       "   ('A4', '16th'),\n",
       "   ('B4', '16th'),\n",
       "   ('C5', '16th'),\n",
       "   ('B4', 'eighth')],\n",
       "  0.0)]"
      ]
     },
     "execution_count": 134,
     "metadata": {},
     "output_type": "execute_result"
    }
   ],
   "source": [
    "selection = [population[0], population[6]]\n",
    "selection"
   ]
  },
  {
   "cell_type": "code",
   "execution_count": 135,
   "metadata": {},
   "outputs": [],
   "source": [
    "population = sim.update(selection=selection)"
   ]
  },
  {
   "cell_type": "code",
   "execution_count": 166,
   "metadata": {},
   "outputs": [
    {
     "name": "stdout",
     "output_type": "stream",
     "text": [
      "[('G#4', '16th'), ('C#5', '16th'), ('D#4', '16th'), ('G#4', '16th'), ('C5', '16th'), ('G4', '16th'), ('G4', '16th'), ('G4', '16th')]\n",
      "[('G#4', '16th'), ('G#4', '16th'), ('F5', '16th'), ('A#4', '16th'), ('G#4', '16th'), ('G#4', '16th'), ('A#4', '16th'), ('C#5', '16th')]\n",
      "[('G#4', '16th'), ('F5', '16th'), ('G#4', '16th'), ('B4', '16th'), ('G#5', '16th'), ('F5', '16th'), ('F5', '16th'), ('G#4', '16th')]\n",
      "[('G#4', '16th'), ('B4', '16th'), ('G#4', '16th'), ('C5', '16th'), ('D#5', '16th'), ('A#4', '16th'), ('G#4', '16th'), ('C5', '16th')]\n",
      "[('G#4', 'eighth'), ('B4', '16th'), ('G#4', '16th'), ('C5', '16th'), ('G4', '16th'), ('G4', '16th'), ('G4', '16th'), ('G4', '16th')]\n",
      "[('G#4', '16th'), ('G#4', '16th'), ('C5', '16th'), ('C5', '16th'), ('F5', '16th'), ('D#5', '16th'), ('D#5', '16th'), ('C5', '16th')]\n",
      "[('G#4', '16th'), ('B4', '16th'), ('G#4', '16th'), ('C#5', '16th'), ('F5', '16th'), ('D#5', '16th'), ('C5', '16th'), ('D#5', '16th')]\n",
      "[('G#4', '16th'), ('C#5', '16th'), ('D#4', '16th'), (' ', '16th'), ('G#4', '16th'), ('C5', '16th'), ('D#5', '16th'), ('C#5', '16th')]\n",
      "[('G#4', '16th'), ('G#4', '16th'), ('G#4', '16th'), ('G#4', '16th'), ('C5', '16th'), ('D#5', '16th'), ('C5', '16th'), ('C5', '16th')]\n",
      "[('G#4', '16th'), ('A#4', '16th'), ('G#4', '16th'), ('C5', '16th'), ('G5', 'eighth'), ('A#5', '16th'), ('D#5', '16th'), ('F#5', '16th')]\n"
     ]
    }
   ],
   "source": [
    "musicPlayer.play(population)"
   ]
  },
  {
   "cell_type": "code",
   "execution_count": 99,
   "metadata": {},
   "outputs": [
    {
     "data": {
      "text/plain": [
       "[]"
      ]
     },
     "execution_count": 99,
     "metadata": {},
     "output_type": "execute_result"
    }
   ],
   "source": [
    "population"
   ]
  },
  {
   "cell_type": "code",
   "execution_count": 114,
   "metadata": {},
   "outputs": [
    {
     "data": {
      "text/plain": [
       "[[('E5', 'eighth'),\n",
       "  ('C#5', 'eighth'),\n",
       "  ('A4', 'eighth'),\n",
       "  ('D4', 'eighth'),\n",
       "  ('E4', 'eighth'),\n",
       "  (' ', 'quarter'),\n",
       "  ('G4', 'eighth'),\n",
       "  ('E5', 'eighth')],\n",
       " [('A5', 'eighth'),\n",
       "  ('F#5', 'quarter'),\n",
       "  ('E5', 'eighth'),\n",
       "  ('C#5', 'eighth'),\n",
       "  ('E5', 'eighth'),\n",
       "  ('C#5', 'quarter'),\n",
       "  ('A4', 'quarter'),\n",
       "  ('G4', 'quarter')],\n",
       " [('G4', 'eighth'),\n",
       "  ('E5', 'eighth'),\n",
       "  ('D5', 'eighth'),\n",
       "  ('E4', 'eighth'),\n",
       "  (' ', 'eighth'),\n",
       "  ('D4', 'eighth'),\n",
       "  ('A4', 'eighth'),\n",
       "  ('D4', 'eighth')],\n",
       " [('A5', 'quarter'),\n",
       "  ('F#5', 'eighth'),\n",
       "  ('E5', 'eighth'),\n",
       "  ('D5', 'eighth'),\n",
       "  ('E4', 'eighth'),\n",
       "  ('F#4', 'eighth'),\n",
       "  ('A4', 'eighth'),\n",
       "  ('A#4', 'eighth')],\n",
       " [('A5', 'quarter'),\n",
       "  ('F#5', 'eighth'),\n",
       "  ('E5', 'eighth'),\n",
       "  ('F#5', 'quarter'),\n",
       "  ('E5', 'quarter'),\n",
       "  ('D5', 'quarter'),\n",
       "  ('D#5', 'eighth'),\n",
       "  ('D5', 'eighth')],\n",
       " [('D4', 'quarter'),\n",
       "  ('E4', 'eighth'),\n",
       "  ('A4', 'eighth'),\n",
       "  ('D5', 'eighth'),\n",
       "  ('E4', 'eighth'),\n",
       "  ('F#4', 'eighth'),\n",
       "  ('A4', 'eighth'),\n",
       "  ('D4', 'eighth')],\n",
       " [('G4', '16th'),\n",
       "  ('E5', '16th'),\n",
       "  ('F#5', '16th'),\n",
       "  ('E5', 'eighth'),\n",
       "  ('D5', 'eighth'),\n",
       "  ('E4', 'eighth'),\n",
       "  (' ', 'eighth'),\n",
       "  ('A5', 'quarter')],\n",
       " [('E4', '16th'),\n",
       "  ('F#4', '16th'),\n",
       "  ('A4', 'quarter'),\n",
       "  ('D4', 'eighth'),\n",
       "  ('E4', 'eighth'),\n",
       "  (' ', 'eighth'),\n",
       "  ('A5', 'eighth'),\n",
       "  ('F#5', 'eighth')],\n",
       " [('G4', 'eighth'),\n",
       "  ('A4', 'quarter'),\n",
       "  ('A#4', 'eighth'),\n",
       "  ('A4', '16th'),\n",
       "  ('A4', '16th'),\n",
       "  ('A4', 'quarter'),\n",
       "  ('C5', 'eighth'),\n",
       "  ('A4', 'eighth')],\n",
       " [('A5', 'quarter'),\n",
       "  ('F#5', 'eighth'),\n",
       "  ('E5', 'eighth'),\n",
       "  ('D5', 'eighth'),\n",
       "  ('E4', 'eighth'),\n",
       "  (' ', 'eighth'),\n",
       "  ('A5', 'quarter'),\n",
       "  ('F#5', 'quarter')]]"
      ]
     },
     "execution_count": 114,
     "metadata": {},
     "output_type": "execute_result"
    }
   ],
   "source": [
    "population"
   ]
  },
  {
   "cell_type": "code",
   "execution_count": 113,
   "metadata": {},
   "outputs": [],
   "source": []
  }
 ],
 "metadata": {
  "kernelspec": {
   "display_name": "Python 3",
   "language": "python",
   "name": "python3"
  },
  "language_info": {
   "codemirror_mode": {
    "name": "ipython",
    "version": 3
   },
   "file_extension": ".py",
   "mimetype": "text/x-python",
   "name": "python",
   "nbconvert_exporter": "python",
   "pygments_lexer": "ipython3",
   "version": "3.7.4"
  }
 },
 "nbformat": 4,
 "nbformat_minor": 4
}
