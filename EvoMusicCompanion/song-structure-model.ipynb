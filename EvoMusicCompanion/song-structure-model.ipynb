{
 "cells": [
  {
   "cell_type": "code",
   "execution_count": 1,
   "metadata": {},
   "outputs": [
    {
     "name": "stderr",
     "output_type": "stream",
     "text": [
      "music21: Certain music21 functions might need the optional package matplotlib;\n",
      "                  if you run into errors, install it by following the instructions at\n",
      "                  http://mit.edu/music21/doc/installing/installAdditional.html\n"
     ]
    }
   ],
   "source": [
    "from music21 import *\n",
    "from collections import Counter, defaultdict\n",
    "\n",
    "import collections\n",
    "import numpy as np\n",
    "import pandas as pd\n",
    "import gzip\n",
    "import random\n",
    "import initialisation\n",
    "import modelTrainer\n",
    "import musicPlayer\n",
    "import simulation\n",
    "import fitness\n",
    "import collections\n",
    "import importlib\n",
    "import music21\n",
    "import numpy as np\n",
    "import pandas as pd\n",
    "import individual\n",
    "import duration\n",
    "import constants\n",
    "import util\n",
    "import random\n",
    "import nltk\n",
    "import fitness\n",
    "import re"
   ]
  },
  {
   "cell_type": "code",
   "execution_count": 2,
   "metadata": {},
   "outputs": [
    {
     "data": {
      "text/plain": [
       "<module 'fitness' from 'B:\\\\School\\\\Master\\\\Thesis\\\\MasterThesis\\\\EvoMusicCompanion\\\\fitness.py'>"
      ]
     },
     "execution_count": 2,
     "metadata": {},
     "output_type": "execute_result"
    }
   ],
   "source": [
    "importlib.reload(initialisation)\n",
    "importlib.reload(modelTrainer)\n",
    "importlib.reload(musicPlayer)\n",
    "importlib.reload(simulation)\n",
    "importlib.reload(fitness)\n",
    "importlib.reload(music21)\n",
    "importlib.reload(constants)\n",
    "importlib.reload(util)\n",
    "importlib.reload(individual)\n",
    "importlib.reload(fitness)"
   ]
  },
  {
   "cell_type": "code",
   "execution_count": 2,
   "metadata": {},
   "outputs": [],
   "source": [
    "wiki_corpus = corpus.corpora.LocalCorpus('wiki')\n",
    "curr_corpus = wiki_corpus.metadataBundle[0:20]\n",
    "\n",
    "scores = []\n",
    "for c in curr_corpus:\n",
    "    score = c.parse()\n",
    "    score = util.transpose_piece(score, 'C')\n",
    "    scores.append(score)"
   ]
  },
  {
   "cell_type": "code",
   "execution_count": 86,
   "metadata": {},
   "outputs": [],
   "source": [
    "sections = [('intro',2), ('verse', 8), ('chorus', 4), ('verse', 8), ('chorus', 4)]\n"
   ]
  },
  {
   "cell_type": "code",
   "execution_count": 4,
   "metadata": {},
   "outputs": [],
   "source": [
    "class Individual:\n",
    "    def __init__(self, sections, fitness):\n",
    "        self.sections = sections\n",
    "        self.fitness = fitness\n",
    "class Section:\n",
    "    def __init__(self, name, measures):\n",
    "        self.name = name\n",
    "        self.measures = measures\n",
    "class Measure:\n",
    "    def __init__(self, notes, chord):\n",
    "        self.notes = notes\n",
    "        self.chord = chord\n",
    "class Note: \n",
    "    def __init__(self, pitch, duration):\n",
    "        self.pitch = pitch\n",
    "        self.duration = duration\n"
   ]
  },
  {
   "cell_type": "code",
   "execution_count": 108,
   "metadata": {},
   "outputs": [
    {
     "data": {
      "text/plain": [
       "8"
      ]
     },
     "execution_count": 108,
     "metadata": {},
     "output_type": "execute_result"
    }
   ],
   "source": [
    "len(p.sections['intro'][0].notes)\n"
   ]
  },
  {
   "cell_type": "code",
   "execution_count": 116,
   "metadata": {},
   "outputs": [],
   "source": [
    "population = init_population_with_sections(sections)\n",
    "p = population[0]\n",
    "score = stream.Score(id='mainScore')\n",
    "part = stream.Part(id='part0')\n",
    "counter = 0\n",
    "for s in p.sections:\n",
    "    for measure in range(len(p.sections[s])):\n",
    "        m = stream.Measure(counter)\n",
    "        measure = p.sections[s][measure]\n",
    "        counter += 1\n",
    "        for j in measure.notes:\n",
    "            if j.pitch == 'REST':\n",
    "                n = note.Rest()\n",
    "                n.duration = music21.duration.Duration(quarterLength=j.duration.duration_value/0.25)\n",
    "            else:\n",
    "                n = note.Note(j.pitch)\n",
    "                n.duration = music21.duration.Duration(quarterLength=j.duration.duration_value/0.25)\n",
    "            m.append(n)\n",
    "        part.append(m)\n",
    "score.append(part)"
   ]
  },
  {
   "cell_type": "code",
   "execution_count": 117,
   "metadata": {},
   "outputs": [],
   "source": [
    "score.show('musicxml')"
   ]
  },
  {
   "cell_type": "code",
   "execution_count": 58,
   "metadata": {},
   "outputs": [
    {
     "data": {
      "text/plain": [
       "'test1'"
      ]
     },
     "execution_count": 58,
     "metadata": {},
     "output_type": "execute_result"
    }
   ],
   "source": [
    "\"test\" + \"1\""
   ]
  },
  {
   "cell_type": "code",
   "execution_count": 115,
   "metadata": {},
   "outputs": [],
   "source": [
    "def init_population_with_sections(sections):\n",
    "    population = []\n",
    "    for i in range(10):\n",
    "        # For each section \n",
    "        sec = {}\n",
    "        for s in range(len(sections)):\n",
    "            section_name = sections[s][0]\n",
    "            section_num_of_measures = sections[s][1]\n",
    "            measures = []\n",
    "            \n",
    "             # If the section already exists, we repeat it but prefix it with a number\n",
    "            counter = 2\n",
    "            if section_name in sec:\n",
    "                section_name_prefixed = section_name + str(counter)\n",
    "                sec[section_name_prefixed] = sec[section_name]\n",
    "                continue\n",
    "                \n",
    "            # Generate measures\n",
    "            for j in range(0, section_num_of_measures):\n",
    "                # 1. Assign duration\n",
    "                measure_duration = get_duration_for_measure()\n",
    "                # 2. Get notes with pitches by duration array\n",
    "                new_notes = get_notes_by_duration(measure_duration)\n",
    "                # 3. Add to measure\n",
    "                m = Measure(new_notes, None)\n",
    "                measures.append(m)\n",
    "\n",
    "            # 4. Add measure to section    \n",
    "            new_section = Section(measures, section_name)\n",
    "            sec[section_name] = measures\n",
    "\n",
    "        new_individual = Individual(sec, 0)\n",
    "        population.append(new_individual)\n",
    "        \n",
    "    return population"
   ]
  },
  {
   "cell_type": "code",
   "execution_count": 6,
   "metadata": {},
   "outputs": [],
   "source": [
    "duration_matrix = modelTrainer.train_duration_matrix(scores)"
   ]
  },
  {
   "cell_type": "code",
   "execution_count": 7,
   "metadata": {},
   "outputs": [],
   "source": [
    "pitch_matrix = modelTrainer.train_pitch_matrix(scores)"
   ]
  },
  {
   "cell_type": "code",
   "execution_count": 85,
   "metadata": {},
   "outputs": [
    {
     "ename": "TypeError",
     "evalue": "__init__() takes from 1 to 2 positional arguments but 3 were given",
     "output_type": "error",
     "traceback": [
      "\u001b[1;31m---------------------------------------------------------------------------\u001b[0m",
      "\u001b[1;31mTypeError\u001b[0m                                 Traceback (most recent call last)",
      "\u001b[1;32m<ipython-input-85-423d763f6377>\u001b[0m in \u001b[0;36m<module>\u001b[1;34m\u001b[0m\n\u001b[0;32m      1\u001b[0m \u001b[0md\u001b[0m \u001b[1;33m=\u001b[0m \u001b[0mduration\u001b[0m\u001b[1;33m.\u001b[0m\u001b[0mDuration\u001b[0m\u001b[1;33m(\u001b[0m\u001b[1;34m'dotted-quarter'\u001b[0m\u001b[1;33m,\u001b[0m \u001b[1;32mNone\u001b[0m\u001b[1;33m)\u001b[0m\u001b[1;33m\u001b[0m\u001b[1;33m\u001b[0m\u001b[0m\n\u001b[1;32m----> 2\u001b[1;33m \u001b[0mnote\u001b[0m\u001b[1;33m.\u001b[0m\u001b[0mNote\u001b[0m\u001b[1;33m(\u001b[0m\u001b[1;34m'C4'\u001b[0m\u001b[1;33m,\u001b[0m \u001b[0md\u001b[0m\u001b[1;33m)\u001b[0m\u001b[1;33m\u001b[0m\u001b[1;33m\u001b[0m\u001b[0m\n\u001b[0m",
      "\u001b[1;31mTypeError\u001b[0m: __init__() takes from 1 to 2 positional arguments but 3 were given"
     ]
    }
   ],
   "source": [
    "d = duration.Duration('dotted-quarter', None)\n",
    "note.Note('C4', d)"
   ]
  },
  {
   "cell_type": "code",
   "execution_count": 130,
   "metadata": {},
   "outputs": [
    {
     "name": "stdout",
     "output_type": "stream",
     "text": [
      "E4\n",
      "F4\n",
      "F4\n",
      "E4\n"
     ]
    }
   ],
   "source": [
    "durations = get_duration_for_measure()\n",
    "notes = get_notes_by_duration(durations)\n",
    "for n in notes:\n",
    "    print(n.pitch)"
   ]
  },
  {
   "cell_type": "code",
   "execution_count": 8,
   "metadata": {},
   "outputs": [],
   "source": [
    "def get_duration_for_measure():\n",
    "    dur_counter = 0.0\n",
    "    durations = []\n",
    "    while(dur_counter < 1.0):\n",
    "        # 1. Get initial duration\n",
    "        if dur_counter == 0.0:\n",
    "            new_d = initialisation.get_random_transition(duration_matrix, None)\n",
    "            new_d = duration.Duration(new_d, None)\n",
    "            dur_counter += new_d.duration_value\n",
    "            durations.append(new_d)\n",
    "            continue\n",
    "            \n",
    "        # 2. Keep generating duration until we reach maximum duration\n",
    "        new_d = initialisation.get_random_transition(duration_matrix, durations[-1].duration_name)\n",
    "        new_d = duration.Duration(new_d, None)\n",
    "        \n",
    "        # 3. If adding next one exceeds: Either lengthen the last note or add a rest\n",
    "        (exceeds, remaining) = exceeds_duration(new_d.duration_value, dur_counter)\n",
    "        if exceeds and remaining > 0:\n",
    "            # Lengthen last note if duration is < 16th note\n",
    "            if remaining < 0.125:\n",
    "                durations[-1].duration_value += remaining\n",
    "                break\n",
    "            # Set duration to remaining duration            \n",
    "            else:\n",
    "                new_d.duration_value += remaining\n",
    "        dur_counter += new_d.duration_value\n",
    "        \n",
    "        # Append to durations\n",
    "        durations.append(new_d)\n",
    "        \n",
    "    return durations\n",
    "\n",
    "def exceeds_duration(new_duration, curr_duration):\n",
    "    # Check how much duration exceeds when adding the new duration\n",
    "    total_duration = curr_duration + new_duration\n",
    "\n",
    "    max_duration_left = 1.0 - curr_duration\n",
    "    # If this is more than 1.0, we can decrease the length of this duration or we have to remove it\n",
    "    if total_duration > 1.0:\n",
    "        # If there is still room for another note, change it to that duration\n",
    "        if max_duration_left > 0.0:\n",
    "            return True, max_duration_left\n",
    "        # Else we do not want to add this note\n",
    "        else:\n",
    "            return True, 0.0\n",
    "    return False, 0.0\n",
    "\n",
    "def to_float_duration(duration_name):\n",
    "    if duration_name == 'quarter':\n",
    "        return 0.25\n",
    "    elif duration_name == 'eighth':\n",
    "        return 0.125\n",
    "    elif duration_name == 'whole':\n",
    "        return 1.0\n",
    "    elif duration_name == 'half':\n",
    "        return 0.5\n",
    "    elif duration_name == '16th':\n",
    "        return 0.0625\n",
    "    elif duration_name == '32nd':\n",
    "        return 0.03125\n",
    "    elif duration_name == '64th':\n",
    "        return 0.015625\n",
    "    else:\n",
    "        return 0.015625"
   ]
  },
  {
   "cell_type": "code",
   "execution_count": 9,
   "metadata": {},
   "outputs": [],
   "source": [
    "def get_notes_by_duration(durations):\n",
    "    notes = []\n",
    "    for i in range(len(durations)):\n",
    "        curr_dur = durations[i]\n",
    "        if i == 0:\n",
    "            curr_pitch = initialisation.get_random_transition(pitch_matrix, None)\n",
    "            n = Note(curr_pitch, curr_dur)\n",
    "            notes.append(n)\n",
    "            continue\n",
    "        curr_pitch = initialisation.get_random_transition(pitch_matrix, notes[-1].pitch)\n",
    "        n = Note(curr_pitch, curr_dur)\n",
    "        notes.append(n)\n",
    "    return notes\n",
    "            "
   ]
  }
 ],
 "metadata": {
  "kernelspec": {
   "display_name": "Python 3",
   "language": "python",
   "name": "python3"
  },
  "language_info": {
   "codemirror_mode": {
    "name": "ipython",
    "version": 3
   },
   "file_extension": ".py",
   "mimetype": "text/x-python",
   "name": "python",
   "nbconvert_exporter": "python",
   "pygments_lexer": "ipython3",
   "version": "3.7.4"
  }
 },
 "nbformat": 4,
 "nbformat_minor": 4
}
