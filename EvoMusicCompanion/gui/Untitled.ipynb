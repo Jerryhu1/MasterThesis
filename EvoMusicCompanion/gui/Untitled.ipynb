{
 "cells": [
  {
   "cell_type": "code",
   "execution_count": 31,
   "metadata": {},
   "outputs": [],
   "source": [
    "import gui\n",
    "import importlib"
   ]
  },
  {
   "cell_type": "code",
   "execution_count": 199,
   "metadata": {},
   "outputs": [],
   "source": [
    "render()"
   ]
  },
  {
   "cell_type": "code",
   "execution_count": 198,
   "metadata": {},
   "outputs": [],
   "source": [
    "import tkinter as tk\n",
    "import tkinter.font as tkFont\n",
    "\n",
    "from tkinter import *\n",
    "\n",
    "HEIGHT = 1024\n",
    "WIDTH = 1440\n",
    "PRIMARY_COLOR = '#ff2345'\n",
    "SECONDARY_COLOR = '#2A2A2A'\n",
    "WHITE = '#f3f3f3'\n",
    "PIANO_ROLL_BG_WHITE = '#f1f1f1'\n",
    "root = Tk()\n",
    "font = tkFont.Font(root=root, family=\"Lato Regular\", size=12)\n",
    "\n",
    "canvas = tk.Canvas(root, height=HEIGHT, width=WIDTH)\n",
    "canvas.pack()\n",
    "\n",
    "mainframe = tk.Frame(root, bg = WHITE )\n",
    "\n",
    "piece_index = 0\n",
    "def render():\n",
    "    mainframe.place(relwidth=1.0, relheight=1.0)\n",
    "\n",
    "    leftframe = tk.Frame(mainframe, bg = SECONDARY_COLOR)\n",
    "    leftframe.place(relwidth=0.20, relheight=1.0)\n",
    "\n",
    "    label = Label(leftframe, text=\"EvoMusic\", bg = SECONDARY_COLOR, fg=WHITE, font=font)\n",
    "    label.place(relwidth=0.8, relx=0.1, rely=0.005)\n",
    "\n",
    "    button = Button(leftframe, text=\"Test\", bg=PRIMARY_COLOR, fg=WHITE)\n",
    "    button.place(relx=0.1, rely=0.1)\n",
    "    \n",
    "    topframe = tk.Frame(mainframe, bg = SECONDARY_COLOR)\n",
    "    topframe.place(relwidth=0.8, relheight=0.1, relx=0.2)\n",
    "    \n",
    "    curr_song_label = Label(topframe, text=\"Song 1/5\", bg = SECONDARY_COLOR, fg=WHITE, font=font)\n",
    "    curr_song_label.config(anchor=CENTER)\n",
    "    curr_song_label.pack()\n",
    "    \n",
    "    musicWindow(mainframe, None)\n",
    "    root.mainloop()\n",
    "\n",
    "\n",
    "def musicWindow(mainframe, pieces):\n",
    "    musicframe = tk.Frame(mainframe, bg = '#f3f3f3')\n",
    "    musicframe.place(relx=0.2, rely=0.1, relwidth=0.8, relheight=0.8)\n",
    "    \n",
    "    piano_frame = tk.Frame(musicframe, bg='#0B8F00')\n",
    "    piano_frame.place(relx=0.0, relwidth=1.0, relheight=0.5)\n",
    "    p_canvas = Canvas(piano_frame, width=1000, height=800)\n",
    "    p_canvas.pack()\n",
    "    p_canvas.create_rectangle(0, 0, 100, 100, fill=PRIMARY_COLOR)\n",
    "\n",
    "\n",
    "def piano_octave(frame):\n",
    "    piano_frame = tk.Frame(frame)\n",
    "    p_canvas = tk.Canvas(piano_frame)\n",
    "    p_canvas.pack()\n",
    "    p_canvas.create_rectangle(0, 0, 50, 50, fill=PRIMARY_COLOR)\n",
    "    piano_frame.place()\n",
    "\n",
    "  \n"
   ]
  }
 ],
 "metadata": {
  "kernelspec": {
   "display_name": "Python 3",
   "language": "python",
   "name": "python3"
  },
  "language_info": {
   "codemirror_mode": {
    "name": "ipython",
    "version": 3
   },
   "file_extension": ".py",
   "mimetype": "text/x-python",
   "name": "python",
   "nbconvert_exporter": "python",
   "pygments_lexer": "ipython3",
   "version": "3.6.8"
  }
 },
 "nbformat": 4,
 "nbformat_minor": 2
}
