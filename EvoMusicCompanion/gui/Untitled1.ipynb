{
 "cells": [
  {
   "cell_type": "code",
   "execution_count": 1,
   "metadata": {},
   "outputs": [],
   "source": [
    "import sys\n",
    "\n",
    "from PyQt5.QtWidgets import QApplication\n",
    "from PyQt5.QtWidgets import QLabel\n",
    "from PyQt5.QtWidgets import QWidget\n",
    "from PyQt5.QtWidgets import QHBoxLayout\n",
    "from PyQt5.QtWidgets import QPushButton"
   ]
  },
  {
   "cell_type": "code",
   "execution_count": null,
   "metadata": {},
   "outputs": [],
   "source": [
    "app = QApplication(sys.argv)\n",
    "window = QWidget()\n",
    "window.setWindowTitle('EvoMusic')\n",
    "window.setGeometry(100, 100, 280, 80)\n",
    "window.move(60, 15)\n",
    "\n",
    "layout = QHBoxLayout()\n",
    "# helloMsg = QLabel('<h1>Hello World</h1>', parent = window)\n",
    "# helloMsg.move(60,15)\n",
    "\n",
    "layout.addWidget(QPushButton('Left'))\n",
    "layout.addWidget(QPushButton('Center'))\n",
    "layout.addWidget(QPushButton('Right'))\n",
    "window.setLayout(layout)\n",
    "\n",
    "window.show()\n",
    "sys.exit(app.exec_())"
   ]
  }
 ],
 "metadata": {
  "kernelspec": {
   "display_name": "Python 3",
   "language": "python",
   "name": "python3"
  },
  "language_info": {
   "codemirror_mode": {
    "name": "ipython",
    "version": 3
   },
   "file_extension": ".py",
   "mimetype": "text/x-python",
   "name": "python",
   "nbconvert_exporter": "python",
   "pygments_lexer": "ipython3",
   "version": "3.7.4"
  }
 },
 "nbformat": 4,
 "nbformat_minor": 4
}
