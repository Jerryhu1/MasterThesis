{
 "cells": [
  {
   "cell_type": "code",
   "execution_count": 4,
   "metadata": {},
   "outputs": [],
   "source": [
    "import initialisation\n",
    "import modelTrainer\n",
    "import musicPlayer\n",
    "import simulation\n",
    "import fitness\n",
    "import music21\n",
    "import collections\n",
    "import importlib\n",
    "import numpy as np\n",
    "import pandas as pd"
   ]
  },
  {
   "cell_type": "code",
   "execution_count": 2,
   "metadata": {},
   "outputs": [],
   "source": [
    "from music21 import *"
   ]
  },
  {
   "cell_type": "code",
   "execution_count": 3,
   "metadata": {},
   "outputs": [
    {
     "data": {
      "text/plain": [
       "<module 'music21' from 'b:\\\\program files\\\\python\\\\lib\\\\site-packages\\\\music21\\\\__init__.py'>"
      ]
     },
     "execution_count": 3,
     "metadata": {},
     "output_type": "execute_result"
    }
   ],
   "source": [
    "importlib.reload(initialisation)\n",
    "importlib.reload(modelTrainer)\n",
    "importlib.reload(musicPlayer)\n",
    "importlib.reload(simulation)\n",
    "importlib.reload(fitness)\n",
    "importlib.reload(music21)"
   ]
  },
  {
   "cell_type": "code",
   "execution_count": 5,
   "metadata": {},
   "outputs": [],
   "source": [
    "coreCorpus = music21.corpus.corpora.CoreCorpus()\n",
    "sixEight = music21.corpus.search('6/8')\n",
    "\n",
    "bachCorpusScores = []\n",
    "for c in sixEight:\n",
    "    score = c.parse()\n",
    "    bachCorpusScores.append(score)"
   ]
  },
  {
   "cell_type": "code",
   "execution_count": 62,
   "metadata": {},
   "outputs": [],
   "source": [
    "\n",
    " noteIterator = scores[0].parts[0].getElementsByClass(stream.Measure).flat.getElementsByClass('Duration')"
   ]
  },
  {
   "cell_type": "code",
   "execution_count": 58,
   "metadata": {},
   "outputs": [
    {
     "ename": "AttributeError",
     "evalue": "'Score' object has no attribute 'notesAndrests'",
     "output_type": "error",
     "traceback": [
      "\u001b[1;31m---------------------------------------------------------------------------\u001b[0m",
      "\u001b[1;31mAttributeError\u001b[0m                            Traceback (most recent call last)",
      "\u001b[1;32m<ipython-input-58-a8f51d82038e>\u001b[0m in \u001b[0;36m<module>\u001b[1;34m\u001b[0m\n\u001b[1;32m----> 1\u001b[1;33m \u001b[0mnoteIterator\u001b[0m \u001b[1;33m=\u001b[0m \u001b[0mscores\u001b[0m\u001b[1;33m[\u001b[0m\u001b[1;36m0\u001b[0m\u001b[1;33m]\u001b[0m\u001b[1;33m.\u001b[0m\u001b[0mgetElementsByClass\u001b[0m\u001b[1;33m(\u001b[0m\u001b[0mmusic21\u001b[0m\u001b[1;33m.\u001b[0m\u001b[0mstream\u001b[0m\u001b[1;33m.\u001b[0m\u001b[0mMeasure\u001b[0m\u001b[1;33m)\u001b[0m\u001b[1;33m.\u001b[0m\u001b[0mflat\u001b[0m\u001b[1;33m.\u001b[0m\u001b[0mnotesAndrests\u001b[0m\u001b[1;33m\u001b[0m\u001b[1;33m\u001b[0m\u001b[0m\n\u001b[0m",
      "\u001b[1;31mAttributeError\u001b[0m: 'Score' object has no attribute 'notesAndrests'"
     ]
    }
   ],
   "source": [
    "noteIterator = scores[0].getElementsByClass(stream.Measure).flat.getElementsByClass('Note')."
   ]
  },
  {
   "cell_type": "code",
   "execution_count": null,
   "metadata": {},
   "outputs": [],
   "source": [
    "bachCorpusScores"
   ]
  },
  {
   "cell_type": "code",
   "execution_count": 30,
   "metadata": {},
   "outputs": [],
   "source": [
    "possible_durations = ['half', 'quarter', 'eighth', '16th', '32nd'] # set containing all possible notes for matrix creation\n",
    "all_durations = [] # Multidimensional array of all notes per piece\n",
    "\n",
    "for p in bachCorpusScores:\n",
    "    measures = len(p.getElementsByClass(music21.stream.Part)[0].getElementsByClass(music21.stream.Measure))\n",
    "    # Get a part of the piece\n",
    "    noteIterator = p.parts[0].getElementsByClass(music21.stream.Measure).flat.getElementsByClass('Note')\n",
    "    if(len(noteIterator) == 0):\n",
    "        continue\n",
    "    for i in range(len(noteIterator)):\n",
    "        dur = noteIterator[i]\n",
    "        if(i == 0):\n",
    "            continue\n",
    "        if(i == len(noteIterator)):\n",
    "            break\n",
    "        if(dur.duration.type == 'zero' or dur.duration.type == 'complex' or dur.duration.type == '64th' or dur.duration.type == 'whole'):\n",
    "            continue\n",
    "        all_durations.append(dur.duration.type)\n",
    "            \n",
    "counter = collections.Counter(all_durations)"
   ]
  },
  {
   "cell_type": "code",
   "execution_count": 7,
   "metadata": {},
   "outputs": [],
   "source": [
    "counter = collections.Counter(all_durations)"
   ]
  },
  {
   "cell_type": "code",
   "execution_count": 24,
   "metadata": {},
   "outputs": [
    {
     "data": {
      "text/plain": [
       "Counter({'16th': 14353,\n",
       "         'eighth': 131803,\n",
       "         'quarter': 31837,\n",
       "         '32nd': 781,\n",
       "         'half': 2325,\n",
       "         'complex': 50,\n",
       "         '64th': 4,\n",
       "         'whole': 54})"
      ]
     },
     "execution_count": 24,
     "metadata": {},
     "output_type": "execute_result"
    }
   ],
   "source": [
    "counter.remove"
   ]
  },
  {
   "cell_type": "code",
   "execution_count": 20,
   "metadata": {},
   "outputs": [
    {
     "data": {
      "text/plain": [
       "half       0\n",
       "quarter    0\n",
       "eighth     0\n",
       "16th       0\n",
       "32nd       0\n",
       "Name: half, dtype: int32"
      ]
     },
     "execution_count": 20,
     "metadata": {},
     "output_type": "execute_result"
    }
   ],
   "source": [
    "zeros = np.full((len(possible_durations), len(possible_durations)), 0)\n",
    "matrix = pd.DataFrame(zeros, index=possible_durations, columns=possible_durations)\n",
    "matrix['half']"
   ]
  },
  {
   "cell_type": "code",
   "execution_count": 55,
   "metadata": {},
   "outputs": [
    {
     "data": {
      "text/html": [
       "<div>\n",
       "<style scoped>\n",
       "    .dataframe tbody tr th:only-of-type {\n",
       "        vertical-align: middle;\n",
       "    }\n",
       "\n",
       "    .dataframe tbody tr th {\n",
       "        vertical-align: top;\n",
       "    }\n",
       "\n",
       "    .dataframe thead th {\n",
       "        text-align: right;\n",
       "    }\n",
       "</style>\n",
       "<table border=\"1\" class=\"dataframe\">\n",
       "  <thead>\n",
       "    <tr style=\"text-align: right;\">\n",
       "      <th></th>\n",
       "      <th>half</th>\n",
       "      <th>quarter</th>\n",
       "      <th>eighth</th>\n",
       "      <th>16th</th>\n",
       "      <th>32nd</th>\n",
       "    </tr>\n",
       "  </thead>\n",
       "  <tbody>\n",
       "    <tr>\n",
       "      <td>half</td>\n",
       "      <td>936</td>\n",
       "      <td>612</td>\n",
       "      <td>742</td>\n",
       "      <td>31</td>\n",
       "      <td>4</td>\n",
       "    </tr>\n",
       "    <tr>\n",
       "      <td>quarter</td>\n",
       "      <td>817</td>\n",
       "      <td>6730</td>\n",
       "      <td>23116</td>\n",
       "      <td>1135</td>\n",
       "      <td>39</td>\n",
       "    </tr>\n",
       "    <tr>\n",
       "      <td>eighth</td>\n",
       "      <td>521</td>\n",
       "      <td>22478</td>\n",
       "      <td>102651</td>\n",
       "      <td>6065</td>\n",
       "      <td>88</td>\n",
       "    </tr>\n",
       "    <tr>\n",
       "      <td>16th</td>\n",
       "      <td>35</td>\n",
       "      <td>1996</td>\n",
       "      <td>5242</td>\n",
       "      <td>7023</td>\n",
       "      <td>56</td>\n",
       "    </tr>\n",
       "    <tr>\n",
       "      <td>32nd</td>\n",
       "      <td>15</td>\n",
       "      <td>21</td>\n",
       "      <td>52</td>\n",
       "      <td>99</td>\n",
       "      <td>594</td>\n",
       "    </tr>\n",
       "  </tbody>\n",
       "</table>\n",
       "</div>"
      ],
      "text/plain": [
       "         half  quarter  eighth  16th  32nd\n",
       "half      936      612     742    31     4\n",
       "quarter   817     6730   23116  1135    39\n",
       "eighth    521    22478  102651  6065    88\n",
       "16th       35     1996    5242  7023    56\n",
       "32nd       15       21      52    99   594"
      ]
     },
     "execution_count": 55,
     "metadata": {},
     "output_type": "execute_result"
    }
   ],
   "source": [
    "total = sum(counter.values())\n",
    "zeros = np.full((len(possible_durations), len(possible_durations)), 0)\n",
    "matrix = pd.DataFrame(zeros, index=possible_durations, columns=possible_durations)\n",
    "\n",
    "# Fill transition matrix frequencies\n",
    "for i in range(len(all_durations)):\n",
    "    # First note\n",
    "    if(i == 0):\n",
    "        continue\n",
    "    # Last note\n",
    "    if(i == len(all_durations)):\n",
    "        continue\n",
    "\n",
    "    curr_duration = all_durations[i-1]\n",
    "    next_duration = all_durations[i]\n",
    "\n",
    "    matrix[curr_duration][next_duration] = matrix[curr_duration][next_duration] + 1\n",
    "matrix"
   ]
  },
  {
   "cell_type": "code",
   "execution_count": 56,
   "metadata": {},
   "outputs": [
    {
     "data": {
      "text/html": [
       "<div>\n",
       "<style scoped>\n",
       "    .dataframe tbody tr th:only-of-type {\n",
       "        vertical-align: middle;\n",
       "    }\n",
       "\n",
       "    .dataframe tbody tr th {\n",
       "        vertical-align: top;\n",
       "    }\n",
       "\n",
       "    .dataframe thead th {\n",
       "        text-align: right;\n",
       "    }\n",
       "</style>\n",
       "<table border=\"1\" class=\"dataframe\">\n",
       "  <thead>\n",
       "    <tr style=\"text-align: right;\">\n",
       "      <th></th>\n",
       "      <th>half</th>\n",
       "      <th>quarter</th>\n",
       "      <th>eighth</th>\n",
       "      <th>16th</th>\n",
       "      <th>32nd</th>\n",
       "    </tr>\n",
       "  </thead>\n",
       "  <tbody>\n",
       "    <tr>\n",
       "      <td>half</td>\n",
       "      <td>936</td>\n",
       "      <td>612</td>\n",
       "      <td>742</td>\n",
       "      <td>31</td>\n",
       "      <td>4</td>\n",
       "    </tr>\n",
       "    <tr>\n",
       "      <td>quarter</td>\n",
       "      <td>817</td>\n",
       "      <td>6730</td>\n",
       "      <td>23116</td>\n",
       "      <td>1135</td>\n",
       "      <td>39</td>\n",
       "    </tr>\n",
       "    <tr>\n",
       "      <td>eighth</td>\n",
       "      <td>521</td>\n",
       "      <td>22478</td>\n",
       "      <td>102651</td>\n",
       "      <td>6065</td>\n",
       "      <td>88</td>\n",
       "    </tr>\n",
       "    <tr>\n",
       "      <td>16th</td>\n",
       "      <td>35</td>\n",
       "      <td>1996</td>\n",
       "      <td>5242</td>\n",
       "      <td>7023</td>\n",
       "      <td>56</td>\n",
       "    </tr>\n",
       "    <tr>\n",
       "      <td>32nd</td>\n",
       "      <td>15</td>\n",
       "      <td>21</td>\n",
       "      <td>52</td>\n",
       "      <td>99</td>\n",
       "      <td>594</td>\n",
       "    </tr>\n",
       "  </tbody>\n",
       "</table>\n",
       "</div>"
      ],
      "text/plain": [
       "         half  quarter  eighth  16th  32nd\n",
       "half      936      612     742    31     4\n",
       "quarter   817     6730   23116  1135    39\n",
       "eighth    521    22478  102651  6065    88\n",
       "16th       35     1996    5242  7023    56\n",
       "32nd       15       21      52    99   594"
      ]
     },
     "execution_count": 56,
     "metadata": {},
     "output_type": "execute_result"
    }
   ],
   "source": [
    "matrix"
   ]
  },
  {
   "cell_type": "code",
   "execution_count": 57,
   "metadata": {},
   "outputs": [
    {
     "name": "stdout",
     "output_type": "stream",
     "text": [
      "936\n",
      "817\n",
      "521\n",
      "35\n",
      "15\n",
      "612\n",
      "6730\n",
      "22478\n",
      "1996\n",
      "21\n",
      "742\n",
      "23116\n",
      "102651\n",
      "5242\n",
      "52\n",
      "31\n",
      "1135\n",
      "6065\n",
      "7023\n",
      "99\n",
      "4\n",
      "39\n",
      "88\n",
      "56\n",
      "594\n"
     ]
    }
   ],
   "source": [
    "for i in possible_durations:\n",
    "    for j in possible_durations:\n",
    "        print(matrix[i][j])"
   ]
  },
  {
   "cell_type": "code",
   "execution_count": 51,
   "metadata": {},
   "outputs": [
    {
     "name": "stdout",
     "output_type": "stream",
     "text": [
      "0\n",
      "half,half\n",
      "2325\n",
      "0\n",
      "0\n",
      "half,quarter\n",
      "31837\n",
      "0\n",
      "0\n",
      "half,eighth\n",
      "131803\n",
      "0\n",
      "0\n",
      "half,16th\n",
      "14353\n",
      "0\n",
      "0\n",
      "half,32nd\n",
      "781\n",
      "0\n",
      "0\n",
      "quarter,half\n",
      "2325\n",
      "0\n",
      "0\n",
      "quarter,quarter\n",
      "31837\n",
      "0\n",
      "0\n",
      "quarter,eighth\n",
      "131803\n",
      "0\n",
      "0\n",
      "quarter,16th\n",
      "14353\n",
      "0\n",
      "0\n",
      "quarter,32nd\n",
      "781\n",
      "0\n",
      "0\n",
      "eighth,half\n",
      "2325\n",
      "0\n",
      "0\n",
      "eighth,quarter\n",
      "31837\n",
      "0\n",
      "0\n",
      "eighth,eighth\n",
      "131803\n",
      "0\n",
      "0\n",
      "eighth,16th\n",
      "14353\n",
      "0\n",
      "0\n",
      "eighth,32nd\n",
      "781\n",
      "0\n",
      "0\n",
      "16th,half\n",
      "2325\n",
      "0\n",
      "0\n",
      "16th,quarter\n",
      "31837\n",
      "0\n",
      "0\n",
      "16th,eighth\n",
      "131803\n",
      "0\n",
      "0\n",
      "16th,16th\n",
      "14353\n",
      "0\n",
      "0\n",
      "16th,32nd\n",
      "781\n",
      "0\n",
      "0\n",
      "32nd,half\n",
      "2325\n",
      "0\n",
      "0\n",
      "32nd,quarter\n",
      "31837\n",
      "0\n",
      "0\n",
      "32nd,eighth\n",
      "131803\n",
      "0\n",
      "0\n",
      "32nd,16th\n",
      "14353\n",
      "0\n",
      "0\n",
      "32nd,32nd\n",
      "781\n",
      "0\n"
     ]
    }
   ],
   "source": [
    "matrix.astype(float)\n",
    "### Divide each row to get probabilistic model\n",
    "for i in possible_durations:\n",
    "    for j in possible_durations:\n",
    "        matrix[j][i] = matrix[j][i] / counter[j]"
   ]
  },
  {
   "cell_type": "code",
   "execution_count": 46,
   "metadata": {},
   "outputs": [
    {
     "data": {
      "text/plain": [
       "0.40258064516129033"
      ]
     },
     "execution_count": 46,
     "metadata": {},
     "output_type": "execute_result"
    }
   ],
   "source": [
    "x = matrix['half']['half'] / counter['half']\n",
    "x"
   ]
  }
 ],
 "metadata": {
  "kernelspec": {
   "display_name": "Python 3",
   "language": "python",
   "name": "python3"
  },
  "language_info": {
   "codemirror_mode": {
    "name": "ipython",
    "version": 3
   },
   "file_extension": ".py",
   "mimetype": "text/x-python",
   "name": "python",
   "nbconvert_exporter": "python",
   "pygments_lexer": "ipython3",
   "version": "3.7.4"
  }
 },
 "nbformat": 4,
 "nbformat_minor": 4
}
