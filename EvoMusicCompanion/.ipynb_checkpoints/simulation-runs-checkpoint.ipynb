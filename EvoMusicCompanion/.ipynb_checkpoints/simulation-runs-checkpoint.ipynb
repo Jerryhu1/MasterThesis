{
 "cells": [
  {
   "cell_type": "code",
   "execution_count": 1,
   "metadata": {
    "pycharm": {}
   },
   "outputs": [],
   "source": [
    "from __future__ import print_function\n",
    "from music21 import *\n",
    "from collections import Counter, defaultdict\n",
    "from ea.individual import Measure, Individual, Note\n",
    "from ea.duration import Duration\n",
    "\n",
    "import ea.initialisation as initialisation\n",
    "import ea.modelTrainer as modelTrainer\n",
    "import ea.musicPlayer as musicPlayer\n",
    "import ea.simulation as simulation\n",
    "import ea.fitness as fitness\n",
    "import ea.mutation as mutation\n",
    "import collections\n",
    "import importlib\n",
    "import music21\n",
    "import numpy as np\n",
    "import pandas as pd\n",
    "import ea.individual as individual\n",
    "import ea.duration as duration\n",
    "import ea.constants as constants\n",
    "import ea.util as util\n",
    "import random\n",
    "import nltk\n",
    "import ea.fitness as fitness\n",
    "import re\n",
    "import ea.modelUpdater as modelUpdater\n"
   ]
  },
  {
   "cell_type": "code",
   "execution_count": 2,
   "metadata": {
    "pycharm": {}
   },
   "outputs": [
    {
     "data": {
      "text/plain": [
       "<module 'ea.modelUpdater' from 'B:\\\\School\\\\Master\\\\Thesis\\\\MasterThesis\\\\EvoMusicCompanion\\\\ea\\\\modelUpdater.py'>"
      ]
     },
     "execution_count": 2,
     "metadata": {},
     "output_type": "execute_result"
    }
   ],
   "source": [
    "importlib.reload(initialisation)\n",
    "importlib.reload(modelTrainer)\n",
    "importlib.reload(musicPlayer)\n",
    "importlib.reload(simulation)\n",
    "importlib.reload(mutation)\n",
    "importlib.reload(fitness)\n",
    "importlib.reload(constants)\n",
    "importlib.reload(util)\n",
    "importlib.reload(individual)\n",
    "importlib.reload(fitness)\n",
    "importlib.reload(modelUpdater)"
   ]
  },
  {
   "cell_type": "markdown",
   "metadata": {},
   "source": [
    "## Get corpus"
   ]
  },
  {
   "cell_type": "code",
   "execution_count": null,
   "metadata": {
    "pycharm": {}
   },
   "outputs": [],
   "source": [
    "coreCorpus = music21.corpus.corpora.CoreCorpus()\n",
    "curr_corpus = music21.corpus.search('mozart', 'composer')\n",
    "\n",
    "scores = []\n",
    "for c in curr_corpus:\n",
    "    score = c.parse()\n",
    "    score = util.transpose_piece(score, 'C')\n",
    "    scores.append(score)"
   ]
  },
  {
   "cell_type": "code",
   "execution_count": null,
   "metadata": {
    "pycharm": {}
   },
   "outputs": [],
   "source": [
    "lakh_corpus = corpus.corpora.LocalCorpus('lakh')\n",
    "curr_corpus = lakh_corpus.metadataBundle\n",
    "\n",
    "scores = []\n",
    "for c in curr_corpus:\n",
    "    score = c.parse()\n",
    "    score = util.transpose_piece(score, 'C')\n",
    "    scores.append(score)"
   ]
  },
  {
   "cell_type": "code",
   "execution_count": null,
   "metadata": {},
   "outputs": [],
   "source": [
    "wiki_corpus = corpus.corpora.LocalCorpus('wiki')\n",
    "curr_corpus = wiki_corpus.metadataBundle\n",
    "\n",
    "scores = []\n",
    "for c in curr_corpus:\n",
    "    score = c.parse()\n",
    "    score = util.transpose_piece(score, 'C')\n",
    "    scores.append(score)"
   ]
  },
  {
   "cell_type": "code",
   "execution_count": 2,
   "metadata": {},
   "outputs": [
    {
     "name": "stdout",
     "output_type": "stream",
     "text": [
      "31\n"
     ]
    }
   ],
   "source": [
    "folk_corpus = corpus.getComposer('essenFolksong')\n",
    "scores = []\n",
    "for p in folk_corpus:\n",
    "    score = converter.parse(p)\n",
    "    score = util.transpose_piece(score, 'C')\n",
    "    scores.append(score)\n",
    "print(len(scores))"
   ]
  },
  {
   "cell_type": "code",
   "execution_count": null,
   "metadata": {},
   "outputs": [],
   "source": [
    "real_scores[0].metadata.title"
   ]
  },
  {
   "cell_type": "code",
   "execution_count": 57,
   "metadata": {},
   "outputs": [],
   "source": [
    "real_scores = []\n",
    "for s in scores:\n",
    "    if s is None:\n",
    "        continue\n",
    "    for p in s.scores:\n",
    "        if p is not None:\n",
    "            p_t = util.transpose_piece(p, 'C')\n",
    "            real_scores.append(p_t)\n",
    "    "
   ]
  },
  {
   "cell_type": "code",
   "execution_count": null,
   "metadata": {},
   "outputs": [],
   "source": [
    "notes = modelTrainer.flatten(modelTrainer.get_pitches_per_score(real_scores))"
   ]
  },
  {
   "cell_type": "code",
   "execution_count": null,
   "metadata": {},
   "outputs": [],
   "source": [
    "bigram = modelTrainer.get_probabilistic_matrix(modelTrainer.get_bigram_matrix(notes))"
   ]
  },
  {
   "cell_type": "code",
   "execution_count": null,
   "metadata": {},
   "outputs": [],
   "source": [
    "trigram = modelTrainer.get_probabilistic_matrix(modelTrainer.get_trigram_matrix(notes))"
   ]
  },
  {
   "cell_type": "code",
   "execution_count": null,
   "metadata": {},
   "outputs": [],
   "source": [
    "trigram.to_csv('./folk_trigram.csv')"
   ]
  },
  {
   "cell_type": "code",
   "execution_count": null,
   "metadata": {},
   "outputs": [],
   "source": [
    "bigram.to_csv('./folk_bigram.csv')"
   ]
  },
  {
   "cell_type": "code",
   "execution_count": null,
   "metadata": {},
   "outputs": [],
   "source": [
    "duration_matrix = modelTrainer.train_duration_matrix(real_scores)"
   ]
  },
  {
   "cell_type": "code",
   "execution_count": null,
   "metadata": {},
   "outputs": [],
   "source": [
    "duration_matrix.to_csv('./folk_duration_matrix.csv')"
   ]
  },
  {
   "cell_type": "code",
   "execution_count": null,
   "metadata": {},
   "outputs": [],
   "source": [
    "for n1_n2 in trigram:\n",
    "    total_count = sum(trigram[n1_n2])\n",
    "    for n3 in trigram[n1_n2].keys():\n",
    "        if trigram[n1_n2][n3] != 0.0:\n",
    "            trigram[n1_n2][n3] /= total_count\n"
   ]
  },
  {
   "cell_type": "code",
   "execution_count": null,
   "metadata": {},
   "outputs": [],
   "source": [
    "s = real_scores[0]\n",
    "notes = s.parts[0].getElementsByClass(stream.Measure).flat.notesAndRests\n",
    "for n in notes:\n",
    "    print(n.duration.type)"
   ]
  },
  {
   "cell_type": "code",
   "execution_count": 67,
   "metadata": {},
   "outputs": [],
   "source": [
    "import csv\n",
    "import os \n",
    "\n",
    "header = [\"I\", \"NAME\", \"COMPOSER\", \"FITNESS\", \"C_TONE\", \"C_TONE_B\", \"CADENCE\", \"L_NOTE\", \"I_RES\", \"L_INT\", \"L_DUR\",\n",
    "              \"CONS_R\", \"CONS_N\", \"PATTERN_D\", \"PATTERN_SD\"]\n",
    "file = f'./corpus-data-c.csv'\n",
    "counter = -1\n",
    "with open(file, mode='w', encoding=\"utf-8\") as f:\n",
    "    writer = csv.writer(f, delimiter=',', quotechar='\"', quoting=csv.QUOTE_MINIMAL, lineterminator = '\\n')\n",
    "    writer.writerow(header)\n",
    "    for s in real_scores:\n",
    "        counter += 1\n",
    "\n",
    "        if s is None:\n",
    "            continue\n",
    "        piece = musicPlayer.music21_score_to_individual(s)\n",
    "        if piece is None:\n",
    "            continue\n",
    "        row = [\n",
    "            counter,\n",
    "            s.metadata.title,\n",
    "            s.metadata.composer,\n",
    "            piece.fitness,\n",
    "            piece.fitnesses[\"C_TONE\"],\n",
    "            piece.fitnesses[\"C_TONE_B\"],\n",
    "            piece.fitnesses[\"CADENCE\"],\n",
    "            piece.fitnesses[\"L_NOTE\"],\n",
    "            piece.fitnesses[\"I_RES\"],\n",
    "            piece.fitnesses[\"L_INT\"],\n",
    "            piece.fitnesses[\"L_DUR\"],\n",
    "            piece.fitnesses[\"CONS_R\"],\n",
    "            piece.fitnesses[\"CONS_N\"],\n",
    "            piece.fitnesses[\"PATTERN_D\"],\n",
    "            piece.fitnesses[\"PATTERN_SD\"],\n",
    "        ]\n",
    "        writer.writerow(row)\n",
    "        "
   ]
  },
  {
   "cell_type": "code",
   "execution_count": null,
   "metadata": {},
   "outputs": [],
   "source": [
    "musicPlayer.play_music_xml(real_scores[654])"
   ]
  },
  {
   "cell_type": "code",
   "execution_count": 101,
   "metadata": {},
   "outputs": [
    {
     "data": {
      "text/plain": [
       "7652"
      ]
     },
     "execution_count": 101,
     "metadata": {},
     "output_type": "execute_result"
    }
   ],
   "source": [
    "len(real_scores)"
   ]
  },
  {
   "cell_type": "code",
   "execution_count": null,
   "metadata": {},
   "outputs": [],
   "source": [
    "for n in real_scores[654].parts[0].getElementsByClass(\"Note\"):\n",
    "    print(n)"
   ]
  },
  {
   "cell_type": "code",
   "execution_count": 56,
   "metadata": {},
   "outputs": [
    {
     "data": {
      "text/plain": [
       "<music21.key.Key of C major>"
      ]
     },
     "execution_count": 56,
     "metadata": {},
     "output_type": "execute_result"
    }
   ],
   "source": [
    "s = util.transpose_piece(real_scores[2200], 'C')\n",
    "s.analyze('key')"
   ]
  },
  {
   "cell_type": "code",
   "execution_count": 59,
   "metadata": {},
   "outputs": [],
   "source": [
    "ind = musicPlayer.music21_score_to_individual(real_scores[2200])\n",
    "ind.measures = ind.measures[1:13]\n",
    "initialisation.set_chords(ind)\n",
    "fitness.set_fitness(ind)"
   ]
  },
  {
   "cell_type": "code",
   "execution_count": 70,
   "metadata": {},
   "outputs": [
    {
     "data": {
      "text/plain": [
       "(C3, quarter)"
      ]
     },
     "execution_count": 70,
     "metadata": {},
     "output_type": "execute_result"
    }
   ],
   "source": [
    "ind.measures[-1].notes[0]"
   ]
  },
  {
   "cell_type": "code",
   "execution_count": 68,
   "metadata": {},
   "outputs": [],
   "source": [
    "musicPlayer.play([ind])"
   ]
  },
  {
   "cell_type": "code",
   "execution_count": 73,
   "metadata": {},
   "outputs": [
    {
     "data": {
      "text/plain": [
       "['C', 'E', 'G', 'B']"
      ]
     },
     "execution_count": 73,
     "metadata": {},
     "output_type": "execute_result"
    }
   ],
   "source": [
    "fitness.cadence(ind)"
   ]
  },
  {
   "cell_type": "code",
   "execution_count": 39,
   "metadata": {},
   "outputs": [
    {
     "data": {
      "text/plain": [
       "[<music21.stream.Measure 1 offset=1.5>,\n",
       " <music21.stream.Measure 2 offset=5.5>,\n",
       " <music21.stream.Measure 3 offset=9.5>,\n",
       " <music21.stream.Measure 4 offset=13.5>,\n",
       " <music21.stream.Measure 5 offset=17.5>,\n",
       " <music21.stream.Measure 6 offset=21.5>,\n",
       " <music21.stream.Measure 7 offset=25.5>,\n",
       " <music21.stream.Measure 8 offset=29.5>,\n",
       " <music21.stream.Measure 9 offset=33.5>,\n",
       " <music21.stream.Measure 10 offset=37.5>,\n",
       " <music21.stream.Measure 11 offset=41.5>]"
      ]
     },
     "execution_count": 39,
     "metadata": {},
     "output_type": "execute_result"
    }
   ],
   "source": [
    "real_scores[2200].parts[0].getElementsByClass(\"Measure\")[1:12]\n",
    "s = Score()"
   ]
  },
  {
   "cell_type": "code",
   "execution_count": null,
   "metadata": {},
   "outputs": [],
   "source": [
    "for i in range(len(individuals)):\n",
    "    print(f'Score {i}: {curr_corpus[i]}')\n",
    "    fitness.print_fitness_values(individuals[i])\n",
    "    print('-----------------')"
   ]
  },
  {
   "cell_type": "code",
   "execution_count": null,
   "metadata": {
    "pycharm": {}
   },
   "outputs": [],
   "source": [
    "score = music21.corpus.parse('joplin/maple_leaf_rag.mxl')\n",
    "scores = util.transpose_piece(score, 'C')\n",
    "scores = [scores]"
   ]
  },
  {
   "cell_type": "code",
   "execution_count": 58,
   "metadata": {
    "pycharm": {}
   },
   "outputs": [],
   "source": [
    "real_scores[2200].show('musicxml')"
   ]
  },
  {
   "cell_type": "markdown",
   "metadata": {},
   "source": [
    "Graf und Nonne\n",
    "i = 1600\n",
    "\"SUBRATER_TARGET_VALUE\": {\n",
    "  \"C_TONE\": 0.3339285714285714,\n",
    "  \"C_TONE_B\": -0.25,\n",
    "  \"CADENCE\": -1.0,\n",
    "  \"L_NOTE\": 0.06521739130434782,\n",
    "  \"I_RES\": 0.0,\n",
    "  \"L_INT\": -0.05714285714285714,\n",
    "  \"L_DUR\": -0.0,\n",
    "  \"CONS_R\": -0.125,\n",
    "  \"CONS_N\": 0.0,\n",
    "  \"PATTERN_D\": 0.35996190558334773,\n",
    "  \"PATTERN_SD\": 0.47017013853776923\n",
    "}\n",
    "\n",
    "SO OFT ICH MEINE TABACKSPFEIFE\n",
    "{'C_TONE': 0.6509920634920635,\n",
    " 'C_TONE_B': -0.125,\n",
    " 'CADENCE': -1.0,\n",
    " 'L_NOTE': 0.5882352941176471,\n",
    " 'I_RES': 0.08695652173913043,\n",
    " 'L_INT': 0.0,\n",
    " 'L_DUR': -0.014925373134328358,\n",
    " 'CONS_R': 0.0,\n",
    " 'CONS_N': -0.25545634920634924,\n",
    " 'PATTERN_D': 0.8006289208103725,\n",
    " 'PATTERN_SD': 0.8607966145638791}\n",
    " "
   ]
  },
  {
   "cell_type": "code",
   "execution_count": null,
   "metadata": {
    "pycharm": {}
   },
   "outputs": [],
   "source": [
    "dur_matrix = modelTrainer.train_duration_matrix(scores)\n",
    "pitch_matrix = modelTrainer.train_pitch_matrix(scores);"
   ]
  },
  {
   "cell_type": "code",
   "execution_count": null,
   "metadata": {
    "pycharm": {}
   },
   "outputs": [],
   "source": [
    "sim = simulation.Simulation(0.5, 100)\n",
    "population = sim.run_interactively()"
   ]
  },
  {
   "cell_type": "code",
   "execution_count": null,
   "metadata": {},
   "outputs": [],
   "source": [
    "sim.run(20, None, None)"
   ]
  },
  {
   "cell_type": "code",
   "execution_count": null,
   "metadata": {},
   "outputs": [],
   "source": [
    "sim.pitch_matrix"
   ]
  },
  {
   "cell_type": "code",
   "execution_count": null,
   "metadata": {
    "pycharm": {}
   },
   "outputs": [],
   "source": [
    "musicPlayer.play(population[0:4])"
   ]
  }
 ],
 "metadata": {
  "kernelspec": {
   "display_name": "Python 3",
   "language": "python",
   "name": "python3"
  },
  "language_info": {
   "codemirror_mode": {
    "name": "ipython",
    "version": 3
   },
   "file_extension": ".py",
   "mimetype": "text/x-python",
   "name": "python",
   "nbconvert_exporter": "python",
   "pygments_lexer": "ipython3",
   "version": "3.7.4"
  }
 },
 "nbformat": 4,
 "nbformat_minor": 4
}
