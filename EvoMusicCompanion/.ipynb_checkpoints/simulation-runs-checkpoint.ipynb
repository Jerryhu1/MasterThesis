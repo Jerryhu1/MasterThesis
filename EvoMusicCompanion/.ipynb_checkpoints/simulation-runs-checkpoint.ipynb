{
 "cells": [
  {
   "cell_type": "code",
   "execution_count": null,
   "metadata": {
    "pycharm": {}
   },
   "outputs": [],
   "source": [
    "from __future__ import print_function\n",
    "from music21 import *\n",
    "from collections import Counter, defaultdict\n",
    "from ea.individual import Measure, Individual, Note\n",
    "from ea.duration import Duration\n",
    "\n",
    "import ea.initialisation as initialisation\n",
    "import ea.modelTrainer as modelTrainer\n",
    "import ea.musicPlayer as musicPlayer\n",
    "import ea.simulation as simulation\n",
    "import ea.fitness as fitness\n",
    "import ea.mutation as mutation\n",
    "import collections\n",
    "import importlib\n",
    "import music21\n",
    "import numpy as np\n",
    "import pandas as pd\n",
    "import ea.individual as individual\n",
    "import ea.duration as duration\n",
    "import ea.constants as constants\n",
    "import ea.util as util\n",
    "import random\n",
    "import nltk\n",
    "import ea.fitness as fitness\n",
    "import re\n",
    "import ea.modelUpdater as modelUpdater\n"
   ]
  },
  {
   "cell_type": "code",
   "execution_count": 95,
   "metadata": {
    "pycharm": {}
   },
   "outputs": [
    {
     "data": {
      "text/plain": [
       "<module 'ea.modelUpdater' from 'B:\\\\School\\\\Master\\\\Thesis\\\\MasterThesis\\\\EvoMusicCompanion\\\\ea\\\\modelUpdater.py'>"
      ]
     },
     "execution_count": 95,
     "metadata": {},
     "output_type": "execute_result"
    }
   ],
   "source": [
    "importlib.reload(initialisation)\n",
    "importlib.reload(modelTrainer)\n",
    "importlib.reload(musicPlayer)\n",
    "importlib.reload(simulation)\n",
    "importlib.reload(mutation)\n",
    "importlib.reload(fitness)\n",
    "importlib.reload(constants)\n",
    "importlib.reload(util)\n",
    "importlib.reload(individual)\n",
    "importlib.reload(fitness)\n",
    "importlib.reload(modelUpdater)"
   ]
  },
  {
   "cell_type": "markdown",
   "metadata": {},
   "source": [
    "## Get corpus"
   ]
  },
  {
   "cell_type": "code",
   "execution_count": null,
   "metadata": {
    "pycharm": {}
   },
   "outputs": [],
   "source": [
    "coreCorpus = music21.corpus.corpora.CoreCorpus()\n",
    "curr_corpus = music21.corpus.search('mozart', 'composer')\n",
    "\n",
    "scores = []\n",
    "for c in curr_corpus:\n",
    "    score = c.parse()\n",
    "    score = util.transpose_piece(score, 'C')\n",
    "    scores.append(score)"
   ]
  },
  {
   "cell_type": "code",
   "execution_count": null,
   "metadata": {
    "pycharm": {}
   },
   "outputs": [],
   "source": [
    "lakh_corpus = corpus.corpora.LocalCorpus('lakh')\n",
    "curr_corpus = lakh_corpus.metadataBundle\n",
    "\n",
    "scores = []\n",
    "for c in curr_corpus:\n",
    "    score = c.parse()\n",
    "    score = util.transpose_piece(score, 'C')\n",
    "    scores.append(score)"
   ]
  },
  {
   "cell_type": "code",
   "execution_count": null,
   "metadata": {},
   "outputs": [],
   "source": [
    "wiki_corpus = corpus.corpora.LocalCorpus('wiki')\n",
    "curr_corpus = wiki_corpus.metadataBundle\n",
    "\n",
    "scores = []\n",
    "for c in curr_corpus:\n",
    "    score = c.parse()\n",
    "    score = util.transpose_piece(score, 'C')\n",
    "    scores.append(score)"
   ]
  },
  {
   "cell_type": "code",
   "execution_count": null,
   "metadata": {},
   "outputs": [],
   "source": [
    "folk_corpus = corpus.getComposer('essenFolksong')\n",
    "scores = []\n",
    "for p in folk_corpus:\n",
    "    score = converter.parse(p)\n",
    "    score = util.transpose_piece(score, 'C')\n",
    "    scores.append(score)\n",
    "print(len(scores))"
   ]
  },
  {
   "cell_type": "code",
   "execution_count": null,
   "metadata": {},
   "outputs": [],
   "source": [
    "real_scores[0].metadata.title"
   ]
  },
  {
   "cell_type": "code",
   "execution_count": null,
   "metadata": {},
   "outputs": [],
   "source": [
    "real_scores = []\n",
    "for s in scores:\n",
    "    if s is None:\n",
    "        continue\n",
    "    for p in s.scores:\n",
    "        if p is not None:\n",
    "            real_scores.append(p)\n",
    "    "
   ]
  },
  {
   "cell_type": "code",
   "execution_count": null,
   "metadata": {},
   "outputs": [],
   "source": [
    "notes = modelTrainer.flatten(modelTrainer.get_pitches_per_score(real_scores))"
   ]
  },
  {
   "cell_type": "code",
   "execution_count": null,
   "metadata": {},
   "outputs": [],
   "source": [
    "bigram = modelTrainer.get_probabilistic_matrix(modelTrainer.get_bigram_matrix(notes))"
   ]
  },
  {
   "cell_type": "code",
   "execution_count": null,
   "metadata": {},
   "outputs": [],
   "source": [
    "trigram = modelTrainer.get_probabilistic_matrix(modelTrainer.get_trigram_matrix(notes))"
   ]
  },
  {
   "cell_type": "code",
   "execution_count": null,
   "metadata": {},
   "outputs": [],
   "source": [
    "trigram.to_csv('./folk_trigram.csv')"
   ]
  },
  {
   "cell_type": "code",
   "execution_count": null,
   "metadata": {},
   "outputs": [],
   "source": [
    "bigram.to_csv('./folk_bigram.csv')"
   ]
  },
  {
   "cell_type": "code",
   "execution_count": null,
   "metadata": {},
   "outputs": [],
   "source": [
    "duration_matrix = modelTrainer.train_duration_matrix(real_scores)"
   ]
  },
  {
   "cell_type": "code",
   "execution_count": null,
   "metadata": {},
   "outputs": [],
   "source": [
    "duration_matrix.to_csv('./folk_duration_matrix.csv')"
   ]
  },
  {
   "cell_type": "code",
   "execution_count": null,
   "metadata": {},
   "outputs": [],
   "source": [
    "for n1_n2 in trigram:\n",
    "    total_count = sum(trigram[n1_n2])\n",
    "    for n3 in trigram[n1_n2].keys():\n",
    "        if trigram[n1_n2][n3] != 0.0:\n",
    "            trigram[n1_n2][n3] /= total_count\n"
   ]
  },
  {
   "cell_type": "code",
   "execution_count": null,
   "metadata": {},
   "outputs": [],
   "source": [
    "s = real_scores[0]\n",
    "notes = s.parts[0].getElementsByClass(stream.Measure).flat.notesAndRests\n",
    "for n in notes:\n",
    "    print(n.duration.type)"
   ]
  },
  {
   "cell_type": "code",
   "execution_count": 96,
   "metadata": {},
   "outputs": [
    {
     "ename": "UnicodeEncodeError",
     "evalue": "'charmap' codec can't encode character '\\x81' in position 25: character maps to <undefined>",
     "output_type": "error",
     "traceback": [
      "\u001b[1;31m---------------------------------------------------------------------------\u001b[0m",
      "\u001b[1;31mUnicodeEncodeError\u001b[0m                        Traceback (most recent call last)",
      "\u001b[1;32m<ipython-input-96-c4f24379b8d2>\u001b[0m in \u001b[0;36m<module>\u001b[1;34m\u001b[0m\n\u001b[0;32m     30\u001b[0m             \u001b[0mpiece\u001b[0m\u001b[1;33m.\u001b[0m\u001b[0mfitnesses\u001b[0m\u001b[1;33m[\u001b[0m\u001b[1;34m\"PATTERN_SD\"\u001b[0m\u001b[1;33m]\u001b[0m\u001b[1;33m,\u001b[0m\u001b[1;33m\u001b[0m\u001b[1;33m\u001b[0m\u001b[0m\n\u001b[0;32m     31\u001b[0m         ]\n\u001b[1;32m---> 32\u001b[1;33m         \u001b[0mwriter\u001b[0m\u001b[1;33m.\u001b[0m\u001b[0mwriterow\u001b[0m\u001b[1;33m(\u001b[0m\u001b[0mrow\u001b[0m\u001b[1;33m)\u001b[0m\u001b[1;33m\u001b[0m\u001b[1;33m\u001b[0m\u001b[0m\n\u001b[0m\u001b[0;32m     33\u001b[0m         \u001b[0mcounter\u001b[0m \u001b[1;33m+=\u001b[0m \u001b[1;36m1\u001b[0m\u001b[1;33m\u001b[0m\u001b[1;33m\u001b[0m\u001b[0m\n\u001b[0;32m     34\u001b[0m \u001b[1;33m\u001b[0m\u001b[0m\n",
      "\u001b[1;32mb:\\program files\\python\\lib\\encodings\\cp1252.py\u001b[0m in \u001b[0;36mencode\u001b[1;34m(self, input, final)\u001b[0m\n\u001b[0;32m     17\u001b[0m \u001b[1;32mclass\u001b[0m \u001b[0mIncrementalEncoder\u001b[0m\u001b[1;33m(\u001b[0m\u001b[0mcodecs\u001b[0m\u001b[1;33m.\u001b[0m\u001b[0mIncrementalEncoder\u001b[0m\u001b[1;33m)\u001b[0m\u001b[1;33m:\u001b[0m\u001b[1;33m\u001b[0m\u001b[1;33m\u001b[0m\u001b[0m\n\u001b[0;32m     18\u001b[0m     \u001b[1;32mdef\u001b[0m \u001b[0mencode\u001b[0m\u001b[1;33m(\u001b[0m\u001b[0mself\u001b[0m\u001b[1;33m,\u001b[0m \u001b[0minput\u001b[0m\u001b[1;33m,\u001b[0m \u001b[0mfinal\u001b[0m\u001b[1;33m=\u001b[0m\u001b[1;32mFalse\u001b[0m\u001b[1;33m)\u001b[0m\u001b[1;33m:\u001b[0m\u001b[1;33m\u001b[0m\u001b[1;33m\u001b[0m\u001b[0m\n\u001b[1;32m---> 19\u001b[1;33m         \u001b[1;32mreturn\u001b[0m \u001b[0mcodecs\u001b[0m\u001b[1;33m.\u001b[0m\u001b[0mcharmap_encode\u001b[0m\u001b[1;33m(\u001b[0m\u001b[0minput\u001b[0m\u001b[1;33m,\u001b[0m\u001b[0mself\u001b[0m\u001b[1;33m.\u001b[0m\u001b[0merrors\u001b[0m\u001b[1;33m,\u001b[0m\u001b[0mencoding_table\u001b[0m\u001b[1;33m)\u001b[0m\u001b[1;33m[\u001b[0m\u001b[1;36m0\u001b[0m\u001b[1;33m]\u001b[0m\u001b[1;33m\u001b[0m\u001b[1;33m\u001b[0m\u001b[0m\n\u001b[0m\u001b[0;32m     20\u001b[0m \u001b[1;33m\u001b[0m\u001b[0m\n\u001b[0;32m     21\u001b[0m \u001b[1;32mclass\u001b[0m \u001b[0mIncrementalDecoder\u001b[0m\u001b[1;33m(\u001b[0m\u001b[0mcodecs\u001b[0m\u001b[1;33m.\u001b[0m\u001b[0mIncrementalDecoder\u001b[0m\u001b[1;33m)\u001b[0m\u001b[1;33m:\u001b[0m\u001b[1;33m\u001b[0m\u001b[1;33m\u001b[0m\u001b[0m\n",
      "\u001b[1;31mUnicodeEncodeError\u001b[0m: 'charmap' codec can't encode character '\\x81' in position 25: character maps to <undefined>"
     ]
    }
   ],
   "source": [
    "import csv\n",
    "import os \n",
    "\n",
    "header = [\"I\", \"NAME\", \"COMPOSER\", \"FITNESS\", \"C_TONE\", \"C_TONE_B\", \"CADENCE\", \"L_NOTE\", \"I_RES\", \"L_INT\", \"L_DUR\",\n",
    "              \"CONS_R\", \"CONS_N\", \"PATTERN_D\", \"PATTERN_SD\"]\n",
    "file = f'./corpus-data.csv'\n",
    "counter = 1\n",
    "with open(file, mode='w') as f:\n",
    "    writer = csv.writer(f, delimiter=',', quotechar='\"', encoding=\"utf-8\", quoting=csv.QUOTE_MINIMAL, lineterminator = '\\n')\n",
    "    writer.writerow(header)\n",
    "    for s in real_scores:\n",
    "        piece = musicPlayer.music21_score_to_individual(s)\n",
    "        if piece is None:\n",
    "            continue\n",
    "        row = [\n",
    "            counter,\n",
    "            s.metadata.title,\n",
    "            s.metadata.composer,\n",
    "            piece.fitness,\n",
    "            piece.fitnesses[\"C_TONE\"],\n",
    "            piece.fitnesses[\"C_TONE_B\"],\n",
    "            piece.fitnesses[\"CADENCE\"],\n",
    "            piece.fitnesses[\"L_NOTE\"],\n",
    "            piece.fitnesses[\"I_RES\"],\n",
    "            piece.fitnesses[\"L_INT\"],\n",
    "            piece.fitnesses[\"L_DUR\"],\n",
    "            piece.fitnesses[\"CONS_R\"],\n",
    "            piece.fitnesses[\"CONS_N\"],\n",
    "            piece.fitnesses[\"PATTERN_D\"],\n",
    "            piece.fitnesses[\"PATTERN_SD\"],\n",
    "        ]\n",
    "        writer.writerow(row)\n",
    "        counter += 1\n",
    "        "
   ]
  },
  {
   "cell_type": "code",
   "execution_count": null,
   "metadata": {},
   "outputs": [],
   "source": [
    "musicPlayer.play_music_xml(real_scores[654])"
   ]
  },
  {
   "cell_type": "code",
   "execution_count": null,
   "metadata": {},
   "outputs": [],
   "source": [
    "for n in real_scores[654].parts[0].getElementsByClass(\"Note\"):\n",
    "    print(n)"
   ]
  },
  {
   "cell_type": "code",
   "execution_count": null,
   "metadata": {},
   "outputs": [],
   "source": [
    "musicPlayer.music21_score_to_individual(real_scores[654])"
   ]
  },
  {
   "cell_type": "code",
   "execution_count": null,
   "metadata": {},
   "outputs": [],
   "source": [
    "for i in real_scores[654].parts[0].getElementsByClass(\"Note\"):\n",
    "    print(i)"
   ]
  },
  {
   "cell_type": "code",
   "execution_count": null,
   "metadata": {},
   "outputs": [],
   "source": [
    "for i in range(len(individuals)):\n",
    "    print(f'Score {i}: {curr_corpus[i]}')\n",
    "    fitness.print_fitness_values(individuals[i])\n",
    "    print('-----------------')"
   ]
  },
  {
   "cell_type": "code",
   "execution_count": null,
   "metadata": {
    "pycharm": {}
   },
   "outputs": [],
   "source": [
    "score = music21.corpus.parse('joplin/maple_leaf_rag.mxl')\n",
    "scores = util.transpose_piece(score, 'C')\n",
    "scores = [scores]"
   ]
  },
  {
   "cell_type": "code",
   "execution_count": 98,
   "metadata": {
    "pycharm": {}
   },
   "outputs": [],
   "source": [
    "real_scores[999].show('musicxml')"
   ]
  },
  {
   "cell_type": "code",
   "execution_count": null,
   "metadata": {
    "pycharm": {}
   },
   "outputs": [],
   "source": [
    "dur_matrix = modelTrainer.train_duration_matrix(scores)\n",
    "pitch_matrix = modelTrainer.train_pitch_matrix(scores);"
   ]
  },
  {
   "cell_type": "code",
   "execution_count": null,
   "metadata": {
    "pycharm": {}
   },
   "outputs": [],
   "source": [
    "sim = simulation.Simulation(0.5, 100)\n",
    "population = sim.run_interactively()"
   ]
  },
  {
   "cell_type": "code",
   "execution_count": null,
   "metadata": {},
   "outputs": [],
   "source": [
    "sim.run(20, None, None)"
   ]
  },
  {
   "cell_type": "code",
   "execution_count": null,
   "metadata": {},
   "outputs": [],
   "source": [
    "sim.pitch_matrix"
   ]
  },
  {
   "cell_type": "code",
   "execution_count": null,
   "metadata": {
    "pycharm": {}
   },
   "outputs": [],
   "source": [
    "musicPlayer.play(population[0:4])"
   ]
  }
 ],
 "metadata": {
  "kernelspec": {
   "display_name": "Python 3",
   "language": "python",
   "name": "python3"
  },
  "language_info": {
   "codemirror_mode": {
    "name": "ipython",
    "version": 3
   },
   "file_extension": ".py",
   "mimetype": "text/x-python",
   "name": "python",
   "nbconvert_exporter": "python",
   "pygments_lexer": "ipython3",
   "version": "3.7.4"
  }
 },
 "nbformat": 4,
 "nbformat_minor": 4
}
