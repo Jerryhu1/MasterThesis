{
 "cells": [
  {
   "cell_type": "code",
   "execution_count": 1,
   "metadata": {
    "pycharm": {}
   },
   "outputs": [
    {
     "name": "stderr",
     "output_type": "stream",
     "text": [
      "music21: Certain music21 functions might need the optional package matplotlib;\n",
      "                  if you run into errors, install it by following the instructions at\n",
      "                  http://mit.edu/music21/doc/installing/installAdditional.html\n"
     ]
    }
   ],
   "source": [
    "from __future__ import print_function\n",
    "from music21 import *\n",
    "from collections import Counter, defaultdict\n",
    "from ea.individual import Measure, Individual, Note\n",
    "from ea.duration import Duration\n",
    "\n",
    "import ea.initialisation as initialisation\n",
    "import ea.modelTrainer as modelTrainer\n",
    "import ea.musicPlayer as musicPlayer\n",
    "import ea.simulation as simulation\n",
    "import ea.fitness as fitness\n",
    "import collections\n",
    "import importlib\n",
    "import music21\n",
    "import numpy as np\n",
    "import pandas as pd\n",
    "import ea.individual as individual\n",
    "import ea.duration as duration\n",
    "import ea.constants as constants\n",
    "import ea.util as util\n",
    "import random\n",
    "import nltk\n",
    "import ea.fitness as fitness\n",
    "import re\n",
    "import ea.modelUpdater as modelUpdater\n"
   ]
  },
  {
   "cell_type": "code",
   "execution_count": null,
   "metadata": {},
   "outputs": [],
   "source": [
    "notes = ['C#4', 'D4', 'E4']\n",
    "map(lambda x: re.sub('\\d+', '', x)"
   ]
  },
  {
   "cell_type": "code",
   "execution_count": 1,
   "metadata": {},
   "outputs": [
    {
     "data": {
      "text/plain": [
       "[1, 2, 3]"
      ]
     },
     "execution_count": 1,
     "metadata": {},
     "output_type": "execute_result"
    }
   ],
   "source": [
    "test = [1,2,3,4,5]\n",
    "k = 3\n",
    "test[1:3]"
   ]
  },
  {
   "cell_type": "code",
   "execution_count": 33,
   "metadata": {
    "pycharm": {}
   },
   "outputs": [
    {
     "data": {
      "text/plain": [
       "<module 'ea.modelUpdater' from 'B:\\\\School\\\\Master\\\\Thesis\\\\MasterThesis\\\\EvoMusicCompanion\\\\ea\\\\modelUpdater.py'>"
      ]
     },
     "execution_count": 33,
     "metadata": {},
     "output_type": "execute_result"
    }
   ],
   "source": [
    "importlib.reload(initialisation)\n",
    "importlib.reload(modelTrainer)\n",
    "importlib.reload(musicPlayer)\n",
    "importlib.reload(simulation)\n",
    "importlib.reload(fitness)\n",
    "importlib.reload(constants)\n",
    "importlib.reload(util)\n",
    "importlib.reload(individual)\n",
    "importlib.reload(fitness)\n",
    "importlib.reload(modelUpdater)"
   ]
  },
  {
   "cell_type": "code",
   "execution_count": null,
   "metadata": {},
   "outputs": [],
   "source": [
    "from ea.individual import Note, Measure, Individual"
   ]
  },
  {
   "cell_type": "code",
   "execution_count": null,
   "metadata": {
    "pycharm": {}
   },
   "outputs": [],
   "source": [
    "len(scores)"
   ]
  },
  {
   "cell_type": "markdown",
   "metadata": {},
   "source": [
    "## Get corpus"
   ]
  },
  {
   "cell_type": "code",
   "execution_count": null,
   "metadata": {
    "pycharm": {}
   },
   "outputs": [],
   "source": [
    "coreCorpus = music21.corpus.corpora.CoreCorpus()\n",
    "curr_corpus = music21.corpus.search('mozart', 'composer')\n",
    "\n",
    "scores = []\n",
    "for c in curr_corpus:\n",
    "    score = c.parse()\n",
    "    score = util.transpose_piece(score, 'C')\n",
    "    scores.append(score)"
   ]
  },
  {
   "cell_type": "code",
   "execution_count": null,
   "metadata": {
    "pycharm": {}
   },
   "outputs": [],
   "source": [
    "lakh_corpus = corpus.corpora.LocalCorpus('lakh')\n",
    "curr_corpus = lakh_corpus.metadataBundle[0:1006]\n",
    "\n",
    "scores = []\n",
    "for c in curr_corpus:\n",
    "    score = c.parse()\n",
    "    score = util.transpose_piece(score, 'C')\n",
    "    scores.append(score)"
   ]
  },
  {
   "cell_type": "code",
   "execution_count": 2,
   "metadata": {},
   "outputs": [],
   "source": [
    "wiki_corpus = corpus.corpora.LocalCorpus('wiki')\n",
    "curr_corpus = wiki_corpus.metadataBundle[0:20]\n",
    "\n",
    "scores = []\n",
    "for c in curr_corpus:\n",
    "    score = c.parse()\n",
    "    score = util.transpose_piece(score, 'C')\n",
    "    scores.append(score)"
   ]
  },
  {
   "cell_type": "code",
   "execution_count": 65,
   "metadata": {},
   "outputs": [
    {
     "data": {
      "text/plain": [
       "<music21.note.Note D>"
      ]
     },
     "execution_count": 65,
     "metadata": {},
     "output_type": "execute_result"
    }
   ],
   "source": [
    "dMaj = chord.Chord(['D', 'F#', 'A'])\n",
    "dMaj[0]"
   ]
  },
  {
   "cell_type": "code",
   "execution_count": 71,
   "metadata": {},
   "outputs": [
    {
     "name": "stdout",
     "output_type": "stream",
     "text": [
      "<music21.note.Rest rest>\n",
      "<music21.note.Rest rest>\n",
      "<music21.note.Rest rest>\n",
      "<music21.note.Rest rest>\n",
      "<music21.note.Rest rest>\n",
      "<music21.note.Rest rest>\n",
      "<music21.harmony.ChordSymbol D>\n",
      "<music21.note.Note D>\n",
      "<music21.note.Note D>\n",
      "<music21.harmony.ChordSymbol G>\n",
      "<music21.note.Note G>\n",
      "<music21.note.Note G>\n",
      "<music21.note.Note G>\n",
      "<music21.note.Note G>\n",
      "<music21.note.Note G>\n",
      "<music21.note.Note D>\n",
      "<music21.note.Note D>\n",
      "<music21.note.Note D>\n",
      "<music21.harmony.ChordSymbol C>\n",
      "<music21.note.Note E>\n",
      "<music21.note.Note G>\n",
      "<music21.note.Note G>\n",
      "<music21.note.Note E>\n",
      "<music21.note.Note E>\n",
      "<music21.harmony.ChordSymbol G>\n",
      "<music21.note.Note D>\n",
      "<music21.note.Note D>\n",
      "<music21.note.Note D>\n",
      "<music21.note.Note G>\n",
      "<music21.note.Note G>\n",
      "<music21.harmony.ChordSymbol C>\n",
      "<music21.note.Note G>\n",
      "<music21.note.Note E>\n",
      "<music21.harmony.ChordSymbol G>\n",
      "<music21.note.Note D>\n",
      "<music21.note.Note B>\n",
      "<music21.note.Note B>\n",
      "<music21.note.Note D>\n",
      "<music21.harmony.ChordSymbol Am>\n",
      "<music21.note.Note A>\n",
      "<music21.note.Note C>\n",
      "<music21.note.Note E>\n",
      "<music21.harmony.ChordSymbol D>\n",
      "<music21.note.Note D>\n",
      "<music21.note.Note D>\n",
      "<music21.harmony.ChordSymbol D7>\n",
      "<music21.note.Note D>\n",
      "<music21.harmony.ChordSymbol G>\n",
      "<music21.note.Note G>\n",
      "<music21.note.Note G>\n",
      "<music21.note.Note G>\n",
      "<music21.note.Note G>\n",
      "<music21.note.Note G>\n",
      "<music21.note.Note D>\n",
      "<music21.note.Note D>\n",
      "<music21.note.Note D>\n",
      "<music21.harmony.ChordSymbol C>\n",
      "<music21.note.Note E>\n",
      "<music21.note.Note D#>\n",
      "<music21.note.Note E>\n",
      "<music21.note.Note F#>\n",
      "<music21.note.Note G>\n",
      "<music21.note.Note E>\n",
      "<music21.note.Note F#>\n",
      "<music21.note.Note G>\n",
      "<music21.note.Note G>\n",
      "<music21.note.Note F#>\n",
      "<music21.note.Note E>\n",
      "<music21.harmony.ChordSymbol G>\n",
      "<music21.note.Note D>\n",
      "<music21.note.Note G>\n",
      "<music21.note.Note G>\n",
      "<music21.harmony.ChordSymbol D>\n",
      "<music21.note.Note F#>\n",
      "<music21.note.Note F#>\n",
      "<music21.harmony.ChordSymbol G>\n",
      "<music21.note.Note G>\n",
      "<music21.harmony.ChordSymbol C/G>\n",
      "<music21.note.Note G>\n",
      "<music21.harmony.ChordSymbol G>\n",
      "<music21.note.Note G>\n",
      "<music21.harmony.ChordSymbol G>\n",
      "<music21.note.Note G>\n",
      "<music21.harmony.ChordSymbol C/G>\n",
      "<music21.note.Note G>\n",
      "<music21.harmony.ChordSymbol G>\n",
      "<music21.note.Note G>\n",
      "<music21.note.Rest rest>\n",
      "<music21.note.Rest rest>\n",
      "<music21.note.Rest rest>\n"
     ]
    }
   ],
   "source": [
    "individuals = []\n",
    "\n",
    "for s in scores[0:1]:\n",
    "    for p in s.parts:\n",
    "        measures = p.getElementsByClass(stream.Measure)\n",
    "        new_measures = []\n",
    "        counter = 1\n",
    "        for m in range(len(measures)):\n",
    "            notes = []\n",
    "            new_measure = individual.Measure([], 0, [])\n",
    "            m_notes = measures[m].notesAndRests\n",
    "            for n in m_notes:\n",
    "                if n.isRest:\n",
    "                    if n.duration.type == 'whole':\n",
    "                        continue\n",
    "                    pitch_name = 'REST'\n",
    "                elif n.isChord:\n",
    "                    root = n.root()\n",
    "                    if root is None:\n",
    "                        pitch_name = n[0].nameWithOctave\n",
    "                        continue\n",
    "                    pitch_name = n.root().nameWithOctave\n",
    "                else:\n",
    "                    pitch_name = n.nameWithOctave\n",
    "                    if '-' in pitch_name or '##' in pitch_name:\n",
    "                        pitch_name = n.pitch.getEnharmonic().nameWithOctave\n",
    "                dur = duration.Duration(n.duration.type, None)\n",
    "                new_note = individual.Note(pitch_name, dur)\n",
    "                new_measure.notes.append(new_note)\n",
    "            new_measures.append(new_measure)\n",
    "    indiv = individual.Individual(new_measures, 0.0)\n",
    "    individuals.append(indiv)\n",
    "individuals = initialisation.set_chords_for_population(individuals)"
   ]
  },
  {
   "cell_type": "code",
   "execution_count": 69,
   "metadata": {},
   "outputs": [],
   "source": [
    "musicPlayer.play_music_xml([individuals[0]])"
   ]
  },
  {
   "cell_type": "code",
   "execution_count": 61,
   "metadata": {},
   "outputs": [
    {
     "name": "stdout",
     "output_type": "stream",
     "text": [
      "pygame 1.9.6\n",
      "Hello from the pygame community. https://www.pygame.org/contribute.html\n"
     ]
    }
   ],
   "source": [
    "musicPlayer.play([individuals[0]])"
   ]
  },
  {
   "cell_type": "code",
   "execution_count": 58,
   "metadata": {},
   "outputs": [
    {
     "name": "stdout",
     "output_type": "stream",
     "text": [
      "Score: <music21.metadata.bundles.MetadataEntry: B:\\_School_Master_Thesis_MasterThesis_EvoMusicCompanion_midi_wikifonia_(Unknown) Arrangement Larry Johnson 2011 - I'm Too Far From Where I Started_mxl>\n",
      "Interval pattern fitness: 0.04\n",
      "Duration pattern fitness: 0.38636363636363635\n",
      "Chord tone beat fitness: -0.06\n",
      "Chord tone fitness: 0.43123809523809525\n",
      "Last note fitness: 0\n",
      "Long note fitness: 0.0\n",
      "Interval size fitness: -1.2345679012345678\n",
      "Consecutive rests fitness: -7.0\n",
      "Interval resolution fitness: 0.0\n",
      "Total fitness: 0.0\n",
      "-----------------\n",
      "Score: <music21.metadata.bundles.MetadataEntry: B:\\_School_Master_Thesis_MasterThesis_EvoMusicCompanion_midi_wikifonia_& Nobel Prize Winner), Charles Gate Dawes (V_P_ of U_S_A_, Carl Sigman - It's All In The Game_mxl>\n",
      "Interval pattern fitness: 0.2701612903225806\n",
      "Duration pattern fitness: 2.111111111111111\n",
      "Chord tone beat fitness: 0.12903225806451613\n",
      "Chord tone fitness: 0.5877624167946749\n",
      "Last note fitness: 0\n",
      "Long note fitness: 0.3870967741935484\n",
      "Interval size fitness: -1.2622950819672132\n",
      "Consecutive rests fitness: -2.0\n",
      "Interval resolution fitness: 0.0\n",
      "Total fitness: 0.0\n",
      "-----------------\n",
      "Score: <music21.metadata.bundles.MetadataEntry: B:\\_School_Master_Thesis_MasterThesis_EvoMusicCompanion_midi_wikifonia_(unknown) Maranatha Music Arrangement_ Larry Johnson 2011 - In His Time_mxl>\n",
      "Interval pattern fitness: 0.20426829268292684\n",
      "Duration pattern fitness: 2.0445859872611467\n",
      "Chord tone beat fitness: 0.2073170731707317\n",
      "Chord tone fitness: 0.625725900116144\n",
      "Last note fitness: 0\n",
      "Long note fitness: 0.7317073170731707\n",
      "Interval size fitness: -1.3835616438356164\n",
      "Consecutive rests fitness: -11.0\n",
      "Interval resolution fitness: 0.017857142857142856\n",
      "Total fitness: 0.0\n",
      "-----------------\n",
      "Score: <music21.metadata.bundles.MetadataEntry: B:\\_School_Master_Thesis_MasterThesis_EvoMusicCompanion_midi_wikifonia_1952, Jerry Lieber & Mike Stoller - Kansas City_mxl>\n",
      "Interval pattern fitness: 5.734166666666667\n",
      "Duration pattern fitness: 2.5291479820627805\n",
      "Chord tone beat fitness: 0.02\n",
      "Chord tone fitness: 0.48950793650793645\n",
      "Last note fitness: 1.0\n",
      "Long note fitness: -0.36\n",
      "Interval size fitness: -1.0956072351421189\n",
      "Consecutive rests fitness: -14.0\n",
      "Interval resolution fitness: 0.0\n",
      "Total fitness: 0.0\n",
      "-----------------\n",
      "Score: <music21.metadata.bundles.MetadataEntry: B:\\_School_Master_Thesis_MasterThesis_EvoMusicCompanion_midi_wikifonia_3+2 - Kombine_mxl>\n",
      "Interval pattern fitness: 0\n",
      "Duration pattern fitness: 0.82\n",
      "Chord tone beat fitness: 0.038461538461538464\n",
      "Chord tone fitness: 0.44358974358974357\n",
      "Last note fitness: 0\n",
      "Long note fitness: -0.3076923076923077\n",
      "Interval size fitness: -1.1875\n",
      "Consecutive rests fitness: -1.0\n",
      "Interval resolution fitness: 0.0\n",
      "Total fitness: 0.0\n",
      "-----------------\n",
      "Score: <music21.metadata.bundles.MetadataEntry: B:\\_School_Master_Thesis_MasterThesis_EvoMusicCompanion_midi_wikifonia_1957, V_ B_ Ellis & William F_ Lakey - Do You Know My Jesus__mxl>\n",
      "Interval pattern fitness: 5.5546875\n",
      "Duration pattern fitness: 3.8786764705882355\n",
      "Chord tone beat fitness: -0.3701923076923077\n",
      "Chord tone fitness: 0.24278846153846154\n",
      "Last note fitness: 0\n",
      "Long note fitness: -0.7307692307692307\n",
      "Interval size fitness: -1.2988505747126438\n",
      "Consecutive rests fitness: -9.5\n",
      "Interval resolution fitness: 0.0\n",
      "Total fitness: 0.0\n",
      "-----------------\n",
      "Score: <music21.metadata.bundles.MetadataEntry: B:\\_School_Master_Thesis_MasterThesis_EvoMusicCompanion_midi_wikifonia_1976, Bob McGee - Emmanuel_mxl>\n",
      "Interval pattern fitness: 3.216666666666667\n",
      "Duration pattern fitness: 2.435064935064935\n",
      "Chord tone beat fitness: 0.23333333333333334\n",
      "Chord tone fitness: 0.7251587301587302\n",
      "Last note fitness: 0\n",
      "Long note fitness: 1.2666666666666666\n",
      "Interval size fitness: -1.4248366013071896\n",
      "Consecutive rests fitness: -0.5\n",
      "Interval resolution fitness: 0.0\n",
      "Total fitness: 0.0\n",
      "-----------------\n",
      "Score: <music21.metadata.bundles.MetadataEntry: B:\\_School_Master_Thesis_MasterThesis_EvoMusicCompanion_midi_wikifonia__ - Why Don't You Believe me__mxl>\n",
      "Interval pattern fitness: 0.03333333333333333\n",
      "Duration pattern fitness: 2.8551724137931034\n",
      "Chord tone beat fitness: -0.06666666666666667\n",
      "Chord tone fitness: 0.29440476190476184\n",
      "Last note fitness: 0\n",
      "Long note fitness: -1.5666666666666667\n",
      "Interval size fitness: -1.3432835820895521\n",
      "Consecutive rests fitness: -5.5\n",
      "Interval resolution fitness: 0.0\n",
      "Total fitness: 0.0\n",
      "-----------------\n",
      "Score: <music21.metadata.bundles.MetadataEntry: B:\\_School_Master_Thesis_MasterThesis_EvoMusicCompanion_midi_wikifonia__Louis Armstrong, kenny ball - Someday You'll Be Sorry_mxl>\n",
      "Interval pattern fitness: 0\n",
      "Duration pattern fitness: 0.813953488372093\n",
      "Chord tone beat fitness: -0.16666666666666666\n",
      "Chord tone fitness: 0.385930735930736\n",
      "Last note fitness: 0\n",
      "Long note fitness: -0.9393939393939394\n",
      "Interval size fitness: -1.2583333333333333\n",
      "Consecutive rests fitness: -4.5\n",
      "Interval resolution fitness: 0.0\n",
      "Total fitness: 0.0\n",
      "-----------------\n",
      "Score: <music21.metadata.bundles.MetadataEntry: B:\\_School_Master_Thesis_MasterThesis_EvoMusicCompanion_midi_wikifonia_A-Ha - Take On Me_mxl>\n",
      "Interval pattern fitness: 0.023809523809523808\n",
      "Duration pattern fitness: 1.2191780821917808\n",
      "Chord tone beat fitness: 0.21428571428571427\n",
      "Chord tone fitness: 0.5476190476190477\n",
      "Last note fitness: 0\n",
      "Long note fitness: -0.23809523809523808\n",
      "Interval size fitness: -1.2166666666666668\n",
      "Consecutive rests fitness: -16.5\n",
      "Interval resolution fitness: 0.0375\n",
      "Total fitness: 0.0\n",
      "-----------------\n",
      "Score: <music21.metadata.bundles.MetadataEntry: B:\\_School_Master_Thesis_MasterThesis_EvoMusicCompanion_midi_wikifonia_A_ Kraamer - Happy Holiday_mxl>\n",
      "Interval pattern fitness: 0.3805147058823529\n",
      "Duration pattern fitness: 1.8176100628930818\n",
      "Chord tone beat fitness: 0.058823529411764705\n",
      "Chord tone fitness: 0.5054621848739496\n",
      "Last note fitness: 0\n",
      "Long note fitness: -0.11764705882352941\n",
      "Interval size fitness: -1.130718954248366\n",
      "Consecutive rests fitness: 0\n",
      "Interval resolution fitness: 0.0\n",
      "Total fitness: 0.0\n",
      "-----------------\n",
      "Score: <music21.metadata.bundles.MetadataEntry: B:\\_School_Master_Thesis_MasterThesis_EvoMusicCompanion_midi_wikifonia_A_ Hume, P_ Livingstone - A Guid New Year_mxl>\n",
      "Interval pattern fitness: 3.445652173913044\n",
      "Duration pattern fitness: 3.142857142857143\n",
      "Chord tone beat fitness: 0.32608695652173914\n",
      "Chord tone fitness: 0.654192546583851\n",
      "Last note fitness: 0\n",
      "Long note fitness: 0.4782608695652174\n",
      "Interval size fitness: -1.2962962962962963\n",
      "Consecutive rests fitness: -2.5\n",
      "Interval resolution fitness: 0.0\n",
      "Total fitness: 0.0\n",
      "-----------------\n",
      "Score: <music21.metadata.bundles.MetadataEntry: B:\\_School_Master_Thesis_MasterThesis_EvoMusicCompanion_midi_wikifonia_A_ Moss - Ella_mxl>\n",
      "Interval pattern fitness: 1.908220720720721\n",
      "Duration pattern fitness: 2.015527950310559\n",
      "Chord tone beat fitness: 0.04054054054054054\n",
      "Chord tone fitness: 0.5141355641355642\n",
      "Last note fitness: 0\n",
      "Long note fitness: 0.0\n",
      "Interval size fitness: -1.0962732919254659\n",
      "Consecutive rests fitness: 0\n",
      "Interval resolution fitness: 0.07582938388625593\n",
      "Total fitness: 0.0\n",
      "-----------------\n",
      "Score: <music21.metadata.bundles.MetadataEntry: B:\\_School_Master_Thesis_MasterThesis_EvoMusicCompanion_midi_wikifonia_A_ Manzanero, Sid Wayne - It's Impossible_mxl>\n",
      "Interval pattern fitness: 1.5232142857142856\n",
      "Duration pattern fitness: 2.316742081447964\n",
      "Chord tone beat fitness: -0.15714285714285714\n",
      "Chord tone fitness: 0.4563718820861677\n",
      "Last note fitness: 0\n",
      "Long note fitness: -0.5714285714285714\n",
      "Interval size fitness: -1.2047619047619047\n",
      "Consecutive rests fitness: -5.5\n",
      "Interval resolution fitness: 0.0\n",
      "Total fitness: 0.0\n",
      "-----------------\n",
      "Score: <music21.metadata.bundles.MetadataEntry: B:\\_School_Master_Thesis_MasterThesis_EvoMusicCompanion_midi_wikifonia_A_ MacKenzie Davidson - Rural Life_mxl>\n",
      "Interval pattern fitness: 0.08897058823529412\n",
      "Duration pattern fitness: 2.132616487455197\n",
      "Chord tone beat fitness: 0.08823529411764706\n",
      "Chord tone fitness: 0.6011764705882351\n",
      "Last note fitness: 0\n",
      "Long note fitness: 0.4235294117647059\n",
      "Interval size fitness: -1.3212996389891698\n",
      "Consecutive rests fitness: -2.0\n",
      "Interval resolution fitness: 0.0\n",
      "Total fitness: 0.0\n",
      "-----------------\n",
      "Score: <music21.metadata.bundles.MetadataEntry: B:\\_School_Master_Thesis_MasterThesis_EvoMusicCompanion_midi_wikifonia_A_B_ Quintanilla III, Pete Astudillo - Baila Esta Cumbia_mxl>\n",
      "Interval pattern fitness: 4.083022388059701\n",
      "Duration pattern fitness: 1.6935064935064934\n",
      "Chord tone beat fitness: -0.3358208955223881\n",
      "Chord tone fitness: 0.33253375977256566\n",
      "Last note fitness: 0\n",
      "Long note fitness: -1.208955223880597\n",
      "Interval size fitness: -1.0694006309148265\n",
      "Consecutive rests fitness: -18.0\n",
      "Interval resolution fitness: 0.0\n",
      "Total fitness: 0.0\n",
      "-----------------\n",
      "Score: <music21.metadata.bundles.MetadataEntry: B:\\_School_Master_Thesis_MasterThesis_EvoMusicCompanion_midi_wikifonia_A_H_Gibbs, Joe Grey & Leo Wood - Runnin' Wild_mxl>\n",
      "Interval pattern fitness: 0.56875\n",
      "Duration pattern fitness: 1.346938775510204\n",
      "Chord tone beat fitness: 0.05\n",
      "Chord tone fitness: 0.5927777777777777\n",
      "Last note fitness: 0\n",
      "Long note fitness: 0.16666666666666666\n",
      "Interval size fitness: -1.2105263157894737\n",
      "Consecutive rests fitness: -1.5\n",
      "Interval resolution fitness: 0.0\n",
      "Total fitness: 0.0\n",
      "-----------------\n",
      "Score: <music21.metadata.bundles.MetadataEntry: B:\\_School_Master_Thesis_MasterThesis_EvoMusicCompanion_midi_wikifonia_A_MARAFIOTI - N_ 4 ( TEMA____ 31_1_1996)_mxl>\n",
      "Interval pattern fitness: 0.8020833333333334\n",
      "Duration pattern fitness: 2.234042553191489\n",
      "Chord tone beat fitness: 0.3333333333333333\n",
      "Chord tone fitness: 0.5253306878306878\n",
      "Last note fitness: 0\n",
      "Long note fitness: 0.8333333333333334\n",
      "Interval size fitness: -1.0212765957446808\n",
      "Consecutive rests fitness: 0\n",
      "Interval resolution fitness: 0.04878048780487805\n",
      "Total fitness: 0.0\n",
      "-----------------\n",
      "Score: <music21.metadata.bundles.MetadataEntry: B:\\_School_Master_Thesis_MasterThesis_EvoMusicCompanion_midi_wikifonia_A_B_ Quintanilla, Pete Astudio - Como la Flor_mxl>\n",
      "Interval pattern fitness: 1.412202380952381\n",
      "Duration pattern fitness: 2.7388059701492535\n",
      "Chord tone beat fitness: 0.05952380952380952\n",
      "Chord tone fitness: 0.5261999244142103\n",
      "Last note fitness: 0\n",
      "Long note fitness: -0.20238095238095238\n",
      "Interval size fitness: -1.2407932011331444\n",
      "Consecutive rests fitness: -20.5\n",
      "Interval resolution fitness: 0.0\n",
      "Total fitness: 0.0\n",
      "-----------------\n",
      "Score: <music21.metadata.bundles.MetadataEntry: B:\\_School_Master_Thesis_MasterThesis_EvoMusicCompanion_midi_wikifonia_A_Preud'homme - Op de Purperen Hei_mxl>\n",
      "Interval pattern fitness: 0\n",
      "Duration pattern fitness: 2.769230769230769\n",
      "Chord tone beat fitness: 0.04838709677419355\n",
      "Chord tone fitness: 0.5956989247311829\n",
      "Last note fitness: 0\n",
      "Long note fitness: 0.3548387096774194\n",
      "Interval size fitness: -1.0198019801980198\n",
      "Consecutive rests fitness: 0\n",
      "Interval resolution fitness: 0.0\n",
      "Total fitness: 0.0\n",
      "-----------------\n"
     ]
    }
   ],
   "source": [
    "for i in range(len(individuals)):\n",
    "    print(f'Score: {curr_corpus[i]}')\n",
    "    fitness.print_fitness_values(individuals[i])\n",
    "    print('-----------------')"
   ]
  },
  {
   "cell_type": "code",
   "execution_count": null,
   "metadata": {
    "pycharm": {}
   },
   "outputs": [],
   "source": [
    "score = music21.corpus.parse('joplin/maple_leaf_rag.mxl')\n",
    "scores = util.transpose_piece(score, 'C')\n",
    "scores = [scores]"
   ]
  },
  {
   "cell_type": "code",
   "execution_count": null,
   "metadata": {
    "pycharm": {}
   },
   "outputs": [],
   "source": [
    "scores[0].show('musicxml')"
   ]
  },
  {
   "cell_type": "code",
   "execution_count": null,
   "metadata": {
    "pycharm": {}
   },
   "outputs": [],
   "source": [
    "dur_matrix = modelTrainer.train_duration_matrix(scores)\n",
    "pitch_matrix = modelTrainer.train_pitch_matrix(scores);"
   ]
  },
  {
   "cell_type": "code",
   "execution_count": null,
   "metadata": {
    "pycharm": {}
   },
   "outputs": [],
   "source": [
    "# Interval matrix\n",
    "first_notes_per_bar = []\n",
    "all_intervals = []\n",
    "for s in scores:\n",
    "    noteIterator = s.parts[0].getElementsByClass(stream.Measure)\n",
    "    if len(noteIterator) == 0:\n",
    "        noteIterator = s.parts[0].notesAndRests.stream()\n",
    "    for i in noteIterator:\n",
    "        firstNote = None\n",
    "        counter = 1\n",
    "        m = []\n",
    "        for j in i.notesAndRests:\n",
    "            if j.isChord:\n",
    "                curr_note = note.Note(j.root())\n",
    "            elif j.isRest:\n",
    "                m.append('REST')\n",
    "                continue\n",
    "            else:\n",
    "                curr_note = j\n",
    "            if counter == 1:\n",
    "                if j.isChord:\n",
    "                    firstNote = note.Note(j.root())\n",
    "                else:\n",
    "                    firstNote = j\n",
    "                pitch_name = firstNote.nameWithOctave\n",
    "                if '-' in pitch_name or '##' in pitch_name:\n",
    "                    pitch_name = firstNote.pitch.getEnharmonic().nameWithOctave\n",
    "                if pitch_name in NOTE_RANGE:\n",
    "                    first_notes_per_bar.append(pitch_name)\n",
    "                counter += 1\n",
    "                continue\n",
    "            #print(j.beatStr)\n",
    "            octave = curr_note.octave\n",
    "            root = note.Note('C')\n",
    "            root.octave = octave\n",
    "            interv = interval.Interval(root,  curr_note).name\n",
    "            m.append(interv)\n",
    "            counter += 1\n",
    "            all_intervals.append(interv)\n",
    "all_intervals\n",
    "\n",
    "bigrams = list(nltk.bigrams(all_intervals))\n",
    "matrix = defaultdict(lambda: defaultdict(lambda: 0))\n",
    "\n",
    "for i1,i2 in bigrams:\n",
    "    matrix[i1][i2] += 1\n",
    "    \n",
    "for i1 in matrix:\n",
    "    total = float(sum(matrix[i1].values()))\n",
    "    for i2 in matrix[i1]:\n",
    "        matrix[i1][i2] /= total\n",
    "    \n",
    "int_matrix = pd.DataFrame(matrix)\n",
    "int_matrix = int_matrix.fillna(0)\n"
   ]
  },
  {
   "cell_type": "code",
   "execution_count": null,
   "metadata": {
    "pycharm": {}
   },
   "outputs": [],
   "source": [
    "init_note_vector = defaultdict(lambda: 0)\n",
    "for i in first_notes_per_bar:\n",
    "    init_note_vector[i] += 1\n",
    "total = float(sum(init_note_vector.values()))\n",
    "for i in init_note_vector:\n",
    "    init_note_vector[i] /= total\n",
    "init_note_vector = pd.Series(init_note_vector)"
   ]
  },
  {
   "cell_type": "code",
   "execution_count": 31,
   "metadata": {
    "pycharm": {}
   },
   "outputs": [
    {
     "name": "stdout",
     "output_type": "stream",
     "text": [
      "Starting generation\n",
      "Training the pitch matrix, this might take a while\n",
      "Training the duration matrix, this might take a while\n"
     ]
    }
   ],
   "source": [
    "sim = simulation.Simulation(0.5, 100)\n",
    "population = sim.run_interactively()"
   ]
  },
  {
   "cell_type": "code",
   "execution_count": 34,
   "metadata": {},
   "outputs": [
    {
     "name": "stdout",
     "output_type": "stream",
     "text": [
      "Starting generation\n",
      "Training the pitch matrix, this might take a while\n",
      "Training the duration matrix, this might take a while\n",
      "Initializing population\n",
      "Starting evolution\n",
      "Average fitness: -18.41875\n",
      "Iteration 0 done\n",
      "Average fitness: 6.725\n",
      "Iteration 1 done\n",
      "Average fitness: 13.747222222222222\n",
      "Iteration 2 done\n",
      "Average fitness: 21.96388888888889\n",
      "Iteration 3 done\n",
      "Average fitness: 23.00138888888889\n",
      "Iteration 4 done\n",
      "Average fitness: 27.794444444444444\n",
      "Iteration 5 done\n",
      "Average fitness: 33.43611111111111\n",
      "Iteration 6 done\n",
      "Average fitness: 36.53611111111111\n",
      "Iteration 7 done\n",
      "Average fitness: 24.608333333333334\n",
      "Iteration 8 done\n",
      "Average fitness: 29.583333333333332\n",
      "Iteration 9 done\n",
      "Average fitness: 46.3125\n",
      "Iteration 10 done\n",
      "Average fitness: 50.577777777777776\n",
      "Iteration 11 done\n",
      "Average fitness: 61.10138888888889\n",
      "Iteration 12 done\n",
      "Average fitness: 53.125\n",
      "Iteration 13 done\n",
      "Average fitness: 71.97638888888889\n",
      "Iteration 14 done\n",
      "Average fitness: 74.04305555555555\n",
      "Iteration 15 done\n",
      "Average fitness: 68.6986111111111\n",
      "Iteration 16 done\n",
      "Average fitness: 71.20694444444445\n",
      "Iteration 17 done\n",
      "Average fitness: 72.85138888888889\n",
      "Iteration 18 done\n",
      "Average fitness: 73.94166666666666\n",
      "Iteration 19 done\n",
      "Done evolving, playing songs\n",
      "Interval pattern fitness: 2\n",
      "Duration pattern fitness: 6.2\n",
      "Chord tone beat fitness: 8.0\n",
      "Chord tone fitness: 17.5\n",
      "Last note fitness: 0\n",
      "Long note fitness: 190\n",
      "Interval pattern fitness: 2\n",
      "Duration pattern fitness: 6.2\n",
      "Chord tone beat fitness: 8.0\n",
      "Chord tone fitness: 17.5\n",
      "Last note fitness: 0\n",
      "Long note fitness: 190\n",
      "Interval pattern fitness: 2\n",
      "Duration pattern fitness: 6.2\n",
      "Chord tone beat fitness: 8.0\n",
      "Chord tone fitness: 17.5\n",
      "Last note fitness: 0\n",
      "Long note fitness: 190\n",
      "Interval pattern fitness: 0\n",
      "Duration pattern fitness: 6.2\n",
      "Chord tone beat fitness: 4.0\n",
      "Chord tone fitness: 16.25\n",
      "Last note fitness: 0\n",
      "Long note fitness: 150\n"
     ]
    }
   ],
   "source": [
    "sim.run(20, None, None)"
   ]
  },
  {
   "cell_type": "code",
   "execution_count": null,
   "metadata": {},
   "outputs": [],
   "source": [
    "sim.pitch_matrix"
   ]
  },
  {
   "cell_type": "code",
   "execution_count": null,
   "metadata": {
    "pycharm": {}
   },
   "outputs": [],
   "source": [
    "chord.Chord(['C3', 'E3', 'G3'], quarterlength='4')"
   ]
  },
  {
   "cell_type": "code",
   "execution_count": null,
   "metadata": {
    "pycharm": {}
   },
   "outputs": [],
   "source": [
    "musicPlayer.play(population[0:4])"
   ]
  },
  {
   "cell_type": "code",
   "execution_count": null,
   "metadata": {
    "pycharm": {}
   },
   "outputs": [],
   "source": [
    "selection = [population[0], population[1]]\n",
    "selection"
   ]
  },
  {
   "cell_type": "code",
   "execution_count": null,
   "metadata": {
    "pycharm": {}
   },
   "outputs": [],
   "source": [
    "selected_population_notes = constants.flatten(list(map(lambda x: x.notes, selection)))\n",
    "selected_population_pitches = list(map(lambda x: x.pitch, constants.flatten(selected_population_notes)))\n",
    "selected_population_pitches"
   ]
  },
  {
   "cell_type": "code",
   "execution_count": null,
   "metadata": {
    "pycharm": {}
   },
   "outputs": [],
   "source": [
    "population = sim.update(selection=selection)"
   ]
  },
  {
   "cell_type": "code",
   "execution_count": null,
   "metadata": {},
   "outputs": [],
   "source": [
    "[i for sublist in [[[n.pitch for n in m.notes] for m in p.measures] for p in population[0:1]] for i in sublist]\n",
    "\n",
    "for p in population:\n",
    "    for m in p.measures:\n",
    "        for n in p.notes:\n",
    "            print(n.pitch)"
   ]
  },
  {
   "cell_type": "code",
   "execution_count": null,
   "metadata": {},
   "outputs": [],
   "source": [
    "[population[1].measures[2].notes, list(map(lambda x: x.notes, population[5].measures[1:3]))]"
   ]
  },
  {
   "cell_type": "code",
   "execution_count": null,
   "metadata": {
    "pycharm": {}
   },
   "outputs": [],
   "source": [
    "musicPlayer.play(population[0:1])"
   ]
  },
  {
   "cell_type": "code",
   "execution_count": null,
   "metadata": {
    "pycharm": {}
   },
   "outputs": [],
   "source": [
    "selection = population[0:2]\n",
    "selection[0].measures[0]"
   ]
  },
  {
   "cell_type": "code",
   "execution_count": null,
   "metadata": {},
   "outputs": [],
   "source": [
    "modelUpdater.update_matrix(selection, pitch_matrix)"
   ]
  },
  {
   "cell_type": "code",
   "execution_count": null,
   "metadata": {},
   "outputs": [],
   "source": [
    "\n",
    "testIndividual = Individual(\n",
    "    [\n",
    "        Measure(\n",
    "            [\n",
    "                Note('C#5', Duration('half', 0.5)),\n",
    "                Note('C#5', Duration('half', 0.5)),\n",
    "                Note('C#5', Duration('half', 0.5)),\n",
    "                Note('C#5', Duration('half', 0.5))\n",
    "            ], 0, None),\n",
    "        Measure(\n",
    "            [\n",
    "                Note('C#5', Duration('half', 0.5)),\n",
    "                Note('C#5', Duration('half', 0.5)),\n",
    "                Note('C#5', Duration('half', 0.5)),\n",
    "                Note('C#5', Duration('half', 0.5))\n",
    "            ], 0, None),\n",
    "        0\n",
    "    ], 0\n",
    ")\n"
   ]
  },
  {
   "cell_type": "code",
   "execution_count": null,
   "metadata": {},
   "outputs": [],
   "source": [
    "population[0].measures[0].notes"
   ]
  },
  {
   "cell_type": "code",
   "execution_count": null,
   "metadata": {},
   "outputs": [],
   "source": [
    "musicPlayer.play_measure(testIndividual.measures[0])"
   ]
  },
  {
   "cell_type": "code",
   "execution_count": null,
   "metadata": {},
   "outputs": [],
   "source": [
    "m = testIndividual.measures[0]\n",
    "\n",
    "for j in m.notes:\n",
    "    print(j)"
   ]
  },
  {
   "cell_type": "code",
   "execution_count": null,
   "metadata": {},
   "outputs": [],
   "source": [
    "def convert_measure_to_music21_measure(measure: Measure):\n",
    "    measure.notes: [Note]\n",
    "    measure = stream.Measure(1)\n",
    "    for j in measure.notes:\n",
    "        if j.pitch == 'REST':\n",
    "            n = note.Rest()\n",
    "            n.duration = duration.Duration(quarterLength=j.duration.duration_value / 0.25)\n",
    "        else:\n",
    "            n = note.Note(j.pitch)\n",
    "            n.duration = duration.Duration(quarterLength=j.duration.duration_value / 0.25)\n",
    "        print(j)\n",
    "        measure.append(n)\n",
    "\n",
    "    return measure\n"
   ]
  },
  {
   "cell_type": "code",
   "execution_count": null,
   "metadata": {},
   "outputs": [],
   "source": []
  },
  {
   "cell_type": "code",
   "execution_count": null,
   "metadata": {},
   "outputs": [],
   "source": [
    "testIndividual.measures[0].notes[0].duration_value"
   ]
  },
  {
   "cell_type": "code",
   "execution_count": null,
   "metadata": {},
   "outputs": [],
   "source": [
    "for i in range(1):\n",
    "    print(i)"
   ]
  }
 ],
 "metadata": {
  "kernelspec": {
   "display_name": "Python 3",
   "language": "python",
   "name": "python3"
  },
  "language_info": {
   "codemirror_mode": {
    "name": "ipython",
    "version": 3
   },
   "file_extension": ".py",
   "mimetype": "text/x-python",
   "name": "python",
   "nbconvert_exporter": "python",
   "pygments_lexer": "ipython3",
   "version": "3.7.4"
  }
 },
 "nbformat": 4,
 "nbformat_minor": 4
}
