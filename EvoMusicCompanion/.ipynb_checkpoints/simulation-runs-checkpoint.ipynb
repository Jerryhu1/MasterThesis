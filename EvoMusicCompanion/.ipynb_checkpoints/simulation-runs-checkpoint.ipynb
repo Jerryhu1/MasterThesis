{
 "cells": [
  {
   "cell_type": "code",
   "execution_count": 2,
   "metadata": {
    "pycharm": {}
   },
   "outputs": [
    {
     "name": "stderr",
     "output_type": "stream",
     "text": [
      "music21: Certain music21 functions might need the optional package matplotlib;\n",
      "                  if you run into errors, install it by following the instructions at\n",
      "                  http://mit.edu/music21/doc/installing/installAdditional.html\n"
     ]
    }
   ],
   "source": [
    "from __future__ import print_function\n",
    "from music21 import *\n",
    "from collections import Counter, defaultdict\n",
    "\n",
    "import initialisation\n",
    "import modelTrainer\n",
    "import musicPlayer\n",
    "import simulation\n",
    "import fitness\n",
    "import collections\n",
    "import importlib\n",
    "import music21\n",
    "import numpy as np\n",
    "import pandas as pd\n",
    "import individual\n",
    "import duration\n",
    "import constants\n",
    "import util\n",
    "import random\n",
    "import nltk\n"
   ]
  },
  {
   "cell_type": "code",
   "execution_count": null,
   "metadata": {
    "pycharm": {}
   },
   "outputs": [],
   "source": [
    "importlib.reload(initialisation)\n",
    "importlib.reload(modelTrainer)\n",
    "importlib.reload(musicPlayer)\n",
    "importlib.reload(simulation)\n",
    "importlib.reload(fitness)\n",
    "importlib.reload(music21)\n",
    "importlib.reload(constants)\n",
    "importlib.reload(util)\n",
    "importlib.reload(individual)"
   ]
  },
  {
   "cell_type": "code",
   "execution_count": null,
   "metadata": {
    "pycharm": {}
   },
   "outputs": [],
   "source": [
    "len(scores)"
   ]
  },
  {
   "cell_type": "markdown",
   "metadata": {},
   "source": [
    "## Get corpus"
   ]
  },
  {
   "cell_type": "code",
   "execution_count": null,
   "metadata": {
    "pycharm": {}
   },
   "outputs": [],
   "source": [
    "coreCorpus = music21.corpus.corpora.CoreCorpus()\n",
    "curr_corpus = music21.corpus.search('mozart', 'composer')\n",
    "\n",
    "scores = []\n",
    "for c in curr_corpus:\n",
    "    score = c.parse()\n",
    "    score = util.transpose_piece(score, 'C')\n",
    "    scores.append(score)"
   ]
  },
  {
   "cell_type": "code",
   "execution_count": 5,
   "metadata": {
    "pycharm": {}
   },
   "outputs": [],
   "source": [
    "lakh_corpus = corpus.corpora.LocalCorpus('lakh')\n",
    "curr_corpus = lakh_corpus.metadataBundle[0:20]\n",
    "\n",
    "scores = []\n",
    "for c in curr_corpus:\n",
    "    score = c.parse()\n",
    "    score = util.transpose_piece(score, 'C')\n",
    "    scores.append(score)"
   ]
  },
  {
   "cell_type": "code",
   "execution_count": null,
   "metadata": {
    "pycharm": {}
   },
   "outputs": [],
   "source": [
    "m = modelTrainer.train_duration_matrix(scores)\n",
    "m['quarter']['half'] /= sum(m['quarter'])\n"
   ]
  },
  {
   "cell_type": "code",
   "execution_count": null,
   "metadata": {
    "pycharm": {}
   },
   "outputs": [],
   "source": [
    "score = music21.corpus.parse('joplin/maple_leaf_rag.mxl')\n",
    "scores = util.transpose_piece(score, 'C')\n",
    "scores = [scores]"
   ]
  },
  {
   "cell_type": "code",
   "execution_count": null,
   "metadata": {
    "pycharm": {}
   },
   "outputs": [],
   "source": [
    "scores[0].show('musicxml')"
   ]
  },
  {
   "cell_type": "code",
   "execution_count": 6,
   "metadata": {
    "pycharm": {}
   },
   "outputs": [],
   "source": [
    "dur_matrix = modelTrainer.train_duration_matrix(scores)\n",
    "pitch_matrix = modelTrainer.train_pitch_matrix(scores);"
   ]
  },
  {
   "cell_type": "code",
   "execution_count": null,
   "metadata": {
    "pycharm": {}
   },
   "outputs": [],
   "source": [
    "i = interval.Interval('M2')\n",
    "i.transposeNote(note.Note('C4'))"
   ]
  },
  {
   "cell_type": "code",
   "execution_count": null,
   "metadata": {},
   "outputs": [],
   "source": [
    "NOTE_RANGE = [\n",
    "    'A4',\n",
    "    'A#4',\n",
    "    'B4',\n",
    "    'C4',\n",
    "    'C#4',\n",
    "    'D4',\n",
    "    'D#4',\n",
    "    'E4',\n",
    "    'F4',\n",
    "    'G4',\n",
    "    'G#4',\n",
    "    'A5',\n",
    "    'A#5',\n",
    "    'B5',\n",
    "    'B#5',\n",
    "    'C#5',\n",
    "    'D5',\n",
    "    'D#5',\n",
    "    'E5',\n",
    "    'F5',\n",
    "    'G5',\n",
    "    'G#5',\n",
    "]"
   ]
  },
  {
   "cell_type": "code",
   "execution_count": null,
   "metadata": {},
   "outputs": [],
   "source": [
    "p = pitch.Pitch('C4')\n",
    "p.octave = 3\n",
    "p"
   ]
  },
  {
   "cell_type": "code",
   "execution_count": null,
   "metadata": {
    "pycharm": {}
   },
   "outputs": [],
   "source": [
    "# Interval matrix\n",
    "first_notes_per_bar = []\n",
    "all_intervals = []\n",
    "for s in scores:\n",
    "    noteIterator = s.parts[0].getElementsByClass(stream.Measure)\n",
    "    if len(noteIterator) == 0:\n",
    "        noteIterator = s.parts[0].notesAndRests.stream()\n",
    "    for i in noteIterator:\n",
    "        firstNote = None\n",
    "        counter = 1\n",
    "        m = []\n",
    "        for j in i.notesAndRests:\n",
    "            if j.isChord:\n",
    "                curr_note = note.Note(j.root())\n",
    "            elif j.isRest:\n",
    "                m.append('REST')\n",
    "                continue\n",
    "            else:\n",
    "                curr_note = j\n",
    "            if counter == 1:\n",
    "                if j.isChord:\n",
    "                    firstNote = note.Note(j.root())\n",
    "                else:\n",
    "                    firstNote = j\n",
    "                pitch_name = firstNote.nameWithOctave\n",
    "                if '-' in pitch_name or '##' in pitch_name:\n",
    "                    pitch_name = firstNote.pitch.getEnharmonic().nameWithOctave\n",
    "                if pitch_name in NOTE_RANGE:\n",
    "                    first_notes_per_bar.append(pitch_name)\n",
    "                counter += 1\n",
    "                continue\n",
    "            #print(j.beatStr)\n",
    "            octave = curr_note.octave\n",
    "            root = note.Note('C')\n",
    "            root.octave = octave\n",
    "            interv = interval.Interval(root,  curr_note).name\n",
    "            m.append(interv)\n",
    "            counter += 1\n",
    "        all_intervals.append(interv)\n",
    "all_intervals\n",
    "\n",
    "bigrams = list(nltk.bigrams(all_intervals))\n",
    "matrix = defaultdict(lambda: defaultdict(lambda: 0))\n",
    "\n",
    "for i1,i2 in bigrams:\n",
    "    matrix[i1][i2] += 1\n",
    "    \n",
    "for i1 in matrix:\n",
    "    total = float(sum(matrix[i1].values()))\n",
    "    for i2 in matrix[i1]:\n",
    "        matrix[i1][i2] /= total\n",
    "    \n",
    "int_matrix = pd.DataFrame(matrix)\n",
    "int_matrix = int_matrix.fillna(0)\n"
   ]
  },
  {
   "cell_type": "code",
   "execution_count": null,
   "metadata": {},
   "outputs": [],
   "source": [
    "trigrams = list(nltk.trigrams(all_intervals))\n",
    "matrix = defaultdict(lambda: defaultdict(lambda: 0))\n",
    "\n",
    "for i1,i2,i3 in trigrams:\n",
    "    matrix[(i1,i2)][i3] += 1\n",
    "    \n",
    "for i1 in matrix:\n",
    "    total = float(sum(matrix[i1].values()))\n",
    "    for i2 in matrix[i1]:\n",
    "        matrix[i1][i2] /= total\n",
    "    \n",
    "int_trigram_matrix = pd.DataFrame(matrix)\n",
    "int_trigram_matrix = int_matrix.fillna(0)"
   ]
  },
  {
   "cell_type": "code",
   "execution_count": null,
   "metadata": {},
   "outputs": [],
   "source": [
    "int_trigram_matrix"
   ]
  },
  {
   "cell_type": "code",
   "execution_count": null,
   "metadata": {
    "pycharm": {}
   },
   "outputs": [],
   "source": [
    "init_note_vector = defaultdict(lambda: 0)\n",
    "for i in first_notes_per_bar:\n",
    "    init_note_vector[i] += 1\n",
    "total = float(sum(init_note_vector.values()))\n",
    "for i in init_note_vector:\n",
    "    init_note_vector[i] /= total\n",
    "init_note_vector = pd.Series(init_note_vector)"
   ]
  },
  {
   "cell_type": "code",
   "execution_count": null,
   "metadata": {
    "pycharm": {}
   },
   "outputs": [],
   "source": [
    "rng = random.random()\n",
    "if start_duration is None:\n",
    "    start_duration = random.choice(dur_matrix.keys())\n",
    "\n",
    "transitions = dur_matrix[start_duration]\n",
    "p_sum = 0.0\n",
    "\n",
    "for k, v in transitions.iteritems():\n",
    "    if p_sum < rng < p_sum + v:\n",
    "        print(k)\n",
    "    else:\n",
    "        p_sum += v"
   ]
  },
  {
   "cell_type": "code",
   "execution_count": 8,
   "metadata": {
    "pycharm": {}
   },
   "outputs": [
    {
     "ename": "NameError",
     "evalue": "name 'init_note_vector' is not defined",
     "output_type": "error",
     "traceback": [
      "\u001b[1;31m---------------------------------------------------------------------------\u001b[0m",
      "\u001b[1;31mNameError\u001b[0m                                 Traceback (most recent call last)",
      "\u001b[1;32m<ipython-input-8-8bfd8d033a5c>\u001b[0m in \u001b[0;36m<module>\u001b[1;34m\u001b[0m\n\u001b[0;32m      1\u001b[0m \u001b[0msim\u001b[0m \u001b[1;33m=\u001b[0m \u001b[0msimulation\u001b[0m\u001b[1;33m.\u001b[0m\u001b[0mSimulation\u001b[0m\u001b[1;33m(\u001b[0m\u001b[1;36m0.5\u001b[0m\u001b[1;33m,\u001b[0m \u001b[1;36m10\u001b[0m\u001b[1;33m)\u001b[0m\u001b[1;33m\u001b[0m\u001b[1;33m\u001b[0m\u001b[0m\n\u001b[1;32m----> 2\u001b[1;33m \u001b[0mpopulation\u001b[0m \u001b[1;33m=\u001b[0m \u001b[0msim\u001b[0m\u001b[1;33m.\u001b[0m\u001b[0mrun_interactively\u001b[0m\u001b[1;33m(\u001b[0m\u001b[0mpitch_matrix\u001b[0m\u001b[1;33m,\u001b[0m \u001b[0mdur_matrix\u001b[0m\u001b[1;33m,\u001b[0m \u001b[0minit_note_vector\u001b[0m\u001b[1;33m)\u001b[0m\u001b[1;33m\u001b[0m\u001b[1;33m\u001b[0m\u001b[0m\n\u001b[0m",
      "\u001b[1;31mNameError\u001b[0m: name 'init_note_vector' is not defined"
     ]
    }
   ],
   "source": [
    "sim = simulation.Simulation(0.5, 10)\n",
    "population = sim.run_interactively(pitch_matrix, dur_matrix, None)"
   ]
  },
  {
   "cell_type": "code",
   "execution_count": null,
   "metadata": {
    "pycharm": {}
   },
   "outputs": [],
   "source": [
    "chord.Chord(['C3', 'E3', 'G3'], quarterlength='4')"
   ]
  },
  {
   "cell_type": "code",
   "execution_count": null,
   "metadata": {
    "pycharm": {}
   },
   "outputs": [],
   "source": [
    "musicPlayer.play(population)"
   ]
  },
  {
   "cell_type": "code",
   "execution_count": null,
   "metadata": {
    "pycharm": {}
   },
   "outputs": [],
   "source": [
    "selection = [population[0], population[9]]\n",
    "selection"
   ]
  },
  {
   "cell_type": "code",
   "execution_count": null,
   "metadata": {
    "pycharm": {}
   },
   "outputs": [],
   "source": [
    "selected_population_notes = constants.flatten(list(map(lambda x: x.notes, selection)))\n",
    "selected_population_pitches = list(map(lambda x: x.pitch, constants.flatten(selected_population_notes)))\n",
    "selected_population_pitches"
   ]
  },
  {
   "cell_type": "code",
   "execution_count": null,
   "metadata": {
    "pycharm": {}
   },
   "outputs": [],
   "source": [
    "population = sim.update(selection=selection)"
   ]
  },
  {
   "cell_type": "code",
   "execution_count": null,
   "metadata": {},
   "outputs": [],
   "source": [
    "population"
   ]
  },
  {
   "cell_type": "code",
   "execution_count": null,
   "metadata": {
    "pycharm": {}
   },
   "outputs": [],
   "source": [
    "musicPlayer.play_intervals(population)"
   ]
  },
  {
   "cell_type": "code",
   "execution_count": null,
   "metadata": {
    "pycharm": {}
   },
   "outputs": [],
   "source": []
  }
 ],
 "metadata": {
  "kernelspec": {
   "display_name": "Python 3",
   "language": "python",
   "name": "python3"
  },
  "language_info": {
   "codemirror_mode": {
    "name": "ipython",
    "version": 3
   },
   "file_extension": ".py",
   "mimetype": "text/x-python",
   "name": "python",
   "nbconvert_exporter": "python",
   "pygments_lexer": "ipython3",
   "version": "3.7.4"
  }
 },
 "nbformat": 4,
 "nbformat_minor": 4
}
