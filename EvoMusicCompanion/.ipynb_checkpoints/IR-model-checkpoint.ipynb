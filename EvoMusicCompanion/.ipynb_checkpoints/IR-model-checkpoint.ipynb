{
 "cells": [
  {
   "cell_type": "code",
   "execution_count": 1,
   "metadata": {},
   "outputs": [
    {
     "name": "stderr",
     "output_type": "stream",
     "text": [
      "music21: Certain music21 functions might need the optional package matplotlib;\n",
      "                  if you run into errors, install it by following the instructions at\n",
      "                  http://mit.edu/music21/doc/installing/installAdditional.html\n"
     ]
    }
   ],
   "source": [
    "from music21 import *\n",
    "import collections\n",
    "import numpy as np\n",
    "import pandas as pd\n",
    "import gzip\n",
    "import random"
   ]
  },
  {
   "cell_type": "code",
   "execution_count": 2,
   "metadata": {},
   "outputs": [],
   "source": [
    "from collections import Counter, defaultdict\n",
    "\n",
    "import initialisation\n",
    "import modelTrainer\n",
    "import musicPlayer\n",
    "import simulation\n",
    "import fitness\n",
    "import collections\n",
    "import importlib\n",
    "import music21\n",
    "import numpy as np\n",
    "import pandas as pd\n",
    "import individual\n",
    "import duration\n",
    "import constants\n",
    "import util\n",
    "import random\n",
    "import nltk\n",
    "import fitness\n",
    "import re\n"
   ]
  },
  {
   "cell_type": "code",
   "execution_count": 3,
   "metadata": {},
   "outputs": [
    {
     "data": {
      "text/plain": [
       "<module 'fitness' from 'B:\\\\School\\\\Master\\\\Thesis\\\\MasterThesis\\\\EvoMusicCompanion\\\\fitness.py'>"
      ]
     },
     "execution_count": 3,
     "metadata": {},
     "output_type": "execute_result"
    }
   ],
   "source": [
    "importlib.reload(initialisation)\n",
    "importlib.reload(modelTrainer)\n",
    "importlib.reload(musicPlayer)\n",
    "importlib.reload(simulation)\n",
    "importlib.reload(fitness)\n",
    "importlib.reload(music21)\n",
    "importlib.reload(constants)\n",
    "importlib.reload(util)\n",
    "importlib.reload(individual)\n",
    "importlib.reload(fitness)"
   ]
  },
  {
   "cell_type": "code",
   "execution_count": 3,
   "metadata": {},
   "outputs": [],
   "source": [
    "wiki_corpus = corpus.corpora.LocalCorpus('wiki')\n",
    "curr_corpus = corpus.corpora.CoreCorpus()\n",
    "curr_corpus = curr_corpus.search('mozart', 'composer')\n",
    "\n",
    "scores = []\n",
    "for c in curr_corpus:\n",
    "    score = c.parse()\n",
    "    score = util.transpose_piece(score, 'C')\n",
    "    scores.append(score)"
   ]
  },
  {
   "cell_type": "code",
   "execution_count": 4,
   "metadata": {},
   "outputs": [],
   "source": [
    "wiki_corpus = corpus.corpora.LocalCorpus('wiki')\n",
    "curr_corpus = wiki_corpus.metadataBundle[0:20]\n",
    "\n",
    "scores = []\n",
    "for c in curr_corpus:\n",
    "    score = c.parse()\n",
    "    score = util.transpose_piece(score, 'C')\n",
    "    scores.append(score)"
   ]
  },
  {
   "cell_type": "code",
   "execution_count": 4,
   "metadata": {},
   "outputs": [],
   "source": [
    "pitches = modelTrainer.get_pitches_per_score(scores)\n",
    "pitches = list(map(lambda y: list(filter(lambda x: x != 'REST', y)), pitches))"
   ]
  },
  {
   "cell_type": "code",
   "execution_count": 5,
   "metadata": {},
   "outputs": [],
   "source": [
    "pitch_matrix = modelTrainer.train_pitch_matrix(scores)"
   ]
  },
  {
   "cell_type": "code",
   "execution_count": null,
   "metadata": {},
   "outputs": [],
   "source": [
    "pitches = [['C4', 'D4', 'E4', 'F4', 'C4']]"
   ]
  },
  {
   "cell_type": "code",
   "execution_count": 6,
   "metadata": {},
   "outputs": [],
   "source": [
    "symbols = []\n",
    "\n",
    "for s in pitches:\n",
    "    curr_symbols = []\n",
    "    for i in range(2, len(s)):\n",
    "        n1 = pitch.Pitch(s[i-2])\n",
    "        n2 = pitch.Pitch(s[i-1])\n",
    "        n3 = pitch.Pitch(s[i])\n",
    "        # print(f'{n1}, {n2}, {n3}')\n",
    "        \n",
    "        impl_interval = n2.midi - n1.midi\n",
    "        real_interval = n3.midi - n2.midi\n",
    "        # print(f'ímpl int: {impl_interval}')\n",
    "        # print(f'real int: {real_interval}')\n",
    "        \n",
    "        is_same_direction = (impl_interval <= 0 and real_interval <= impl_interval) or (impl_interval >= 0 and real_interval >= impl_interval) \n",
    "        is_small_impl_interval = abs(impl_interval) <= 5\n",
    "        is_small_real_interval = abs(real_interval) <= 5\n",
    "        # Small impl_interval\n",
    "        if is_small_impl_interval:\n",
    "            \n",
    "            #small real_interval\n",
    "            if is_small_real_interval:\n",
    "                \n",
    "                # Unchanging direction\n",
    "                if is_same_direction:\n",
    "                    new_symbol = \"PV\"\n",
    "                # Changing direction\n",
    "                else:\n",
    "                    if n1 == n3:\n",
    "                        new_symbol = \"QE\"\n",
    "                    new_symbol = \"QV\"\n",
    "            #Large real_interval\n",
    "            else:\n",
    "                # Unchanging direction\n",
    "                if is_same_direction:\n",
    "                    new_symbol = \"PR\"\n",
    "                # Changing direction\n",
    "                else:\n",
    "                    new_symbol = \"QR\"\n",
    "        # Large impl_interval\n",
    "        else:\n",
    "            #small real_interval\n",
    "            if is_small_real_interval:\n",
    "                # Unchanging direction\n",
    "                if is_same_direction:\n",
    "                    new_symbol = \"PF\"\n",
    "                # Changing direction\n",
    "                else:\n",
    "                    if n1 == n3:\n",
    "                        new_symbol = \"QE\"\n",
    "                    new_symbol = \"QF\"\n",
    "            #Large real_interval\n",
    "            else:\n",
    "                # Unchanging direction\n",
    "                if is_same_direction:\n",
    "                    new_symbol = \"PL\"\n",
    "                # Changing direction\n",
    "                else:\n",
    "                    new_symbol = \"QL\"\n",
    "        curr_symbols.append(new_symbol)\n",
    "    symbols.append(curr_symbols)   "
   ]
  },
  {
   "cell_type": "code",
   "execution_count": 7,
   "metadata": {},
   "outputs": [],
   "source": [
    "symbol_tuples = []\n",
    "for j in symbols:\n",
    "    for i in range(1, len(j)-1):\n",
    "\n",
    "        prev = j[i-1]\n",
    "        curr = j[i]\n",
    "        symbol_tuples.append((prev,curr))"
   ]
  },
  {
   "cell_type": "code",
   "execution_count": null,
   "metadata": {},
   "outputs": [],
   "source": [
    "symbol_matrix"
   ]
  },
  {
   "cell_type": "code",
   "execution_count": 8,
   "metadata": {},
   "outputs": [],
   "source": [
    "matrix = defaultdict(lambda: defaultdict(lambda: 0))\n",
    "\n",
    "for (i1,i2) in symbol_tuples:\n",
    "    matrix[i1][i2] += 1\n",
    "    \n",
    "for i1 in matrix:\n",
    "    total = float(sum(matrix[i1].values()))\n",
    "    for i2 in matrix[i1]:\n",
    "        matrix[i1][i2] /= total\n",
    "    \n",
    "pd_matrix = pd.DataFrame(matrix)\n",
    "pd_matrix = pd_matrix.fillna(0)\n",
    "symbol_matrix = pd_matrix"
   ]
  },
  {
   "cell_type": "code",
   "execution_count": null,
   "metadata": {},
   "outputs": [],
   "source": [
    "pitch_matrix['C4']"
   ]
  },
  {
   "cell_type": "code",
   "execution_count": 57,
   "metadata": {},
   "outputs": [
    {
     "data": {
      "text/plain": [
       "[['C5', 'C5', 'C5', 'B4', 'D5', 'B4', 'C5', 'C5', 'E5', 'E5'],\n",
       " ['C5', 'A5', 'D5', 'F5', 'E5', 'G5', 'C5', 'G5', 'C5', 'D5']]"
      ]
     },
     "execution_count": 57,
     "metadata": {},
     "output_type": "execute_result"
    }
   ],
   "source": [
    "generate_individual_by_symbols(symbol_matrix, pitch_matrix)"
   ]
  },
  {
   "cell_type": "code",
   "execution_count": 92,
   "metadata": {},
   "outputs": [],
   "source": [
    "def generate_individual_by_symbols(symbol_matrix, pitch_matrix):\n",
    "    individuals = []\n",
    "\n",
    "    for i in range(0,2):\n",
    "        symbols = []\n",
    "        # Symbol size\n",
    "        for i in range(0,20):\n",
    "            if i == 0:\n",
    "                s = initialisation.get_random_transition(symbol_matrix, None)\n",
    "            else:\n",
    "                s = initialisation.get_random_transition(symbol_matrix, symbols[-1]) \n",
    "            symbols.append(s)\n",
    "\n",
    "        notes = []\n",
    "        # Generate two initial notes\n",
    "        notes.append('C5')\n",
    "        initial_symbol = symbols[0]\n",
    "        direction = random.choice(['UP'])\n",
    "        if initial_symbol[1] == 'V' or initial_symbol[1] == 'R':\n",
    "            second_note = sample_by_symbol('S', direction, notes[-1], pitch_matrix)\n",
    "        else:\n",
    "            second_note = sample_by_symbol('L', direction, notes[-1], pitch_matrix)\n",
    "        notes.append(second_note)\n",
    "\n",
    "        # Start generating the rest of the notes\n",
    "        for i in range(2, len(symbols)):\n",
    "            s = symbols[i-2]\n",
    "            \n",
    "            direction = s[0]\n",
    "            interval_size = s[1]\n",
    "            \n",
    "            n1 = notes[-1]\n",
    "            n2 = notes[len(notes)-2]\n",
    "            \n",
    "            direction_explicit = get_direction(direction, n2, n1)\n",
    "            interval_size_explicit = get_interval_size(interval_size)\n",
    "            new_note = sample_by_symbol(\n",
    "                interval_size_explicit, direction_explicit, notes[-1], pitch_matrix)\n",
    "            notes.append(new_note)\n",
    "            \n",
    "        individuals.append(notes)\n",
    "    return individuals"
   ]
  },
  {
   "cell_type": "code",
   "execution_count": null,
   "metadata": {},
   "outputs": [],
   "source": [
    "symbols"
   ]
  },
  {
   "cell_type": "code",
   "execution_count": 24,
   "metadata": {},
   "outputs": [],
   "source": [
    "def get_direction(direction, prev_note1, prev_note2):\n",
    "    if direction == 'Q':\n",
    "        # If the direction goes up\n",
    "        if pitch.Pitch(prev_note1) < pitch.Pitch(prev_note2):\n",
    "            return \"DOWN\"\n",
    "        # If the direction goes down\n",
    "        else:\n",
    "            return \"UP\"\n",
    "    else:\n",
    "        if pitch.Pitch(prev_note1) < pitch.Pitch(prev_note2):\n",
    "            return \"UP\"\n",
    "        else:\n",
    "            return \"DOWN\"\n",
    "def get_interval_size(symbol):\n",
    "    if symbol == 'V' or symbol == 'F':\n",
    "        return 'S'\n",
    "    else:\n",
    "        return 'L'"
   ]
  },
  {
   "cell_type": "code",
   "execution_count": null,
   "metadata": {},
   "outputs": [],
   "source": [
    "sample_by_symbol('S', 'DOWN', 'G5', pitch_matrix)"
   ]
  },
  {
   "cell_type": "code",
   "execution_count": null,
   "metadata": {},
   "outputs": [],
   "source": [
    "get_direction('Q', 'C5', 'G5')\n",
    "get_interval_size('F')"
   ]
  },
  {
   "cell_type": "code",
   "execution_count": 17,
   "metadata": {},
   "outputs": [],
   "source": [
    "def sample_by_symbol(interval_size, direction, prev_note, matrix):\n",
    "    i = interval.Interval()\n",
    "    intervals = []\n",
    "    if interval_size == 'S':\n",
    "        if direction == 'UP':\n",
    "            r = range(0, 6)\n",
    "        else:\n",
    "            r = range(0, -6, -1)\n",
    "    else:\n",
    "        if direction == 'UP':\n",
    "            r = range(6, 11)\n",
    "        else:\n",
    "            r = range(-6, -11, -1)\n",
    "            \n",
    "    for i in r:\n",
    "        i = interval.Interval(i)\n",
    "        inter = get_normal_pitch_name(i.transposePitch(pitch.Pitch(prev_note)))\n",
    "        intervals.append(inter)\n",
    "    return sample_random_pitch(matrix, intervals, prev_note)\n",
    "    \n"
   ]
  },
  {
   "cell_type": "code",
   "execution_count": null,
   "metadata": {},
   "outputs": [],
   "source": []
  },
  {
   "cell_type": "code",
   "execution_count": null,
   "metadata": {},
   "outputs": [],
   "source": [
    "interval.Interval(4).transposePitch(pitch.Pitch('C4'))"
   ]
  },
  {
   "cell_type": "code",
   "execution_count": 18,
   "metadata": {},
   "outputs": [],
   "source": [
    "def get_normal_pitch_name(pitch):\n",
    "    pitch_name = pitch.nameWithOctave\n",
    "    if '-' in pitch_name or '##' in pitch_name:\n",
    "        return pitch.getEnharmonic().nameWithOctave\n",
    "    else:\n",
    "        return pitch_name"
   ]
  },
  {
   "cell_type": "code",
   "execution_count": 19,
   "metadata": {},
   "outputs": [],
   "source": [
    "def sample_random_pitch(matrix, intervals, prev_note):\n",
    "    total_count = 0\n",
    "    m = defaultdict(lambda: defaultdict(lambda: 0))\n",
    "    # Get the intervals and create a distribution\n",
    "    for i in intervals:\n",
    "        if i not in matrix[prev_note]:\n",
    "           continue\n",
    "        p = matrix[prev_note][i]\n",
    "        # Create a temporary matrix saving the P and also sum up all probabilities\n",
    "        m[prev_note][i] = p\n",
    "        total_count += p\n",
    "\n",
    "    # Normalize probabilities\n",
    "    for i in intervals:\n",
    "        m[prev_note][i] /= total_count\n",
    "\n",
    "    # Select note in the constrainted space\n",
    "    p_sum = 0\n",
    "    rng = random.random()\n",
    "    for i in intervals:\n",
    "        v = m[prev_note][i]\n",
    "        if p_sum < rng < p_sum + v:\n",
    "            return i\n",
    "        else:\n",
    "            p_sum += v\n"
   ]
  },
  {
   "cell_type": "code",
   "execution_count": null,
   "metadata": {},
   "outputs": [],
   "source": [
    "a = interval.Interval(1)\n",
    "a.transposePitch(pitch.Pitch('C4'))"
   ]
  },
  {
   "cell_type": "code",
   "execution_count": 93,
   "metadata": {},
   "outputs": [],
   "source": [
    "individuals = generate_individual_by_symbols(symbol_matrix, pitch_matrix)\n",
    "s = stream.Score(id = 'mainScore')\n",
    "part = stream.Part(id='part1')\n",
    "for i in individuals:\n",
    "    \n",
    "    counter = 1\n",
    "    m = stream.Measure(counter)\n",
    "    for p in i:\n",
    "        n = note.Note(p)\n",
    "        m.append(n)\n",
    "    part.append(m)\n"
   ]
  },
  {
   "cell_type": "code",
   "execution_count": 94,
   "metadata": {},
   "outputs": [],
   "source": [
    "s.append(part)\n",
    "s.show('musicxml')"
   ]
  },
  {
   "cell_type": "code",
   "execution_count": null,
   "metadata": {},
   "outputs": [],
   "source": [
    "r = range(-1, -5, -1)\n",
    "for i in r:\n",
    "    print(i)"
   ]
  }
 ],
 "metadata": {
  "kernelspec": {
   "display_name": "Python 3",
   "language": "python",
   "name": "python3"
  },
  "language_info": {
   "codemirror_mode": {
    "name": "ipython",
    "version": 3
   },
   "file_extension": ".py",
   "mimetype": "text/x-python",
   "name": "python",
   "nbconvert_exporter": "python",
   "pygments_lexer": "ipython3",
   "version": "3.7.4"
  }
 },
 "nbformat": 4,
 "nbformat_minor": 4
}
