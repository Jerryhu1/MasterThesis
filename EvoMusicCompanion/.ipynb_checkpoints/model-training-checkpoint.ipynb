{
 "cells": [
  {
   "cell_type": "code",
   "execution_count": null,
   "metadata": {},
   "outputs": [],
   "source": [
    "import initialisation\n",
    "import modelTrainer\n",
    "import musicPlayer\n",
    "import importlib\n",
    "import numpy as np\n",
    "import pandas as pd"
   ]
  },
  {
   "cell_type": "code",
   "execution_count": 147,
   "metadata": {},
   "outputs": [
    {
     "data": {
      "text/plain": [
       "<module 'modelTrainer' from 'B:\\\\School\\\\Master\\\\Thesis\\\\MasterThesis\\\\EvoMusicCompanion\\\\modelTrainer.py'>"
      ]
     },
     "execution_count": 147,
     "metadata": {},
     "output_type": "execute_result"
    }
   ],
   "source": [
    "importlib.reload(initialisation)\n",
    "importlib.reload(modelTrainer)"
   ]
  },
  {
   "cell_type": "code",
   "execution_count": null,
   "metadata": {},
   "outputs": [],
   "source": []
  },
  {
   "cell_type": "code",
   "execution_count": 144,
   "metadata": {},
   "outputs": [],
   "source": [
    "scores = modelTrainer.get_corpus()"
   ]
  },
  {
   "cell_type": "code",
   "execution_count": 145,
   "metadata": {},
   "outputs": [],
   "source": [
    "notes, possible_notes = modelTrainer.get_notes_per_score(scores)\n"
   ]
  },
  {
   "cell_type": "code",
   "execution_count": 148,
   "metadata": {},
   "outputs": [],
   "source": [
    "frequency_array = modelTrainer.create_frequency_array(notes)\n",
    "frequency_matrix = modelTrainer.create_frequency_matrix(notes, possible_notes)"
   ]
  },
  {
   "cell_type": "code",
   "execution_count": null,
   "metadata": {},
   "outputs": [],
   "source": [
    "frequency_matrix[\"C3\"]"
   ]
  },
  {
   "cell_type": "code",
   "execution_count": 149,
   "metadata": {},
   "outputs": [],
   "source": [
    "matrix = modelTrainer.get_probabilistic_matrix(frequency_matrix, frequency_array, possible_notes)"
   ]
  },
  {
   "cell_type": "code",
   "execution_count": null,
   "metadata": {},
   "outputs": [],
   "source": [
    "matrix"
   ]
  },
  {
   "cell_type": "code",
   "execution_count": null,
   "metadata": {},
   "outputs": [],
   "source": [
    "population = initialisation.initialize_population(10, 6, matrix)"
   ]
  },
  {
   "cell_type": "code",
   "execution_count": null,
   "metadata": {},
   "outputs": [],
   "source": [
    "samples = population[1:3]"
   ]
  },
  {
   "cell_type": "code",
   "execution_count": 151,
   "metadata": {},
   "outputs": [],
   "source": [
    "possible_notes = set(modelTrainer.flatten(samples))\n",
    "freq_array = modelTrainer.create_frequency_array(samples)\n",
    "\n"
   ]
  },
  {
   "cell_type": "code",
   "execution_count": 152,
   "metadata": {},
   "outputs": [],
   "source": [
    "freq_matrix = modelTrainer.create_frequency_matrix(samples, possible_notes)\n",
    "u_matrix = modelTrainer.get_probabilistic_matrix(freq_matrix, freq_array, possible_notes)"
   ]
  },
  {
   "cell_type": "code",
   "execution_count": 168,
   "metadata": {},
   "outputs": [
    {
     "data": {
      "text/html": [
       "<div>\n",
       "<style scoped>\n",
       "    .dataframe tbody tr th:only-of-type {\n",
       "        vertical-align: middle;\n",
       "    }\n",
       "\n",
       "    .dataframe tbody tr th {\n",
       "        vertical-align: top;\n",
       "    }\n",
       "\n",
       "    .dataframe thead th {\n",
       "        text-align: right;\n",
       "    }\n",
       "</style>\n",
       "<table border=\"1\" class=\"dataframe\">\n",
       "  <thead>\n",
       "    <tr style=\"text-align: right;\">\n",
       "      <th></th>\n",
       "      <th>C4</th>\n",
       "      <th>D5</th>\n",
       "      <th></th>\n",
       "      <th>F4</th>\n",
       "      <th>B3</th>\n",
       "      <th>G5</th>\n",
       "      <th>B4</th>\n",
       "      <th>F3</th>\n",
       "      <th>C5</th>\n",
       "      <th>E3</th>\n",
       "    </tr>\n",
       "  </thead>\n",
       "  <tbody>\n",
       "    <tr>\n",
       "      <td>C4</td>\n",
       "      <td>0.0</td>\n",
       "      <td>0.000000</td>\n",
       "      <td>0.0</td>\n",
       "      <td>0.0</td>\n",
       "      <td>1.0</td>\n",
       "      <td>0.0</td>\n",
       "      <td>0.0</td>\n",
       "      <td>0.0</td>\n",
       "      <td>0.0</td>\n",
       "      <td>0.0</td>\n",
       "    </tr>\n",
       "    <tr>\n",
       "      <td>D5</td>\n",
       "      <td>0.0</td>\n",
       "      <td>0.666667</td>\n",
       "      <td>0.0</td>\n",
       "      <td>0.0</td>\n",
       "      <td>0.0</td>\n",
       "      <td>1.0</td>\n",
       "      <td>0.0</td>\n",
       "      <td>0.0</td>\n",
       "      <td>0.0</td>\n",
       "      <td>0.0</td>\n",
       "    </tr>\n",
       "    <tr>\n",
       "      <td></td>\n",
       "      <td>0.0</td>\n",
       "      <td>0.000000</td>\n",
       "      <td>0.0</td>\n",
       "      <td>1.0</td>\n",
       "      <td>0.0</td>\n",
       "      <td>0.0</td>\n",
       "      <td>0.0</td>\n",
       "      <td>0.0</td>\n",
       "      <td>1.0</td>\n",
       "      <td>0.0</td>\n",
       "    </tr>\n",
       "    <tr>\n",
       "      <td>F4</td>\n",
       "      <td>1.0</td>\n",
       "      <td>0.000000</td>\n",
       "      <td>0.0</td>\n",
       "      <td>0.0</td>\n",
       "      <td>0.0</td>\n",
       "      <td>0.0</td>\n",
       "      <td>0.0</td>\n",
       "      <td>0.0</td>\n",
       "      <td>0.0</td>\n",
       "      <td>0.0</td>\n",
       "    </tr>\n",
       "    <tr>\n",
       "      <td>B3</td>\n",
       "      <td>0.0</td>\n",
       "      <td>0.000000</td>\n",
       "      <td>0.0</td>\n",
       "      <td>0.0</td>\n",
       "      <td>0.0</td>\n",
       "      <td>0.0</td>\n",
       "      <td>0.0</td>\n",
       "      <td>1.0</td>\n",
       "      <td>0.0</td>\n",
       "      <td>0.0</td>\n",
       "    </tr>\n",
       "    <tr>\n",
       "      <td>G5</td>\n",
       "      <td>0.0</td>\n",
       "      <td>0.000000</td>\n",
       "      <td>0.5</td>\n",
       "      <td>0.0</td>\n",
       "      <td>0.0</td>\n",
       "      <td>0.0</td>\n",
       "      <td>0.0</td>\n",
       "      <td>0.0</td>\n",
       "      <td>0.0</td>\n",
       "      <td>0.0</td>\n",
       "    </tr>\n",
       "    <tr>\n",
       "      <td>B4</td>\n",
       "      <td>0.0</td>\n",
       "      <td>0.333333</td>\n",
       "      <td>0.0</td>\n",
       "      <td>0.0</td>\n",
       "      <td>0.0</td>\n",
       "      <td>0.0</td>\n",
       "      <td>0.0</td>\n",
       "      <td>0.0</td>\n",
       "      <td>0.0</td>\n",
       "      <td>0.0</td>\n",
       "    </tr>\n",
       "    <tr>\n",
       "      <td>F3</td>\n",
       "      <td>0.0</td>\n",
       "      <td>0.000000</td>\n",
       "      <td>0.0</td>\n",
       "      <td>0.0</td>\n",
       "      <td>0.0</td>\n",
       "      <td>0.0</td>\n",
       "      <td>0.0</td>\n",
       "      <td>0.0</td>\n",
       "      <td>0.0</td>\n",
       "      <td>0.5</td>\n",
       "    </tr>\n",
       "    <tr>\n",
       "      <td>C5</td>\n",
       "      <td>0.0</td>\n",
       "      <td>0.000000</td>\n",
       "      <td>0.0</td>\n",
       "      <td>0.0</td>\n",
       "      <td>0.0</td>\n",
       "      <td>0.0</td>\n",
       "      <td>1.0</td>\n",
       "      <td>0.0</td>\n",
       "      <td>0.0</td>\n",
       "      <td>0.0</td>\n",
       "    </tr>\n",
       "    <tr>\n",
       "      <td>E3</td>\n",
       "      <td>0.0</td>\n",
       "      <td>0.000000</td>\n",
       "      <td>0.5</td>\n",
       "      <td>0.0</td>\n",
       "      <td>0.0</td>\n",
       "      <td>0.0</td>\n",
       "      <td>0.0</td>\n",
       "      <td>0.0</td>\n",
       "      <td>0.0</td>\n",
       "      <td>0.5</td>\n",
       "    </tr>\n",
       "  </tbody>\n",
       "</table>\n",
       "</div>"
      ],
      "text/plain": [
       "     C4        D5        F4   B3   G5   B4   F3   C5   E3\n",
       "C4  0.0  0.000000  0.0  0.0  1.0  0.0  0.0  0.0  0.0  0.0\n",
       "D5  0.0  0.666667  0.0  0.0  0.0  1.0  0.0  0.0  0.0  0.0\n",
       "    0.0  0.000000  0.0  1.0  0.0  0.0  0.0  0.0  1.0  0.0\n",
       "F4  1.0  0.000000  0.0  0.0  0.0  0.0  0.0  0.0  0.0  0.0\n",
       "B3  0.0  0.000000  0.0  0.0  0.0  0.0  0.0  1.0  0.0  0.0\n",
       "G5  0.0  0.000000  0.5  0.0  0.0  0.0  0.0  0.0  0.0  0.0\n",
       "B4  0.0  0.333333  0.0  0.0  0.0  0.0  0.0  0.0  0.0  0.0\n",
       "F3  0.0  0.000000  0.0  0.0  0.0  0.0  0.0  0.0  0.0  0.5\n",
       "C5  0.0  0.000000  0.0  0.0  0.0  0.0  1.0  0.0  0.0  0.0\n",
       "E3  0.0  0.000000  0.5  0.0  0.0  0.0  0.0  0.0  0.0  0.5"
      ]
     },
     "execution_count": 168,
     "metadata": {},
     "output_type": "execute_result"
    }
   ],
   "source": [
    "u_matrix"
   ]
  },
  {
   "cell_type": "code",
   "execution_count": 154,
   "metadata": {},
   "outputs": [],
   "source": [
    "error_matrix = u_matrix.subtract(matrix, fill_value=0.0)\n",
    "    "
   ]
  },
  {
   "cell_type": "code",
   "execution_count": 167,
   "metadata": {},
   "outputs": [
    {
     "data": {
      "text/plain": [
       "C4    0.0\n",
       "D5    0.0\n",
       "      0.0\n",
       "F4    1.0\n",
       "B3    0.0\n",
       "G5    0.0\n",
       "B4    0.0\n",
       "F3    0.0\n",
       "C5    0.0\n",
       "E3    0.0\n",
       "Name: C4, dtype: float64"
      ]
     },
     "execution_count": 167,
     "metadata": {},
     "output_type": "execute_result"
    }
   ],
   "source": [
    "u_matrix[\"C4\"]"
   ]
  },
  {
   "cell_type": "code",
   "execution_count": 163,
   "metadata": {},
   "outputs": [],
   "source": [
    "newMatrix = matrix.copy()\n",
    "for i in newMatrix.keys(): #Col\n",
    "    for j in newMatrix.keys(): #row\n",
    "        difference = 0.0\n",
    "        if i in u_matrix and j in u_matrix[i]:\n",
    "            difference = matrix[i][j] - u_matrix[i][j]\n",
    "        else if i not in u_matrix:\n",
    "            difference = 0.0\n",
    "        else:\n",
    "            difference = - matrix[i][j]\n",
    "            \n",
    "        newMatrix[i][j] = matrix[i][j] + (difference * 0.5)\n"
   ]
  },
  {
   "cell_type": "code",
   "execution_count": 164,
   "metadata": {},
   "outputs": [
    {
     "data": {
      "text/plain": [
       "F5     0.5\n",
       "A4     0.5\n",
       "D#3    0.5\n",
       "G3     0.5\n",
       "E4     0.5\n",
       "C6     0.5\n",
       "F#4    0.5\n",
       "C#6    0.5\n",
       "E6     0.5\n",
       "A6     0.5\n",
       "G6     0.5\n",
       "F6     0.5\n",
       "G4     0.5\n",
       "D3     0.5\n",
       "B#5    0.5\n",
       "G#4    0.5\n",
       "A3     0.5\n",
       "       1.0\n",
       "B4     1.0\n",
       "B#4    0.5\n",
       "A5     0.5\n",
       "C7     0.5\n",
       "B#3    0.5\n",
       "C#5    0.5\n",
       "G#5    0.5\n",
       "D6     0.5\n",
       "C#4    0.5\n",
       "B6     0.5\n",
       "E#5    0.5\n",
       "D#6    0.5\n",
       "C#7    0.5\n",
       "D#4    0.5\n",
       "D5     1.0\n",
       "E5     0.5\n",
       "D#5    0.5\n",
       "F4     1.0\n",
       "G5     1.0\n",
       "A#5    0.5\n",
       "E#6    0.5\n",
       "F#3    0.5\n",
       "G#6    0.5\n",
       "F#5    0.5\n",
       "G#3    0.5\n",
       "A#4    0.5\n",
       "E3     1.0\n",
       "C3     0.5\n",
       "C4     1.0\n",
       "A#3    0.5\n",
       "B3     1.0\n",
       "E#4    0.5\n",
       "F3     1.0\n",
       "C5     1.0\n",
       "A#6    0.5\n",
       "B5     0.5\n",
       "F#6    0.5\n",
       "D4     0.5\n",
       "dtype: float64"
      ]
     },
     "execution_count": 164,
     "metadata": {},
     "output_type": "execute_result"
    }
   ],
   "source": [
    "newMatrix.sum(0)"
   ]
  }
 ],
 "metadata": {
  "kernelspec": {
   "display_name": "Python 3",
   "language": "python",
   "name": "python3"
  },
  "language_info": {
   "codemirror_mode": {
    "name": "ipython",
    "version": 3
   },
   "file_extension": ".py",
   "mimetype": "text/x-python",
   "name": "python",
   "nbconvert_exporter": "python",
   "pygments_lexer": "ipython3",
   "version": "3.7.4"
  }
 },
 "nbformat": 4,
 "nbformat_minor": 4
}
