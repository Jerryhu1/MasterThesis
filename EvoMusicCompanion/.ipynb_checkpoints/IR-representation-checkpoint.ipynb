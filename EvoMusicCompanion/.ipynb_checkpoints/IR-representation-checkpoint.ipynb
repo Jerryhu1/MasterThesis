{
 "cells": [
  {
   "cell_type": "code",
   "execution_count": 7,
   "metadata": {},
   "outputs": [
    {
     "name": "stderr",
     "output_type": "stream",
     "text": [
      "music21: Certain music21 functions might need the optional package matplotlib;\n",
      "                  if you run into errors, install it by following the instructions at\n",
      "                  http://mit.edu/music21/doc/installing/installAdditional.html\n"
     ]
    }
   ],
   "source": [
    "from ea import *\n",
    "\n",
    "from ea import individual"
   ]
  },
  {
   "cell_type": "code",
   "execution_count": 10,
   "metadata": {},
   "outputs": [],
   "source": [
    "def narmour(individual: individual.Individual):\n",
    "    notes = util.flatten(map(lambda x: x.notes, individual.measures))\n",
    "    pitches = map(lambda x: x.pitch, notes)\n",
    "    pitches = list(filter(lambda x: x != 'REST', pitches))\n",
    "    fitness = 0\n",
    "    for i in range(2, len(pitches)):\n",
    "        n1 = pitch.Pitch(pitches[i - 2])\n",
    "        n2 = pitch.Pitch(pitches[i - 1])\n",
    "        n3 = pitch.Pitch(pitches[i])\n",
    "\n",
    "        impl_interval = n2.midi - n1.midi\n",
    "        real_interval = n3.midi - n2.midi\n",
    "        u1 = registral_direction(impl_interval, real_interval) \n",
    "        u2 = int_diff(impl_interval, real_interval) \n",
    "        u3 = closure(impl_interval, real_interval) \n",
    "        u4 = registral_return(impl_interval, real_interval) \n",
    "        u5 = proximity(real_interval)\n",
    "        \n",
    "    return (u1, u2, u3, u4, u5)\n",
    "\n",
    "\n",
    "# Small intervals imply a continuation in pitch direction\n",
    "# Large intervals imply a change of direction\n",
    "def registral_direction(impl_int, real_int):\n",
    "    # If small interval\n",
    "    if impl_int <= 6 and sign(impl_int) == sign(real_int):\n",
    "        return 1\n",
    "    if impl_int > 6 and sign(impl_int) != sign(real_int):\n",
    "        return 2\n",
    "    return 0\n",
    "\n",
    "\n",
    "def int_diff(impl_int, real_int):\n",
    "    # Small interval implies small interval, with diff contour\n",
    "    if impl_int < 6 \\\n",
    "            and sign(impl_int) == sign(real_int) \\\n",
    "            and abs(impl_int - real_int) < 3:\n",
    "        return 1\n",
    "    if impl_int < 6 \\\n",
    "            and sign(impl_int) != sign(real_int) \\\n",
    "            and abs(impl_int - real_int) < 4:\n",
    "        return 1\n",
    "    if impl_int > 6 and impl_int >= real_int:\n",
    "        return 1\n",
    "    return 0\n",
    "\n",
    "\n",
    "def registral_return(impl_int, real_int):\n",
    "    if abs(impl_int - real_int) <= 2:\n",
    "        return 1\n",
    "    return 0\n",
    "\n",
    "\n",
    "def closure(impl_int, real_int):\n",
    "    # Changes direction and\n",
    "    if sign(impl_int) != sign(real_int) and abs(impl_int) - abs(real_int) > 2:\n",
    "        return 2\n",
    "    if sign(impl_int) != sign(real_int) and abs(impl_int) - abs(real_int) < 3:\n",
    "        return 1\n",
    "    if sign(impl_int) == sign(real_int) and abs(impl_int) - abs(real_int) > 3:\n",
    "        return 1\n",
    "    return 0\n",
    "\n",
    "\n",
    "def proximity(real_int):\n",
    "    real_int = abs(real_int)\n",
    "    if real_int >= 6:\n",
    "        return 0\n",
    "    if 3 >= real_int <= 5:\n",
    "        return 1\n",
    "    if 0 >= real_int <= 2:\n",
    "        return 1\n",
    "    return 0"
   ]
  }
 ],
 "metadata": {
  "kernelspec": {
   "display_name": "Python 3",
   "language": "python",
   "name": "python3"
  },
  "language_info": {
   "codemirror_mode": {
    "name": "ipython",
    "version": 3
   },
   "file_extension": ".py",
   "mimetype": "text/x-python",
   "name": "python",
   "nbconvert_exporter": "python",
   "pygments_lexer": "ipython3",
   "version": "3.7.4"
  }
 },
 "nbformat": 4,
 "nbformat_minor": 4
}
