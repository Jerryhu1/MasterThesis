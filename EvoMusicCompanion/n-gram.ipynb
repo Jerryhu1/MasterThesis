{
 "cells": [
  {
   "cell_type": "code",
   "execution_count": 12,
   "metadata": {},
   "outputs": [],
   "source": [
    "from music21 import *\n",
    "from collections import Counter, defaultdict\n",
    "\n",
    "import collections\n",
    "import numpy as np\n",
    "import pandas as pd\n",
    "import gzip\n",
    "import random\n",
    "import nltk\n",
    "import music21\n",
    "import util\n"
   ]
  },
  {
   "cell_type": "code",
   "execution_count": null,
   "metadata": {},
   "outputs": [],
   "source": []
  },
  {
   "cell_type": "code",
   "execution_count": null,
   "metadata": {},
   "outputs": [],
   "source": [
    "us = environment.UserSettings()\n",
    "us['musicxmlPath'] = 'C:/Program Files/MuseScore 3/bin/MuseScore3.exe'\n",
    "us['musescoreDirectPNGPath'] = 'C:/Program Files/MuseScore 3/bin/MuseScore3.exe'"
   ]
  },
  {
   "cell_type": "code",
   "execution_count": null,
   "metadata": {},
   "outputs": [],
   "source": [
    "coreCorpus = music21.corpus.corpora.CoreCorpus()\n",
    "curr_corpus = music21.corpus.search('mozart', 'composer')\n",
    "\n",
    "scores = []\n",
    "for c in curr_corpus:\n",
    "    score = c.parse()\n",
    "    scores.append(score)"
   ]
  },
  {
   "cell_type": "code",
   "execution_count": null,
   "metadata": {},
   "outputs": [],
   "source": [
    "# Add lakh corpus\n",
    "localCorpus = corpus.corpora.LocalCorpus()\n",
    "lakh_corpus = corpus.corpora.LocalCorpus('lakh')\n",
    "print(lakh_corpus.existsInSettings)\n",
    "lakh_corpus.addPath('./midi/lakh')\n",
    "lakh_corpus.save()\n",
    "print(lakh_corpus.existsInSettings)"
   ]
  },
  {
   "cell_type": "code",
   "execution_count": 19,
   "metadata": {},
   "outputs": [],
   "source": [
    "lakh_corpus = corpus.corpora.LocalCorpus('lakh')\n",
    "scores = []\n",
    "lakh_subset = lakh_corpus.metadataBundle[0:10]\n",
    "for c in lakh_subset:\n",
    "    score = c.parse()\n",
    "    score = util.transpose_piece(score, 'C')\n",
    "    scores.append(c.parse())"
   ]
  },
  {
   "cell_type": "code",
   "execution_count": 23,
   "metadata": {},
   "outputs": [
    {
     "data": {
      "text/plain": [
       "17"
      ]
     },
     "execution_count": 23,
     "metadata": {},
     "output_type": "execute_result"
    }
   ],
   "source": [
    "len(scores[0].parts"
   ]
  },
  {
   "cell_type": "code",
   "execution_count": null,
   "metadata": {},
   "outputs": [],
   "source": [
    "note.Note('B').isChord"
   ]
  },
  {
   "cell_type": "code",
   "execution_count": null,
   "metadata": {},
   "outputs": [],
   "source": [
    "test = scores[0].parts[0].getElementsByClass(stream.Measure).flat.notesAndRests.stream()\n",
    "for i in test:\n",
    "    if i.isChord:\n",
    "        print(i)"
   ]
  },
  {
   "cell_type": "code",
   "execution_count": 20,
   "metadata": {},
   "outputs": [
    {
     "data": {
      "text/plain": [
       "[]"
      ]
     },
     "execution_count": 20,
     "metadata": {},
     "output_type": "execute_result"
    }
   ],
   "source": [
    "noteIterator = scores[0].parts[0].getElementsByClass(stream.Measure)\n",
    "all_intervals_per_measure = []\n",
    "for i in noteIterator:\n",
    "    firstNote = None\n",
    "    counter = 1\n",
    "    m = []\n",
    "    for j in i.notesAndRests:\n",
    "        if j.isChord or j.isRest or j is None:\n",
    "            continue\n",
    "        if counter == 1:\n",
    "            firstNote = j\n",
    "            counter += 1\n",
    "            continue\n",
    "        #print(j.beatStr)\n",
    "        interv = interval.Interval(firstNote,  j).name\n",
    "        m.append(interv)\n",
    "        counter += 1\n",
    "    all_intervals_per_measure.append(interv)\n",
    "all_intervals_per_measure"
   ]
  },
  {
   "cell_type": "code",
   "execution_count": null,
   "metadata": {},
   "outputs": [],
   "source": [
    "bigrams = list(nltk.bigrams(all_intervals_per_measure))\n",
    "bigrams"
   ]
  },
  {
   "cell_type": "code",
   "execution_count": null,
   "metadata": {},
   "outputs": [],
   "source": [
    "bigrams = list(nltk.bigrams(all_intervals_per_measure))\n",
    "matrix = defaultdict(lambda: defaultdict(lambda: 0))\n",
    "\n",
    "for i1,i2 in bigrams:\n",
    "    matrix[i1][i2] += 1\n",
    "    \n",
    "for i1 in matrix:\n",
    "    total = float(sum(matrix[i1].values()))\n",
    "    for i2 in matrix[i1]:\n",
    "        matrix[i1][i2] /= total\n",
    "    \n",
    "pd_matrix = pd.DataFrame(matrix)\n",
    "pd_matrix = pd_matrix.fillna(0)\n",
    "pd_matrix"
   ]
  },
  {
   "cell_type": "code",
   "execution_count": null,
   "metadata": {},
   "outputs": [],
   "source": []
  },
  {
   "cell_type": "code",
   "execution_count": null,
   "metadata": {},
   "outputs": [],
   "source": [
    "# Get a part of the piece\n",
    "noteIterator = scores[0].parts[0].getElementsByClass(stream.Measure).flat.notesAndRests\n",
    "allNotes = []\n",
    "\n",
    "for el in noteIterator:\n",
    "    if el.isChord:\n",
    "        continue\n",
    "    if el.isRest:\n",
    "        noteName = 'REST'\n",
    "    elif('-' in el.nameWithOctave):\n",
    "        noteName = el.pitch.getEnharmonic().nameWithOctave\n",
    "    else:\n",
    "        noteName = el.nameWithOctave\n",
    "    allNotes.append(noteName)\n",
    "    "
   ]
  },
  {
   "cell_type": "code",
   "execution_count": null,
   "metadata": {},
   "outputs": [],
   "source": [
    "allNotes"
   ]
  },
  {
   "cell_type": "code",
   "execution_count": null,
   "metadata": {},
   "outputs": [],
   "source": [
    "trigrams = list(nltk.trigrams(allNotes))\n",
    "possibleNotes = set(trigrams)"
   ]
  },
  {
   "cell_type": "code",
   "execution_count": null,
   "metadata": {},
   "outputs": [],
   "source": [
    "possibleNotes"
   ]
  },
  {
   "cell_type": "code",
   "execution_count": null,
   "metadata": {},
   "outputs": [],
   "source": [
    "zeros = np.full((len(possibleNotes), len(possibleNotes)), 0)\n",
    "matrix = pd.DataFrame(zeros, index=possibleNotes, columns=possibleNotes)\n",
    "matrix = matrix.astype(float)"
   ]
  },
  {
   "cell_type": "code",
   "execution_count": null,
   "metadata": {},
   "outputs": [],
   "source": [
    "trigrams"
   ]
  },
  {
   "cell_type": "code",
   "execution_count": null,
   "metadata": {},
   "outputs": [],
   "source": [
    "zeros = np.full((len(possibleNotes), len(possibleNotes)), 0)\n",
    "matrix = defaultdict(lambda: defaultdict(lambda: 0))\n",
    "\n",
    "for n1,n2,n3 in trigrams:\n",
    "    matrix[(n1,n2)][n3] += 1\n",
    "    #     if (n1,n2) in matrix:\n",
    "#         if n3 in matrix[(n1,n2)]:\n",
    "#             matrix[(n1, n2)][n3] = matrix[(n1, n2)][n3] + 1\n",
    "#         else:\n",
    "#             matrix[(n1,n2)][n3] = 1\n",
    "#     else:\n",
    "#         matrix[(n1,n2)] = {}\n",
    "#         matrix[(n1,n2)][n3] = 1\n",
    "\n",
    "\n",
    "for n1_n2 in matrix:\n",
    "    total_count = float(sum(matrix[n1_n2].values()))\n",
    "    for n3 in matrix[n1_n2]:\n",
    "        matrix[n1_n2][n3] /= total_count\n",
    "        \n",
    "pd_matrix = pd.DataFrame(matrix)\n",
    "pd_matrix = pd_matrix.fillna(0)\n",
    "pd_matrix"
   ]
  },
  {
   "cell_type": "code",
   "execution_count": null,
   "metadata": {},
   "outputs": [],
   "source": [
    "pd_matrix.to_csv('./test.csvv')"
   ]
  },
  {
   "cell_type": "code",
   "execution_count": null,
   "metadata": {},
   "outputs": [],
   "source": [
    "# Get frequency array\n",
    "counter = collections.Counter(flatten(bigrams))\n",
    "# Initial note counter\n",
    "counter[' '] = len(allNotesPerPiece)\n",
    "\n",
    "noteRows = possibleNotes.add(' ')\n",
    "\n",
    "zeros = np.full((len(possibleNotes), len(possibleNotes)), 0)\n",
    "matrix = pd.DataFrame(zeros, index=possibleNotes, columns=possibleNotes)\n",
    "matrix = matrix.astype(float)\n",
    "\n",
    "for allNotes in allNotesPerPiece:\n",
    "    # Fill transition matrix frequencies\n",
    "    for i in range(len(allNotes)+1):\n",
    "        # First note\n",
    "        if(i == 0):\n",
    "            matrix[' '][allNotes[i]] = matrix[' '][allNotes[i]] + 1\n",
    "            continue\n",
    "        # Last note\n",
    "        if(i == len(allNotes)):\n",
    "            matrix[allNotes[i-1]][' '] = matrix[allNotes[i-1]][' '] + 1\n",
    "            continue\n",
    "\n",
    "        currNote = allNotes[i-1]\n",
    "        nextNote = allNotes[i]\n",
    "\n",
    "        matrix[currNote][nextNote] = matrix[currNote][nextNote] + 1\n"
   ]
  }
 ],
 "metadata": {
  "kernelspec": {
   "display_name": "Python 3",
   "language": "python",
   "name": "python3"
  },
  "language_info": {
   "codemirror_mode": {
    "name": "ipython",
    "version": 3
   },
   "file_extension": ".py",
   "mimetype": "text/x-python",
   "name": "python",
   "nbconvert_exporter": "python",
   "pygments_lexer": "ipython3",
   "version": "3.7.1"
  }
 },
 "nbformat": 4,
 "nbformat_minor": 4
}
