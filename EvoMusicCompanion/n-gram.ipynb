{
 "cells": [
  {
   "cell_type": "code",
   "execution_count": 7,
   "metadata": {},
   "outputs": [],
   "source": [
    "from music21 import *\n",
    "\n",
    "import collections\n",
    "import numpy as np\n",
    "import pandas as pd\n",
    "import gzip\n",
    "import random\n",
    "import nltk\n",
    "import music21"
   ]
  },
  {
   "cell_type": "code",
   "execution_count": null,
   "metadata": {},
   "outputs": [],
   "source": [
    "us = environment.UserSettings()\n",
    "us['musicxmlPath'] = 'C:/Program Files/MuseScore 3/bin/MuseScore3.exe'\n",
    "us['musescoreDirectPNGPath'] = 'C:/Program Files/MuseScore 3/bin/MuseScore3.exe'"
   ]
  },
  {
   "cell_type": "code",
   "execution_count": 9,
   "metadata": {},
   "outputs": [],
   "source": [
    "coreCorpus = music21.corpus.corpora.CoreCorpus()\n",
    "curr_corpus = music21.corpus.search('mozart', 'composer')\n",
    "\n",
    "scores = []\n",
    "for c in curr_corpus:\n",
    "    score = c.parse()\n",
    "    scores.append(score)"
   ]
  },
  {
   "cell_type": "code",
   "execution_count": 10,
   "metadata": {},
   "outputs": [],
   "source": [
    "# Get a part of the piece\n",
    "noteIterator = scores[0].parts[0].getElementsByClass(stream.Measure).flat.getElementsByClass('Note')\n",
    "allNotes = []\n",
    "\n",
    "for el in noteIterator:\n",
    "    if('-' in el.nameWithOctave):\n",
    "        noteName = el.pitch.getEnharmonic().nameWithOctave\n",
    "        allNotes.append(noteName)\n",
    "    else:\n",
    "        noteName = el.nameWithOctave\n",
    "        allNotes.append(noteName)"
   ]
  },
  {
   "cell_type": "code",
   "execution_count": 15,
   "metadata": {},
   "outputs": [
    {
     "data": {
      "text/plain": [
       "['A4', 'A4', 'A4', 'B4', 'A4', 'B4', 'A4', 'A4', 'B4', 'C#5']"
      ]
     },
     "execution_count": 15,
     "metadata": {},
     "output_type": "execute_result"
    }
   ],
   "source": [
    "allNotes[:10]"
   ]
  },
  {
   "cell_type": "code",
   "execution_count": 23,
   "metadata": {},
   "outputs": [],
   "source": [
    "trigrams = list(nltk.trigrams(allNotes))\n",
    "possibleNotes = set(trigrams)"
   ]
  },
  {
   "cell_type": "code",
   "execution_count": null,
   "metadata": {},
   "outputs": [],
   "source": [
    "trigrams"
   ]
  },
  {
   "cell_type": "code",
   "execution_count": 31,
   "metadata": {},
   "outputs": [
    {
     "name": "stderr",
     "output_type": "stream",
     "text": [
      "b:\\program files\\python\\lib\\site-packages\\ipykernel_launcher.py:7: SettingWithCopyWarning: \n",
      "A value is trying to be set on a copy of a slice from a DataFrame.\n",
      "Try using .loc[row_indexer,col_indexer] = value instead\n",
      "\n",
      "See the caveats in the documentation: http://pandas.pydata.org/pandas-docs/stable/user_guide/indexing.html#returning-a-view-versus-a-copy\n",
      "  import sys\n"
     ]
    }
   ],
   "source": [
    "zeros = np.full((len(possibleNotes), len(possibleNotes)), 0)\n",
    "matrix = pd.DataFrame(zeros, index=possibleNotes, columns=possibleNotes)\n",
    "matrix = matrix.astype(float)\n",
    "\n",
    "\n",
    "for n1,n2,n3 in trigrams:\n",
    "    matrix[(n1, n2)][n3] = matrix[(n1, n2)][n3] + 1\n",
    "\n",
    "    "
   ]
  },
  {
   "cell_type": "code",
   "execution_count": null,
   "metadata": {},
   "outputs": [],
   "source": [
    "# Get frequency array\n",
    "counter = collections.Counter(flatten(bigrams))\n",
    "# Initial note counter\n",
    "counter[' '] = len(allNotesPerPiece)\n",
    "\n",
    "noteRows = possibleNotes.add(' ')\n",
    "\n",
    "zeros = np.full((len(possibleNotes), len(possibleNotes)), 0)\n",
    "matrix = pd.DataFrame(zeros, index=possibleNotes, columns=possibleNotes)\n",
    "matrix = matrix.astype(float)\n",
    "\n",
    "for allNotes in allNotesPerPiece:\n",
    "    # Fill transition matrix frequencies\n",
    "    for i in range(len(allNotes)+1):\n",
    "        # First note\n",
    "        if(i == 0):\n",
    "            matrix[' '][allNotes[i]] = matrix[' '][allNotes[i]] + 1\n",
    "            continue\n",
    "        # Last note\n",
    "        if(i == len(allNotes)):\n",
    "            matrix[allNotes[i-1]][' '] = matrix[allNotes[i-1]][' '] + 1\n",
    "            continue\n",
    "\n",
    "        currNote = allNotes[i-1]\n",
    "        nextNote = allNotes[i]\n",
    "\n",
    "        matrix[currNote][nextNote] = matrix[currNote][nextNote] + 1\n"
   ]
  }
 ],
 "metadata": {
  "kernelspec": {
   "display_name": "Python 3",
   "language": "python",
   "name": "python3"
  },
  "language_info": {
   "codemirror_mode": {
    "name": "ipython",
    "version": 3
   },
   "file_extension": ".py",
   "mimetype": "text/x-python",
   "name": "python",
   "nbconvert_exporter": "python",
   "pygments_lexer": "ipython3",
   "version": "3.7.4"
  }
 },
 "nbformat": 4,
 "nbformat_minor": 4
}
