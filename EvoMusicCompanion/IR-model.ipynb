{
 "cells": [
  {
   "cell_type": "code",
   "execution_count": 1,
   "metadata": {},
   "outputs": [
    {
     "name": "stderr",
     "output_type": "stream",
     "text": [
      "music21: Certain music21 functions might need these optional packages: matplotlib, scipy;\n",
      "                   if you run into errors, install them by following the instructions at\n",
      "                   http://mit.edu/music21/doc/installing/installAdditional.html\n"
     ]
    }
   ],
   "source": [
    "from music21 import *\n",
    "import collections\n",
    "import numpy as np\n",
    "import pandas as pd\n",
    "import gzip\n",
    "import random"
   ]
  },
  {
   "cell_type": "code",
   "execution_count": 31,
   "metadata": {},
   "outputs": [],
   "source": [
    "from collections import Counter, defaultdict\n",
    "from ea import initialisation, modelTrainer, musicPlayer, simulation, fitness, duration, individual, util\n",
    "from music21 import corpus, note, duration, chord, pitch, interval\n",
    "import pandas as pd\n",
    "import random"
   ]
  },
  {
   "cell_type": "code",
   "execution_count": null,
   "metadata": {},
   "outputs": [],
   "source": [
    "importlib.reload(initialisation)\n",
    "importlib.reload(modelTrainer)\n",
    "importlib.reload(musicPlayer)\n",
    "importlib.reload(simulation)\n",
    "importlib.reload(fitness)\n",
    "importlib.reload(music21)\n",
    "importlib.reload(constants)\n",
    "importlib.reload(util)\n",
    "importlib.reload(individual)\n",
    "importlib.reload(fitness)"
   ]
  },
  {
   "cell_type": "code",
   "execution_count": null,
   "metadata": {},
   "outputs": [],
   "source": [
    "wiki_corpus = corpus.corpora.LocalCorpus('wiki')\n",
    "curr_corpus = corpus.corpora.CoreCorpus()\n",
    "curr_corpus = curr_corpus.search('mozart', 'composer')\n",
    "\n",
    "scores = []\n",
    "for c in curr_corpus:\n",
    "    score = c.parse()\n",
    "    score = util.transpose_piece(score, 'C')\n",
    "    scores.append(score)"
   ]
  },
  {
   "cell_type": "code",
   "execution_count": null,
   "metadata": {},
   "outputs": [],
   "source": [
    "wiki_corpus = corpus.corpora.LocalCorpus('wiki')\n",
    "curr_corpus = wiki_corpus.metadataBundle\n",
    "\n",
    "scores = []\n",
    "for c in curr_corpus:\n",
    "    score = c.parse()\n",
    "    score = util.transpose_piece(score, 'C')\n",
    "    scores.append(score)"
   ]
  },
  {
   "cell_type": "code",
   "execution_count": 10,
   "metadata": {},
   "outputs": [],
   "source": [
    "# Initialize duration for individual first\n",
    "duration_matrix = modelTrainer.train_duration_matrix(scores)"
   ]
  },
  {
   "cell_type": "code",
   "execution_count": null,
   "metadata": {},
   "outputs": [],
   "source": [
    "individual: {\n",
    "    sections: {\n",
    "        'intro' : [Measure],\n",
    "        'verse I' : [Measure],\n",
    "        'chorus' : [Measure],\n",
    "        'verse II' : [Measure],\n",
    "        'chorus' : [Measure],\n",
    "    }\n",
    "    \n",
    "    \n",
    "}"
   ]
  },
  {
   "cell_type": "code",
   "execution_count": null,
   "metadata": {},
   "outputs": [],
   "source": [
    "def initialize_by_duration(population_size):\n",
    "    duration_population = []\n",
    "    \n",
    "    for i in range(population_size):\n",
    "        for j in 4:\n",
    "            "
   ]
  },
  {
   "cell_type": "code",
   "execution_count": 11,
   "metadata": {},
   "outputs": [],
   "source": [
    "pitches = modelTrainer.get_pitches_per_score(scores)\n",
    "pitches = list(map(lambda y: list(filter(lambda x: x != 'REST', y)), pitches))"
   ]
  },
  {
   "cell_type": "code",
   "execution_count": 12,
   "metadata": {},
   "outputs": [],
   "source": [
    "pitch_matrix = modelTrainer.train_pitch_matrix(scores)"
   ]
  },
  {
   "cell_type": "code",
   "execution_count": null,
   "metadata": {},
   "outputs": [],
   "source": [
    "pitch_matrix"
   ]
  },
  {
   "cell_type": "code",
   "execution_count": 16,
   "metadata": {},
   "outputs": [],
   "source": [
    "symbols = []\n",
    "\n",
    "for s in pitches:\n",
    "    curr_symbols = []\n",
    "    for i in range(2, len(s)):\n",
    "        n1 = pitch.Pitch(s[i-2])\n",
    "        n2 = pitch.Pitch(s[i-1])\n",
    "        n3 = pitch.Pitch(s[i])\n",
    "        # print(f'{n1}, {n2}, {n3}')\n",
    "        \n",
    "        impl_interval = n2.midi - n1.midi\n",
    "        real_interval = n3.midi - n2.midi\n",
    "        # print(f'ímpl int: {impl_interval}')\n",
    "        # print(f'real int: {real_interval}')\n",
    "        \n",
    "        is_same_direction = (impl_interval <= 0 and real_interval <= impl_interval) or (impl_interval >= 0 and real_interval >= impl_interval) \n",
    "        is_small_impl_interval = abs(impl_interval) <= 5\n",
    "        is_small_real_interval = abs(real_interval) <= 5\n",
    "        # Small impl_interval\n",
    "        if is_small_impl_interval:\n",
    "            \n",
    "            #small real_interval\n",
    "            if is_small_real_interval:\n",
    "                \n",
    "                # Unchanging direction\n",
    "                if is_same_direction:\n",
    "                    new_symbol = \"PV\"\n",
    "                # Changing direction\n",
    "                else:\n",
    "                    if n1 == n3:\n",
    "                        new_symbol = \"QE\"\n",
    "                    new_symbol = \"QV\"\n",
    "            #Large real_interval\n",
    "            else:\n",
    "                # Unchanging direction\n",
    "                if is_same_direction:\n",
    "                    new_symbol = \"PR\"\n",
    "                # Changing direction\n",
    "                else:\n",
    "                    new_symbol = \"QR\"\n",
    "        # Large impl_interval\n",
    "        else:\n",
    "            #small real_interval\n",
    "            if is_small_real_interval:\n",
    "                # Unchanging direction\n",
    "                if is_same_direction:\n",
    "                    new_symbol = \"PF\"\n",
    "                # Changing direction\n",
    "                else:\n",
    "                    if n1 == n3:\n",
    "                        new_symbol = \"QE\"\n",
    "                    new_symbol = \"QF\"\n",
    "            #Large real_interval\n",
    "            else:\n",
    "                # Unchanging direction\n",
    "                if is_same_direction:\n",
    "                    new_symbol = \"PL\"\n",
    "                # Changing direction\n",
    "                else:\n",
    "                    new_symbol = \"QL\"\n",
    "        curr_symbols.append(new_symbol)\n",
    "    symbols.append(curr_symbols)   "
   ]
  },
  {
   "cell_type": "code",
   "execution_count": 17,
   "metadata": {},
   "outputs": [],
   "source": [
    "symbol_tuples = []\n",
    "for j in symbols:\n",
    "    for i in range(1, len(j)-1):\n",
    "\n",
    "        prev = j[i-1]\n",
    "        curr = j[i]\n",
    "        symbol_tuples.append((prev,curr))"
   ]
  },
  {
   "cell_type": "code",
   "execution_count": 29,
   "metadata": {},
   "outputs": [
    {
     "data": {
      "text/html": [
       "<div>\n",
       "<style scoped>\n",
       "    .dataframe tbody tr th:only-of-type {\n",
       "        vertical-align: middle;\n",
       "    }\n",
       "\n",
       "    .dataframe tbody tr th {\n",
       "        vertical-align: top;\n",
       "    }\n",
       "\n",
       "    .dataframe thead th {\n",
       "        text-align: right;\n",
       "    }\n",
       "</style>\n",
       "<table border=\"1\" class=\"dataframe\">\n",
       "  <thead>\n",
       "    <tr style=\"text-align: right;\">\n",
       "      <th></th>\n",
       "      <th>PV</th>\n",
       "      <th>QV</th>\n",
       "      <th>QR</th>\n",
       "      <th>QF</th>\n",
       "      <th>QL</th>\n",
       "      <th>PR</th>\n",
       "    </tr>\n",
       "  </thead>\n",
       "  <tbody>\n",
       "    <tr>\n",
       "      <td>QV</td>\n",
       "      <td>0.511166</td>\n",
       "      <td>0.454586</td>\n",
       "      <td>0.000000</td>\n",
       "      <td>0.371595</td>\n",
       "      <td>0.000000</td>\n",
       "      <td>0.000000</td>\n",
       "    </tr>\n",
       "    <tr>\n",
       "      <td>PV</td>\n",
       "      <td>0.432890</td>\n",
       "      <td>0.497210</td>\n",
       "      <td>0.000000</td>\n",
       "      <td>0.529183</td>\n",
       "      <td>0.000000</td>\n",
       "      <td>0.000000</td>\n",
       "    </tr>\n",
       "    <tr>\n",
       "      <td>QR</td>\n",
       "      <td>0.028423</td>\n",
       "      <td>0.018969</td>\n",
       "      <td>0.000000</td>\n",
       "      <td>0.021401</td>\n",
       "      <td>0.000000</td>\n",
       "      <td>0.000000</td>\n",
       "    </tr>\n",
       "    <tr>\n",
       "      <td>PR</td>\n",
       "      <td>0.027521</td>\n",
       "      <td>0.029235</td>\n",
       "      <td>0.000000</td>\n",
       "      <td>0.077821</td>\n",
       "      <td>0.000000</td>\n",
       "      <td>0.000000</td>\n",
       "    </tr>\n",
       "    <tr>\n",
       "      <td>QF</td>\n",
       "      <td>0.000000</td>\n",
       "      <td>0.000000</td>\n",
       "      <td>0.895455</td>\n",
       "      <td>0.000000</td>\n",
       "      <td>0.887755</td>\n",
       "      <td>0.787671</td>\n",
       "    </tr>\n",
       "    <tr>\n",
       "      <td>QL</td>\n",
       "      <td>0.000000</td>\n",
       "      <td>0.000000</td>\n",
       "      <td>0.104545</td>\n",
       "      <td>0.000000</td>\n",
       "      <td>0.112245</td>\n",
       "      <td>0.212329</td>\n",
       "    </tr>\n",
       "  </tbody>\n",
       "</table>\n",
       "</div>"
      ],
      "text/plain": [
       "          PV        QV        QR        QF        QL        PR\n",
       "QV  0.511166  0.454586  0.000000  0.371595  0.000000  0.000000\n",
       "PV  0.432890  0.497210  0.000000  0.529183  0.000000  0.000000\n",
       "QR  0.028423  0.018969  0.000000  0.021401  0.000000  0.000000\n",
       "PR  0.027521  0.029235  0.000000  0.077821  0.000000  0.000000\n",
       "QF  0.000000  0.000000  0.895455  0.000000  0.887755  0.787671\n",
       "QL  0.000000  0.000000  0.104545  0.000000  0.112245  0.212329"
      ]
     },
     "execution_count": 29,
     "metadata": {},
     "output_type": "execute_result"
    }
   ],
   "source": [
    "symbol_matrix"
   ]
  },
  {
   "cell_type": "code",
   "execution_count": 21,
   "metadata": {},
   "outputs": [],
   "source": [
    "matrix = defaultdict(lambda: defaultdict(lambda: 0))\n",
    "\n",
    "for (i1,i2) in symbol_tuples:\n",
    "    matrix[i1][i2] += 1\n",
    "    \n",
    "for i1 in matrix:\n",
    "    total = float(sum(matrix[i1].values()))\n",
    "    for i2 in matrix[i1]:\n",
    "        matrix[i1][i2] /= total\n",
    "    \n",
    "pd_matrix = pd.DataFrame(matrix)\n",
    "pd_matrix = pd_matrix.fillna(0)\n",
    "symbol_matrix = pd_matrix"
   ]
  },
  {
   "cell_type": "code",
   "execution_count": null,
   "metadata": {},
   "outputs": [],
   "source": [
    "pitch_matrix['C4']"
   ]
  },
  {
   "cell_type": "code",
   "execution_count": 34,
   "metadata": {},
   "outputs": [
    {
     "name": "stdout",
     "output_type": "stream",
     "text": [
      "['C5', 'D5']\n",
      "['C5', 'D5', 'F5']\n",
      "['C5', 'D5', 'F5', 'D5']\n",
      "['C5', 'D5', 'F5', 'D5', None]\n"
     ]
    },
    {
     "name": "stderr",
     "output_type": "stream",
     "text": [
      "b:\\program files\\python\\lib\\site-packages\\ipykernel_launcher.py:15: RuntimeWarning: invalid value encountered in double_scalars\n",
      "  from ipykernel import kernelapp as app\n"
     ]
    },
    {
     "ename": "KeyError",
     "evalue": "None",
     "output_type": "error",
     "traceback": [
      "\u001b[1;31m---------------------------------------------------------------------------\u001b[0m",
      "\u001b[1;31mKeyError\u001b[0m                                  Traceback (most recent call last)",
      "\u001b[1;32mb:\\program files\\python\\lib\\site-packages\\pandas\\core\\indexes\\base.py\u001b[0m in \u001b[0;36mget_loc\u001b[1;34m(self, key, method, tolerance)\u001b[0m\n\u001b[0;32m   2896\u001b[0m             \u001b[1;32mtry\u001b[0m\u001b[1;33m:\u001b[0m\u001b[1;33m\u001b[0m\u001b[1;33m\u001b[0m\u001b[0m\n\u001b[1;32m-> 2897\u001b[1;33m                 \u001b[1;32mreturn\u001b[0m \u001b[0mself\u001b[0m\u001b[1;33m.\u001b[0m\u001b[0m_engine\u001b[0m\u001b[1;33m.\u001b[0m\u001b[0mget_loc\u001b[0m\u001b[1;33m(\u001b[0m\u001b[0mkey\u001b[0m\u001b[1;33m)\u001b[0m\u001b[1;33m\u001b[0m\u001b[1;33m\u001b[0m\u001b[0m\n\u001b[0m\u001b[0;32m   2898\u001b[0m             \u001b[1;32mexcept\u001b[0m \u001b[0mKeyError\u001b[0m\u001b[1;33m:\u001b[0m\u001b[1;33m\u001b[0m\u001b[1;33m\u001b[0m\u001b[0m\n",
      "\u001b[1;32mpandas\\_libs\\index.pyx\u001b[0m in \u001b[0;36mpandas._libs.index.IndexEngine.get_loc\u001b[1;34m()\u001b[0m\n",
      "\u001b[1;32mpandas\\_libs\\index.pyx\u001b[0m in \u001b[0;36mpandas._libs.index.IndexEngine.get_loc\u001b[1;34m()\u001b[0m\n",
      "\u001b[1;32mpandas\\_libs\\hashtable_class_helper.pxi\u001b[0m in \u001b[0;36mpandas._libs.hashtable.PyObjectHashTable.get_item\u001b[1;34m()\u001b[0m\n",
      "\u001b[1;32mpandas\\_libs\\hashtable_class_helper.pxi\u001b[0m in \u001b[0;36mpandas._libs.hashtable.PyObjectHashTable.get_item\u001b[1;34m()\u001b[0m\n",
      "\u001b[1;31mKeyError\u001b[0m: None",
      "\nDuring handling of the above exception, another exception occurred:\n",
      "\u001b[1;31mKeyError\u001b[0m                                  Traceback (most recent call last)",
      "\u001b[1;32m<ipython-input-34-7ffaa58d728f>\u001b[0m in \u001b[0;36m<module>\u001b[1;34m\u001b[0m\n\u001b[1;32m----> 1\u001b[1;33m \u001b[0mgenerate_individual_by_symbols\u001b[0m\u001b[1;33m(\u001b[0m\u001b[0msymbol_matrix\u001b[0m\u001b[1;33m,\u001b[0m \u001b[0mpitch_matrix\u001b[0m\u001b[1;33m)\u001b[0m\u001b[1;33m\u001b[0m\u001b[1;33m\u001b[0m\u001b[0m\n\u001b[0m",
      "\u001b[1;32m<ipython-input-33-aee23fa6c8ef>\u001b[0m in \u001b[0;36mgenerate_individual_by_symbols\u001b[1;34m(symbol_matrix, pitch_matrix)\u001b[0m\n\u001b[0;32m     37\u001b[0m             \u001b[0minterval_size_explicit\u001b[0m \u001b[1;33m=\u001b[0m \u001b[0mget_interval_size\u001b[0m\u001b[1;33m(\u001b[0m\u001b[0minterval_size\u001b[0m\u001b[1;33m)\u001b[0m\u001b[1;33m\u001b[0m\u001b[1;33m\u001b[0m\u001b[0m\n\u001b[0;32m     38\u001b[0m             new_note = sample_by_symbol(\n\u001b[1;32m---> 39\u001b[1;33m                 interval_size_explicit, direction_explicit, notes[-1], pitch_matrix)\n\u001b[0m\u001b[0;32m     40\u001b[0m             \u001b[0mnotes\u001b[0m\u001b[1;33m.\u001b[0m\u001b[0mappend\u001b[0m\u001b[1;33m(\u001b[0m\u001b[0mnew_note\u001b[0m\u001b[1;33m)\u001b[0m\u001b[1;33m\u001b[0m\u001b[1;33m\u001b[0m\u001b[0m\n\u001b[0;32m     41\u001b[0m \u001b[1;33m\u001b[0m\u001b[0m\n",
      "\u001b[1;32m<ipython-input-24-4480101d91d4>\u001b[0m in \u001b[0;36msample_by_symbol\u001b[1;34m(interval_size, direction, prev_note, matrix)\u001b[0m\n\u001b[0;32m     17\u001b[0m         \u001b[0minter\u001b[0m \u001b[1;33m=\u001b[0m \u001b[0mget_normal_pitch_name\u001b[0m\u001b[1;33m(\u001b[0m\u001b[0mi\u001b[0m\u001b[1;33m.\u001b[0m\u001b[0mtransposePitch\u001b[0m\u001b[1;33m(\u001b[0m\u001b[0mpitch\u001b[0m\u001b[1;33m.\u001b[0m\u001b[0mPitch\u001b[0m\u001b[1;33m(\u001b[0m\u001b[0mprev_note\u001b[0m\u001b[1;33m)\u001b[0m\u001b[1;33m)\u001b[0m\u001b[1;33m)\u001b[0m\u001b[1;33m\u001b[0m\u001b[1;33m\u001b[0m\u001b[0m\n\u001b[0;32m     18\u001b[0m         \u001b[0mintervals\u001b[0m\u001b[1;33m.\u001b[0m\u001b[0mappend\u001b[0m\u001b[1;33m(\u001b[0m\u001b[0minter\u001b[0m\u001b[1;33m)\u001b[0m\u001b[1;33m\u001b[0m\u001b[1;33m\u001b[0m\u001b[0m\n\u001b[1;32m---> 19\u001b[1;33m     \u001b[1;32mreturn\u001b[0m \u001b[0msample_random_pitch\u001b[0m\u001b[1;33m(\u001b[0m\u001b[0mmatrix\u001b[0m\u001b[1;33m,\u001b[0m \u001b[0mintervals\u001b[0m\u001b[1;33m,\u001b[0m \u001b[0mprev_note\u001b[0m\u001b[1;33m)\u001b[0m\u001b[1;33m\u001b[0m\u001b[1;33m\u001b[0m\u001b[0m\n\u001b[0m",
      "\u001b[1;32m<ipython-input-25-2fdc948e756e>\u001b[0m in \u001b[0;36msample_random_pitch\u001b[1;34m(matrix, intervals, prev_note)\u001b[0m\n\u001b[0;32m      4\u001b[0m     \u001b[1;31m# Get the intervals and create a distribution\u001b[0m\u001b[1;33m\u001b[0m\u001b[1;33m\u001b[0m\u001b[1;33m\u001b[0m\u001b[0m\n\u001b[0;32m      5\u001b[0m     \u001b[1;32mfor\u001b[0m \u001b[0mi\u001b[0m \u001b[1;32min\u001b[0m \u001b[0mintervals\u001b[0m\u001b[1;33m:\u001b[0m\u001b[1;33m\u001b[0m\u001b[1;33m\u001b[0m\u001b[0m\n\u001b[1;32m----> 6\u001b[1;33m         \u001b[1;32mif\u001b[0m \u001b[0mi\u001b[0m \u001b[1;32mnot\u001b[0m \u001b[1;32min\u001b[0m \u001b[0mmatrix\u001b[0m\u001b[1;33m[\u001b[0m\u001b[0mprev_note\u001b[0m\u001b[1;33m]\u001b[0m\u001b[1;33m:\u001b[0m\u001b[1;33m\u001b[0m\u001b[1;33m\u001b[0m\u001b[0m\n\u001b[0m\u001b[0;32m      7\u001b[0m            \u001b[1;32mcontinue\u001b[0m\u001b[1;33m\u001b[0m\u001b[1;33m\u001b[0m\u001b[0m\n\u001b[0;32m      8\u001b[0m         \u001b[0mp\u001b[0m \u001b[1;33m=\u001b[0m \u001b[0mmatrix\u001b[0m\u001b[1;33m[\u001b[0m\u001b[0mprev_note\u001b[0m\u001b[1;33m]\u001b[0m\u001b[1;33m[\u001b[0m\u001b[0mi\u001b[0m\u001b[1;33m]\u001b[0m\u001b[1;33m\u001b[0m\u001b[1;33m\u001b[0m\u001b[0m\n",
      "\u001b[1;32mb:\\program files\\python\\lib\\site-packages\\pandas\\core\\frame.py\u001b[0m in \u001b[0;36m__getitem__\u001b[1;34m(self, key)\u001b[0m\n\u001b[0;32m   2978\u001b[0m             \u001b[1;32mif\u001b[0m \u001b[0mself\u001b[0m\u001b[1;33m.\u001b[0m\u001b[0mcolumns\u001b[0m\u001b[1;33m.\u001b[0m\u001b[0mnlevels\u001b[0m \u001b[1;33m>\u001b[0m \u001b[1;36m1\u001b[0m\u001b[1;33m:\u001b[0m\u001b[1;33m\u001b[0m\u001b[1;33m\u001b[0m\u001b[0m\n\u001b[0;32m   2979\u001b[0m                 \u001b[1;32mreturn\u001b[0m \u001b[0mself\u001b[0m\u001b[1;33m.\u001b[0m\u001b[0m_getitem_multilevel\u001b[0m\u001b[1;33m(\u001b[0m\u001b[0mkey\u001b[0m\u001b[1;33m)\u001b[0m\u001b[1;33m\u001b[0m\u001b[1;33m\u001b[0m\u001b[0m\n\u001b[1;32m-> 2980\u001b[1;33m             \u001b[0mindexer\u001b[0m \u001b[1;33m=\u001b[0m \u001b[0mself\u001b[0m\u001b[1;33m.\u001b[0m\u001b[0mcolumns\u001b[0m\u001b[1;33m.\u001b[0m\u001b[0mget_loc\u001b[0m\u001b[1;33m(\u001b[0m\u001b[0mkey\u001b[0m\u001b[1;33m)\u001b[0m\u001b[1;33m\u001b[0m\u001b[1;33m\u001b[0m\u001b[0m\n\u001b[0m\u001b[0;32m   2981\u001b[0m             \u001b[1;32mif\u001b[0m \u001b[0mis_integer\u001b[0m\u001b[1;33m(\u001b[0m\u001b[0mindexer\u001b[0m\u001b[1;33m)\u001b[0m\u001b[1;33m:\u001b[0m\u001b[1;33m\u001b[0m\u001b[1;33m\u001b[0m\u001b[0m\n\u001b[0;32m   2982\u001b[0m                 \u001b[0mindexer\u001b[0m \u001b[1;33m=\u001b[0m \u001b[1;33m[\u001b[0m\u001b[0mindexer\u001b[0m\u001b[1;33m]\u001b[0m\u001b[1;33m\u001b[0m\u001b[1;33m\u001b[0m\u001b[0m\n",
      "\u001b[1;32mb:\\program files\\python\\lib\\site-packages\\pandas\\core\\indexes\\base.py\u001b[0m in \u001b[0;36mget_loc\u001b[1;34m(self, key, method, tolerance)\u001b[0m\n\u001b[0;32m   2897\u001b[0m                 \u001b[1;32mreturn\u001b[0m \u001b[0mself\u001b[0m\u001b[1;33m.\u001b[0m\u001b[0m_engine\u001b[0m\u001b[1;33m.\u001b[0m\u001b[0mget_loc\u001b[0m\u001b[1;33m(\u001b[0m\u001b[0mkey\u001b[0m\u001b[1;33m)\u001b[0m\u001b[1;33m\u001b[0m\u001b[1;33m\u001b[0m\u001b[0m\n\u001b[0;32m   2898\u001b[0m             \u001b[1;32mexcept\u001b[0m \u001b[0mKeyError\u001b[0m\u001b[1;33m:\u001b[0m\u001b[1;33m\u001b[0m\u001b[1;33m\u001b[0m\u001b[0m\n\u001b[1;32m-> 2899\u001b[1;33m                 \u001b[1;32mreturn\u001b[0m \u001b[0mself\u001b[0m\u001b[1;33m.\u001b[0m\u001b[0m_engine\u001b[0m\u001b[1;33m.\u001b[0m\u001b[0mget_loc\u001b[0m\u001b[1;33m(\u001b[0m\u001b[0mself\u001b[0m\u001b[1;33m.\u001b[0m\u001b[0m_maybe_cast_indexer\u001b[0m\u001b[1;33m(\u001b[0m\u001b[0mkey\u001b[0m\u001b[1;33m)\u001b[0m\u001b[1;33m)\u001b[0m\u001b[1;33m\u001b[0m\u001b[1;33m\u001b[0m\u001b[0m\n\u001b[0m\u001b[0;32m   2900\u001b[0m         \u001b[0mindexer\u001b[0m \u001b[1;33m=\u001b[0m \u001b[0mself\u001b[0m\u001b[1;33m.\u001b[0m\u001b[0mget_indexer\u001b[0m\u001b[1;33m(\u001b[0m\u001b[1;33m[\u001b[0m\u001b[0mkey\u001b[0m\u001b[1;33m]\u001b[0m\u001b[1;33m,\u001b[0m \u001b[0mmethod\u001b[0m\u001b[1;33m=\u001b[0m\u001b[0mmethod\u001b[0m\u001b[1;33m,\u001b[0m \u001b[0mtolerance\u001b[0m\u001b[1;33m=\u001b[0m\u001b[0mtolerance\u001b[0m\u001b[1;33m)\u001b[0m\u001b[1;33m\u001b[0m\u001b[1;33m\u001b[0m\u001b[0m\n\u001b[0;32m   2901\u001b[0m         \u001b[1;32mif\u001b[0m \u001b[0mindexer\u001b[0m\u001b[1;33m.\u001b[0m\u001b[0mndim\u001b[0m \u001b[1;33m>\u001b[0m \u001b[1;36m1\u001b[0m \u001b[1;32mor\u001b[0m \u001b[0mindexer\u001b[0m\u001b[1;33m.\u001b[0m\u001b[0msize\u001b[0m \u001b[1;33m>\u001b[0m \u001b[1;36m1\u001b[0m\u001b[1;33m:\u001b[0m\u001b[1;33m\u001b[0m\u001b[1;33m\u001b[0m\u001b[0m\n",
      "\u001b[1;32mpandas\\_libs\\index.pyx\u001b[0m in \u001b[0;36mpandas._libs.index.IndexEngine.get_loc\u001b[1;34m()\u001b[0m\n",
      "\u001b[1;32mpandas\\_libs\\index.pyx\u001b[0m in \u001b[0;36mpandas._libs.index.IndexEngine.get_loc\u001b[1;34m()\u001b[0m\n",
      "\u001b[1;32mpandas\\_libs\\hashtable_class_helper.pxi\u001b[0m in \u001b[0;36mpandas._libs.hashtable.PyObjectHashTable.get_item\u001b[1;34m()\u001b[0m\n",
      "\u001b[1;32mpandas\\_libs\\hashtable_class_helper.pxi\u001b[0m in \u001b[0;36mpandas._libs.hashtable.PyObjectHashTable.get_item\u001b[1;34m()\u001b[0m\n",
      "\u001b[1;31mKeyError\u001b[0m: None"
     ]
    }
   ],
   "source": [
    "generate_individual_by_symbols(symbol_matrix, pitch_matrix)"
   ]
  },
  {
   "cell_type": "code",
   "execution_count": 33,
   "metadata": {},
   "outputs": [],
   "source": [
    "def generate_individual_by_symbols(symbol_matrix, pitch_matrix):\n",
    "    individuals = []\n",
    "\n",
    "    for i in range(0,2):\n",
    "        symbols = []\n",
    "        # Symbol size\n",
    "        for i in range(0,20):\n",
    "            if i == 0:\n",
    "                s = initialisation.get_random_transition(symbol_matrix, None)\n",
    "            else:\n",
    "                s = initialisation.get_random_transition(symbol_matrix, symbols[-1]) \n",
    "            symbols.append(s)\n",
    "\n",
    "        notes = []\n",
    "        # Generate two initial notes\n",
    "        notes.append('C5')\n",
    "        initial_symbol = symbols[0]\n",
    "        direction = random.choice(['UP'])\n",
    "        if initial_symbol[1] == 'V' or initial_symbol[1] == 'R':\n",
    "            second_note = sample_by_symbol('S', direction, notes[-1], pitch_matrix)\n",
    "        else:\n",
    "            second_note = sample_by_symbol('L', direction, notes[-1], pitch_matrix)\n",
    "        notes.append(second_note)\n",
    "\n",
    "        # Start generating the rest of the notes\n",
    "        for i in range(2, len(symbols)):\n",
    "            print(notes)\n",
    "            s = symbols[i-2]\n",
    "            \n",
    "            direction = s[0]\n",
    "            interval_size = s[1]\n",
    "            \n",
    "            n1 = notes[-1]\n",
    "            n2 = notes[len(notes)-2]\n",
    "            \n",
    "            direction_explicit = get_direction(direction, n2, n1)\n",
    "            interval_size_explicit = get_interval_size(interval_size)\n",
    "            new_note = sample_by_symbol(\n",
    "                interval_size_explicit, direction_explicit, notes[-1], pitch_matrix)\n",
    "            notes.append(new_note)\n",
    "            \n",
    "        individuals.append(notes)\n",
    "    return individuals"
   ]
  },
  {
   "cell_type": "code",
   "execution_count": 23,
   "metadata": {},
   "outputs": [],
   "source": [
    "def get_direction(direction, prev_note1, prev_note2):\n",
    "    if direction == 'Q':\n",
    "        # If the direction goes up\n",
    "        if pitch.Pitch(prev_note1) < pitch.Pitch(prev_note2):\n",
    "            return \"DOWN\"\n",
    "        # If the direction goes down\n",
    "        else:\n",
    "            return \"UP\"\n",
    "    else:\n",
    "        if pitch.Pitch(prev_note1) < pitch.Pitch(prev_note2):\n",
    "            return \"UP\"\n",
    "        else:\n",
    "            return \"DOWN\"\n",
    "def get_interval_size(symbol):\n",
    "    if symbol == 'V' or symbol == 'F':\n",
    "        return 'S'\n",
    "    else:\n",
    "        return 'L'"
   ]
  },
  {
   "cell_type": "code",
   "execution_count": null,
   "metadata": {},
   "outputs": [],
   "source": [
    "sample_by_symbol('S', 'DOWN', 'G5', pitch_matrix)"
   ]
  },
  {
   "cell_type": "code",
   "execution_count": null,
   "metadata": {},
   "outputs": [],
   "source": [
    "get_direction('Q', 'C5', 'G5')\n",
    "get_interval_size('F')"
   ]
  },
  {
   "cell_type": "code",
   "execution_count": 24,
   "metadata": {},
   "outputs": [],
   "source": [
    "def sample_by_symbol(interval_size, direction, prev_note, matrix):\n",
    "    i = interval.Interval()\n",
    "    intervals = []\n",
    "    if interval_size == 'S':\n",
    "        if direction == 'UP':\n",
    "            r = range(0, 6)\n",
    "        else:\n",
    "            r = range(0, -6, -1)\n",
    "    else:\n",
    "        if direction == 'UP':\n",
    "            r = range(6, 11)\n",
    "        else:\n",
    "            r = range(-6, -11, -1)\n",
    "            \n",
    "    for i in r:\n",
    "        i = interval.Interval(i)\n",
    "        inter = get_normal_pitch_name(i.transposePitch(pitch.Pitch(prev_note)))\n",
    "        intervals.append(inter)\n",
    "    return sample_random_pitch(matrix, intervals, prev_note)"
   ]
  },
  {
   "cell_type": "code",
   "execution_count": 26,
   "metadata": {},
   "outputs": [],
   "source": [
    "def get_normal_pitch_name(pitch):\n",
    "    pitch_name = pitch.nameWithOctave\n",
    "    if '-' in pitch_name or '##' in pitch_name:\n",
    "        return pitch.getEnharmonic().nameWithOctave\n",
    "    else:\n",
    "        return pitch_name"
   ]
  },
  {
   "cell_type": "code",
   "execution_count": 25,
   "metadata": {},
   "outputs": [],
   "source": [
    "def sample_random_pitch(matrix, intervals, prev_note):\n",
    "    total_count = 0\n",
    "    m = defaultdict(lambda: defaultdict(lambda: 0))\n",
    "    # Get the intervals and create a distribution\n",
    "    for i in intervals:\n",
    "        if i not in matrix[prev_note]:\n",
    "           continue\n",
    "        p = matrix[prev_note][i]\n",
    "        # Create a temporary matrix saving the P and also sum up all probabilities\n",
    "        m[prev_note][i] = p\n",
    "        total_count += p\n",
    "\n",
    "    # Normalize probabilities\n",
    "    for i in intervals:\n",
    "        m[prev_note][i] /= total_count\n",
    "\n",
    "    # Select note in the constrainted space\n",
    "    p_sum = 0\n",
    "    rng = random.random()\n",
    "    for i in intervals:\n",
    "        v = m[prev_note][i]\n",
    "        if p_sum < rng < p_sum + v:\n",
    "            return i\n",
    "        else:\n",
    "            p_sum += v\n"
   ]
  },
  {
   "cell_type": "code",
   "execution_count": null,
   "metadata": {},
   "outputs": [],
   "source": []
  },
  {
   "cell_type": "code",
   "execution_count": null,
   "metadata": {},
   "outputs": [],
   "source": [
    "a = interval.Interval(1)\n",
    "a.transposePitch(pitch.Pitch('C4'))"
   ]
  },
  {
   "cell_type": "code",
   "execution_count": null,
   "metadata": {},
   "outputs": [],
   "source": [
    "individuals = generate_individual_by_symbols(symbol_matrix, pitch_matrix)\n",
    "s = stream.Score(id = 'mainScore')\n",
    "part = stream.Part(id='part1')\n",
    "for i in individuals:\n",
    "    \n",
    "    counter = 1\n",
    "    m = stream.Measure(counter)\n",
    "    for p in i:\n",
    "        n = note.Note(p)\n",
    "        m.append(n)\n",
    "    part.append(m)\n"
   ]
  },
  {
   "cell_type": "code",
   "execution_count": null,
   "metadata": {},
   "outputs": [],
   "source": [
    "s.append(part)\n",
    "s.show('musicxml')"
   ]
  },
  {
   "cell_type": "code",
   "execution_count": null,
   "metadata": {},
   "outputs": [],
   "source": [
    "r = range(-1, -5, -1)\n",
    "for i in r:\n",
    "    print(i)"
   ]
  }
 ],
 "metadata": {
  "kernelspec": {
   "display_name": "Python 3",
   "language": "python",
   "name": "python3"
  },
  "language_info": {
   "codemirror_mode": {
    "name": "ipython",
    "version": 3
   },
   "file_extension": ".py",
   "mimetype": "text/x-python",
   "name": "python",
   "nbconvert_exporter": "python",
   "pygments_lexer": "ipython3",
   "version": "3.7.4"
  }
 },
 "nbformat": 4,
 "nbformat_minor": 4
}
