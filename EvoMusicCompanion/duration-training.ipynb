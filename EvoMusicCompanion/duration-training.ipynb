{
 "cells": [
  {
   "cell_type": "code",
   "execution_count": null,
   "metadata": {},
   "outputs": [],
   "source": [
    "import initialisation\n",
    "import modelTrainer\n",
    "import musicPlayer\n",
    "import simulation\n",
    "import fitness\n",
    "import music21\n",
    "import collections\n",
    "import importlib\n",
    "import numpy as np\n",
    "import pandas as pd"
   ]
  },
  {
   "cell_type": "code",
   "execution_count": null,
   "metadata": {},
   "outputs": [],
   "source": [
    "from music21 import *"
   ]
  },
  {
   "cell_type": "code",
   "execution_count": null,
   "metadata": {},
   "outputs": [],
   "source": [
    "importlib.reload(initialisation)\n",
    "importlib.reload(modelTrainer)\n",
    "importlib.reload(musicPlayer)\n",
    "importlib.reload(simulation)\n",
    "importlib.reload(fitness)\n",
    "importlib.reload(music21)"
   ]
  },
  {
   "cell_type": "code",
   "execution_count": null,
   "metadata": {},
   "outputs": [],
   "source": [
    "coreCorpus = music21.corpus.corpora.CoreCorpus()\n",
    "sixEight = music21.corpus.search('6/8')\n",
    "\n",
    "bachCorpusScores = []\n",
    "for c in sixEight:\n",
    "    score = c.parse()\n",
    "    bachCorpusScores.append(score)"
   ]
  },
  {
   "cell_type": "code",
   "execution_count": null,
   "metadata": {},
   "outputs": [],
   "source": [
    "\n",
    " noteIterator = scores[0].parts[0].getElementsByClass(stream.Measure).flat.getElementsByClass('Duration')"
   ]
  },
  {
   "cell_type": "code",
   "execution_count": null,
   "metadata": {},
   "outputs": [],
   "source": [
    "noteIterator = scores[0].getElementsByClass(stream.Measure).flat.getElementsByClass('Note')."
   ]
  },
  {
   "cell_type": "code",
   "execution_count": null,
   "metadata": {},
   "outputs": [],
   "source": [
    "bachCorpusScores"
   ]
  },
  {
   "cell_type": "code",
   "execution_count": null,
   "metadata": {},
   "outputs": [],
   "source": [
    "possible_durations = ['half', 'quarter', 'eighth', '16th', '32nd'] # set containing all possible notes for matrix creation\n",
    "all_durations = [] # Multidimensional array of all notes per piece\n",
    "testcorpus = [\n",
    "                ['quarter', 'quarter', 'quarter', 'eighth', '16th'], \n",
    "                ['eighth', 'eighth', 'eighth', 'quarter', 'quarter'],\n",
    "                ['16th', 'quarter', 'eighth', 'quarter', 'quarter']\n",
    "             ]\n",
    "last_notes = []\n",
    "for i in bachCorpusScores:\n",
    "    #measures = len(p.getElementsByClass(music21.stream.Part)[0].getElementsByClass(music21.stream.Measure))\n",
    "    # Get a part of the piece\n",
    "    score = i.parts[0].getElementsByClass(music21.stream.Measure).flat.getElementsByClass('Note')\n",
    "    \n",
    "    curr = []\n",
    "    if(len(score) == 0):\n",
    "        continue\n",
    "        \n",
    "    for i in range(len(score)):\n",
    "        dur = score[i]\n",
    "\n",
    "        if(i==len(score)-1):\n",
    "            last_notes.append(dur.duration.type)\n",
    "\n",
    "        if(dur.duration.type == 'zero' or dur.duration.type == 'complex' or dur.duration.type == '64th' or dur.duration.type == 'whole'):\n",
    "             continue\n",
    "        curr.append(dur.duration.type)\n",
    "            \n",
    "    all_durations.append(curr)\n",
    "flatten = lambda l: [item for sublist in l for item in sublist]\n",
    "last_note_counter = collections.Counter(last_notes)\n",
    "counter = collections.Counter(flatten(all_durations))\n",
    "counter = counter - last_note_counter"
   ]
  },
  {
   "cell_type": "code",
   "execution_count": null,
   "metadata": {},
   "outputs": [],
   "source": [
    "counter"
   ]
  },
  {
   "cell_type": "code",
   "execution_count": null,
   "metadata": {},
   "outputs": [],
   "source": [
    "last_note_counter"
   ]
  },
  {
   "cell_type": "code",
   "execution_count": null,
   "metadata": {},
   "outputs": [],
   "source": [
    "zeros = np.full((len(possible_durations), len(possible_durations)), 0)\n",
    "matrix = pd.DataFrame(zeros, index=possible_durations, columns=possible_durations)\n",
    "matrix['half']"
   ]
  },
  {
   "cell_type": "code",
   "execution_count": null,
   "metadata": {},
   "outputs": [],
   "source": [
    "all_durations[0]"
   ]
  },
  {
   "cell_type": "code",
   "execution_count": null,
   "metadata": {},
   "outputs": [],
   "source": [
    "total = sum(counter.values())\n",
    "zeros = np.full((len(possible_durations), len(possible_durations)), 0)\n",
    "matrix = pd.DataFrame(zeros, index=possible_durations, columns=possible_durations)\n",
    "matrix = matrix.astype(float)\n",
    "# Fill transition matrix frequencies\n",
    "for i in range(len(all_durations)):\n",
    "    curr = all_durations[i]\n",
    "    for j in range(len(curr)):\n",
    "        # First note\n",
    "        if(j == 0):\n",
    "            continue\n",
    "\n",
    "        curr_duration = curr[j-1]\n",
    "        next_duration = curr[j]\n",
    "        matrix[curr_duration][next_duration] = matrix[curr_duration][next_duration] + 1\n",
    "matrix"
   ]
  },
  {
   "cell_type": "code",
   "execution_count": null,
   "metadata": {},
   "outputs": [],
   "source": []
  },
  {
   "cell_type": "code",
   "execution_count": null,
   "metadata": {},
   "outputs": [],
   "source": [
    "matrix"
   ]
  },
  {
   "cell_type": "code",
   "execution_count": null,
   "metadata": {},
   "outputs": [],
   "source": []
  },
  {
   "cell_type": "code",
   "execution_count": null,
   "metadata": {},
   "outputs": [],
   "source": [
    "for i in possible_durations:\n",
    "    for j in possible_durations:\n",
    "        print(matrix[i][j])"
   ]
  },
  {
   "cell_type": "code",
   "execution_count": null,
   "metadata": {},
   "outputs": [],
   "source": [
    "### Divide each row to get probabilistic model\n",
    "for i in possible_durations:\n",
    "    for j in possible_durations:\n",
    "        matrix[j][i] = matrix[j][i] / counter[j]"
   ]
  },
  {
   "cell_type": "code",
   "execution_count": null,
   "metadata": {},
   "outputs": [],
   "source": [
    "all_durations[-1]"
   ]
  },
  {
   "cell_type": "code",
   "execution_count": null,
   "metadata": {},
   "outputs": [],
   "source": [
    "matrix.sum(0)"
   ]
  },
  {
   "cell_type": "code",
   "execution_count": null,
   "metadata": {},
   "outputs": [],
   "source": [
    "dur_matrix = modelTrainer.train_duration_matrix(bachCorpusScores)"
   ]
  },
  {
   "cell_type": "code",
   "execution_count": null,
   "metadata": {},
   "outputs": [],
   "source": [
    "pitch_matrix = modelTrainer.train_pitch_matrix();"
   ]
  },
  {
   "cell_type": "code",
   "execution_count": null,
   "metadata": {},
   "outputs": [],
   "source": [
    "population = initialisation.initialize_population(10, 8, pitch_matrix, dur_matrix)"
   ]
  },
  {
   "cell_type": "code",
   "execution_count": null,
   "metadata": {},
   "outputs": [],
   "source": [
    "sel = population[0:3]\n",
    "s2 = list(map(lambda x: x[0], sel))\n",
    "s3 = list(map(lambda x: list(map(lambda y:  y[0] ,x)), s2))\n",
    "s3"
   ]
  },
  {
   "cell_type": "code",
   "execution_count": null,
   "metadata": {},
   "outputs": [],
   "source": [
    "simulation.run(2, 20, pitch_matrix, dur_matrix)"
   ]
  },
  {
   "cell_type": "code",
   "execution_count": null,
   "metadata": {},
   "outputs": [],
   "source": []
  }
 ],
 "metadata": {
  "kernelspec": {
   "display_name": "Python 3",
   "language": "python",
   "name": "python3"
  },
  "language_info": {
   "codemirror_mode": {
    "name": "ipython",
    "version": 3
   },
   "file_extension": ".py",
   "mimetype": "text/x-python",
   "name": "python",
   "nbconvert_exporter": "python",
   "pygments_lexer": "ipython3",
   "version": "3.7.4"
  }
 },
 "nbformat": 4,
 "nbformat_minor": 4
}
