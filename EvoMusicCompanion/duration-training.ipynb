{
 "cells": [
  {
   "cell_type": "code",
   "execution_count": 1,
   "metadata": {},
   "outputs": [
    {
     "name": "stderr",
     "output_type": "stream",
     "text": [
      "music21: Certain music21 functions might need the optional package matplotlib;\n",
      "                  if you run into errors, install it by following the instructions at\n",
      "                  http://mit.edu/music21/doc/installing/installAdditional.html\n"
     ]
    }
   ],
   "source": [
    "import initialisation\n",
    "import modelTrainer\n",
    "import musicPlayer\n",
    "import simulation\n",
    "import fitness\n",
    "import individual\n",
    "import music21\n",
    "import collections\n",
    "import importlib\n",
    "import numpy as np\n",
    "import pandas as pd\n",
    "import duration\n",
    "import constants"
   ]
  },
  {
   "cell_type": "code",
   "execution_count": 2,
   "metadata": {},
   "outputs": [],
   "source": [
    "from music21 import *"
   ]
  },
  {
   "cell_type": "code",
   "execution_count": 3,
   "metadata": {},
   "outputs": [
    {
     "data": {
      "text/plain": [
       "<module 'constants' from 'B:\\\\School\\\\Master\\\\Thesis\\\\MasterThesis\\\\EvoMusicCompanion\\\\constants.py'>"
      ]
     },
     "execution_count": 3,
     "metadata": {},
     "output_type": "execute_result"
    }
   ],
   "source": [
    "importlib.reload(initialisation)\n",
    "importlib.reload(modelTrainer)\n",
    "importlib.reload(musicPlayer)\n",
    "importlib.reload(simulation)\n",
    "importlib.reload(fitness)\n",
    "importlib.reload(duration)\n",
    "importlib.reload(music21)\n",
    "importlib.reload(individual)\n",
    "importlib.reload(constants)"
   ]
  },
  {
   "cell_type": "code",
   "execution_count": 4,
   "metadata": {},
   "outputs": [],
   "source": [
    "coreCorpus = music21.corpus.corpora.CoreCorpus()\n",
    "sixEight = music21.corpus.search('6/8')\n",
    "\n",
    "bachCorpusScores = []\n",
    "for c in sixEight:\n",
    "    score = c.parse()\n",
    "    bachCorpusScores.append(score)"
   ]
  },
  {
   "cell_type": "code",
   "execution_count": null,
   "metadata": {},
   "outputs": [],
   "source": [
    "\n",
    " noteIterator = scores[0].parts[0].getElementsByClass(stream.Measure).flat.getElementsByClass('Duration')"
   ]
  },
  {
   "cell_type": "code",
   "execution_count": null,
   "metadata": {},
   "outputs": [],
   "source": [
    "noteIterator = scores[0].getElementsByClass(stream.Measure).flat.getElementsByClass('Note')."
   ]
  },
  {
   "cell_type": "code",
   "execution_count": null,
   "metadata": {},
   "outputs": [],
   "source": [
    "bachCorpusScores"
   ]
  },
  {
   "cell_type": "code",
   "execution_count": null,
   "metadata": {},
   "outputs": [],
   "source": [
    "possible_durations = ['half', 'quarter', 'eighth', '16th', '32nd'] # set containing all possible notes for matrix creation\n",
    "all_durations = [] # Multidimensional array of all notes per piece\n",
    "testcorpus = [\n",
    "                ['quarter', 'quarter', 'quarter', 'eighth', '16th'], \n",
    "                ['eighth', 'eighth', 'eighth', 'quarter', 'quarter'],\n",
    "                ['16th', 'quarter', 'eighth', 'quarter', 'quarter']\n",
    "             ]\n",
    "last_notes = []\n",
    "for i in bachCorpusScores:\n",
    "    #measures = len(p.getElementsByClass(music21.stream.Part)[0].getElementsByClass(music21.stream.Measure))\n",
    "    # Get a part of the piece\n",
    "    score = i.parts[0].getElementsByClass(music21.stream.Measure).flat.getElementsByClass('Note')\n",
    "    \n",
    "    curr = []\n",
    "    if(len(score) == 0):\n",
    "        continue\n",
    "        \n",
    "    for i in range(len(score)):\n",
    "        dur = score[i]\n",
    "\n",
    "        if(i==len(score)-1):\n",
    "            last_notes.append(dur.duration.type)\n",
    "\n",
    "        if(dur.duration.type == 'zero' or dur.duration.type == 'complex' or dur.duration.type == '64th' or dur.duration.type == 'whole'):\n",
    "             continue\n",
    "        curr.append(dur.duration.type)\n",
    "            \n",
    "    all_durations.append(curr)\n",
    "flatten = lambda l: [item for sublist in l for item in sublist]\n",
    "last_note_counter = collections.Counter(last_notes)\n",
    "counter = collections.Counter(flatten(all_durations))\n",
    "counter = counter - last_note_counter"
   ]
  },
  {
   "cell_type": "code",
   "execution_count": null,
   "metadata": {},
   "outputs": [],
   "source": [
    "counter"
   ]
  },
  {
   "cell_type": "code",
   "execution_count": null,
   "metadata": {},
   "outputs": [],
   "source": [
    "last_note_counter"
   ]
  },
  {
   "cell_type": "code",
   "execution_count": null,
   "metadata": {},
   "outputs": [],
   "source": [
    "zeros = np.full((len(possible_durations), len(possible_durations)), 0)\n",
    "matrix = pd.DataFrame(zeros, index=possible_durations, columns=possible_durations)\n",
    "matrix['half']"
   ]
  },
  {
   "cell_type": "code",
   "execution_count": null,
   "metadata": {},
   "outputs": [],
   "source": [
    "all_durations[0]"
   ]
  },
  {
   "cell_type": "code",
   "execution_count": null,
   "metadata": {},
   "outputs": [],
   "source": [
    "total = sum(counter.values())\n",
    "zeros = np.full((len(possible_durations), len(possible_durations)), 0)\n",
    "matrix = pd.DataFrame(zeros, index=possible_durations, columns=possible_durations)\n",
    "matrix = matrix.astype(float)\n",
    "# Fill transition matrix frequencies\n",
    "for i in range(len(all_durations)):\n",
    "    curr = all_durations[i]\n",
    "    for j in range(len(curr)):\n",
    "        # First note\n",
    "        if(j == 0):\n",
    "            continue\n",
    "\n",
    "        curr_duration = curr[j-1]\n",
    "        next_duration = curr[j]\n",
    "        matrix[curr_duration][next_duration] = matrix[curr_duration][next_duration] + 1\n",
    "matrix"
   ]
  },
  {
   "cell_type": "code",
   "execution_count": null,
   "metadata": {},
   "outputs": [],
   "source": []
  },
  {
   "cell_type": "code",
   "execution_count": null,
   "metadata": {},
   "outputs": [],
   "source": [
    "matrix"
   ]
  },
  {
   "cell_type": "code",
   "execution_count": null,
   "metadata": {},
   "outputs": [],
   "source": []
  },
  {
   "cell_type": "code",
   "execution_count": null,
   "metadata": {},
   "outputs": [],
   "source": [
    "for i in possible_durations:\n",
    "    for j in possible_durations:\n",
    "        print(matrix[i][j])"
   ]
  },
  {
   "cell_type": "code",
   "execution_count": null,
   "metadata": {},
   "outputs": [],
   "source": [
    "### Divide each row to get probabilistic model\n",
    "for i in possible_durations:\n",
    "    for j in possible_durations:\n",
    "        matrix[j][i] = matrix[j][i] / counter[j]"
   ]
  },
  {
   "cell_type": "code",
   "execution_count": null,
   "metadata": {},
   "outputs": [],
   "source": [
    "all_durations[-1]"
   ]
  },
  {
   "cell_type": "code",
   "execution_count": null,
   "metadata": {},
   "outputs": [],
   "source": [
    "matrix.sum(0)"
   ]
  },
  {
   "cell_type": "code",
   "execution_count": 5,
   "metadata": {},
   "outputs": [
    {
     "ename": "NameError",
     "evalue": "name 'bachCorpusScores' is not defined",
     "output_type": "error",
     "traceback": [
      "\u001b[1;31m---------------------------------------------------------------------------\u001b[0m",
      "\u001b[1;31mNameError\u001b[0m                                 Traceback (most recent call last)",
      "\u001b[1;32m<ipython-input-5-21f63287edf7>\u001b[0m in \u001b[0;36m<module>\u001b[1;34m\u001b[0m\n\u001b[1;32m----> 1\u001b[1;33m \u001b[0mdur_matrix\u001b[0m \u001b[1;33m=\u001b[0m \u001b[0mmodelTrainer\u001b[0m\u001b[1;33m.\u001b[0m\u001b[0mtrain_duration_matrix\u001b[0m\u001b[1;33m(\u001b[0m\u001b[0mbachCorpusScores\u001b[0m\u001b[1;33m)\u001b[0m\u001b[1;33m\u001b[0m\u001b[1;33m\u001b[0m\u001b[0m\n\u001b[0m",
      "\u001b[1;31mNameError\u001b[0m: name 'bachCorpusScores' is not defined"
     ]
    }
   ],
   "source": [
    "dur_matrix = modelTrainer.train_duration_matrix(bachCorpusScores)"
   ]
  },
  {
   "cell_type": "code",
   "execution_count": 6,
   "metadata": {},
   "outputs": [],
   "source": [
    "pitch_matrix = modelTrainer.train_pitch_matrix(bachCorpusScores);"
   ]
  },
  {
   "cell_type": "code",
   "execution_count": 41,
   "metadata": {},
   "outputs": [
    {
     "data": {
      "text/plain": [
       "'0.5'"
      ]
     },
     "execution_count": 41,
     "metadata": {},
     "output_type": "execute_result"
    }
   ],
   "source": [
    "d = duration.Duration('test', '0.5')\n",
    "d.duration_value"
   ]
  },
  {
   "cell_type": "code",
   "execution_count": 4,
   "metadata": {},
   "outputs": [
    {
     "ename": "NameError",
     "evalue": "name 'pitch_matrix' is not defined",
     "output_type": "error",
     "traceback": [
      "\u001b[1;31m---------------------------------------------------------------------------\u001b[0m",
      "\u001b[1;31mNameError\u001b[0m                                 Traceback (most recent call last)",
      "\u001b[1;32m<ipython-input-4-7c759200ca09>\u001b[0m in \u001b[0;36m<module>\u001b[1;34m\u001b[0m\n\u001b[1;32m----> 1\u001b[1;33m \u001b[0mpopulation\u001b[0m \u001b[1;33m=\u001b[0m \u001b[0minitialisation\u001b[0m\u001b[1;33m.\u001b[0m\u001b[0minitialize_population\u001b[0m\u001b[1;33m(\u001b[0m\u001b[1;36m10\u001b[0m\u001b[1;33m,\u001b[0m \u001b[1;36m4\u001b[0m\u001b[1;33m,\u001b[0m \u001b[0mpitch_matrix\u001b[0m\u001b[1;33m,\u001b[0m \u001b[0mdur_matrix\u001b[0m\u001b[1;33m)\u001b[0m\u001b[1;33m\u001b[0m\u001b[1;33m\u001b[0m\u001b[0m\n\u001b[0m",
      "\u001b[1;31mNameError\u001b[0m: name 'pitch_matrix' is not defined"
     ]
    }
   ],
   "source": [
    "population = initialisation.initialize_population(10, 4, pitch_matrix, dur_matrix)"
   ]
  },
  {
   "cell_type": "code",
   "execution_count": 62,
   "metadata": {},
   "outputs": [
    {
     "data": {
      "text/plain": [
       "[Notes: [[(A4, eighth), (A4, quarter), (C5, eighth), (A4, eighth), (A4, eighth), (F#4, eighth), (G4, eighth)], [(E4, eighth), (G4, eighth), (E4, eighth), (C#5, 16th), (B4, quarter), (D5, eighth), (D#5, eighth), (C5, 64th)], [(D5, quarter), (G5, eighth), (F#5, eighth), (F#5, quarter), (G5, eighth), (A5, eighth)], [(C4, eighth), (A4, eighth), (A4, eighth), (B4, quarter), (C5, eighth), (B4, eighth), (C5, eighth)]] fitness: 0.0,\n",
       " Notes: [[(D4, quarter), (A4, eighth), (F#4, quarter), (D4, eighth), (D4, eighth), (G4, 64th)], [(E4, eighth), (F#4, eighth), (F4, eighth), (A#4, quarter), ( , eighth), (D4, eighth), (D4, eighth)], [(F4, eighth), (F4, eighth), (F4, quarter), (G4, quarter), (F4, eighth), (A4, eighth)], [(A4, eighth), (G4, eighth), (G4, eighth), (G4, eighth), (D4, eighth), (C#5, eighth), (D5, eighth), (C5, eighth)]] fitness: 0.0,\n",
       " Notes: [[(A4, eighth), (F4, eighth), (A4, eighth), (B4, eighth), (C5, eighth), (B4, eighth), (A4, eighth), (A4, 64th)], [(G4, eighth), (F4, eighth), (F4, eighth), (G4, eighth), (C5, quarter), (B4, eighth), (G4, eighth)], [(B4, eighth), (A4, eighth), (D5, eighth), (B4, 16th), (A4, eighth), (C#5, quarter), (D5, eighth), (C#5, 64th)], [(C4, eighth), (C4, eighth), (G3, eighth), (G3, eighth), (C4, eighth), (G3, quarter), (F3, 16th), (F3, 64th)]] fitness: 0.0,\n",
       " Notes: [[(C4, quarter), (D4, eighth), (C4, 16th), (A3, eighth), (D4, quarter), (G4, eighth), (A4, 64th)], [(A4, eighth), (B4, quarter), (E5, eighth), (E5, eighth), (F#5, eighth), (E5, quarter)], [(D5, eighth), (D5, eighth), (E5, eighth), (D5, eighth), (A4, quarter), (D5, eighth), (E5, eighth)], [(A4, eighth), (G4, eighth), (D5, quarter), (C5, 16th), (A#4, eighth), (D5, eighth), (C5, eighth), (D5, 64th)]] fitness: 0.0,\n",
       " Notes: [[(C4, quarter), (C4, eighth), (E4, eighth), (E4, eighth), (G4, quarter), (B4, eighth)], [(E4, eighth), (E4, eighth), (F#4, eighth), (A4, eighth), (B4, eighth), (D5, eighth), (A4, eighth), (B4, 64th)], [(A4, quarter), (D5, quarter), (C5, quarter), (D4, eighth), (B4, eighth)], [(B4, eighth), (C5, eighth), (D#5, eighth), (F5, eighth), (F5, eighth), (F5, eighth), (A5, eighth), (G5, eighth)]] fitness: 0.0,\n",
       " Notes: [[(C4, eighth), (A#3, eighth), (G3, eighth), (G3, eighth), (C4, eighth), (A3, eighth), (D4, eighth), (G4, eighth)], [(A4, eighth), (B4, eighth), (G4, eighth), (F4, eighth), (G4, eighth), (G4, eighth), (A4, eighth), (B4, 64th)], [(B4, eighth), (B4, quarter), (A4, eighth), (B4, eighth), (C5, eighth), (B4, eighth), (C5, eighth)], [(A4, quarter), (A4, eighth), (C#5, quarter), (D5, quarter), (D5, eighth)]] fitness: 0.0,\n",
       " Notes: [[(C4, quarter), (C4, 16th), (C4, 16th), (E4, eighth), (G4, eighth), ( , eighth), (F#5, eighth), (G5, eighth)], [(F4, eighth), (G4, eighth), (G4, eighth), (G4, eighth), (G4, eighth), (F#4, quarter), (G4, 64th)], [(G4, quarter), (F4, eighth), (G4, quarter), (B4, eighth), (G4, eighth), (G4, eighth)], [(A4, eighth), (B4, eighth), (C5, eighth), (C5, eighth), (A4, eighth), (A4, quarter), (A4, eighth)]] fitness: 0.0,\n",
       " Notes: [[(D5, eighth), (C5, eighth), (C5, eighth), (D5, eighth), (E5, eighth), (C5, eighth), (D5, quarter)], [(C5, eighth), (B4, eighth), (A4, quarter), (A#4, eighth), (C5, quarter), (C5, 16th), (B4, 16th)], [(A4, quarter), (B4, quarter), (C5, eighth), (E5, eighth), (C5, quarter)], [(F#5, eighth), (E5, 16th), (G5, 16th), (D5, 16th), (C5, 16th), (C5, 16th), (C5, 16th), (A#4, 16th), (A4, 16th), (A4, eighth), (A4, eighth), ( , 64th)]] fitness: 0.0,\n",
       " Notes: [[(A4, eighth), (A4, eighth), (G4, eighth), (G#4, quarter), (G4, quarter), (F#4, eighth)], [(G4, eighth), (A4, eighth), (G4, eighth), (C5, eighth), (A#4, eighth), (A4, eighth), (G4, eighth), (A4, eighth)], [(G4, eighth), (F4, quarter), (D5, quarter), (B4, eighth), (D#5, eighth), (D#5, eighth)], [(D4, eighth), (D4, quarter), (D4, eighth), (G4, quarter), (F4, quarter)]] fitness: 0.0,\n",
       " Notes: [[(C5, eighth), (A#4, eighth), (A4, eighth), (D5, eighth), (E5, eighth), (A5, eighth), (F#5, quarter)], [(B4, eighth), (C5, eighth), (B4, eighth), (D5, eighth), (D5, eighth), (G#4, eighth), (B4, eighth), (G4, eighth)], [(D5, eighth), (C5, eighth), (B4, eighth), (C5, eighth), (A4, eighth), (D5, eighth), (F#4, eighth), (D4, eighth)], [(D4, eighth), (E4, eighth), (F4, eighth), (C5, eighth), (D5, eighth), (E5, eighth), (D5, eighth), (B4, eighth)]] fitness: 0.0]"
      ]
     },
     "execution_count": 62,
     "metadata": {},
     "output_type": "execute_result"
    }
   ],
   "source": [
    "population"
   ]
  },
  {
   "cell_type": "code",
   "execution_count": 74,
   "metadata": {},
   "outputs": [
    {
     "name": "stdout",
     "output_type": "stream",
     "text": [
      "1.0\n",
      "1.0\n",
      "1.0\n",
      "1.0\n",
      "1.0\n",
      "1.0\n",
      "1.0\n",
      "1.0\n",
      "1.0\n",
      "1.0\n"
     ]
    }
   ],
   "source": [
    "ind = population[0]\n",
    "for g in population:\n",
    "    for i in g.notes:\n",
    "        dur = 0.0\n",
    "        for j in i:\n",
    "            dur += j.duration.duration_value\n",
    "    print(dur)"
   ]
  },
  {
   "cell_type": "code",
   "execution_count": 77,
   "metadata": {},
   "outputs": [],
   "source": [
    "musicPlayer.play(population)"
   ]
  },
  {
   "cell_type": "code",
   "execution_count": null,
   "metadata": {},
   "outputs": [],
   "source": [
    "sel = population[0:3]\n",
    "s2 = list(map(lambda x: x[0], sel))\n",
    "s3 = list(map(lambda x: list(map(lambda y:  y[0] ,x)), s2))\n",
    "s3"
   ]
  },
  {
   "cell_type": "code",
   "execution_count": null,
   "metadata": {},
   "outputs": [],
   "source": [
    "simulation.run(2, 20, pitch_matrix, dur_matrix)"
   ]
  },
  {
   "cell_type": "code",
   "execution_count": null,
   "metadata": {},
   "outputs": [],
   "source": []
  }
 ],
 "metadata": {
  "kernelspec": {
   "display_name": "Python 3",
   "language": "python",
   "name": "python3"
  },
  "language_info": {
   "codemirror_mode": {
    "name": "ipython",
    "version": 3
   },
   "file_extension": ".py",
   "mimetype": "text/x-python",
   "name": "python",
   "nbconvert_exporter": "python",
   "pygments_lexer": "ipython3",
   "version": "3.7.4"
  }
 },
 "nbformat": 4,
 "nbformat_minor": 4
}
