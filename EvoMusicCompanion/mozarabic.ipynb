{
 "cells": [
  {
   "cell_type": "code",
   "execution_count": 2,
   "metadata": {},
   "outputs": [
    {
     "name": "stderr",
     "output_type": "stream",
     "text": [
      "music21: Certain music21 functions might need the optional package matplotlib;\n",
      "                  if you run into errors, install it by following the instructions at\n",
      "                  http://mit.edu/music21/doc/installing/installAdditional.html\n"
     ]
    }
   ],
   "source": [
    "import initialisation\n",
    "import modelTrainer\n",
    "import musicPlayer\n",
    "import simulation\n",
    "import fitness\n",
    "import individual\n",
    "import music21\n",
    "import collections\n",
    "import importlib\n",
    "import numpy as np\n",
    "import pandas as pd\n",
    "import duration\n",
    "import constants\n",
    "import random\n",
    "\n",
    "from music21 import *"
   ]
  },
  {
   "cell_type": "code",
   "execution_count": null,
   "metadata": {},
   "outputs": [],
   "source": [
    "importlib.reload(initialisation)\n",
    "importlib.reload(modelTrainer)\n",
    "importlib.reload(musicPlayer)\n",
    "importlib.reload(simulation)\n",
    "importlib.reload(fitness)\n",
    "importlib.reload(duration)\n",
    "importlib.reload(music21)\n",
    "importlib.reload(individual)\n",
    "importlib.reload(constants)"
   ]
  },
  {
   "cell_type": "code",
   "execution_count": null,
   "metadata": {},
   "outputs": [],
   "source": [
    "# Add gregorian corpus\n",
    "localCorpus = corpus.corpora.LocalCorpus()\n",
    "greg_corpus = corpus.corpora.LocalCorpus('greg')\n",
    "print(greg_corpus.existsInSettings)\n",
    "greg_corpus.addPath('./midi')\n",
    "greg_corpus.save()\n",
    "print(greg_corpus.existsInSettings)"
   ]
  },
  {
   "cell_type": "code",
   "execution_count": null,
   "metadata": {},
   "outputs": [],
   "source": [
    "# Add gregorian corpus\n",
    "localCorpus = corpus.corpora.LocalCorpus()\n",
    "greg_corpus = corpus.corpora.LocalCorpus('wiki')\n",
    "print(greg_corpus.existsInSettings)\n",
    "greg_corpus.addPath('./midi/wikifonia')\n",
    "greg_corpus.save()\n",
    "print(greg_corpus.existsInSettings)"
   ]
  },
  {
   "cell_type": "code",
   "execution_count": 5,
   "metadata": {},
   "outputs": [
    {
     "name": "stdout",
     "output_type": "stream",
     "text": [
      "<music21.metadata.bundles.MetadataBundle 'wiki': {0 entries}>\n"
     ]
    }
   ],
   "source": [
    "greg_corpus = corpus.corpora.LocalCorpus('wiki').metadataBundle\n",
    "print(greg_corpus)"
   ]
  },
  {
   "cell_type": "code",
   "execution_count": null,
   "metadata": {},
   "outputs": [],
   "source": [
    "corpus.corpora.LocalCorpus('greg').metadataBundle[0].parse()"
   ]
  },
  {
   "cell_type": "code",
   "execution_count": null,
   "metadata": {},
   "outputs": [],
   "source": [
    "greg = corpus.corpora.LocalCorpus('greg').metadataBundle\n",
    "\n",
    "scores = []\n",
    "\n",
    "for i in greg[0:2000]:\n",
    "    scores.append(i.parse())"
   ]
  },
  {
   "cell_type": "code",
   "execution_count": null,
   "metadata": {},
   "outputs": [],
   "source": [
    "it = scores[0].parts[0].getElementsByClass(stream.Measure)\n",
    "for i in it:\n",
    "    print(i)"
   ]
  },
  {
   "cell_type": "code",
   "execution_count": null,
   "metadata": {},
   "outputs": [],
   "source": [
    "measures = len(score[0].getElementsByClass(stream.Part)[0].getElementsByClass(stream.Measure))\n",
    "# Get a part of the piece\n",
    "noteIterator = score[0].parts[0].getElementsByClass(stream.Measure).flat.getElementsByClass('Note')\n",
    "allNotes = []\n",
    "\n",
    "for el in noteIterator:\n",
    "    if('-' in el.nameWithOctave):\n",
    "        noteName = el.pitch.getEnharmonic().nameWithOctave\n",
    "        allNotes.append(noteName)\n",
    "    else:\n",
    "        noteName = el.nameWithOctave\n",
    "        allNotes.append(noteName)"
   ]
  },
  {
   "cell_type": "code",
   "execution_count": null,
   "metadata": {},
   "outputs": [],
   "source": [
    "pitch_matrix = modelTrainer.train_pitch_matrix(scores);"
   ]
  },
  {
   "cell_type": "code",
   "execution_count": null,
   "metadata": {},
   "outputs": [],
   "source": [
    "sum(pitch_matrix['C4'])"
   ]
  },
  {
   "cell_type": "code",
   "execution_count": null,
   "metadata": {},
   "outputs": [],
   "source": [
    "list(filter(lambda (t,v): music21.note.Note(t) > music21.note.Note('C4') , pitch_matrix['C4']))\n",
    "    \n"
   ]
  },
  {
   "cell_type": "code",
   "execution_count": null,
   "metadata": {},
   "outputs": [],
   "source": [
    "pitch_matrix"
   ]
  },
  {
   "cell_type": "code",
   "execution_count": null,
   "metadata": {},
   "outputs": [],
   "source": [
    "initialisation.get_pitch_transition_by_contour('C5', 'l', pitch_matrix)"
   ]
  },
  {
   "cell_type": "code",
   "execution_count": null,
   "metadata": {},
   "outputs": [],
   "source": [
    "template = \"obblhloholhlhoehoboeellebeeloholhohlohhlobhlhoholhlhhlhhoeolooebhl\""
   ]
  },
  {
   "cell_type": "code",
   "execution_count": null,
   "metadata": {},
   "outputs": [],
   "source": [
    "sim = simulation.Simulation(0.5, 10)"
   ]
  },
  {
   "cell_type": "code",
   "execution_count": null,
   "metadata": {},
   "outputs": [],
   "source": [
    "pitch_matrix"
   ]
  },
  {
   "cell_type": "code",
   "execution_count": null,
   "metadata": {},
   "outputs": [],
   "source": [
    "population = sim.run_with_template(pitch_matrix, template)\n"
   ]
  },
  {
   "cell_type": "code",
   "execution_count": null,
   "metadata": {},
   "outputs": [],
   "source": [
    "population[0]"
   ]
  },
  {
   "cell_type": "code",
   "execution_count": null,
   "metadata": {},
   "outputs": [],
   "source": [
    "musicPlayer.play_pitches([population[0]])"
   ]
  },
  {
   "cell_type": "code",
   "execution_count": null,
   "metadata": {},
   "outputs": [],
   "source": [
    "music21.note.Note('A4').pitch > music21.note.Note('C4').pitch"
   ]
  },
  {
   "cell_type": "code",
   "execution_count": null,
   "metadata": {},
   "outputs": [],
   "source": [
    "def get_pitch_transition_by_contour(pitch, contour, matrix):\n",
    "    \n",
    "    transitions = matrix[pitch]\n",
    "\n",
    "    t_contour = {}\n",
    "\n",
    "    if contour == 'h':\n",
    "        for k, v in transitions.iteritems():\n",
    "            if k == ' ':\n",
    "                t_contour[k] = v\n",
    "                continue\n",
    "            if(music21.note.Note(k) > music21.note.Note(pitch)):\n",
    "                t_contour[k] = v\n",
    "            \n",
    "            \n",
    "    rng = random.random()\n",
    "    p_sum = 0.0\n",
    "    # Normalize probability\n",
    "    p_total = sum(t_contour.values())\n",
    "    \n",
    "    for k, v in t_contour.items():\n",
    "        t_contour[k] = t_contour[k] / p_total\n",
    "        print(t_contour[k])\n",
    "        if p_sum < rng < p_sum + t_contour[k]:\n",
    "            return k\n",
    "        else:\n",
    "            p_sum += t_contour[k]\n",
    "    print(f'rng: {rng}')\n",
    "    print(f'p_sum: {p_sum}')\n",
    "    print('P does not sum to 1.0')\n",
    "            \n",
    "\n"
   ]
  }
 ],
 "metadata": {
  "kernelspec": {
   "display_name": "Python 3",
   "language": "python",
   "name": "python3"
  },
  "language_info": {
   "codemirror_mode": {
    "name": "ipython",
    "version": 3
   },
   "file_extension": ".py",
   "mimetype": "text/x-python",
   "name": "python",
   "nbconvert_exporter": "python",
   "pygments_lexer": "ipython3",
   "version": "3.7.4"
  }
 },
 "nbformat": 4,
 "nbformat_minor": 4
}
