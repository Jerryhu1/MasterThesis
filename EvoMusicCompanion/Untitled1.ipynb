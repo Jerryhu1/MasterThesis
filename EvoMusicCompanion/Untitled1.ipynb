{
 "cells": [
  {
   "cell_type": "code",
   "execution_count": null,
   "metadata": {},
   "outputs": [],
   "source": [
    "import pandas as pd\n",
    "import matplotlib.pyplot as plt\n",
    "import numpy as np\n",
    "\n",
    "from statsmodels.multivariate.manova import MANOVA"
   ]
  },
  {
   "cell_type": "code",
   "execution_count": null,
   "metadata": {},
   "outputs": [],
   "source": [
    "data = pd.read_csv('corpuzs-data.csv', index_col=0)"
   ]
  },
  {
   "cell_type": "code",
   "execution_count": null,
   "metadata": {},
   "outputs": [],
   "source": [
    "for d in data:\n",
    "    print(d)"
   ]
  },
  {
   "cell_type": "code",
   "execution_count": null,
   "metadata": {},
   "outputs": [],
   "source": [
    "FITNESS = list(data[\"FITNESS\"])\n",
    "C_TONE = list(data[\"C_TONE\"])\n",
    "C_TONE_B = list(data[\"C_TONE_B\"])\n",
    "I_RES = list(data[\"I_RES\"])\n",
    "L_INT = list(data[\"L_INT\"])\n",
    "L_DUR = list(data[\"L_DUR\"])\n",
    "CONS_R = list(data[\"CONS_R\"])\n",
    "CONS_N = list(data[\"CONS_N\"])\n",
    "PATTERN_D = list(data[\"PATTERN_D\"])\n",
    "PATTERN_SD = list(data[\"PATTERN_SD\"])\n",
    "    "
   ]
  },
  {
   "cell_type": "code",
   "execution_count": null,
   "metadata": {},
   "outputs": [],
   "source": [
    "k = data.keys()[3]\n",
    "values = list(data[k])\n",
    "values"
   ]
  },
  {
   "cell_type": "code",
   "execution_count": null,
   "metadata": {},
   "outputs": [],
   "source": [
    "for d in range(2,len(data)):\n",
    "    key = data.keys()[d]\n",
    "    values = list(data[key])\n",
    "    print_plot(values, \"Fitness\", \"Frequency\", key, f'{key}.png')"
   ]
  },
  {
   "cell_type": "code",
   "execution_count": null,
   "metadata": {},
   "outputs": [],
   "source": [
    "for d in data:\n",
    "    print(list(data[d]))"
   ]
  },
  {
   "cell_type": "code",
   "execution_count": null,
   "metadata": {},
   "outputs": [],
   "source": [
    "bins = []\n",
    "i = -3.0\n",
    "while i<=5.0:\n",
    "    bins.append(i)\n",
    "    i += 1.0\n",
    "bins"
   ]
  },
  {
   "cell_type": "code",
   "execution_count": null,
   "metadata": {},
   "outputs": [],
   "source": [
    "n, bins, patches = plt.hist(x=FITNESS, bins='auto', color='#000000', rwidth=0.8)\n",
    "csfont = {'fontname':'Times New Roman'}\n",
    "plt.rcParams[\"font.weight\"] = \"regular\"\n",
    "plt.locator_params(axis='x', nbins=20)\n",
    "plt.xlabel('Fitness', fontname=\"Times New Roman\", fontweight=400)\n",
    "plt.ylabel('Frequency', fontname=\"Times New Roman\")\n",
    "plt.title('Total fitness', fontname=\"Times New Roman\")\n",
    "maxfreq = n.max()\n",
    "plt.ylim(ymax=np.ceil(maxfreq / 10) * 10 if maxfreq % 10 else maxfreq + 10)\n",
    "plt.savefig('./figures/fitness.png', dpi=150)"
   ]
  },
  {
   "cell_type": "code",
   "execution_count": null,
   "metadata": {},
   "outputs": [],
   "source": [
    "plt.close()"
   ]
  },
  {
   "cell_type": "code",
   "execution_count": null,
   "metadata": {},
   "outputs": [],
   "source": [
    "def print_plot(data, xlabel, ylabel, title, filename):\n",
    "    n, bins, patches = plt.hist(x=data, bins='auto', color='#000000', rwidth=0.8)\n",
    "    plt.locator_params(axis='x', nbins=10)\n",
    "    plt.xlabel(xlabel)\n",
    "    plt.ylabel(ylabel)\n",
    "    plt.title(title)\n",
    "    maxfreq = n.max() + 10\n",
    "    plt.ylim(ymax=np.ceil(maxfreq / 10) * 10 if maxfreq % 10 else maxfreq + 10)\n",
    "    plt.savefig(f'./figures/{filename}', dpi=150)\n",
    "    plt.close()\n"
   ]
  },
  {
   "cell_type": "code",
   "execution_count": null,
   "metadata": {},
   "outputs": [],
   "source": [
    "no_elite = pd.read_csv('./output/GA/experiment-iterations=500-pop=1000-no-elite-mutation/experiment-crossover=1X+2X-2020-02-17.csv', index_col=0)\n",
    "elite = pd.read_csv('./output/GA/experiment-iterations=500-pop=1000/experiment-crossover=1X+2X-2020-02-17.csv', index_col=0)"
   ]
  },
  {
   "cell_type": "code",
   "execution_count": null,
   "metadata": {},
   "outputs": [],
   "source": [
    "no_elite[0:130]"
   ]
  },
  {
   "cell_type": "code",
   "execution_count": null,
   "metadata": {},
   "outputs": [],
   "source": [
    "elite_max_f = elite['MAX_F'][0:100]\n",
    "no_elite_max_f = no_elite['MAX_F'][247:347]\n",
    "plt.xlabel('Generation')\n",
    "plt.ylabel('Max Fitness')\n",
    "plt.plot(elite_max_f, marker='.',label='With elite mutation')\n",
    "plt.plot(no_elite_max_f, marker='^', label='Without elite mutation')\n",
    "plt.legend()\n",
    "plt.savefig(f'./figures/elite-vs-non-1x+2x', dpi=150)"
   ]
  },
  {
   "cell_type": "code",
   "execution_count": null,
   "metadata": {},
   "outputs": [],
   "source": [
    "model = pd.read_csv('./output/MODEL/experiment-iterations=500-pop=1000/learning-rate-0.4.csv', index_col=0)\n",
    "mean_f = model['MEAN_F']\n",
    "min_f = model['MIN_F']\n",
    "\n",
    "plt.xlabel('Iteration')\n",
    "plt.ylabel('Fitness')\n",
    "plt.plot(mean_f, marker='.', markersize=3, label='Mean fitness')\n",
    "plt.plot(min_f, marker='^', markersize=4, label='Min fitness')\n",
    "plt.legend()\n",
    "plt.savefig(f'./figures/learning-rate-min-mean-f', dpi=150)"
   ]
  },
  {
   "cell_type": "code",
   "execution_count": null,
   "metadata": {},
   "outputs": [],
   "source": [
    "model = pd.read_csv('./output/MODEL/iterations-experiment-learning-rate/iterations-experiment-2020-02-19-learning-rate=0.4.csv', index_col=0)\n",
    "mean_f = model['MEAN_F'][0:500]\n",
    "min_f = model['MIN_F'][0:500]\n",
    "max_f = model['MAX_F'][0:500]\n",
    "\n",
    "\n",
    "plt.xlabel('Generation')\n",
    "plt.ylabel('Fitness')\n",
    "plt.plot(mean_f, marker='.', markersize=3, label='Mean fitness')\n",
    "plt.plot(min_f, marker='^', markersize=4, label='Min fitness')\n",
    "plt.plot(max_f, label='Max fitness')\n",
    "lgd = plt.legend(bbox_to_anchor=(1.0, 0.8))\n",
    "plt.savefig(f'./figures/learning-rate-min-mean-max-f', dpi=150, bbox_extra_artists=(lgd,), bbox_inches='tight')"
   ]
  },
  {
   "cell_type": "code",
   "execution_count": null,
   "metadata": {},
   "outputs": [],
   "source": [
    "model = pd.read_csv('./output/MODEL/iterations-experiment-no-elitism/iterations-experiment-2020-02-19-no-elitism=0.csv', index_col=0)\n",
    "mean_f = model['MEAN_F'][49:500]\n",
    "min_f = model['MIN_F'][49:500]\n",
    "max_f = model['MAX_F'][49:500]\n",
    "\n",
    "\n",
    "plt.xlabel('Generation')\n",
    "plt.ylabel('Fitness')\n",
    "plt.plot(mean_f, marker='.', markersize=3, label='Mean fitness')\n",
    "plt.plot(min_f, marker='^', markersize=4, label='Min fitness')\n",
    "plt.plot(max_f, marker='', markersize=4, label='Max fitness')\n",
    "\n",
    "lgd = plt.legend(bbox_to_anchor=(1.2, 0.1))\n",
    "plt.savefig(f'./figures/no-elitism-min-mean-max-f', dpi=150, bbox_extra_artists=(lgd,), bbox_inches='tight')"
   ]
  },
  {
   "cell_type": "code",
   "execution_count": null,
   "metadata": {},
   "outputs": [],
   "source": [
    "onetwopoint = pd.read_csv('../output/GA/iterations-experiment-GA-8MEASURES-1X+2X/iterations-experiment-2020-02-25-GA-8MEASURES-1X+2X.csv', index_col=0)\n",
    "ux = pd.read_csv('../output/GA/iterations-experiment-GA-8MEASURES-UX/iterations-experiment-2020-02-25-GA-8MEASURES-UX.csv', index_col=0)\n",
    "none = pd.read_csv('../output/GA/iterations-experiment-GA-8MEASURES-NO-UX/iterations-experiment-2020-02-25-GA-8MEASURES-NO-UX.csv', index_col=0)\n",
    "no_elite = pd.read_csv('../output/GA/iterations-experiment-no-elitist-mutation-8-measures-1X+2X/iterations-experiment-2020-02-27-no-elitist-mutation-8-measures-1X+2X.csv', index_col=0)\n"
   ]
  },
  {
   "cell_type": "code",
   "execution_count": null,
   "metadata": {},
   "outputs": [],
   "source": [
    "onetwopoint_group = onetwopoint.groupby('i').mean()\n",
    "ux_group = ux.groupby('i').mean()\n",
    "none_group = none.groupby('i').mean()\n",
    "no_elite_group = no_elite.groupby('i').mean()\n"
   ]
  },
  {
   "cell_type": "code",
   "execution_count": null,
   "metadata": {},
   "outputs": [],
   "source": [
    "plt.xlabel('Generation')\n",
    "plt.ylabel('Mean fitness')\n",
    "plt.grid(b=True, which='major', color='#666666', linestyle='-', alpha=0.3)\n",
    "plt.plot(onetwopoint_group['MEAN_F'][0:300], marker='^', markevery=25, label='With elite mutation')\n",
    "#plt.plot(ux_group['MAX_F']['mean'], label='UX')\n",
    "#plt.plot(none_group['MAX_F']['mean'], marker='', markersize=4, label='NONE')\n",
    "plt.plot(no_elite_group['MEAN_F'][0:300], marker='D', markevery=25, markersize=4, label='Without elite mutation')\n",
    "\n",
    "lgd = plt.legend(bbox_to_anchor=(1.4, 0.1))\n",
    "plt.savefig(f'./figures/GA-elite-vs-no-elite-mean-f.png', dpi=150, bbox_extra_artists=(lgd,), bbox_inches='tight')"
   ]
  },
  {
   "cell_type": "code",
   "execution_count": null,
   "metadata": {},
   "outputs": [],
   "source": [
    "plt.xlabel('Generation')\n",
    "plt.ylabel('Mean fitness')\n",
    "plt.grid(b=True, which='major', color='#666666', linestyle='-', alpha=0.3)\n",
    "plt.plot(onetwopoint_group['MAX_F'][0:300], marker='^', markevery=25, label='With elite mutation')\n",
    "#plt.plot(ux_group['MAX_F']['mean'], label='UX')\n",
    "#plt.plot(none_group['MAX_F']['mean'], marker='', markersize=4, label='NONE')\n",
    "plt.plot(no_elite_group['MAX_F'][0:300], marker='D', markevery=25, markersize=4, label='Without elite mutation')\n",
    "\n",
    "lgd = plt.legend(bbox_to_anchor=(1.4, 0.1))\n",
    "plt.savefig(f'./figures/GA-elite-vs-no-elite-max-f.png', dpi=150, bbox_extra_artists=(lgd,), bbox_inches='tight')"
   ]
  },
  {
   "cell_type": "code",
   "execution_count": null,
   "metadata": {},
   "outputs": [],
   "source": [
    "plt.xlabel('Generation')\n",
    "plt.ylabel('Mean fitness')\n",
    "plt.grid(b=True, which='major', color='#666666', linestyle='-', alpha=0.3)\n",
    "#plt.plot(onetwopoint_group['MAX_F'][0:300], marker='^', markevery=25, label='With elite mutation')\n",
    "#plt.plot(no_elite_group['MAX_F'][0:300], marker='D', markevery=25, markersize=4, label='Without elite mutation')\n",
    "\n",
    "lgd = plt.legend(bbox_to_anchor=(1.4, 0.1))\n",
    "plt.savefig(f'./figures/GA-elite-vs-no-elite-sub-raters.png', dpi=150, bbox_extra_artists=(lgd,), bbox_inches='tight')"
   ]
  },
  {
   "cell_type": "code",
   "execution_count": null,
   "metadata": {},
   "outputs": [],
   "source": [
    "formula = '+'.join(sel_size_data.columns[1:16]) + ' ~ SEL_SIZE'"
   ]
  },
  {
   "cell_type": "code",
   "execution_count": null,
   "metadata": {},
   "outputs": [],
   "source": [
    "sel_size_group = sel_size_data.groupby('SEL_SIZE').mean()"
   ]
  },
  {
   "cell_type": "code",
   "execution_count": null,
   "metadata": {},
   "outputs": [],
   "source": [
    "sel_size_group"
   ]
  },
  {
   "cell_type": "code",
   "execution_count": null,
   "metadata": {},
   "outputs": [],
   "source": [
    "sel_size_data = pd.read_csv('../output/MODEL/selection_size.csv', index_col=0)\n",
    "maov = MANOVA.from_formula(formula, data=sel_size_data)"
   ]
  },
  {
   "cell_type": "code",
   "execution_count": 163,
   "metadata": {},
   "outputs": [],
   "source": [
    "s_50 = pd.read_csv('../output/MODEL/iterations-experiment-8-measures-no-elitism-learning-0.5/iterations-experiment-2020-02-26-8-measures-no-elitism-learning-0.5.csv', index_col=0)\n",
    "s_150 = pd.read_csv('../output/MODEL/iterations-experiment-MODEL-S_SIZE-150-NO-ELITISM-8MEASURES/iterations-experiment-2020-03-03-MODEL-S_SIZE-150-NO-ELITISM-8MEASURES.csv', index_col=0)\n",
    "s_300 = pd.read_csv('../output/MODEL/iterations-experiment-MODEL-S_SIZE-300-NO-ELITISM-8MEASURES/iterations-experiment-2020-03-03-MODEL-S_SIZE-300-NO-ELITISM-8MEASURES.csv', index_col=0)\n",
    "s_500 = pd.read_csv('../output/MODEL/iterations-experiment-MODEL-S_SIZE-500-NO-ELITISM-8MEASURES/iterations-experiment-2020-03-03-MODEL-S_SIZE-500-NO-ELITISM-8MEASURES.csv', index_col=0)\n",
    "\n",
    "s_50_g = s_50.groupby('i').mean()\n",
    "s_150_g = s_150.groupby('i').mean()\n",
    "s_300_g = s_300.groupby('i').mean()\n",
    "s_500_g = s_500.groupby('i').mean()"
   ]
  },
  {
   "cell_type": "code",
   "execution_count": null,
   "metadata": {},
   "outputs": [],
   "source": [
    "values = [4,5,6,7,8,9,10,11,12,13,14,20]\n",
    "s_50_subraters = s_50_g.iloc[:,values]\n",
    "s_150_subraters = s_150_g.iloc[:,values]\n",
    "s_300_subraters = s_300_g.iloc[:,values]\n",
    "s_500_subraters = s_500_g.iloc[:,values]\n",
    "sub_raters = s_50_subraters.append(s_150_subraters).append(s_300_subraters).append(s_500_subraters)"
   ]
  },
  {
   "cell_type": "code",
   "execution_count": null,
   "metadata": {},
   "outputs": [],
   "source": [
    "s_50_subraters = s_50_g.iloc[:,values]\n",
    "s_50_subraters"
   ]
  },
  {
   "cell_type": "code",
   "execution_count": null,
   "metadata": {},
   "outputs": [],
   "source": []
  },
  {
   "cell_type": "code",
   "execution_count": 162,
   "metadata": {},
   "outputs": [
    {
     "data": {
      "image/png": "[encoded data removed]",
      "text/plain": [
       "<Figure size 432x288 with 1 Axes>"
      ]
     },
     "metadata": {
      "needs_background": "light"
     },
     "output_type": "display_data"
    }
   ],
   "source": [
    "plt.xlabel('Generation')\n",
    "plt.ylabel('Mean fitness')\n",
    "plt.grid(b=True, which='major', color='#666666', linestyle='-', alpha=0.3)\n",
    "plt.plot(s_50_g['MAX_F'],  marker='D', markersize=5, markevery=25, label='N=50')\n",
    "plt.plot(s_150_g['MAX_F'], marker='s', markersize=5, markevery=25, label='N=150')\n",
    "plt.plot(s_300_g['MAX_F'], marker='^', markersize=6, markevery=25, label='N=300')\n",
    "plt.plot(s_500_g['MAX_F'], label='N=500', marker='o', markersize=6, markevery=25)\n",
    "\n",
    "lgd = plt.legend(bbox_to_anchor=(1.2, 0.1))\n",
    "plt.savefig(f'./figures/MODEL-selection_sizes_max_fitness.png', dpi=150, bbox_extra_artists=(lgd,), bbox_inches='tight')"
   ]
  },
  {
   "cell_type": "code",
   "execution_count": 198,
   "metadata": {},
   "outputs": [
    {
     "data": {
      "image/png": "[encoded data removed]",
      "text/plain": [
       "<Figure size 432x432 with 1 Axes>"
      ]
     },
     "metadata": {
      "needs_background": "light"
     },
     "output_type": "display_data"
    }
   ],
   "source": [
    "values = [1,2,3,4, 22]\n",
    "s_size_multiple = pd.read_csv('../output/MODEL/selection_size.csv', index_col=0)\n",
    "s_size_multiple_group = s_size_multiple.iloc[:,values].groupby('SEL_SIZE').mean().unstack(1).unstack()\n",
    "s_size_multiple_group.plot.bar(figsize=(6,6), width=0.7)\n",
    "plt.grid(b=True, axis='y', which='major', color='#666666', linestyle='-', alpha=0.3)\n",
    "lgd = plt.legend(bbox_to_anchor=(0.90, 0.1), labels=['N=50', 'N=150', 'N=300', 'N=500'])\n",
    "plt.savefig(f'./figures/MODEL-selection_sizes_fitnesses.png', dpi=150, bbox_extra_artists=(lgd,), bbox_inches='tight')"
   ]
  },
  {
   "cell_type": "code",
   "execution_count": 192,
   "metadata": {},
   "outputs": [
    {
     "ename": "NameError",
     "evalue": "name 'ax' is not defined",
     "output_type": "error",
     "traceback": [
      "\u001b[1;31m---------------------------------------------------------------------------\u001b[0m",
      "\u001b[1;31mNameError\u001b[0m                                 Traceback (most recent call last)",
      "\u001b[1;32m<ipython-input-192-b00e77935981>\u001b[0m in \u001b[0;36m<module>\u001b[1;34m\u001b[0m\n\u001b[1;32m----> 1\u001b[1;33m \u001b[0max\u001b[0m\u001b[1;33m\u001b[0m\u001b[1;33m\u001b[0m\u001b[0m\n\u001b[0m",
      "\u001b[1;31mNameError\u001b[0m: name 'ax' is not defined"
     ]
    }
   ],
   "source": [
    "ax"
   ]
  },
  {
   "cell_type": "code",
   "execution_count": 186,
   "metadata": {},
   "outputs": [
    {
     "data": {
      "text/plain": [
       "MAX_F       4.505039\n",
       "MIN_F       0.268073\n",
       "MEAN_F      2.411559\n",
       "MEDIAN_F    2.256023\n",
       "Name: 50, dtype: float64"
      ]
     },
     "execution_count": 186,
     "metadata": {},
     "output_type": "execute_result"
    }
   ],
   "source": [
    "s_size_multiple_group[50]"
   ]
  }
 ],
 "metadata": {
  "kernelspec": {
   "display_name": "Python 3",
   "language": "python",
   "name": "python3"
  },
  "language_info": {
   "codemirror_mode": {
    "name": "ipython",
    "version": 3
   },
   "file_extension": ".py",
   "mimetype": "text/x-python",
   "name": "python",
   "nbconvert_exporter": "python",
   "pygments_lexer": "ipython3",
   "version": "3.7.4"
  }
 },
 "nbformat": 4,
 "nbformat_minor": 4
}
