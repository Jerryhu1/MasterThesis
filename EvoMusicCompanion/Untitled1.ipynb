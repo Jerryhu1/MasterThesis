{
 "cells": [
  {
   "cell_type": "code",
   "execution_count": 1,
   "metadata": {},
   "outputs": [],
   "source": [
    "import pandas as pd\n",
    "import matplotlib.pyplot as plt\n",
    "import numpy as np"
   ]
  },
  {
   "cell_type": "code",
   "execution_count": null,
   "metadata": {},
   "outputs": [],
   "source": [
    "data = pd.read_csv('corpuzs-data.csv', index_col=0)"
   ]
  },
  {
   "cell_type": "code",
   "execution_count": 17,
   "metadata": {},
   "outputs": [
    {
     "name": "stdout",
     "output_type": "stream",
     "text": [
      "NAME\n",
      "COMPOSER\n",
      "FITNESS\n",
      "C_TONE\n",
      "C_TONE_B\n",
      "CADENCE\n",
      "L_NOTE\n",
      "I_RES\n",
      "L_INT\n",
      "L_DUR\n",
      "CONS_R\n",
      "CONS_N\n",
      "PATTERN_D\n",
      "PATTERN_SD\n"
     ]
    }
   ],
   "source": [
    "for d in data:\n",
    "    print(d)"
   ]
  },
  {
   "cell_type": "code",
   "execution_count": null,
   "metadata": {},
   "outputs": [],
   "source": [
    "FITNESS = list(data[\"FITNESS\"])\n",
    "C_TONE = list(data[\"C_TONE\"])\n",
    "C_TONE_B = list(data[\"C_TONE_B\"])\n",
    "I_RES = list(data[\"I_RES\"])\n",
    "L_INT = list(data[\"L_INT\"])\n",
    "L_DUR = list(data[\"L_DUR\"])\n",
    "CONS_R = list(data[\"CONS_R\"])\n",
    "CONS_N = list(data[\"CONS_N\"])\n",
    "PATTERN_D = list(data[\"PATTERN_D\"])\n",
    "PATTERN_SD = list(data[\"PATTERN_SD\"])\n",
    "    "
   ]
  },
  {
   "cell_type": "code",
   "execution_count": null,
   "metadata": {},
   "outputs": [],
   "source": [
    "k = data.keys()[3]\n",
    "values = list(data[k])\n",
    "values"
   ]
  },
  {
   "cell_type": "code",
   "execution_count": 26,
   "metadata": {},
   "outputs": [
    {
     "ename": "IndexError",
     "evalue": "index 14 is out of bounds for axis 0 with size 14",
     "output_type": "error",
     "traceback": [
      "\u001b[1;31m---------------------------------------------------------------------------\u001b[0m",
      "\u001b[1;31mIndexError\u001b[0m                                Traceback (most recent call last)",
      "\u001b[1;32m<ipython-input-26-993b5bee855d>\u001b[0m in \u001b[0;36m<module>\u001b[1;34m\u001b[0m\n\u001b[0;32m      1\u001b[0m \u001b[1;32mfor\u001b[0m \u001b[0md\u001b[0m \u001b[1;32min\u001b[0m \u001b[0mrange\u001b[0m\u001b[1;33m(\u001b[0m\u001b[1;36m2\u001b[0m\u001b[1;33m,\u001b[0m\u001b[0mlen\u001b[0m\u001b[1;33m(\u001b[0m\u001b[0mdata\u001b[0m\u001b[1;33m)\u001b[0m\u001b[1;33m)\u001b[0m\u001b[1;33m:\u001b[0m\u001b[1;33m\u001b[0m\u001b[1;33m\u001b[0m\u001b[0m\n\u001b[1;32m----> 2\u001b[1;33m     \u001b[0mkey\u001b[0m \u001b[1;33m=\u001b[0m \u001b[0mdata\u001b[0m\u001b[1;33m.\u001b[0m\u001b[0mkeys\u001b[0m\u001b[1;33m(\u001b[0m\u001b[1;33m)\u001b[0m\u001b[1;33m[\u001b[0m\u001b[0md\u001b[0m\u001b[1;33m]\u001b[0m\u001b[1;33m\u001b[0m\u001b[1;33m\u001b[0m\u001b[0m\n\u001b[0m\u001b[0;32m      3\u001b[0m     \u001b[0mvalues\u001b[0m \u001b[1;33m=\u001b[0m \u001b[0mlist\u001b[0m\u001b[1;33m(\u001b[0m\u001b[0mdata\u001b[0m\u001b[1;33m[\u001b[0m\u001b[0mkey\u001b[0m\u001b[1;33m]\u001b[0m\u001b[1;33m)\u001b[0m\u001b[1;33m\u001b[0m\u001b[1;33m\u001b[0m\u001b[0m\n\u001b[0;32m      4\u001b[0m     \u001b[0mprint_plot\u001b[0m\u001b[1;33m(\u001b[0m\u001b[0mvalues\u001b[0m\u001b[1;33m,\u001b[0m \u001b[1;34m\"Fitness\"\u001b[0m\u001b[1;33m,\u001b[0m \u001b[1;34m\"Frequency\"\u001b[0m\u001b[1;33m,\u001b[0m \u001b[0mkey\u001b[0m\u001b[1;33m,\u001b[0m \u001b[1;34mf'{key}.png'\u001b[0m\u001b[1;33m)\u001b[0m\u001b[1;33m\u001b[0m\u001b[1;33m\u001b[0m\u001b[0m\n",
      "\u001b[1;32mb:\\program files\\python\\lib\\site-packages\\pandas\\core\\indexes\\base.py\u001b[0m in \u001b[0;36m__getitem__\u001b[1;34m(self, key)\u001b[0m\n\u001b[0;32m   4278\u001b[0m         \u001b[1;32mif\u001b[0m \u001b[0mis_scalar\u001b[0m\u001b[1;33m(\u001b[0m\u001b[0mkey\u001b[0m\u001b[1;33m)\u001b[0m\u001b[1;33m:\u001b[0m\u001b[1;33m\u001b[0m\u001b[1;33m\u001b[0m\u001b[0m\n\u001b[0;32m   4279\u001b[0m             \u001b[0mkey\u001b[0m \u001b[1;33m=\u001b[0m \u001b[0mcom\u001b[0m\u001b[1;33m.\u001b[0m\u001b[0mcast_scalar_indexer\u001b[0m\u001b[1;33m(\u001b[0m\u001b[0mkey\u001b[0m\u001b[1;33m)\u001b[0m\u001b[1;33m\u001b[0m\u001b[1;33m\u001b[0m\u001b[0m\n\u001b[1;32m-> 4280\u001b[1;33m             \u001b[1;32mreturn\u001b[0m \u001b[0mgetitem\u001b[0m\u001b[1;33m(\u001b[0m\u001b[0mkey\u001b[0m\u001b[1;33m)\u001b[0m\u001b[1;33m\u001b[0m\u001b[1;33m\u001b[0m\u001b[0m\n\u001b[0m\u001b[0;32m   4281\u001b[0m \u001b[1;33m\u001b[0m\u001b[0m\n\u001b[0;32m   4282\u001b[0m         \u001b[1;32mif\u001b[0m \u001b[0misinstance\u001b[0m\u001b[1;33m(\u001b[0m\u001b[0mkey\u001b[0m\u001b[1;33m,\u001b[0m \u001b[0mslice\u001b[0m\u001b[1;33m)\u001b[0m\u001b[1;33m:\u001b[0m\u001b[1;33m\u001b[0m\u001b[1;33m\u001b[0m\u001b[0m\n",
      "\u001b[1;31mIndexError\u001b[0m: index 14 is out of bounds for axis 0 with size 14"
     ]
    }
   ],
   "source": [
    "for d in range(2,len(data)):\n",
    "    key = data.keys()[d]\n",
    "    values = list(data[key])\n",
    "    print_plot(values, \"Fitness\", \"Frequency\", key, f'{key}.png')"
   ]
  },
  {
   "cell_type": "code",
   "execution_count": null,
   "metadata": {},
   "outputs": [],
   "source": [
    "for d in data:\n",
    "    print(list(data[d]))"
   ]
  },
  {
   "cell_type": "code",
   "execution_count": null,
   "metadata": {},
   "outputs": [],
   "source": [
    "bins = []\n",
    "i = -3.0\n",
    "while i<=5.0:\n",
    "    bins.append(i)\n",
    "    i += 1.0\n",
    "bins"
   ]
  },
  {
   "cell_type": "code",
   "execution_count": 27,
   "metadata": {},
   "outputs": [
    {
     "data": {
      "image/png": "[encoded data removed]",
      "text/plain": [
       "<Figure size 432x288 with 1 Axes>"
      ]
     },
     "metadata": {
      "needs_background": "light"
     },
     "output_type": "display_data"
    }
   ],
   "source": [
    "n, bins, patches = plt.hist(x=FITNESS, bins='auto', color='#000000', rwidth=0.8)\n",
    "csfont = {'fontname':'Times New Roman'}\n",
    "plt.rcParams[\"font.weight\"] = \"regular\"\n",
    "plt.locator_params(axis='x', nbins=20)\n",
    "plt.xlabel('Fitness', fontname=\"Times New Roman\", fontweight=400)\n",
    "plt.ylabel('Frequency', fontname=\"Times New Roman\")\n",
    "plt.title('Total fitness', fontname=\"Times New Roman\")\n",
    "maxfreq = n.max()\n",
    "plt.ylim(ymax=np.ceil(maxfreq / 10) * 10 if maxfreq % 10 else maxfreq + 10)\n",
    "plt.savefig('./figures/fitness.png', dpi=150)"
   ]
  },
  {
   "cell_type": "code",
   "execution_count": null,
   "metadata": {},
   "outputs": [],
   "source": [
    "plt.close()"
   ]
  },
  {
   "cell_type": "code",
   "execution_count": null,
   "metadata": {},
   "outputs": [],
   "source": [
    "def print_plot(data, xlabel, ylabel, title, filename):\n",
    "    n, bins, patches = plt.hist(x=data, bins='auto', color='#000000', rwidth=0.8)\n",
    "    plt.locator_params(axis='x', nbins=10)\n",
    "    plt.xlabel(xlabel)\n",
    "    plt.ylabel(ylabel)\n",
    "    plt.title(title)\n",
    "    maxfreq = n.max() + 10\n",
    "    plt.ylim(ymax=np.ceil(maxfreq / 10) * 10 if maxfreq % 10 else maxfreq + 10)\n",
    "    plt.savefig(f'./figures/{filename}', dpi=150)\n",
    "    plt.close()\n"
   ]
  },
  {
   "cell_type": "code",
   "execution_count": 42,
   "metadata": {},
   "outputs": [],
   "source": [
    "no_elite = pd.read_csv('./output/GA/experiment-iterations=500-pop=1000-no-elite-mutation/experiment-crossover=1X+2X-2020-02-17.csv', index_col=0)\n",
    "elite = pd.read_csv('./output/GA/experiment-iterations=500-pop=1000/experiment-crossover=1X+2X-2020-02-17.csv', index_col=0)"
   ]
  },
  {
   "cell_type": "code",
   "execution_count": 21,
   "metadata": {},
   "outputs": [
    {
     "data": {
      "text/html": [
       "<div>\n",
       "<style scoped>\n",
       "    .dataframe tbody tr th:only-of-type {\n",
       "        vertical-align: middle;\n",
       "    }\n",
       "\n",
       "    .dataframe tbody tr th {\n",
       "        vertical-align: top;\n",
       "    }\n",
       "\n",
       "    .dataframe thead th {\n",
       "        text-align: right;\n",
       "    }\n",
       "</style>\n",
       "<table border=\"1\" class=\"dataframe\">\n",
       "  <thead>\n",
       "    <tr style=\"text-align: right;\">\n",
       "      <th></th>\n",
       "      <th>MAX_F</th>\n",
       "      <th>MIN_F</th>\n",
       "      <th>MEAN_F</th>\n",
       "      <th>C_TONE</th>\n",
       "      <th>C_TONE_B</th>\n",
       "      <th>CADENCE</th>\n",
       "      <th>L_NOTE</th>\n",
       "      <th>I_RES</th>\n",
       "      <th>L_INT</th>\n",
       "      <th>L_DUR</th>\n",
       "      <th>CONS_R</th>\n",
       "      <th>CONS_N</th>\n",
       "      <th>PATTERN_D</th>\n",
       "      <th>PATTERN_SD</th>\n",
       "      <th>EQ_INDIV</th>\n",
       "      <th>INDIV_SIZE</th>\n",
       "      <th>L_RATE</th>\n",
       "      <th>POP_SIZE</th>\n",
       "      <th>E_SIZE</th>\n",
       "      <th>X_TYPE</th>\n",
       "    </tr>\n",
       "    <tr>\n",
       "      <th>i</th>\n",
       "      <th></th>\n",
       "      <th></th>\n",
       "      <th></th>\n",
       "      <th></th>\n",
       "      <th></th>\n",
       "      <th></th>\n",
       "      <th></th>\n",
       "      <th></th>\n",
       "      <th></th>\n",
       "      <th></th>\n",
       "      <th></th>\n",
       "      <th></th>\n",
       "      <th></th>\n",
       "      <th></th>\n",
       "      <th></th>\n",
       "      <th></th>\n",
       "      <th></th>\n",
       "      <th></th>\n",
       "      <th></th>\n",
       "      <th></th>\n",
       "    </tr>\n",
       "  </thead>\n",
       "  <tbody>\n",
       "    <tr>\n",
       "      <td>0</td>\n",
       "      <td>4.369</td>\n",
       "      <td>-1.674</td>\n",
       "      <td>0.802</td>\n",
       "      <td>0.750</td>\n",
       "      <td>0.5</td>\n",
       "      <td>1.0</td>\n",
       "      <td>0.625</td>\n",
       "      <td>0.286</td>\n",
       "      <td>0.0</td>\n",
       "      <td>-0.0</td>\n",
       "      <td>0.0</td>\n",
       "      <td>-0.125</td>\n",
       "      <td>1.00</td>\n",
       "      <td>0.333</td>\n",
       "      <td>0.001</td>\n",
       "      <td>4</td>\n",
       "      <td>0.4</td>\n",
       "      <td>1000</td>\n",
       "      <td>50</td>\n",
       "      <td>1X+2X</td>\n",
       "    </tr>\n",
       "    <tr>\n",
       "      <td>1</td>\n",
       "      <td>4.369</td>\n",
       "      <td>-0.816</td>\n",
       "      <td>1.238</td>\n",
       "      <td>0.750</td>\n",
       "      <td>0.5</td>\n",
       "      <td>1.0</td>\n",
       "      <td>0.625</td>\n",
       "      <td>0.286</td>\n",
       "      <td>0.0</td>\n",
       "      <td>-0.0</td>\n",
       "      <td>0.0</td>\n",
       "      <td>-0.125</td>\n",
       "      <td>1.00</td>\n",
       "      <td>0.333</td>\n",
       "      <td>0.001</td>\n",
       "      <td>4</td>\n",
       "      <td>0.4</td>\n",
       "      <td>1000</td>\n",
       "      <td>50</td>\n",
       "      <td>1X+2X</td>\n",
       "    </tr>\n",
       "    <tr>\n",
       "      <td>2</td>\n",
       "      <td>4.369</td>\n",
       "      <td>-0.388</td>\n",
       "      <td>1.653</td>\n",
       "      <td>0.750</td>\n",
       "      <td>0.5</td>\n",
       "      <td>1.0</td>\n",
       "      <td>0.625</td>\n",
       "      <td>0.286</td>\n",
       "      <td>0.0</td>\n",
       "      <td>-0.0</td>\n",
       "      <td>0.0</td>\n",
       "      <td>-0.125</td>\n",
       "      <td>1.00</td>\n",
       "      <td>0.333</td>\n",
       "      <td>0.001</td>\n",
       "      <td>4</td>\n",
       "      <td>0.4</td>\n",
       "      <td>1000</td>\n",
       "      <td>50</td>\n",
       "      <td>1X+2X</td>\n",
       "    </tr>\n",
       "    <tr>\n",
       "      <td>3</td>\n",
       "      <td>4.369</td>\n",
       "      <td>0.251</td>\n",
       "      <td>2.039</td>\n",
       "      <td>0.750</td>\n",
       "      <td>0.5</td>\n",
       "      <td>1.0</td>\n",
       "      <td>0.625</td>\n",
       "      <td>0.286</td>\n",
       "      <td>0.0</td>\n",
       "      <td>-0.0</td>\n",
       "      <td>0.0</td>\n",
       "      <td>-0.125</td>\n",
       "      <td>1.00</td>\n",
       "      <td>0.333</td>\n",
       "      <td>0.001</td>\n",
       "      <td>4</td>\n",
       "      <td>0.4</td>\n",
       "      <td>1000</td>\n",
       "      <td>50</td>\n",
       "      <td>1X+2X</td>\n",
       "    </tr>\n",
       "    <tr>\n",
       "      <td>4</td>\n",
       "      <td>4.369</td>\n",
       "      <td>0.770</td>\n",
       "      <td>2.345</td>\n",
       "      <td>0.750</td>\n",
       "      <td>0.5</td>\n",
       "      <td>1.0</td>\n",
       "      <td>0.625</td>\n",
       "      <td>0.286</td>\n",
       "      <td>0.0</td>\n",
       "      <td>-0.0</td>\n",
       "      <td>0.0</td>\n",
       "      <td>-0.125</td>\n",
       "      <td>1.00</td>\n",
       "      <td>0.333</td>\n",
       "      <td>0.001</td>\n",
       "      <td>4</td>\n",
       "      <td>0.4</td>\n",
       "      <td>1000</td>\n",
       "      <td>50</td>\n",
       "      <td>1X+2X</td>\n",
       "    </tr>\n",
       "    <tr>\n",
       "      <td>...</td>\n",
       "      <td>...</td>\n",
       "      <td>...</td>\n",
       "      <td>...</td>\n",
       "      <td>...</td>\n",
       "      <td>...</td>\n",
       "      <td>...</td>\n",
       "      <td>...</td>\n",
       "      <td>...</td>\n",
       "      <td>...</td>\n",
       "      <td>...</td>\n",
       "      <td>...</td>\n",
       "      <td>...</td>\n",
       "      <td>...</td>\n",
       "      <td>...</td>\n",
       "      <td>...</td>\n",
       "      <td>...</td>\n",
       "      <td>...</td>\n",
       "      <td>...</td>\n",
       "      <td>...</td>\n",
       "      <td>...</td>\n",
       "    </tr>\n",
       "    <tr>\n",
       "      <td>125</td>\n",
       "      <td>5.601</td>\n",
       "      <td>5.432</td>\n",
       "      <td>5.599</td>\n",
       "      <td>0.789</td>\n",
       "      <td>1.0</td>\n",
       "      <td>1.0</td>\n",
       "      <td>1.000</td>\n",
       "      <td>0.571</td>\n",
       "      <td>0.0</td>\n",
       "      <td>-0.0</td>\n",
       "      <td>0.0</td>\n",
       "      <td>0.000</td>\n",
       "      <td>0.86</td>\n",
       "      <td>0.381</td>\n",
       "      <td>0.979</td>\n",
       "      <td>4</td>\n",
       "      <td>0.4</td>\n",
       "      <td>1000</td>\n",
       "      <td>50</td>\n",
       "      <td>1X+2X</td>\n",
       "    </tr>\n",
       "    <tr>\n",
       "      <td>126</td>\n",
       "      <td>5.601</td>\n",
       "      <td>5.432</td>\n",
       "      <td>5.599</td>\n",
       "      <td>0.789</td>\n",
       "      <td>1.0</td>\n",
       "      <td>1.0</td>\n",
       "      <td>1.000</td>\n",
       "      <td>0.571</td>\n",
       "      <td>0.0</td>\n",
       "      <td>-0.0</td>\n",
       "      <td>0.0</td>\n",
       "      <td>0.000</td>\n",
       "      <td>0.86</td>\n",
       "      <td>0.381</td>\n",
       "      <td>0.980</td>\n",
       "      <td>4</td>\n",
       "      <td>0.4</td>\n",
       "      <td>1000</td>\n",
       "      <td>50</td>\n",
       "      <td>1X+2X</td>\n",
       "    </tr>\n",
       "    <tr>\n",
       "      <td>127</td>\n",
       "      <td>5.601</td>\n",
       "      <td>5.432</td>\n",
       "      <td>5.599</td>\n",
       "      <td>0.789</td>\n",
       "      <td>1.0</td>\n",
       "      <td>1.0</td>\n",
       "      <td>1.000</td>\n",
       "      <td>0.571</td>\n",
       "      <td>0.0</td>\n",
       "      <td>-0.0</td>\n",
       "      <td>0.0</td>\n",
       "      <td>0.000</td>\n",
       "      <td>0.86</td>\n",
       "      <td>0.381</td>\n",
       "      <td>0.980</td>\n",
       "      <td>4</td>\n",
       "      <td>0.4</td>\n",
       "      <td>1000</td>\n",
       "      <td>50</td>\n",
       "      <td>1X+2X</td>\n",
       "    </tr>\n",
       "    <tr>\n",
       "      <td>128</td>\n",
       "      <td>5.601</td>\n",
       "      <td>5.432</td>\n",
       "      <td>5.599</td>\n",
       "      <td>0.789</td>\n",
       "      <td>1.0</td>\n",
       "      <td>1.0</td>\n",
       "      <td>1.000</td>\n",
       "      <td>0.571</td>\n",
       "      <td>0.0</td>\n",
       "      <td>-0.0</td>\n",
       "      <td>0.0</td>\n",
       "      <td>0.000</td>\n",
       "      <td>0.86</td>\n",
       "      <td>0.381</td>\n",
       "      <td>0.981</td>\n",
       "      <td>4</td>\n",
       "      <td>0.4</td>\n",
       "      <td>1000</td>\n",
       "      <td>50</td>\n",
       "      <td>1X+2X</td>\n",
       "    </tr>\n",
       "    <tr>\n",
       "      <td>129</td>\n",
       "      <td>5.601</td>\n",
       "      <td>5.432</td>\n",
       "      <td>5.599</td>\n",
       "      <td>0.789</td>\n",
       "      <td>1.0</td>\n",
       "      <td>1.0</td>\n",
       "      <td>1.000</td>\n",
       "      <td>0.571</td>\n",
       "      <td>0.0</td>\n",
       "      <td>-0.0</td>\n",
       "      <td>0.0</td>\n",
       "      <td>0.000</td>\n",
       "      <td>0.86</td>\n",
       "      <td>0.381</td>\n",
       "      <td>0.982</td>\n",
       "      <td>4</td>\n",
       "      <td>0.4</td>\n",
       "      <td>1000</td>\n",
       "      <td>50</td>\n",
       "      <td>1X+2X</td>\n",
       "    </tr>\n",
       "  </tbody>\n",
       "</table>\n",
       "<p>130 rows × 20 columns</p>\n",
       "</div>"
      ],
      "text/plain": [
       "     MAX_F  MIN_F  MEAN_F  C_TONE  C_TONE_B  CADENCE  L_NOTE  I_RES  L_INT  \\\n",
       "i                                                                            \n",
       "0    4.369 -1.674   0.802   0.750       0.5      1.0   0.625  0.286    0.0   \n",
       "1    4.369 -0.816   1.238   0.750       0.5      1.0   0.625  0.286    0.0   \n",
       "2    4.369 -0.388   1.653   0.750       0.5      1.0   0.625  0.286    0.0   \n",
       "3    4.369  0.251   2.039   0.750       0.5      1.0   0.625  0.286    0.0   \n",
       "4    4.369  0.770   2.345   0.750       0.5      1.0   0.625  0.286    0.0   \n",
       "..     ...    ...     ...     ...       ...      ...     ...    ...    ...   \n",
       "125  5.601  5.432   5.599   0.789       1.0      1.0   1.000  0.571    0.0   \n",
       "126  5.601  5.432   5.599   0.789       1.0      1.0   1.000  0.571    0.0   \n",
       "127  5.601  5.432   5.599   0.789       1.0      1.0   1.000  0.571    0.0   \n",
       "128  5.601  5.432   5.599   0.789       1.0      1.0   1.000  0.571    0.0   \n",
       "129  5.601  5.432   5.599   0.789       1.0      1.0   1.000  0.571    0.0   \n",
       "\n",
       "     L_DUR  CONS_R  CONS_N  PATTERN_D  PATTERN_SD  EQ_INDIV  INDIV_SIZE  \\\n",
       "i                                                                         \n",
       "0     -0.0     0.0  -0.125       1.00       0.333     0.001           4   \n",
       "1     -0.0     0.0  -0.125       1.00       0.333     0.001           4   \n",
       "2     -0.0     0.0  -0.125       1.00       0.333     0.001           4   \n",
       "3     -0.0     0.0  -0.125       1.00       0.333     0.001           4   \n",
       "4     -0.0     0.0  -0.125       1.00       0.333     0.001           4   \n",
       "..     ...     ...     ...        ...         ...       ...         ...   \n",
       "125   -0.0     0.0   0.000       0.86       0.381     0.979           4   \n",
       "126   -0.0     0.0   0.000       0.86       0.381     0.980           4   \n",
       "127   -0.0     0.0   0.000       0.86       0.381     0.980           4   \n",
       "128   -0.0     0.0   0.000       0.86       0.381     0.981           4   \n",
       "129   -0.0     0.0   0.000       0.86       0.381     0.982           4   \n",
       "\n",
       "     L_RATE  POP_SIZE  E_SIZE X_TYPE  \n",
       "i                                     \n",
       "0       0.4      1000      50  1X+2X  \n",
       "1       0.4      1000      50  1X+2X  \n",
       "2       0.4      1000      50  1X+2X  \n",
       "3       0.4      1000      50  1X+2X  \n",
       "4       0.4      1000      50  1X+2X  \n",
       "..      ...       ...     ...    ...  \n",
       "125     0.4      1000      50  1X+2X  \n",
       "126     0.4      1000      50  1X+2X  \n",
       "127     0.4      1000      50  1X+2X  \n",
       "128     0.4      1000      50  1X+2X  \n",
       "129     0.4      1000      50  1X+2X  \n",
       "\n",
       "[130 rows x 20 columns]"
      ]
     },
     "execution_count": 21,
     "metadata": {},
     "output_type": "execute_result"
    }
   ],
   "source": [
    "no_elite[0:130]"
   ]
  },
  {
   "cell_type": "code",
   "execution_count": 49,
   "metadata": {},
   "outputs": [
    {
     "data": {
      "image/png": "[encoded data removed]",
      "text/plain": [
       "<Figure size 432x288 with 1 Axes>"
      ]
     },
     "metadata": {
      "needs_background": "light"
     },
     "output_type": "display_data"
    }
   ],
   "source": [
    "elite_max_f = elite['MAX_F'][0:100]\n",
    "no_elite_max_f = no_elite['MAX_F'][247:347]\n",
    "plt.xlabel('Iteration')\n",
    "plt.ylabel('Max Fitness')\n",
    "plt.plot(elite_max_f, marker='.',label='With elite mutation')\n",
    "plt.plot(no_elite_max_f, marker='^', label='Without elite mutation')\n",
    "plt.legend()\n",
    "plt.savefig(f'./figures/elite-vs-non-1x+2x', dpi=150)"
   ]
  },
  {
   "cell_type": "code",
   "execution_count": 68,
   "metadata": {},
   "outputs": [
    {
     "data": {
      "image/png": "[encoded data removed]",
      "text/plain": [
       "<Figure size 432x288 with 1 Axes>"
      ]
     },
     "metadata": {
      "needs_background": "light"
     },
     "output_type": "display_data"
    }
   ],
   "source": [
    "model = pd.read_csv('./output/MODEL/experiment-iterations=500-pop=1000/learning-rate-0.4.csv', index_col=0)\n",
    "mean_f = model['MEAN_F']\n",
    "min_f = model['MIN_F']\n",
    "\n",
    "plt.xlabel('Iteration')\n",
    "plt.ylabel('Fitness')\n",
    "plt.plot(mean_f, marker='.', markersize=3, label='Mean fitness')\n",
    "plt.plot(min_f, marker='^', markersize=4, label='Min fitness')\n",
    "plt.legend()\n",
    "plt.savefig(f'./figures/learning-rate-min-mean-f', dpi=150)"
   ]
  },
  {
   "cell_type": "code",
   "execution_count": 37,
   "metadata": {},
   "outputs": [
    {
     "data": {
      "image/png": "[encoded data removed]",
      "text/plain": [
       "<Figure size 432x288 with 1 Axes>"
      ]
     },
     "metadata": {
      "needs_background": "light"
     },
     "output_type": "display_data"
    }
   ],
   "source": [
    "model = pd.read_csv('./output/MODEL/iterations-experiment-learning-rate/iterations-experiment-2020-02-19-learning-rate=0.4.csv', index_col=0)\n",
    "mean_f = model['MEAN_F'][0:500]\n",
    "min_f = model['MIN_F'][0:500]\n",
    "max_f = model['MAX_F'][0:500]\n",
    "\n",
    "\n",
    "plt.xlabel('Iteration')\n",
    "plt.ylabel('Fitness')\n",
    "plt.plot(mean_f, marker='.', markersize=3, label='Mean fitness')\n",
    "plt.plot(min_f, marker='^', markersize=4, label='Min fitness')\n",
    "plt.plot(max_f, label='Max fitness')\n",
    "lgd = plt.legend(bbox_to_anchor=(1.0, 0.8))\n",
    "plt.savefig(f'./figures/learning-rate-min-mean-max-f', dpi=150, bbox_extra_artists=(lgd,), bbox_inches='tight')"
   ]
  },
  {
   "cell_type": "code",
   "execution_count": 36,
   "metadata": {},
   "outputs": [
    {
     "data": {
      "image/png": "[encoded data removed]",
      "text/plain": [
       "<Figure size 432x288 with 1 Axes>"
      ]
     },
     "metadata": {
      "needs_background": "light"
     },
     "output_type": "display_data"
    }
   ],
   "source": [
    "model = pd.read_csv('./output/MODEL/iterations-experiment-no-elitism/iterations-experiment-2020-02-19-no-elitism=0.csv', index_col=0)\n",
    "mean_f = model['MEAN_F'][49:500]\n",
    "min_f = model['MIN_F'][49:500]\n",
    "max_f = model['MAX_F'][49:500]\n",
    "\n",
    "\n",
    "plt.xlabel('Iteration')\n",
    "plt.ylabel('Fitness')\n",
    "plt.plot(mean_f, marker='.', markersize=3, label='Mean fitness')\n",
    "plt.plot(min_f, marker='^', markersize=4, label='Min fitness')\n",
    "plt.plot(max_f, marker='', markersize=4, label='Max fitness')\n",
    "\n",
    "lgd = plt.legend(bbox_to_anchor=(1.2, 0.1))\n",
    "plt.savefig(f'./figures/no-elitism-min-mean-max-f', dpi=150, bbox_extra_artists=(lgd,), bbox_inches='tight')"
   ]
  }
 ],
 "metadata": {
  "kernelspec": {
   "display_name": "Python 3",
   "language": "python",
   "name": "python3"
  },
  "language_info": {
   "codemirror_mode": {
    "name": "ipython",
    "version": 3
   },
   "file_extension": ".py",
   "mimetype": "text/x-python",
   "name": "python",
   "nbconvert_exporter": "python",
   "pygments_lexer": "ipython3",
   "version": "3.7.1"
  }
 },
 "nbformat": 4,
 "nbformat_minor": 4
}
