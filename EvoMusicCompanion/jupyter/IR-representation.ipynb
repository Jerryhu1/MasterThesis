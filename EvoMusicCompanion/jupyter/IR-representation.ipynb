{
 "cells": [
  {
   "cell_type": "code",
   "execution_count": 16,
   "metadata": {},
   "outputs": [],
   "source": [
    "from ea import *\n",
    "\n",
    "from ea import individual\n",
    "from music21 import pitch"
   ]
  },
  {
   "cell_type": "code",
   "execution_count": 12,
   "metadata": {},
   "outputs": [],
   "source": [
    "def narmour(pitches):\n",
    "    \n",
    "    for i in range(2, len(pitches)):\n",
    "        n1 = pitch.Pitch(pitches[i - 2])\n",
    "        n2 = pitch.Pitch(pitches[i - 1])\n",
    "        n3 = pitch.Pitch(pitches[i])\n",
    "\n",
    "        impl_interval = n2.midi - n1.midi\n",
    "        real_interval = n3.midi - n2.midi\n",
    "        u1 = registral_direction(impl_interval, real_interval) \n",
    "        u2 = int_diff(impl_interval, real_interval) \n",
    "        u3 = closure(impl_interval, real_interval) \n",
    "        u4 = registral_return(impl_interval, real_interval) \n",
    "        u5 = proximity(real_interval)\n",
    "        \n",
    "    return (u1, u2, u3, u4, u5)\n",
    "\n",
    "\n",
    "# Small intervals imply a continuation in pitch direction\n",
    "# Large intervals imply a change of direction\n",
    "def registral_direction(impl_int, real_int):\n",
    "    # If small interval\n",
    "    if impl_int <= 6 and sign(impl_int) == sign(real_int):\n",
    "        return 1\n",
    "    if impl_int > 6 and sign(impl_int) != sign(real_int):\n",
    "        return 2\n",
    "    return 0\n",
    "\n",
    "\n",
    "def int_diff(impl_int, real_int):\n",
    "    # Small interval implies small interval, with diff contour\n",
    "    if impl_int < 6 \\\n",
    "            and sign(impl_int) == sign(real_int) \\\n",
    "            and abs(impl_int - real_int) < 3:\n",
    "        return 1\n",
    "    if impl_int < 6 \\\n",
    "            and sign(impl_int) != sign(real_int) \\\n",
    "            and abs(impl_int - real_int) < 4:\n",
    "        return 1\n",
    "    if impl_int > 6 and impl_int >= real_int:\n",
    "        return 1\n",
    "    return 0\n",
    "\n",
    "\n",
    "def registral_return(impl_int, real_int):\n",
    "    if abs(impl_int - real_int) <= 2:\n",
    "        return 1\n",
    "    return 0\n",
    "\n",
    "\n",
    "def closure(impl_int, real_int):\n",
    "    # Changes direction and\n",
    "    if sign(impl_int) != sign(real_int) and abs(impl_int) - abs(real_int) > 2:\n",
    "        return 2\n",
    "    if sign(impl_int) != sign(real_int) and abs(impl_int) - abs(real_int) < 3:\n",
    "        return 1\n",
    "    if sign(impl_int) == sign(real_int) and abs(impl_int) - abs(real_int) > 3:\n",
    "        return 1\n",
    "    return 0\n",
    "\n",
    "\n",
    "def proximity(real_int):\n",
    "    real_int = abs(real_int)\n",
    "    if real_int >= 6:\n",
    "        return 0\n",
    "    if 3 >= real_int <= 5:\n",
    "        return 1\n",
    "    if 0 >= real_int <= 2:\n",
    "        return 1\n",
    "    return 0"
   ]
  },
  {
   "cell_type": "code",
   "execution_count": 17,
   "metadata": {},
   "outputs": [
    {
     "ename": "NameError",
     "evalue": "name 'sign' is not defined",
     "output_type": "error",
     "traceback": [
      "\u001b[1;31m---------------------------------------------------------------------------\u001b[0m",
      "\u001b[1;31mNameError\u001b[0m                                 Traceback (most recent call last)",
      "\u001b[1;32m<ipython-input-17-e7b4ff91f370>\u001b[0m in \u001b[0;36m<module>\u001b[1;34m\u001b[0m\n\u001b[1;32m----> 1\u001b[1;33m \u001b[0mnarmour\u001b[0m\u001b[1;33m(\u001b[0m\u001b[1;33m[\u001b[0m\u001b[1;34m'C4'\u001b[0m\u001b[1;33m,\u001b[0m \u001b[1;34m'D4'\u001b[0m\u001b[1;33m,\u001b[0m \u001b[1;34m'E4'\u001b[0m\u001b[1;33m,\u001b[0m \u001b[1;34m'F4'\u001b[0m\u001b[1;33m,\u001b[0m \u001b[1;34m'C4'\u001b[0m\u001b[1;33m]\u001b[0m\u001b[1;33m)\u001b[0m\u001b[1;33m\u001b[0m\u001b[1;33m\u001b[0m\u001b[0m\n\u001b[0m",
      "\u001b[1;32m<ipython-input-12-14c6dd48c992>\u001b[0m in \u001b[0;36mnarmour\u001b[1;34m(pitches)\u001b[0m\n\u001b[0;32m      8\u001b[0m         \u001b[0mimpl_interval\u001b[0m \u001b[1;33m=\u001b[0m \u001b[0mn2\u001b[0m\u001b[1;33m.\u001b[0m\u001b[0mmidi\u001b[0m \u001b[1;33m-\u001b[0m \u001b[0mn1\u001b[0m\u001b[1;33m.\u001b[0m\u001b[0mmidi\u001b[0m\u001b[1;33m\u001b[0m\u001b[1;33m\u001b[0m\u001b[0m\n\u001b[0;32m      9\u001b[0m         \u001b[0mreal_interval\u001b[0m \u001b[1;33m=\u001b[0m \u001b[0mn3\u001b[0m\u001b[1;33m.\u001b[0m\u001b[0mmidi\u001b[0m \u001b[1;33m-\u001b[0m \u001b[0mn2\u001b[0m\u001b[1;33m.\u001b[0m\u001b[0mmidi\u001b[0m\u001b[1;33m\u001b[0m\u001b[1;33m\u001b[0m\u001b[0m\n\u001b[1;32m---> 10\u001b[1;33m         \u001b[0mu1\u001b[0m \u001b[1;33m=\u001b[0m \u001b[0mregistral_direction\u001b[0m\u001b[1;33m(\u001b[0m\u001b[0mimpl_interval\u001b[0m\u001b[1;33m,\u001b[0m \u001b[0mreal_interval\u001b[0m\u001b[1;33m)\u001b[0m\u001b[1;33m\u001b[0m\u001b[1;33m\u001b[0m\u001b[0m\n\u001b[0m\u001b[0;32m     11\u001b[0m         \u001b[0mu2\u001b[0m \u001b[1;33m=\u001b[0m \u001b[0mint_diff\u001b[0m\u001b[1;33m(\u001b[0m\u001b[0mimpl_interval\u001b[0m\u001b[1;33m,\u001b[0m \u001b[0mreal_interval\u001b[0m\u001b[1;33m)\u001b[0m\u001b[1;33m\u001b[0m\u001b[1;33m\u001b[0m\u001b[0m\n\u001b[0;32m     12\u001b[0m         \u001b[0mu3\u001b[0m \u001b[1;33m=\u001b[0m \u001b[0mclosure\u001b[0m\u001b[1;33m(\u001b[0m\u001b[0mimpl_interval\u001b[0m\u001b[1;33m,\u001b[0m \u001b[0mreal_interval\u001b[0m\u001b[1;33m)\u001b[0m\u001b[1;33m\u001b[0m\u001b[1;33m\u001b[0m\u001b[0m\n",
      "\u001b[1;32m<ipython-input-12-14c6dd48c992>\u001b[0m in \u001b[0;36mregistral_direction\u001b[1;34m(impl_int, real_int)\u001b[0m\n\u001b[0;32m     21\u001b[0m \u001b[1;32mdef\u001b[0m \u001b[0mregistral_direction\u001b[0m\u001b[1;33m(\u001b[0m\u001b[0mimpl_int\u001b[0m\u001b[1;33m,\u001b[0m \u001b[0mreal_int\u001b[0m\u001b[1;33m)\u001b[0m\u001b[1;33m:\u001b[0m\u001b[1;33m\u001b[0m\u001b[1;33m\u001b[0m\u001b[0m\n\u001b[0;32m     22\u001b[0m     \u001b[1;31m# If small interval\u001b[0m\u001b[1;33m\u001b[0m\u001b[1;33m\u001b[0m\u001b[1;33m\u001b[0m\u001b[0m\n\u001b[1;32m---> 23\u001b[1;33m     \u001b[1;32mif\u001b[0m \u001b[0mimpl_int\u001b[0m \u001b[1;33m<=\u001b[0m \u001b[1;36m6\u001b[0m \u001b[1;32mand\u001b[0m \u001b[0msign\u001b[0m\u001b[1;33m(\u001b[0m\u001b[0mimpl_int\u001b[0m\u001b[1;33m)\u001b[0m \u001b[1;33m==\u001b[0m \u001b[0msign\u001b[0m\u001b[1;33m(\u001b[0m\u001b[0mreal_int\u001b[0m\u001b[1;33m)\u001b[0m\u001b[1;33m:\u001b[0m\u001b[1;33m\u001b[0m\u001b[1;33m\u001b[0m\u001b[0m\n\u001b[0m\u001b[0;32m     24\u001b[0m         \u001b[1;32mreturn\u001b[0m \u001b[1;36m1\u001b[0m\u001b[1;33m\u001b[0m\u001b[1;33m\u001b[0m\u001b[0m\n\u001b[0;32m     25\u001b[0m     \u001b[1;32mif\u001b[0m \u001b[0mimpl_int\u001b[0m \u001b[1;33m>\u001b[0m \u001b[1;36m6\u001b[0m \u001b[1;32mand\u001b[0m \u001b[0msign\u001b[0m\u001b[1;33m(\u001b[0m\u001b[0mimpl_int\u001b[0m\u001b[1;33m)\u001b[0m \u001b[1;33m!=\u001b[0m \u001b[0msign\u001b[0m\u001b[1;33m(\u001b[0m\u001b[0mreal_int\u001b[0m\u001b[1;33m)\u001b[0m\u001b[1;33m:\u001b[0m\u001b[1;33m\u001b[0m\u001b[1;33m\u001b[0m\u001b[0m\n",
      "\u001b[1;31mNameError\u001b[0m: name 'sign' is not defined"
     ]
    }
   ],
   "source": [
    "narmour(['C4', 'D4', 'E4', 'F4', 'C4'])"
   ]
  }
 ],
 "metadata": {
  "kernelspec": {
   "display_name": "Python 3",
   "language": "python",
   "name": "python3"
  },
  "language_info": {
   "codemirror_mode": {
    "name": "ipython",
    "version": 3
   },
   "file_extension": ".py",
   "mimetype": "text/x-python",
   "name": "python",
   "nbconvert_exporter": "python",
   "pygments_lexer": "ipython3",
   "version": "3.7.4"
  }
 },
 "nbformat": 4,
 "nbformat_minor": 4
}
