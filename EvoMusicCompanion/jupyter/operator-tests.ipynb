{
 "cells": [
  {
   "cell_type": "code",
   "execution_count": null,
   "metadata": {},
   "outputs": [],
   "source": [
    "from __future__ import print_function\n",
    "from music21 import *\n",
    "from collections import Counter, defaultdict\n",
    "from ea.individual import Measure, Individual, Note\n",
    "from ea.duration import Duration\n",
    "\n",
    "import ea.initialisation as initialisation\n",
    "import ea.modelTrainer as modelTrainer\n",
    "import ea.musicPlayer as musicPlayer\n",
    "import ea.simulation as simulation\n",
    "import ea.fitness as fitness\n",
    "import ea.mutation as mutation\n",
    "import collections\n",
    "import importlib\n",
    "import music21\n",
    "import numpy as np\n",
    "import pandas as pd\n",
    "import ea.individual as individual\n",
    "import ea.duration as duration\n",
    "import ea.constants as constants\n",
    "import ea.util as util\n",
    "import random\n",
    "import nltk\n",
    "import ea.fitness as fitness\n",
    "import re\n",
    "import ea.modelUpdater as modelUpdater\n",
    "import ea.metrics as metrics\n",
    "import copy"
   ]
  },
  {
   "cell_type": "code",
   "execution_count": null,
   "metadata": {},
   "outputs": [],
   "source": [
    "importlib.reload(initialisation)\n",
    "importlib.reload(modelTrainer)\n",
    "importlib.reload(musicPlayer)\n",
    "importlib.reload(simulation)\n",
    "importlib.reload(mutation)\n",
    "importlib.reload(fitness)\n",
    "importlib.reload(constants)\n",
    "importlib.reload(util)\n",
    "importlib.reload(individual)\n",
    "importlib.reload(fitness)\n",
    "importlib.reload(modelUpdater)\n",
    "importlib.reload(metrics)"
   ]
  },
  {
   "cell_type": "code",
   "execution_count": null,
   "metadata": {},
   "outputs": [],
   "source": [
    "testIndividual = Individual(\n",
    "    [\n",
    "        Measure(\n",
    "                [\n",
    "                    Note('C5', Duration('quarter', 0.25)),\n",
    "                    Note('C5', Duration('quarter', 0.25)),\n",
    "                    Note('C5', Duration('quarter', 0.25)),\n",
    "                    Note('E5', Duration('quarter', 0.25))\n",
    "                ], 0, ['C3', 'E3', 'G3']\n",
    "            ),\n",
    "        Measure(\n",
    "            [\n",
    "                Note('C5', Duration('quarter', 0.25)),\n",
    "                Note('C5', Duration('quarter', 0.25)),\n",
    "                Note('D5', Duration('half', 0.5)),\n",
    "            ], 0, ['C3', 'E3', 'G3'])\n",
    "    ], 0\n",
    ")\n",
    "testIndividual2 = Individual(\n",
    "    [\n",
    "        Measure(\n",
    "                [\n",
    "                    Note('C5', Duration('quarter', 0.25)),\n",
    "                    Note('C5', Duration('quarter', 0.25)),\n",
    "                    Note('C5', Duration('quarter', 0.25)),\n",
    "                    Note('E5', Duration('quarter', 0.25)),\n",
    "                    Note('E5', Duration('quarter', 0.25))\n",
    "\n",
    "                ], 0, ['C3', 'E3', 'G3']\n",
    "            ),\n",
    "        Measure(\n",
    "            [\n",
    "                Note('C5', Duration('quarter', 0.25)),\n",
    "                Note('D5', Duration('quarter', 0.25)),\n",
    "                Note('C5', Duration('quarter', 0.25)),\n",
    "                Note('E5', Duration('quarter', 0.25)),\n",
    "                Note('E5', Duration('quarter', 0.25))\n",
    "                \n",
    "            ], 0, ['C3', 'E3', 'G3'])\n",
    "    ], 0\n",
    ")\n",
    "\n",
    "population = [testIndividual, testIndividual2]"
   ]
  },
  {
   "cell_type": "code",
   "execution_count": null,
   "metadata": {},
   "outputs": [],
   "source": [
    "fitness.cadence(testIndividual2)"
   ]
  },
  {
   "cell_type": "code",
   "execution_count": null,
   "metadata": {},
   "outputs": [],
   "source": [
    "individuals = list(map(lambda x: x.get_notes_per_measure(), population))\n",
    "highest_fitness_i = None\n",
    "counter = 0\n",
    "\n",
    "for i in range(len(individuals)):\n",
    "    ind = individuals[i]\n",
    "    curr_individual = []\n",
    "    for m in ind:\n",
    "        for n in m:\n",
    "            curr_individual.append(n.pitch)\n",
    "    curr_individual = tuple(curr_individual)\n",
    "    if i == 0:\n",
    "        highest_fitness_i = curr_individual\n",
    "    if curr_individual == highest_fitness_i:\n",
    "        counter += 1\n",
    "counter / len(population)"
   ]
  },
  {
   "cell_type": "code",
   "execution_count": null,
   "metadata": {},
   "outputs": [],
   "source": [
    "metrics.proportion_equal_to_highest_fitness(population)"
   ]
  },
  {
   "cell_type": "code",
   "execution_count": null,
   "metadata": {},
   "outputs": [],
   "source": [
    "a = testIndividual\n",
    "b = testIndividual\n",
    "\n",
    "a_notes_copy = copy.deepcopy(a.measures[0].notes)\n",
    "b.measures[0].notes = a_notes_copy\n",
    "\n",
    "a.measures[0].notes is b.measures[0].notes"
   ]
  },
  {
   "cell_type": "code",
   "execution_count": 213,
   "metadata": {},
   "outputs": [
    {
     "ename": "TypeError",
     "evalue": "unsupported operand type(s) for -: 'NoneType' and 'NoneType'",
     "output_type": "error",
     "traceback": [
      "\u001b[1;31m---------------------------------------------------------------------------\u001b[0m",
      "\u001b[1;31mTypeError\u001b[0m                                 Traceback (most recent call last)",
      "\u001b[1;32m<ipython-input-213-5970dbfdc8a4>\u001b[0m in \u001b[0;36m<module>\u001b[1;34m\u001b[0m\n\u001b[1;32m----> 1\u001b[1;33m \u001b[0ma\u001b[0m\u001b[1;33m.\u001b[0m\u001b[0mfitnesses\u001b[0m \u001b[1;33m-\u001b[0m \u001b[0mb\u001b[0m\u001b[1;33m.\u001b[0m\u001b[0mfitnesses\u001b[0m\u001b[1;33m\u001b[0m\u001b[1;33m\u001b[0m\u001b[0m\n\u001b[0m",
      "\u001b[1;31mTypeError\u001b[0m: unsupported operand type(s) for -: 'NoneType' and 'NoneType'"
     ]
    }
   ],
   "source": [
    "a.fitnesses - b.fitnesses\n"
   ]
  },
  {
   "cell_type": "code",
   "execution_count": null,
   "metadata": {},
   "outputs": [],
   "source": [
    "from random import Random\n",
    "rng = Random()\n",
    "def elitist_mutation(individual: Individual, elitist_population: [Individual]):\n",
    "    e_individual: Individual = rng.choice(elitist_population)\n",
    "\n",
    "    measure = rng.choice(range(len(e_individual.measures)))\n",
    "    e_individual_copy = copy.deepcopy(e_individual.measures[measure].notes)\n",
    "\n",
    "    individual.measures[measure].notes = e_individual_copy\n",
    "    print(individual)\n",
    "    print(elitist_population)\n",
    "    if individual.measures[measure].notes is e_individual.measures[measure].notes:\n",
    "        print('Mutated individual has reference to elitist individual')"
   ]
  }
 ],
 "metadata": {
  "kernelspec": {
   "display_name": "Python 3",
   "language": "python",
   "name": "python3"
  },
  "language_info": {
   "codemirror_mode": {
    "name": "ipython",
    "version": 3
   },
   "file_extension": ".py",
   "mimetype": "text/x-python",
   "name": "python",
   "nbconvert_exporter": "python",
   "pygments_lexer": "ipython3",
   "version": "3.7.4"
  }
 },
 "nbformat": 4,
 "nbformat_minor": 4
}
