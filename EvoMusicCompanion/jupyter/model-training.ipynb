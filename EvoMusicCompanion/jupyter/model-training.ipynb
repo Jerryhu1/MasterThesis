{
 "cells": [
  {
   "cell_type": "code",
   "execution_count": null,
   "metadata": {},
   "outputs": [],
   "source": [
    "import initialisation\n",
    "import modelTrainer\n",
    "import musicPlayer\n",
    "import simulation\n",
    "import fitness\n",
    "\n",
    "\n",
    "import importlib\n",
    "import numpy as np\n",
    "import pandas as pd\n",
    "\n"
   ]
  },
  {
   "cell_type": "code",
   "execution_count": null,
   "metadata": {},
   "outputs": [],
   "source": [
    "importlib.reload(initialisation)\n",
    "importlib.reload(modelTrainer)\n",
    "importlib.reload(musicPlayer)\n",
    "importlib.reload(simulation)\n",
    "importlib.reload(fitness)"
   ]
  },
  {
   "cell_type": "code",
   "execution_count": null,
   "metadata": {},
   "outputs": [],
   "source": []
  },
  {
   "cell_type": "code",
   "execution_count": null,
   "metadata": {},
   "outputs": [],
   "source": [
    "scores = modelTrainer.get_corpus()"
   ]
  },
  {
   "cell_type": "code",
   "execution_count": null,
   "metadata": {},
   "outputs": [],
   "source": [
    "notes, possible_notes = modelTrainer.get_notes_per_score(scores)\n"
   ]
  },
  {
   "cell_type": "code",
   "execution_count": null,
   "metadata": {},
   "outputs": [],
   "source": [
    "frequency_array = modelTrainer.create_frequency_array(notes)\n",
    "frequency_matrix = modelTrainer.create_frequency_matrix(notes, possible_notes)"
   ]
  },
  {
   "cell_type": "code",
   "execution_count": null,
   "metadata": {},
   "outputs": [],
   "source": [
    "frequency_matrix[\"C3\"]"
   ]
  },
  {
   "cell_type": "code",
   "execution_count": null,
   "metadata": {},
   "outputs": [],
   "source": [
    "matrix = modelTrainer.get_probabilistic_matrix(frequency_matrix, frequency_array, possible_notes)"
   ]
  },
  {
   "cell_type": "code",
   "execution_count": null,
   "metadata": {},
   "outputs": [],
   "source": [
    "matrix"
   ]
  },
  {
   "cell_type": "code",
   "execution_count": null,
   "metadata": {},
   "outputs": [],
   "source": [
    "population = initialisation.initialize_population(10, 6, matrix)"
   ]
  },
  {
   "cell_type": "code",
   "execution_count": null,
   "metadata": {},
   "outputs": [],
   "source": [
    "samples = population[1:3]\n",
    "for p in range(len(samples)):\n",
    "    samples[p] = (samples[p], 10)"
   ]
  },
  {
   "cell_type": "code",
   "execution_count": null,
   "metadata": {},
   "outputs": [],
   "source": [
    "fitness = 0\n",
    "for i in samples:\n",
    "    fitness += i[1]\n",
    "sum(map(lambda x: x[1], samples)) / len(samples)"
   ]
  },
  {
   "cell_type": "code",
   "execution_count": null,
   "metadata": {},
   "outputs": [],
   "source": [
    "possible_notes = set(modelTrainer.flatten(samples))\n",
    "freq_array = modelTrainer.create_frequency_array(samples)\n",
    "\n"
   ]
  },
  {
   "cell_type": "code",
   "execution_count": null,
   "metadata": {},
   "outputs": [],
   "source": [
    "freq_matrix = modelTrainer.create_frequency_matrix(samples, possible_notes)\n",
    "u_matrix = modelTrainer.get_probabilistic_matrix(freq_matrix, freq_array, possible_notes)"
   ]
  },
  {
   "cell_type": "code",
   "execution_count": null,
   "metadata": {},
   "outputs": [],
   "source": [
    "u_matrix"
   ]
  },
  {
   "cell_type": "code",
   "execution_count": null,
   "metadata": {},
   "outputs": [],
   "source": [
    "error_matrix = u_matrix.subtract(matrix, fill_value=0.0)\n",
    "    "
   ]
  },
  {
   "cell_type": "code",
   "execution_count": null,
   "metadata": {},
   "outputs": [],
   "source": [
    "newMatrix = matrix.copy()\n",
    "for i in newMatrix.keys(): #Col\n",
    "    for j in newMatrix.keys(): #row\n",
    "\n",
    "        if i in u_matrix and j in u_matrix[i]:\n",
    "            #u_matrix contains the values, subtract from each other\n",
    "            difference =  u_matrix[i][j] - matrix[i][j]\n",
    "        elif i not in u_matrix:\n",
    "            #u_matrix does not contain the column, we can not update transitions strating from this note\n",
    "            difference = 0.0\n",
    "        else: #u_matrix contains the column, but not the row. So no transitions to that note at all\n",
    "            difference = -matrix[i][j]\n",
    "\n",
    "        if i == \"C4\" and j == \"F4\":\n",
    "            print(difference)\n",
    "        newMatrix[i][j] = matrix[i][j] + (difference * 0.5)\n"
   ]
  },
  {
   "cell_type": "code",
   "execution_count": null,
   "metadata": {},
   "outputs": [],
   "source": [
    "print(u_matrix[\"C4\"][\"F4\"])\n",
    "print(matrix[\"C4\"][\"F4\"])\n",
    "diff = u_matrix['C4']['F4'] - matrix['C4']['F4']\n",
    "\n",
    "matrix['C4']['F4'] + (diff * 0.5)"
   ]
  },
  {
   "cell_type": "code",
   "execution_count": null,
   "metadata": {},
   "outputs": [],
   "source": [
    "for i in newMatrix.keys(): #Col\n",
    "    for j in newMatrix.keys(): #row\n",
    "         if i in u_matrix and j in u_matrix[i]:\n",
    "                if(i == ' ' and j ==  ' '):\n",
    "                    print(\"test\")\n",
    "            "
   ]
  },
  {
   "cell_type": "code",
   "execution_count": null,
   "metadata": {},
   "outputs": [],
   "source": [
    "m = modelTrainer.update_matrix(samples, matrix, 0.5)"
   ]
  },
  {
   "cell_type": "code",
   "execution_count": null,
   "metadata": {},
   "outputs": [],
   "source": [
    "samples.sort(key=lambda x: x[1], reverse=True)\n",
    "samples"
   ]
  },
  {
   "cell_type": "code",
   "execution_count": null,
   "metadata": {},
   "outputs": [],
   "source": [
    "for i in population:\n",
    "    counter = 0\n",
    "    for note in i:\n",
    "        if note in ['A5', 'B5', 'C5', 'D5', 'E5', 'F5', 'G5']:\n",
    "            counter += 1\n",
    "    print(counter / len(i))"
   ]
  },
  {
   "cell_type": "code",
   "execution_count": null,
   "metadata": {},
   "outputs": [],
   "source": [
    "simulation.run(2, 10, matrix)"
   ]
  }
 ],
 "metadata": {
  "kernelspec": {
   "display_name": "Python 3",
   "language": "python",
   "name": "python3"
  },
  "language_info": {
   "codemirror_mode": {
    "name": "ipython",
    "version": 3
   },
   "file_extension": ".py",
   "mimetype": "text/x-python",
   "name": "python",
   "nbconvert_exporter": "python",
   "pygments_lexer": "ipython3",
   "version": "3.7.4"
  }
 },
 "nbformat": 4,
 "nbformat_minor": 4
}
