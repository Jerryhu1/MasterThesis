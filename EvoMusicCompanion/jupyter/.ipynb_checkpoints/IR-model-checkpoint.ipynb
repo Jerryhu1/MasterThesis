{
 "cells": [
  {
   "cell_type": "code",
   "execution_count": null,
   "metadata": {},
   "outputs": [],
   "source": [
    "from music21 import *\n",
    "import collections\n",
    "import numpy as np\n",
    "import pandas as pd\n",
    "import gzip\n",
    "import random"
   ]
  },
  {
   "cell_type": "code",
   "execution_count": null,
   "metadata": {},
   "outputs": [],
   "source": [
    "from collections import Counter, defaultdict\n",
    "\n",
    "import initialisation\n",
    "import modelTrainer\n",
    "import musicPlayer\n",
    "import simulation\n",
    "import fitness\n",
    "import collections\n",
    "import importlib\n",
    "import music21\n",
    "import numpy as np\n",
    "import pandas as pd\n",
    "import individual\n",
    "import duration\n",
    "import constants\n",
    "import util\n",
    "import random\n",
    "import nltk\n",
    "import fitness\n",
    "import re\n"
   ]
  },
  {
   "cell_type": "code",
   "execution_count": null,
   "metadata": {},
   "outputs": [],
   "source": [
    "wiki_corpus = corpus.corpora.LocalCorpus('wiki')\n",
    "curr_corpus = wiki_corpus.metadataBundle[0:20]\n",
    "\n",
    "scores = []\n",
    "for c in curr_corpus:\n",
    "    score = c.parse()\n",
    "    score = util.transpose_piece(score, 'C')\n",
    "    scores.append(score)"
   ]
  },
  {
   "cell_type": "code",
   "execution_count": null,
   "metadata": {},
   "outputs": [],
   "source": [
    "t = scores[7].parts.flat.notes\n",
    "\n",
    "for a in t:\n",
    "    print(a)"
   ]
  },
  {
   "cell_type": "code",
   "execution_count": null,
   "metadata": {},
   "outputs": [],
   "source": [
    "test= modelTrainer.get_pitches_per_score(scores)\n",
    "test = list(map(lambda y: list(filter(lambda x: x != 'REST', y)),test))"
   ]
  },
  {
   "cell_type": "code",
   "execution_count": null,
   "metadata": {},
   "outputs": [],
   "source": [
    "note.Note('C2').pitch.midi"
   ]
  },
  {
   "cell_type": "code",
   "execution_count": null,
   "metadata": {},
   "outputs": [],
   "source": [
    "test"
   ]
  },
  {
   "cell_type": "code",
   "execution_count": null,
   "metadata": {},
   "outputs": [],
   "source": [
    "symbols = []\n",
    "\n",
    "for s in test:\n",
    "    for i in range(2, len(s)):\n",
    "        n1 = pitch.Pitch(s[i-2])\n",
    "        n2 = pitch.Pitch(s[i-1])\n",
    "        n3 = pitch.Pitch(s[i])\n",
    "        \n",
    "        impl_interval = n2.midi - n1.midi\n",
    "        real_interval = n3.midi - n2.midi\n",
    "            \n",
    "        # Small impl_interval\n",
    "        if abs(impl_interval) < 5:\n",
    "            \n",
    "            #small real_interval\n",
    "            if abs(real_interval) < 5:\n",
    "                if n1 == n3:\n",
    "                    new_symbol = \"QE\"\n",
    "                # Unchanging direction\n",
    "                if (impl_interval <= 0 and real_interval <= impl_interval) or (impl_interval >= 0 and real_interval >= impl_interval):\n",
    "                    new_symbol = \"PV\"\n",
    "                # Changing direction\n",
    "                else:\n",
    "                    new_symbol = \"QV\"\n",
    "            #Large real_interval\n",
    "            else:\n",
    "                # Unchanging direction\n",
    "                if (impl_interval < 0 and real_interval < impl_interval) or (impl_interval > 0 and real_interval > 0):\n",
    "                    new_symbol = \"PR\"\n",
    "                # Changing direction\n",
    "                else:\n",
    "                    new_symbol = \"QR\"\n",
    "        # Large impl_interval\n",
    "        else:\n",
    "            #small real_interval\n",
    "            if abs(real_interval) < 5:\n",
    "                # Unchanging direction\n",
    "                if (impl_interval < 0 and real_interval < impl_interval) or (impl_interval > 0 and real_interval > impl_interval):\n",
    "                    new_symbol = \"PF\"\n",
    "                # Changing direction\n",
    "                else:\n",
    "                    new_symbol = \"QF\"\n",
    "            #Large real_interval\n",
    "            else:\n",
    "                # Unchanging direction\n",
    "                if (impl_interval < 0 and real_interval < impl_interval) or (impl_interval > 0 and real_interval > 0):\n",
    "                    new_symbol = \"PL\"\n",
    "                # Changing direction\n",
    "                else:\n",
    "                    new_symbol = \"QL\"\n",
    "        symbols.append(new_symbol)\n",
    "            \n",
    "        \n",
    "symbols\n",
    "\n",
    "        \n",
    "               "
   ]
  },
  {
   "cell_type": "code",
   "execution_count": 72,
   "metadata": {},
   "outputs": [
    {
     "data": {
      "text/html": [
       "<div>\n",
       "<style scoped>\n",
       "    .dataframe tbody tr th:only-of-type {\n",
       "        vertical-align: middle;\n",
       "    }\n",
       "\n",
       "    .dataframe tbody tr th {\n",
       "        vertical-align: top;\n",
       "    }\n",
       "\n",
       "    .dataframe thead th {\n",
       "        text-align: right;\n",
       "    }\n",
       "</style>\n",
       "<table border=\"1\" class=\"dataframe\">\n",
       "  <thead>\n",
       "    <tr style=\"text-align: right;\">\n",
       "      <th></th>\n",
       "      <th>QV</th>\n",
       "      <th>PV</th>\n",
       "      <th>QR</th>\n",
       "      <th>QL</th>\n",
       "      <th>QF</th>\n",
       "      <th>PR</th>\n",
       "      <th>PL</th>\n",
       "    </tr>\n",
       "  </thead>\n",
       "  <tbody>\n",
       "    <tr>\n",
       "      <td>QV</td>\n",
       "      <td>0.429799</td>\n",
       "      <td>0.492470</td>\n",
       "      <td>0.000000</td>\n",
       "      <td>0.000000</td>\n",
       "      <td>0.44375</td>\n",
       "      <td>0.000000</td>\n",
       "      <td>0.000000</td>\n",
       "    </tr>\n",
       "    <tr>\n",
       "      <td>PV</td>\n",
       "      <td>0.455587</td>\n",
       "      <td>0.409639</td>\n",
       "      <td>0.009259</td>\n",
       "      <td>0.000000</td>\n",
       "      <td>0.45625</td>\n",
       "      <td>0.000000</td>\n",
       "      <td>0.000000</td>\n",
       "    </tr>\n",
       "    <tr>\n",
       "      <td>QR</td>\n",
       "      <td>0.078797</td>\n",
       "      <td>0.061747</td>\n",
       "      <td>0.000000</td>\n",
       "      <td>0.000000</td>\n",
       "      <td>0.07500</td>\n",
       "      <td>0.000000</td>\n",
       "      <td>0.000000</td>\n",
       "    </tr>\n",
       "    <tr>\n",
       "      <td>PR</td>\n",
       "      <td>0.032951</td>\n",
       "      <td>0.033133</td>\n",
       "      <td>0.000000</td>\n",
       "      <td>0.000000</td>\n",
       "      <td>0.02500</td>\n",
       "      <td>0.000000</td>\n",
       "      <td>0.000000</td>\n",
       "    </tr>\n",
       "    <tr>\n",
       "      <td>QL</td>\n",
       "      <td>0.002865</td>\n",
       "      <td>0.001506</td>\n",
       "      <td>0.157407</td>\n",
       "      <td>0.234043</td>\n",
       "      <td>0.00000</td>\n",
       "      <td>0.285714</td>\n",
       "      <td>0.666667</td>\n",
       "    </tr>\n",
       "    <tr>\n",
       "      <td>QF</td>\n",
       "      <td>0.000000</td>\n",
       "      <td>0.001506</td>\n",
       "      <td>0.814815</td>\n",
       "      <td>0.744681</td>\n",
       "      <td>0.00000</td>\n",
       "      <td>0.714286</td>\n",
       "      <td>0.333333</td>\n",
       "    </tr>\n",
       "    <tr>\n",
       "      <td>PL</td>\n",
       "      <td>0.000000</td>\n",
       "      <td>0.000000</td>\n",
       "      <td>0.018519</td>\n",
       "      <td>0.021277</td>\n",
       "      <td>0.00000</td>\n",
       "      <td>0.000000</td>\n",
       "      <td>0.000000</td>\n",
       "    </tr>\n",
       "  </tbody>\n",
       "</table>\n",
       "</div>"
      ],
      "text/plain": [
       "          QV        PV        QR        QL       QF        PR        PL\n",
       "QV  0.429799  0.492470  0.000000  0.000000  0.44375  0.000000  0.000000\n",
       "PV  0.455587  0.409639  0.009259  0.000000  0.45625  0.000000  0.000000\n",
       "QR  0.078797  0.061747  0.000000  0.000000  0.07500  0.000000  0.000000\n",
       "PR  0.032951  0.033133  0.000000  0.000000  0.02500  0.000000  0.000000\n",
       "QL  0.002865  0.001506  0.157407  0.234043  0.00000  0.285714  0.666667\n",
       "QF  0.000000  0.001506  0.814815  0.744681  0.00000  0.714286  0.333333\n",
       "PL  0.000000  0.000000  0.018519  0.021277  0.00000  0.000000  0.000000"
      ]
     },
     "execution_count": 72,
     "metadata": {},
     "output_type": "execute_result"
    }
   ],
   "source": [
    "matrix = defaultdict(lambda: defaultdict(lambda: 0))\n",
    "\n",
    "symbol_bigram = list(nltk.bigrams(symbols))\n",
    "for i1,i2 in symbol_bigram:\n",
    "    matrix[i1][i2] += 1\n",
    "    \n",
    "for i1 in matrix:\n",
    "    total = float(sum(matrix[i1].values()))\n",
    "    for i2 in matrix[i1]:\n",
    "        matrix[i1][i2] /= total\n",
    "    \n",
    "pd_matrix = pd.DataFrame(matrix)\n",
    "pd_matrix = pd_matrix.fillna(0)\n",
    "pd_matrix"
   ]
  },
  {
   "cell_type": "code",
   "execution_count": 90,
   "metadata": {},
   "outputs": [],
   "source": [
    "def sample_by_symbol(interval_size, direction, prev_note, matrix):\n",
    "    i = interval.Interval()\n",
    "    if interval_size == 'S':\n",
    "        intervals = []\n",
    "        if direction == 'UP':\n",
    "            r = range(1, 6)\n",
    "        else:\n",
    "            r = range(-1, -6, -1)\n",
    "    else:\n",
    "        if direction == 'UP':\n",
    "            r = range(6, 11)\n",
    "        else:\n",
    "            r = range(-6, -11, -1)\n",
    "            \n",
    "    for i in r:\n",
    "        i = interval.Interval(i)\n",
    "        intervals.append(i.tranposePitch(prev_note))\n"
   ]
  },
  {
   "cell_type": "code",
   "execution_count": null,
   "metadata": {},
   "outputs": [],
   "source": [
    "\n",
    "\n",
    "total_count = 0\n",
    "m = defaultdict(lambda: defaultdict(lambda: 0))\n",
    "\n",
    "# Get the intervals and create a distribution\n",
    "for i in intervals:\n",
    "    p = matrix[prev_note][i]\n",
    "    m[prev_note][i] = p\n",
    "    total_count += p\n",
    "\n",
    "for i in intervals:\n",
    "    m[prev_note][i] /= total_count\n",
    "\n",
    "p_sum = 0\n",
    "rng = random.random()\n",
    "for i in intervals:\n",
    "    v = m[prev_note][i]\n",
    "    if p_sum < rng < p_sum + v:\n",
    "        return k\n",
    "    else:\n",
    "        p_sum += v\n",
    "    "
   ]
  },
  {
   "cell_type": "code",
   "execution_count": 79,
   "metadata": {},
   "outputs": [
    {
     "data": {
      "text/plain": [
       "<music21.pitch.Pitch C#4>"
      ]
     },
     "execution_count": 79,
     "metadata": {},
     "output_type": "execute_result"
    }
   ],
   "source": [
    "a = interval.Interval(1)\n",
    "a.transposePitch(pitch.Pitch('C4'))"
   ]
  },
  {
   "cell_type": "code",
   "execution_count": 89,
   "metadata": {},
   "outputs": [
    {
     "name": "stdout",
     "output_type": "stream",
     "text": [
      "-1\n",
      "-2\n",
      "-3\n",
      "-4\n"
     ]
    }
   ],
   "source": [
    "r = range(-1, -5, -1)\n",
    "for i in r:\n",
    "    print(i)"
   ]
  }
 ],
 "metadata": {
  "kernelspec": {
   "display_name": "Python 3",
   "language": "python",
   "name": "python3"
  },
  "language_info": {
   "codemirror_mode": {
    "name": "ipython",
    "version": 3
   },
   "file_extension": ".py",
   "mimetype": "text/x-python",
   "name": "python",
   "nbconvert_exporter": "python",
   "pygments_lexer": "ipython3",
   "version": "3.7.4"
  }
 },
 "nbformat": 4,
 "nbformat_minor": 4
}
