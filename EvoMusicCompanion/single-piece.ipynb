{
 "cells": [
  {
   "cell_type": "code",
   "execution_count": null,
   "metadata": {},
   "outputs": [],
   "source": [
    "from __future__ import print_function\n",
    "from music21 import *\n",
    "from collections import Counter, defaultdict\n",
    "from ea.individual import Measure, Individual, Note\n",
    "from ea.duration import Duration\n",
    "\n",
    "import ea.initialisation as initialisation\n",
    "import ea.modelTrainer as modelTrainer\n",
    "import ea.musicPlayer as musicPlayer\n",
    "import ea.simulation as simulation\n",
    "import ea.fitness as fitness\n",
    "import collections\n",
    "import importlib\n",
    "import music21\n",
    "import numpy as np\n",
    "import pandas as pd\n",
    "import ea.individual as individual\n",
    "import ea.duration as duration\n",
    "import ea.constants as constants\n",
    "import ea.util as util\n",
    "import random\n",
    "import nltk\n",
    "import ea.fitness as fitness\n",
    "import re\n",
    "import ea.modelUpdater as modelUpdater\n",
    "import matplotlib.pyplot as plt"
   ]
  },
  {
   "cell_type": "code",
   "execution_count": 16,
   "metadata": {},
   "outputs": [
    {
     "data": {
      "text/plain": [
       "<module 'ea.util' from 'C:\\\\School\\\\Master\\\\Thesis\\\\Programming\\\\MasterThesis\\\\EvoMusicCompanion\\\\ea\\\\util.py'>"
      ]
     },
     "execution_count": 16,
     "metadata": {},
     "output_type": "execute_result"
    }
   ],
   "source": [
    "importlib.reload(initialisation)\n",
    "importlib.reload(modelTrainer)\n",
    "importlib.reload(musicPlayer)\n",
    "importlib.reload(simulation)\n",
    "importlib.reload(fitness)\n",
    "importlib.reload(duration)\n",
    "importlib.reload(music21)\n",
    "importlib.reload(individual)\n",
    "importlib.reload(constants)\n",
    "importlib.reload(util)"
   ]
  },
  {
   "cell_type": "code",
   "execution_count": null,
   "metadata": {},
   "outputs": [],
   "source": [
    "wiki_corpus = corpus.corpora.LocalCorpus('wiki')\n",
    "curr_corpus = wiki_corpus.metadataBundle\n",
    "piano_man = curr_corpus.search('Billy joel - piano man')[0]\n",
    "piano_man = piano_man.parse()"
   ]
  },
  {
   "cell_type": "code",
   "execution_count": null,
   "metadata": {},
   "outputs": [],
   "source": [
    "s = piano_man"
   ]
  },
  {
   "cell_type": "code",
   "execution_count": null,
   "metadata": {},
   "outputs": [],
   "source": [
    "s = stream.Score(id='mainScore')\n",
    "p = stream.Part(id='part0')\n",
    "\n",
    "measures = piano_man.parts[0].getElementsByClass(stream.Measure)[14:31]\n",
    "for m in measures:\n",
    "    p.append(m)\n",
    "s.append(p)"
   ]
  },
  {
   "cell_type": "code",
   "execution_count": null,
   "metadata": {},
   "outputs": [],
   "source": [
    "s.show('musicxml')"
   ]
  },
  {
   "cell_type": "code",
   "execution_count": null,
   "metadata": {},
   "outputs": [],
   "source": [
    "pitch_matrix = modelTrainer.get_probabilistic_matrix(modelTrainer.get_bigram_matrix(modelTrainer.flatten(modelTrainer.get_pitches_per_score([s]))))\n",
    "duration_matrix = modelTrainer.train_duration_matrix([s])"
   ]
  },
  {
   "cell_type": "code",
   "execution_count": null,
   "metadata": {},
   "outputs": [],
   "source": [
    "duration_matrix.to_csv('piano_man_duration.csv')"
   ]
  },
  {
   "cell_type": "code",
   "execution_count": null,
   "metadata": {},
   "outputs": [],
   "source": [
    "pitch_matrix.to_csv('piano_man.csv')"
   ]
  },
  {
   "cell_type": "code",
   "execution_count": null,
   "metadata": {},
   "outputs": [],
   "source": [
    "notes = []\n",
    "for i in sim.population:\n",
    "    for m in i.measures:\n",
    "        for n in m.notes:\n",
    "            notes.append(n.pitch)"
   ]
  },
  {
   "cell_type": "code",
   "execution_count": null,
   "metadata": {},
   "outputs": [],
   "source": [
    "song_pitch_count = Counter(map(lambda x: x.pitch, indiv.get_flattened_notes()))\n",
    "indiv_pitch_count = Counter(notes)"
   ]
  },
  {
   "cell_type": "code",
   "execution_count": null,
   "metadata": {},
   "outputs": [],
   "source": [
    "indiv_pitch_count = Counter(notes)"
   ]
  },
  {
   "cell_type": "code",
   "execution_count": null,
   "metadata": {},
   "outputs": [],
   "source": [
    "plt.bar(song_pitch_count.keys(), song_pitch_count.values())\n"
   ]
  },
  {
   "cell_type": "code",
   "execution_count": null,
   "metadata": {},
   "outputs": [],
   "source": [
    "plt.bar(indiv_pitch_count.keys(), indiv_pitch_count.values())"
   ]
  },
  {
   "cell_type": "code",
   "execution_count": null,
   "metadata": {},
   "outputs": [],
   "source": [
    "indiv = util.music21_score_to_individual(s)"
   ]
  },
  {
   "cell_type": "code",
   "execution_count": 15,
   "metadata": {},
   "outputs": [],
   "source": [
    "sim = simulation.Simulation(1.0, 100, duration_matrix, pitch_matrix)"
   ]
  },
  {
   "cell_type": "code",
   "execution_count": null,
   "metadata": {},
   "outputs": [
    {
     "name": "stdout",
     "output_type": "stream",
     "text": [
      "Starting generation\n",
      "Initializing population\n",
      "Starting evolution\n",
      "Iteration 0 done\n",
      "Average fitness: 2.5807142991673477\n",
      "Max fitness: 4.156146467384607\n",
      "Min fitness: 1.1187076537505936\n",
      "Population size: 100\n",
      "Iteration 1 done\n",
      "Average fitness: 2.903049300316448\n",
      "Max fitness: 4.156146467384607\n",
      "Min fitness: 1.963479052519489\n",
      "Population size: 100\n",
      "Iteration 2 done\n",
      "Average fitness: 3.187447702589637\n",
      "Max fitness: 4.156146467384607\n",
      "Min fitness: 2.5302457677040544\n",
      "Population size: 100\n",
      "Iteration 3 done\n",
      "Average fitness: 3.379345995414766\n",
      "Max fitness: 4.156146467384607\n",
      "Min fitness: 2.8276109852115625\n",
      "Population size: 100\n",
      "Iteration 4 done\n",
      "Average fitness: 3.545062223100251\n",
      "Max fitness: 4.426237398416689\n",
      "Min fitness: 3.029571733689381\n",
      "Population size: 100\n",
      "-------------------------------------------------\n",
      "Done evolving, playing songs\n",
      "Population size: 100\n",
      "Elitist population size: 5\n",
      "Tournament size: 4\n",
      "Model updating: None, ratio = N/A\n",
      "Individual: 0\n",
      "Interval pattern fitness: 0.4148915387269277\n",
      "Duration pattern fitness: 0.7001929774842488\n",
      "Chord tone beat fitness: 0.5625\n",
      "Chord tone fitness: 0.8065476190476191\n",
      "Last note fitness: 1.0\n",
      "Long note fitness: 0.8421052631578947\n",
      "Interval size fitness: 0.0\n",
      "Consecutive rests fitness: 0.0\n",
      "Interval resolution fitness: 0.1\n",
      "duration change fitness: -0.0\n",
      "Total fitness in indiv: 4.426237398416689\n",
      "Total fitness: 4.426237398416689\n",
      " \n",
      "Individual: 1\n",
      "Interval pattern fitness: 0.2519230769230769\n",
      "Duration pattern fitness: 0.71631919855925\n",
      "Chord tone beat fitness: 0.25\n",
      "Chord tone fitness: 0.6812499999999999\n",
      "Last note fitness: 1.0\n",
      "Long note fitness: 0.6764705882352942\n",
      "Interval size fitness: 0.0\n",
      "Consecutive rests fitness: -0.125\n",
      "Interval resolution fitness: 0.06666666666666667\n",
      "duration change fitness: -0.0\n",
      "Total fitness in indiv: 3.517629530384288\n",
      "Total fitness: 3.517629530384288\n",
      " \n",
      "Individual: 2\n",
      "Interval pattern fitness: 0.11764705882352941\n",
      "Duration pattern fitness: 0.4419278923690689\n",
      "Chord tone beat fitness: 0.5625\n",
      "Chord tone fitness: 0.8095238095238095\n",
      "Last note fitness: 0.5\n",
      "Long note fitness: 0.625\n",
      "Interval size fitness: 0.0\n",
      "Consecutive rests fitness: 0.0\n",
      "Interval resolution fitness: 0.0\n",
      "duration change fitness: -0.02702702702702703\n",
      "Total fitness in indiv: 3.029571733689381\n",
      "Total fitness: 3.029571733689381\n",
      " \n"
     ]
    }
   ],
   "source": [
    "sim.run(5, pitch_matrix, duration_matrix, None)"
   ]
  },
  {
   "cell_type": "code",
   "execution_count": null,
   "metadata": {},
   "outputs": [],
   "source": [
    "sim.duration_matrix"
   ]
  },
  {
   "cell_type": "code",
   "execution_count": null,
   "metadata": {},
   "outputs": [],
   "source": [
    "c = chord.Chord(['C4', 'E4', 'G4'])\n",
    "for n in c:\n",
    "    print(n.pitch.nameWithOctave)"
   ]
  },
  {
   "cell_type": "code",
   "execution_count": null,
   "metadata": {},
   "outputs": [],
   "source": [
    "pitch_matrix = pd.read_csv('piano_man.csv', index_col=0)\n",
    "duration_matrix = pd.read_csv('piano_man_duration.csv', index_col=0)"
   ]
  },
  {
   "cell_type": "code",
   "execution_count": null,
   "metadata": {},
   "outputs": [],
   "source": [
    "sim.duration_matrix"
   ]
  }
 ],
 "metadata": {
  "kernelspec": {
   "display_name": "Python 3",
   "language": "python",
   "name": "python3"
  },
  "language_info": {
   "codemirror_mode": {
    "name": "ipython",
    "version": 3
   },
   "file_extension": ".py",
   "mimetype": "text/x-python",
   "name": "python",
   "nbconvert_exporter": "python",
   "pygments_lexer": "ipython3",
   "version": "3.7.1"
  }
 },
 "nbformat": 4,
 "nbformat_minor": 4
}
