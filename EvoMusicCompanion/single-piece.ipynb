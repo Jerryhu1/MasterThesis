{
 "cells": [
  {
   "cell_type": "code",
   "execution_count": null,
   "metadata": {},
   "outputs": [],
   "source": [
    "from __future__ import print_function\n",
    "from music21 import *\n",
    "from collections import Counter, defaultdict\n",
    "from ea.individual import Measure, Individual, Note\n",
    "from ea.duration import Duration\n",
    "\n",
    "import ea.initialisation as initialisation\n",
    "import ea.modelTrainer as modelTrainer\n",
    "import ea.musicPlayer as musicPlayer\n",
    "import ea.simulation as simulation\n",
    "import ea.fitness as fitness\n",
    "import collections\n",
    "import importlib\n",
    "import music21\n",
    "import numpy as np\n",
    "import pandas as pd\n",
    "import ea.individual as individual\n",
    "import ea.duration as duration\n",
    "import ea.constants as constants\n",
    "import ea.util as util\n",
    "import random\n",
    "import nltk\n",
    "import ea.fitness as fitness\n",
    "import re\n",
    "import ea.modelUpdater as modelUpdater\n",
    "import matplotlib.pyplot as plt"
   ]
  },
  {
   "cell_type": "code",
   "execution_count": null,
   "metadata": {},
   "outputs": [],
   "source": [
    "importlib.reload(initialisation)\n",
    "importlib.reload(modelTrainer)\n",
    "importlib.reload(musicPlayer)\n",
    "importlib.reload(simulation)\n",
    "importlib.reload(fitness)\n",
    "importlib.reload(duration)\n",
    "importlib.reload(music21)\n",
    "importlib.reload(individual)\n",
    "importlib.reload(constants)\n",
    "importlib.reload(util)"
   ]
  },
  {
   "cell_type": "code",
   "execution_count": null,
   "metadata": {},
   "outputs": [],
   "source": [
    "wiki_corpus = corpus.corpora.LocalCorpus('wiki')\n",
    "curr_corpus = wiki_corpus.metadataBundle\n",
    "piano_man = curr_corpus.search('Billy joel - piano man')[0]\n",
    "piano_man = piano_man.parse()"
   ]
  },
  {
   "cell_type": "code",
   "execution_count": null,
   "metadata": {},
   "outputs": [],
   "source": [
    "s = piano_man"
   ]
  },
  {
   "cell_type": "code",
   "execution_count": null,
   "metadata": {},
   "outputs": [],
   "source": [
    "s = stream.Score(id='mainScore')\n",
    "p = stream.Part(id='part0')\n",
    "\n",
    "measures = piano_man.parts[0].getElementsByClass(stream.Measure)[14:31]\n",
    "for m in measures:\n",
    "    p.append(m)\n",
    "s.append(p)"
   ]
  },
  {
   "cell_type": "code",
   "execution_count": null,
   "metadata": {},
   "outputs": [],
   "source": [
    "s.show('musicxml')"
   ]
  },
  {
   "cell_type": "code",
   "execution_count": null,
   "metadata": {},
   "outputs": [],
   "source": [
    "pitch_matrix = modelTrainer.get_probabilistic_matrix(modelTrainer.get_bigram_matrix(modelTrainer.flatten(modelTrainer.get_pitches_per_score([s]))))\n",
    "duration_matrix = modelTrainer.train_duration_matrix([s])"
   ]
  },
  {
   "cell_type": "code",
   "execution_count": null,
   "metadata": {},
   "outputs": [],
   "source": [
    "duration_matrix.to_csv('piano_man_duration.csv')"
   ]
  },
  {
   "cell_type": "code",
   "execution_count": null,
   "metadata": {},
   "outputs": [],
   "source": [
    "pitch_matrix.to_csv('piano_man.csv')"
   ]
  },
  {
   "cell_type": "code",
   "execution_count": null,
   "metadata": {},
   "outputs": [],
   "source": [
    "notes = []\n",
    "for i in sim.population:\n",
    "    for m in i.measures:\n",
    "        for n in m.notes:\n",
    "            notes.append(n.pitch)"
   ]
  },
  {
   "cell_type": "code",
   "execution_count": null,
   "metadata": {},
   "outputs": [],
   "source": [
    "song_pitch_count = Counter(map(lambda x: x.pitch, indiv.get_flattened_notes()))\n",
    "indiv_pitch_count = Counter(notes)"
   ]
  },
  {
   "cell_type": "code",
   "execution_count": null,
   "metadata": {},
   "outputs": [],
   "source": [
    "indiv_pitch_count = Counter(notes)"
   ]
  },
  {
   "cell_type": "code",
   "execution_count": null,
   "metadata": {},
   "outputs": [],
   "source": [
    "plt.bar(song_pitch_count.keys(), song_pitch_count.values())\n"
   ]
  },
  {
   "cell_type": "code",
   "execution_count": null,
   "metadata": {},
   "outputs": [],
   "source": [
    "plt.bar(indiv_pitch_count.keys(), indiv_pitch_count.values())"
   ]
  },
  {
   "cell_type": "code",
   "execution_count": null,
   "metadata": {},
   "outputs": [],
   "source": [
    "indiv = util.music21_score_to_individual(s)"
   ]
  },
  {
   "cell_type": "code",
   "execution_count": null,
   "metadata": {},
   "outputs": [],
   "source": [
    "sim = simulation.Simulation(1.0, 100, duration_matrix, pitch_matrix)"
   ]
  },
  {
   "cell_type": "code",
   "execution_count": null,
   "metadata": {},
   "outputs": [],
   "source": [
    "sim.run(5, pitch_matrix, duration_matrix, None)"
   ]
  },
  {
   "cell_type": "code",
   "execution_count": null,
   "metadata": {},
   "outputs": [],
   "source": [
    "sim.duration_matrix"
   ]
  },
  {
   "cell_type": "code",
   "execution_count": null,
   "metadata": {},
   "outputs": [],
   "source": [
    "c = chord.Chord(['C4', 'E4', 'G4'])\n",
    "for n in c:\n",
    "    print(n.pitch.nameWithOctave)"
   ]
  },
  {
   "cell_type": "code",
   "execution_count": null,
   "metadata": {},
   "outputs": [],
   "source": [
    "pitch_matrix = pd.read_csv('piano_man.csv', index_col=0)\n",
    "duration_matrix = pd.read_csv('piano_man_duration.csv', index_col=0)"
   ]
  },
  {
   "cell_type": "code",
   "execution_count": null,
   "metadata": {},
   "outputs": [],
   "source": [
    "sim.duration_matrix"
   ]
  }
 ],
 "metadata": {
  "kernelspec": {
   "display_name": "Python 3",
   "language": "python",
   "name": "python3"
  },
  "language_info": {
   "codemirror_mode": {
    "name": "ipython",
    "version": 3
   },
   "file_extension": ".py",
   "mimetype": "text/x-python",
   "name": "python",
   "nbconvert_exporter": "python",
   "pygments_lexer": "ipython3",
   "version": "3.7.4"
  }
 },
 "nbformat": 4,
 "nbformat_minor": 4
}
