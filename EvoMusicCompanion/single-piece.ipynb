{
 "cells": [
  {
   "cell_type": "code",
   "execution_count": 1,
   "metadata": {},
   "outputs": [],
   "source": [
    "from __future__ import print_function\n",
    "from music21 import *\n",
    "from collections import Counter, defaultdict\n",
    "from ea.individual import Measure, Individual, Note\n",
    "from ea.duration import Duration\n",
    "\n",
    "import ea.initialisation as initialisation\n",
    "import ea.modelTrainer as modelTrainer\n",
    "import ea.musicPlayer as musicPlayer\n",
    "import ea.simulation as simulation\n",
    "import ea.fitness as fitness\n",
    "import collections\n",
    "import importlib\n",
    "import music21\n",
    "import numpy as np\n",
    "import pandas as pd\n",
    "import ea.individual as individual\n",
    "import ea.duration as duration\n",
    "import ea.constants as constants\n",
    "import ea.util as util\n",
    "import random\n",
    "import nltk\n",
    "import ea.fitness as fitness\n",
    "import re\n",
    "import ea.modelUpdater as modelUpdater\n",
    "import matplotlib.pyplot as plt"
   ]
  },
  {
   "cell_type": "code",
   "execution_count": null,
   "metadata": {},
   "outputs": [],
   "source": [
    "importlib.reload(initialisation)\n",
    "importlib.reload(modelTrainer)\n",
    "importlib.reload(musicPlayer)\n",
    "importlib.reload(simulation)\n",
    "importlib.reload(fitness)\n",
    "importlib.reload(duration)\n",
    "importlib.reload(music21)\n",
    "importlib.reload(individual)\n",
    "importlib.reload(constants)\n",
    "importlib.reload(util)"
   ]
  },
  {
   "cell_type": "code",
   "execution_count": 2,
   "metadata": {},
   "outputs": [],
   "source": [
    "wiki_corpus = corpus.corpora.LocalCorpus('wiki')\n",
    "curr_corpus = wiki_corpus.metadataBundle\n",
    "piano_man = curr_corpus.search('Billy joel - piano man')[0]\n",
    "piano_man = piano_man.parse()"
   ]
  },
  {
   "cell_type": "code",
   "execution_count": 3,
   "metadata": {},
   "outputs": [],
   "source": [
    "s = piano_man"
   ]
  },
  {
   "cell_type": "code",
   "execution_count": 7,
   "metadata": {},
   "outputs": [],
   "source": [
    "s = stream.Score(id='mainScore')\n",
    "p = stream.Part(id='part0')\n",
    "\n",
    "measures = piano_man.parts[0].getElementsByClass(stream.Measure)[14:31]\n",
    "for m in measures:\n",
    "    p.append(m)\n",
    "s.append(p)"
   ]
  },
  {
   "cell_type": "code",
   "execution_count": null,
   "metadata": {},
   "outputs": [],
   "source": [
    "s.show('musicxml')"
   ]
  },
  {
   "cell_type": "code",
   "execution_count": 8,
   "metadata": {},
   "outputs": [],
   "source": [
    "pitch_matrix = modelTrainer.get_probabilistic_matrix(modelTrainer.get_bigram_matrix(modelTrainer.flatten(modelTrainer.get_pitches_per_score([s]))))\n",
    "duration_matrix = modelTrainer.train_duration_matrix([s])"
   ]
  },
  {
   "cell_type": "code",
   "execution_count": 12,
   "metadata": {},
   "outputs": [],
   "source": [
    "duration_matrix.to_csv('piano_man_duration.csv')"
   ]
  },
  {
   "cell_type": "code",
   "execution_count": 11,
   "metadata": {},
   "outputs": [],
   "source": [
    "pitch_matrix.to_csv('piano_man.csv')"
   ]
  },
  {
   "cell_type": "code",
   "execution_count": null,
   "metadata": {},
   "outputs": [],
   "source": [
    "notes = []\n",
    "for i in sim.population:\n",
    "    for m in i.measures:\n",
    "        for n in m.notes:\n",
    "            notes.append(n.pitch)"
   ]
  },
  {
   "cell_type": "code",
   "execution_count": 177,
   "metadata": {},
   "outputs": [],
   "source": [
    "song_pitch_count = Counter(map(lambda x: x.pitch, indiv.get_flattened_notes()))\n",
    "indiv_pitch_count = Counter(notes)"
   ]
  },
  {
   "cell_type": "code",
   "execution_count": 178,
   "metadata": {},
   "outputs": [
    {
     "data": {
      "text/plain": [
       "Counter({'C4': 2668,\n",
       "         'F4': 1369,\n",
       "         'E4': 1018,\n",
       "         'G4': 1819,\n",
       "         'D4': 310,\n",
       "         'REST': 313,\n",
       "         'C5': 400})"
      ]
     },
     "execution_count": 178,
     "metadata": {},
     "output_type": "execute_result"
    }
   ],
   "source": [
    "indiv_pitch_count"
   ]
  },
  {
   "cell_type": "code",
   "execution_count": 173,
   "metadata": {},
   "outputs": [
    {
     "data": {
      "text/plain": [
       "<BarContainer object of 8 artists>"
      ]
     },
     "execution_count": 173,
     "metadata": {},
     "output_type": "execute_result"
    },
    {
     "data": {
      "image/png": "[encoded data removed]",
      "text/plain": [
       "<Figure size 432x288 with 1 Axes>"
      ]
     },
     "metadata": {
      "needs_background": "light"
     },
     "output_type": "display_data"
    }
   ],
   "source": [
    "plt.bar(song_pitch_count.keys(), song_pitch_count.values())\n"
   ]
  },
  {
   "cell_type": "code",
   "execution_count": 179,
   "metadata": {},
   "outputs": [
    {
     "data": {
      "text/plain": [
       "<BarContainer object of 7 artists>"
      ]
     },
     "execution_count": 179,
     "metadata": {},
     "output_type": "execute_result"
    },
    {
     "data": {
      "image/png": "[encoded data removed]",
      "text/plain": [
       "<Figure size 432x288 with 1 Axes>"
      ]
     },
     "metadata": {
      "needs_background": "light"
     },
     "output_type": "display_data"
    }
   ],
   "source": [
    "plt.bar(indiv_pitch_count.keys(), indiv_pitch_count.values())"
   ]
  },
  {
   "cell_type": "code",
   "execution_count": null,
   "metadata": {},
   "outputs": [],
   "source": [
    "indiv = util.music21_score_to_individual(s)"
   ]
  },
  {
   "cell_type": "code",
   "execution_count": 182,
   "metadata": {},
   "outputs": [],
   "source": [
    "sim = simulation.Simulation(1.0, 100, duration_matrix, pitch_matrix)"
   ]
  },
  {
   "cell_type": "code",
   "execution_count": 184,
   "metadata": {},
   "outputs": [
    {
     "name": "stdout",
     "output_type": "stream",
     "text": [
      "Starting generation\n",
      "False\n",
      "Initializing population\n",
      "Starting evolution\n",
      "Average fitness: 2.037492202872164\n",
      "Max fitness: 3.513685929086955\n",
      "Iteration 0 done\n",
      "Average fitness: 2.4395723854853077\n",
      "Max fitness: 3.584521800114306\n",
      "Iteration 1 done\n",
      "Average fitness: 2.5362371443950606\n",
      "Max fitness: 3.8691584999255038\n",
      "Iteration 2 done\n",
      "Average fitness: 2.6366138982316563\n",
      "Max fitness: 3.9301530199984755\n",
      "Iteration 3 done\n",
      "Average fitness: 2.65609967877058\n",
      "Max fitness: 4.110568306452246\n",
      "Iteration 4 done\n",
      "-------------------------------------------------\n",
      "Done evolving, playing songs\n",
      "Individual: 0\n",
      "Interval pattern fitness: 0.3549078148025516\n",
      "Duration pattern fitness: 0.7843107373170664\n",
      "Chord tone beat fitness: 0.75\n",
      "Chord tone fitness: 0.8103422619047618\n",
      "Last note fitness: 0\n",
      "Long note fitness: 1.3676470588235294\n",
      "Interval size fitness: 0.0\n",
      "Consecutive rests fitness: 0.0\n",
      "Interval resolution fitness: 0.05555555555555555\n",
      "duration change fitness: -0.012195121951219513\n",
      "Total fitness in indiv: 4.110568306452246\n",
      "Total fitness: 4.110568306452246\n",
      " \n",
      "Individual: 1\n",
      "Interval pattern fitness: 0.24516038015319466\n",
      "Duration pattern fitness: 0.6284658922310861\n",
      "Chord tone beat fitness: 0.6875\n",
      "Chord tone fitness: 0.7870535714285714\n",
      "Last note fitness: 0\n",
      "Long note fitness: 1.3875\n",
      "Interval size fitness: 0.0\n",
      "Consecutive rests fitness: 0.0\n",
      "Interval resolution fitness: 0.3888888888888889\n",
      "duration change fitness: -0.02666666666666667\n",
      "Total fitness in indiv: 4.097902066035075\n",
      "Total fitness: 4.097902066035075\n",
      " \n",
      "Individual: 2\n",
      "Interval pattern fitness: 0.264481863614875\n",
      "Duration pattern fitness: 0.6469734355798237\n",
      "Chord tone beat fitness: 0.46875\n",
      "Chord tone fitness: 0.6973214285714285\n",
      "Last note fitness: 1.0\n",
      "Long note fitness: 1.25\n",
      "Interval size fitness: 0.0\n",
      "Consecutive rests fitness: 0.0\n",
      "Interval resolution fitness: -0.23529411764705882\n",
      "duration change fitness: -0.0\n",
      "Total fitness in indiv: 4.092232610119068\n",
      "Total fitness: 4.092232610119068\n",
      " \n",
      "Individual: 3\n",
      "Interval pattern fitness: 0.2936872758621745\n",
      "Duration pattern fitness: 0.646660237143294\n",
      "Chord tone beat fitness: 0.4375\n",
      "Chord tone fitness: 0.7119791666666666\n",
      "Last note fitness: 0.5\n",
      "Long note fitness: 1.2121212121212122\n",
      "Interval size fitness: 0.0\n",
      "Consecutive rests fitness: 0.0\n",
      "Interval resolution fitness: 0.16666666666666666\n",
      "duration change fitness: -0.038461538461538464\n",
      "Total fitness in indiv: 3.9301530199984755\n",
      "Total fitness: 3.9301530199984755\n",
      " \n",
      "Population size: 100\n",
      "Elitist population size: 10\n",
      "Tournament size: 4\n",
      "Model updating: None, ratio = N/A\n"
     ]
    }
   ],
   "source": [
    "sim.run(5, pitch_matrix, duration_matrix, None)"
   ]
  },
  {
   "cell_type": "code",
   "execution_count": 185,
   "metadata": {},
   "outputs": [
    {
     "data": {
      "text/html": [
       "<div>\n",
       "<style scoped>\n",
       "    .dataframe tbody tr th:only-of-type {\n",
       "        vertical-align: middle;\n",
       "    }\n",
       "\n",
       "    .dataframe tbody tr th {\n",
       "        vertical-align: top;\n",
       "    }\n",
       "\n",
       "    .dataframe thead th {\n",
       "        text-align: right;\n",
       "    }\n",
       "</style>\n",
       "<table border=\"1\" class=\"dataframe\">\n",
       "  <thead>\n",
       "    <tr style=\"text-align: right;\">\n",
       "      <th></th>\n",
       "      <th>quarter</th>\n",
       "      <th>eighth</th>\n",
       "      <th>half</th>\n",
       "    </tr>\n",
       "  </thead>\n",
       "  <tbody>\n",
       "    <tr>\n",
       "      <td>quarter</td>\n",
       "      <td>0.500</td>\n",
       "      <td>0.333333</td>\n",
       "      <td>0.5</td>\n",
       "    </tr>\n",
       "    <tr>\n",
       "      <td>eighth</td>\n",
       "      <td>0.375</td>\n",
       "      <td>0.629630</td>\n",
       "      <td>0.5</td>\n",
       "    </tr>\n",
       "    <tr>\n",
       "      <td>half</td>\n",
       "      <td>0.125</td>\n",
       "      <td>0.037037</td>\n",
       "      <td>0.0</td>\n",
       "    </tr>\n",
       "  </tbody>\n",
       "</table>\n",
       "</div>"
      ],
      "text/plain": [
       "         quarter    eighth  half\n",
       "quarter    0.500  0.333333   0.5\n",
       "eighth     0.375  0.629630   0.5\n",
       "half       0.125  0.037037   0.0"
      ]
     },
     "execution_count": 185,
     "metadata": {},
     "output_type": "execute_result"
    }
   ],
   "source": [
    "sim.duration_matrix"
   ]
  },
  {
   "cell_type": "code",
   "execution_count": null,
   "metadata": {},
   "outputs": [],
   "source": [
    "c = chord.Chord(['C4', 'E4', 'G4'])\n",
    "for n in c:\n",
    "    print(n.pitch.nameWithOctave)"
   ]
  }
 ],
 "metadata": {
  "kernelspec": {
   "display_name": "Python 3",
   "language": "python",
   "name": "python3"
  },
  "language_info": {
   "codemirror_mode": {
    "name": "ipython",
    "version": 3
   },
   "file_extension": ".py",
   "mimetype": "text/x-python",
   "name": "python",
   "nbconvert_exporter": "python",
   "pygments_lexer": "ipython3",
   "version": "3.7.4"
  }
 },
 "nbformat": 4,
 "nbformat_minor": 4
}
