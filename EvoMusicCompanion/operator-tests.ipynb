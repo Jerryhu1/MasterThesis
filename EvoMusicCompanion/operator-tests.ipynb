{
 "cells": [
  {
   "cell_type": "code",
   "execution_count": 36,
   "metadata": {},
   "outputs": [],
   "source": [
    "from __future__ import print_function\n",
    "from music21 import *\n",
    "from collections import Counter, defaultdict\n",
    "from ea.individual import Measure, Individual, Note\n",
    "from ea.duration import Duration\n",
    "\n",
    "import ea.initialisation as initialisation\n",
    "import ea.modelTrainer as modelTrainer\n",
    "import ea.musicPlayer as musicPlayer\n",
    "import ea.simulation as simulation\n",
    "import ea.fitness as fitness\n",
    "import ea.mutation as mutation\n",
    "import collections\n",
    "import importlib\n",
    "import music21\n",
    "import numpy as np\n",
    "import pandas as pd\n",
    "import ea.individual as individual\n",
    "import ea.duration as duration\n",
    "import ea.constants as constants\n",
    "import ea.util as util\n",
    "import random\n",
    "import nltk\n",
    "import ea.fitness as fitness\n",
    "import re\n",
    "import ea.modelUpdater as modelUpdater\n",
    "import ea.metrics as metrics"
   ]
  },
  {
   "cell_type": "code",
   "execution_count": 48,
   "metadata": {},
   "outputs": [
    {
     "data": {
      "text/plain": [
       "<module 'ea.metrics' from 'B:\\\\School\\\\Master\\\\Thesis\\\\MasterThesis\\\\EvoMusicCompanion\\\\ea\\\\metrics.py'>"
      ]
     },
     "execution_count": 48,
     "metadata": {},
     "output_type": "execute_result"
    }
   ],
   "source": [
    "importlib.reload(initialisation)\n",
    "importlib.reload(modelTrainer)\n",
    "importlib.reload(musicPlayer)\n",
    "importlib.reload(simulation)\n",
    "importlib.reload(mutation)\n",
    "importlib.reload(fitness)\n",
    "importlib.reload(constants)\n",
    "importlib.reload(util)\n",
    "importlib.reload(individual)\n",
    "importlib.reload(fitness)\n",
    "importlib.reload(modelUpdater)\n",
    "importlib.reload(metrics)"
   ]
  },
  {
   "cell_type": "code",
   "execution_count": 51,
   "metadata": {},
   "outputs": [],
   "source": [
    "testIndividual = Individual(\n",
    "    [\n",
    "        Measure(\n",
    "                [\n",
    "                    Note('C5', Duration('quarter', 0.25)),\n",
    "                    Note('C5', Duration('quarter', 0.25)),\n",
    "                    Note('C5', Duration('quarter', 0.25)),\n",
    "                    Note('E5', Duration('quarter', 0.25)),\n",
    "                    Note('E5', Duration('quarter', 0.25))\n",
    "\n",
    "                ], 0, ['C3', 'E3', 'G3']\n",
    "            ),\n",
    "        Measure(\n",
    "            [\n",
    "                Note('C5', Duration('quarter', 0.25)),\n",
    "                Note('C5', Duration('quarter', 0.25)),\n",
    "                Note('C5', Duration('quarter', 0.25)),\n",
    "                Note('E5', Duration('quarter', 0.25)),\n",
    "                Note('E5', Duration('quarter', 0.25))\n",
    "                \n",
    "            ], 0, ['C3', 'E3', 'G3'])\n",
    "    ], 0\n",
    ")\n",
    "testIndividual2 = Individual(\n",
    "    [\n",
    "        Measure(\n",
    "                [\n",
    "                    Note('C5', Duration('quarter', 0.25)),\n",
    "                    Note('C5', Duration('quarter', 0.25)),\n",
    "                    Note('C5', Duration('quarter', 0.25)),\n",
    "                    Note('E5', Duration('quarter', 0.25)),\n",
    "                    Note('E5', Duration('quarter', 0.25))\n",
    "\n",
    "                ], 0, ['C3', 'E3', 'G3']\n",
    "            ),\n",
    "        Measure(\n",
    "            [\n",
    "                Note('C5', Duration('quarter', 0.25)),\n",
    "                Note('D5', Duration('quarter', 0.25)),\n",
    "                Note('C5', Duration('quarter', 0.25)),\n",
    "                Note('E5', Duration('quarter', 0.25)),\n",
    "                Note('E5', Duration('quarter', 0.25))\n",
    "                \n",
    "            ], 0, ['C3', 'E3', 'G3'])\n",
    "    ], 0\n",
    ")\n",
    "\n",
    "population = [testIndividual, testIndividual2]"
   ]
  },
  {
   "cell_type": "code",
   "execution_count": 10,
   "metadata": {},
   "outputs": [
    {
     "name": "stdout",
     "output_type": "stream",
     "text": [
      "[[(C5, quarter, (C5, quarter, (C5, quarter, (E5, quarter, (E5, quarter]]\n"
     ]
    },
    {
     "data": {
      "text/plain": [
       "-0.6"
      ]
     },
     "execution_count": 10,
     "metadata": {},
     "output_type": "execute_result"
    }
   ],
   "source": [
    "fitness.similar_notes(testIndividual)"
   ]
  },
  {
   "cell_type": "code",
   "execution_count": 52,
   "metadata": {},
   "outputs": [
    {
     "data": {
      "text/plain": [
       "0.5"
      ]
     },
     "execution_count": 52,
     "metadata": {},
     "output_type": "execute_result"
    }
   ],
   "source": [
    "individuals = list(map(lambda x: x.get_notes_per_measure(), population))\n",
    "highest_fitness_i = None\n",
    "counter = 0\n",
    "\n",
    "for i in range(len(individuals)):\n",
    "    ind = individuals[i]\n",
    "    curr_individual = []\n",
    "    for m in ind:\n",
    "        for n in m:\n",
    "            curr_individual.append(n.pitch)\n",
    "    curr_individual = tuple(curr_individual)\n",
    "    if i == 0:\n",
    "        highest_fitness_i = curr_individual\n",
    "    if curr_individual == highest_fitness_i:\n",
    "        counter += 1\n",
    "counter / len(population)"
   ]
  },
  {
   "cell_type": "code",
   "execution_count": 49,
   "metadata": {},
   "outputs": [
    {
     "data": {
      "text/plain": [
       "1.0"
      ]
     },
     "execution_count": 49,
     "metadata": {},
     "output_type": "execute_result"
    }
   ],
   "source": [
    "metrics.proportion_equal_to_highest_fitness(population)"
   ]
  }
 ],
 "metadata": {
  "kernelspec": {
   "display_name": "Python 3",
   "language": "python",
   "name": "python3"
  },
  "language_info": {
   "codemirror_mode": {
    "name": "ipython",
    "version": 3
   },
   "file_extension": ".py",
   "mimetype": "text/x-python",
   "name": "python",
   "nbconvert_exporter": "python",
   "pygments_lexer": "ipython3",
   "version": "3.7.4"
  }
 },
 "nbformat": 4,
 "nbformat_minor": 4
}
